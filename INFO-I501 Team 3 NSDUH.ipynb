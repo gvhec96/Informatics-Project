{
  "nbformat": 4,
  "nbformat_minor": 0,
  "metadata": {
    "colab": {
      "provenance": [],
      "collapsed_sections": [
        "0H-iwYy-Ryuu",
        "emD4JX4STQpa",
        "CoC5AKoAWdbZ",
        "VjWww14iXS51",
        "rDSOPHXRnur5",
        "huUAJzYdngaD",
        "_C0tAQSfu0m5",
        "Rp15BCz1vIdX",
        "xnuFubjiceXq",
        "2A97AozpxqZb",
        "SSEVncp0ewHX",
        "YWxz_rBHx4GK",
        "C2pfopV0RaWo",
        "-B8JN58GMrdR",
        "pjM9HwnYVRDe",
        "UR-KFXJDc8hK",
        "825tWcDjUaOa",
        "WtSMfnQUyAr6",
        "6ihIVsQOn6iq",
        "m6XUovSWqssj",
        "ihvCxxl19bu_",
        "mkJPIoKl0npY",
        "IKYkGBexsdU2",
        "bPL5J8nheqFJ",
        "gA0RDPEc9BF8",
        "ulYr_K9WYpQR",
        "8HBnWpEEPoPr"
      ]
    },
    "kernelspec": {
      "name": "python3",
      "display_name": "Python 3"
    },
    "language_info": {
      "name": "python"
    }
  },
  "cells": [
    {
      "cell_type": "markdown",
      "source": [
        "#Importing Data"
      ],
      "metadata": {
        "id": "0H-iwYy-Ryuu"
      }
    },
    {
      "cell_type": "code",
      "execution_count": null,
      "metadata": {
        "id": "WQVryQvJUY7h"
      },
      "outputs": [],
      "source": [
        "import warnings\n",
        "warnings.filterwarnings('ignore')"
      ]
    },
    {
      "cell_type": "code",
      "execution_count": null,
      "metadata": {
        "id": "XgjrKs7H7AQt"
      },
      "outputs": [],
      "source": [
        "import pandas as pd \n",
        "import numpy as np\n",
        "\n",
        "# Read TSV file into DataFrame (Import only the variables we are going to analyze, refer to 'variables and analysis' file)\n",
        "link0 = 'https://www.datafiles.samhsa.gov/sites/default/files/field-uploads-protected/studies/NSDUH-2020/NSDUH-2020-datasets/NSDUH-2020-DS0001/NSDUH-2020-DS0001-bundles-with-study-info/NSDUH-2020-DS0001-bndl-data-tsv_v1.zip'\n",
        "link1 = 'https://www.datafiles.samhsa.gov/sites/default/files/field-uploads-protected/studies/NSDUH-2019/NSDUH-2019-datasets/NSDUH-2019-DS0001/NSDUH-2019-DS0001-bundles-with-study-info/NSDUH-2019-DS0001-bndl-data-tsv.zip'\n",
        "link2 = 'https://www.datafiles.samhsa.gov/sites/default/files/field-uploads-protected/studies/NSDUH-2018/NSDUH-2018-datasets/NSDUH-2018-DS0001/NSDUH-2018-DS0001-bundles-with-study-info/NSDUH-2018-DS0001-bndl-data-tsv.zip'\n",
        "link3 = 'https://www.datafiles.samhsa.gov/sites/default/files/field-uploads-protected/studies/NSDUH-2017/NSDUH-2017-datasets/NSDUH-2017-DS0001/NSDUH-2017-DS0001-bundles-with-study-info/NSDUH-2017-DS0001-bndl-data-tsv.zip'\n",
        "link4 = 'https://www.datafiles.samhsa.gov/sites/default/files/field-uploads-protected/studies/NSDUH-2016/NSDUH-2016-datasets/NSDUH-2016-DS0001/NSDUH-2016-DS0001-bundles-with-study-info/NSDUH-2016-DS0001-bndl-data-tsv.zip'\n",
        "link5 = 'https://www.datafiles.samhsa.gov/sites/default/files/field-uploads-protected/studies/NSDUH-2015/NSDUH-2015-datasets/NSDUH-2015-DS0001/NSDUH-2015-DS0001-bundles-with-study-info/NSDUH-2015-DS0001-bndl-data-tsv.zip'\n",
        "\n",
        "df0 = pd.read_table(link0, usecols =['QUESTID2','IRALCFY', 'IRMJFY', 'IRCOCFY','IRCRKFY', 'IRHERFY', 'IRHALLUCYFQ', 'IRINHALYFQ', 'IRMETHAMYFQ', 'ALCFLAG', 'MRJFLAG', 'COCYR', 'CRKFLAG', 'HERFLAG', 'HALLUCFLAG', 'INHALFLAG', 'METHAMFLAG', 'NEWRACE2', 'CATAGE', 'IRSEX', 'IRWRKSTAT', 'IREDUHIGHST2', 'PDEN10', 'COUTYP4', 'IRPRVHLT', 'IRPINC3', 'INCOME', 'IRFAMSOC', 'AMHTXND2', 'AMDEYR', 'ASDSHOM2', 'ASDSWRK2', 'ASDSREL2', 'ASDSSOC2', 'ASDSOVL2'])                                                                                                                                                                                                                                                                                                                         \n",
        "df1 = pd.read_table(link1, usecols =['QUESTID2','IRALCFY', 'IRMJFY', 'IRCOCFY','IRCRKFY', 'IRHERFY', 'IRHALLUCYFQ', 'IRINHALYFQ', 'IRMETHAMYFQ', 'ALCFLAG', 'MRJFLAG', 'COCYR', 'CRKFLAG', 'HERFLAG', 'HALLUCFLAG', 'INHALFLAG', 'METHAMFLAG', 'NEWRACE2', 'CATAGE', 'IRSEX', 'IRWRKSTAT', 'IREDUHIGHST2', 'PDEN10', 'COUTYP4', 'IRPRVHLT', 'IRPINC3', 'INCOME', 'IRFAMSOC', 'AMHTXND2', 'AMDEYR', 'ASDSHOM2', 'ASDSWRK2', 'ASDSREL2', 'ASDSSOC2', 'ASDSOVL2'])                                                                                                                                                                                                                                                                                                                         \n",
        "df2 = pd.read_table(link2, usecols =['QUESTID2','IRALCFY', 'IRMJFY', 'IRCOCFY','IRCRKFY', 'IRHERFY', 'IRHALLUCYFQ', 'IRINHALYFQ', 'IRMETHAMYFQ', 'ALCFLAG', 'MRJFLAG', 'COCYR', 'CRKFLAG', 'HERFLAG', 'HALLUCFLAG', 'INHALFLAG', 'METHAMFLAG', 'NEWRACE2', 'CATAGE', 'IRSEX', 'IRWRKSTAT', 'IREDUHIGHST2', 'PDEN10', 'COUTYP4', 'IRPRVHLT', 'IRPINC3', 'INCOME', 'IRFAMSOC', 'AMHTXND2', 'AMDEYR', 'ASDSHOM2', 'ASDSWRK2', 'ASDSREL2', 'ASDSSOC2', 'ASDSOVL2'])                                                                                                                                                                                                                                                                                                                         \n",
        "df3 = pd.read_table(link3, usecols =['QUESTID2','IRALCFY', 'IRMJFY', 'IRCOCFY','IRCRKFY', 'IRHERFY', 'IRHALLUCYFQ', 'IRINHALYFQ', 'IRMETHAMYFQ', 'ALCFLAG', 'MRJFLAG', 'COCYR', 'CRKFLAG', 'HERFLAG', 'HALLUCFLAG', 'INHALFLAG', 'METHAMFLAG', 'NEWRACE2', 'CATAGE', 'IRSEX', 'IRWRKSTAT', 'IREDUHIGHST2', 'PDEN10', 'COUTYP4', 'IRPRVHLT', 'IRPINC3', 'INCOME', 'IRFAMSOC', 'AMHTXND2', 'AMDEYR', 'ASDSHOM2', 'ASDSWRK2', 'ASDSREL2', 'ASDSSOC2', 'ASDSOVL2'])                                                                                                                                                                                                                                                                                                                         \n",
        "df4 = pd.read_table(link4, usecols =['QUESTID2','IRALCFY', 'IRMJFY', 'IRCOCFY','IRCRKFY', 'IRHERFY', 'IRHALLUCYFQ', 'IRINHALYFQ', 'IRMETHAMYFQ', 'ALCFLAG', 'MRJFLAG', 'COCYR', 'CRKFLAG', 'HERFLAG', 'HALLUCFLAG', 'INHALFLAG', 'METHAMFLAG', 'NEWRACE2', 'CATAGE', 'IRSEX', 'IRWRKSTAT', 'IREDUHIGHST2', 'PDEN10', 'COUTYP4', 'IRPRVHLT', 'IRPINC3', 'INCOME', 'IRFAMSOC', 'AMHTXND2', 'AMDEYR', 'ASDSHOM2', 'ASDSWRK2', 'ASDSREL2', 'ASDSSOC2', 'ASDSOVL2'])                                                                                                                                                                                                                                                                                                                         \n",
        "df5 = pd.read_table(link5, usecols =['QUESTID2','IRALCFY', 'IRMJFY', 'IRCOCFY','IRCRKFY', 'IRHERFY', 'IRHALLUCYFQ', 'IRINHALYFQ', 'IRMETHAMYFQ', 'ALCFLAG', 'MRJFLAG', 'COCYR', 'CRKFLAG', 'HERFLAG', 'HALLUCFLAG', 'INHALFLAG', 'METHAMFLAG', 'NEWRACE2', 'CATAGE', 'IRSEX', 'IRWRKSTAT', 'IREDUHIGHST2', 'PDEN10', 'COUTYP4', 'IRPRVHLT', 'IRPINC3', 'INCOME', 'IRFAMSOC', 'AMHTXND2', 'AMDEYR', 'ASDSHOM2', 'ASDSWRK2', 'ASDSREL2', 'ASDSSOC2', 'ASDSOVL2'])                                                                                                                                                                                                                                                                                                                         \n",
        "\n",
        "df0['Year'] = 2020\n",
        "df1['Year'] = 2019\n",
        "df2['Year'] = 2018\n",
        "df3['Year'] = 2017\n",
        "df4['Year'] = 2016\n",
        "df5['Year'] = 2015\n",
        "\n",
        "df = pd.concat([df0,df1,df2,df3,df4,df5])\n"
      ]
    },
    {
      "cell_type": "markdown",
      "source": [
        "#Recoding Data"
      ],
      "metadata": {
        "id": "VI4v5McDToZe"
      }
    },
    {
      "cell_type": "code",
      "execution_count": null,
      "metadata": {
        "id": "EKCi5AfI81a-",
        "colab": {
          "base_uri": "https://localhost:8080/",
          "height": 398
        },
        "outputId": "bec68e26-7ee0-4656-c453-ea5b5b631e59"
      },
      "outputs": [
        {
          "output_type": "error",
          "ename": "KeyboardInterrupt",
          "evalue": "ignored",
          "traceback": [
            "\u001b[0;31m---------------------------------------------------------------------------\u001b[0m",
            "\u001b[0;31mKeyboardInterrupt\u001b[0m                         Traceback (most recent call last)",
            "\u001b[0;32m<ipython-input-48-06c52f68bda0>\u001b[0m in \u001b[0;36m<module>\u001b[0;34m\u001b[0m\n\u001b[1;32m    249\u001b[0m \u001b[0mdf\u001b[0m\u001b[0;34m[\u001b[0m\u001b[0;34m'AMDEYR'\u001b[0m\u001b[0;34m]\u001b[0m \u001b[0;34m=\u001b[0m \u001b[0mdf\u001b[0m\u001b[0;34m[\u001b[0m\u001b[0;34m'AMDEYR'\u001b[0m\u001b[0;34m]\u001b[0m\u001b[0;34m.\u001b[0m\u001b[0mastype\u001b[0m\u001b[0;34m(\u001b[0m\u001b[0mint\u001b[0m\u001b[0;34m)\u001b[0m\u001b[0;34m\u001b[0m\u001b[0;34m\u001b[0m\u001b[0m\n\u001b[1;32m    250\u001b[0m \u001b[0;34m\u001b[0m\u001b[0m\n\u001b[0;32m--> 251\u001b[0;31m \u001b[0mdf\u001b[0m\u001b[0;34m[\u001b[0m\u001b[0;34m[\u001b[0m\u001b[0;34m'ASDSHOM2'\u001b[0m\u001b[0;34m,\u001b[0m\u001b[0;34m'ASDSWRK2'\u001b[0m\u001b[0;34m,\u001b[0m\u001b[0;34m'ASDSREL2'\u001b[0m\u001b[0;34m,\u001b[0m\u001b[0;34m'ASDSSOC2'\u001b[0m\u001b[0;34m,\u001b[0m\u001b[0;34m'ASDSOVL2'\u001b[0m\u001b[0;34m,\u001b[0m\u001b[0;34m'IRSEX'\u001b[0m\u001b[0;34m,\u001b[0m\u001b[0;34m'IREDUHIGHST2'\u001b[0m\u001b[0;34m,\u001b[0m\u001b[0;34m'CATAGE'\u001b[0m\u001b[0;34m,\u001b[0m\u001b[0;34m'NEWRACE2'\u001b[0m\u001b[0;34m,\u001b[0m\u001b[0;34m'IRWRKSTAT'\u001b[0m\u001b[0;34m,\u001b[0m\u001b[0;34m'IRPINC3'\u001b[0m\u001b[0;34m,\u001b[0m\u001b[0;34m'INCOME'\u001b[0m\u001b[0;34m,\u001b[0m\u001b[0;34m'PDEN10'\u001b[0m\u001b[0;34m,\u001b[0m\u001b[0;34m'COUTYP4'\u001b[0m\u001b[0;34m]\u001b[0m\u001b[0;34m]\u001b[0m \u001b[0;34m=\u001b[0m \u001b[0mdf\u001b[0m\u001b[0;34m[\u001b[0m\u001b[0;34m[\u001b[0m\u001b[0;34m'ASDSHOM2'\u001b[0m\u001b[0;34m,\u001b[0m\u001b[0;34m'ASDSWRK2'\u001b[0m\u001b[0;34m,\u001b[0m\u001b[0;34m'ASDSREL2'\u001b[0m\u001b[0;34m,\u001b[0m\u001b[0;34m'ASDSSOC2'\u001b[0m\u001b[0;34m,\u001b[0m\u001b[0;34m'ASDSOVL2'\u001b[0m\u001b[0;34m,\u001b[0m\u001b[0;34m'IRSEX'\u001b[0m\u001b[0;34m,\u001b[0m\u001b[0;34m'IREDUHIGHST2'\u001b[0m\u001b[0;34m,\u001b[0m\u001b[0;34m'CATAGE'\u001b[0m\u001b[0;34m,\u001b[0m\u001b[0;34m'NEWRACE2'\u001b[0m\u001b[0;34m,\u001b[0m\u001b[0;34m'IRWRKSTAT'\u001b[0m\u001b[0;34m,\u001b[0m\u001b[0;34m'IRPINC3'\u001b[0m\u001b[0;34m,\u001b[0m\u001b[0;34m'INCOME'\u001b[0m\u001b[0;34m,\u001b[0m\u001b[0;34m'PDEN10'\u001b[0m\u001b[0;34m,\u001b[0m\u001b[0;34m'COUTYP4'\u001b[0m\u001b[0;34m]\u001b[0m\u001b[0;34m]\u001b[0m\u001b[0;34m.\u001b[0m\u001b[0mastype\u001b[0m\u001b[0;34m(\u001b[0m\u001b[0;34m'category'\u001b[0m\u001b[0;34m)\u001b[0m\u001b[0;34m\u001b[0m\u001b[0;34m\u001b[0m\u001b[0m\n\u001b[0m\u001b[1;32m    252\u001b[0m \u001b[0;34m\u001b[0m\u001b[0m\n\u001b[1;32m    253\u001b[0m \u001b[0;34m\u001b[0m\u001b[0m\n",
            "\u001b[0;32m/usr/local/lib/python3.8/dist-packages/pandas/core/frame.py\u001b[0m in \u001b[0;36m__getitem__\u001b[0;34m(self, key)\u001b[0m\n\u001b[1;32m   3468\u001b[0m             \u001b[0mindexer\u001b[0m \u001b[0;34m=\u001b[0m \u001b[0mnp\u001b[0m\u001b[0;34m.\u001b[0m\u001b[0mwhere\u001b[0m\u001b[0;34m(\u001b[0m\u001b[0mindexer\u001b[0m\u001b[0;34m)\u001b[0m\u001b[0;34m[\u001b[0m\u001b[0;36m0\u001b[0m\u001b[0;34m]\u001b[0m\u001b[0;34m\u001b[0m\u001b[0;34m\u001b[0m\u001b[0m\n\u001b[1;32m   3469\u001b[0m \u001b[0;34m\u001b[0m\u001b[0m\n\u001b[0;32m-> 3470\u001b[0;31m         \u001b[0mdata\u001b[0m \u001b[0;34m=\u001b[0m \u001b[0mself\u001b[0m\u001b[0;34m.\u001b[0m\u001b[0m_take_with_is_copy\u001b[0m\u001b[0;34m(\u001b[0m\u001b[0mindexer\u001b[0m\u001b[0;34m,\u001b[0m \u001b[0maxis\u001b[0m\u001b[0;34m=\u001b[0m\u001b[0;36m1\u001b[0m\u001b[0;34m)\u001b[0m\u001b[0;34m\u001b[0m\u001b[0;34m\u001b[0m\u001b[0m\n\u001b[0m\u001b[1;32m   3471\u001b[0m \u001b[0;34m\u001b[0m\u001b[0m\n\u001b[1;32m   3472\u001b[0m         \u001b[0;32mif\u001b[0m \u001b[0mis_single_key\u001b[0m\u001b[0;34m:\u001b[0m\u001b[0;34m\u001b[0m\u001b[0;34m\u001b[0m\u001b[0m\n",
            "\u001b[0;32m/usr/local/lib/python3.8/dist-packages/pandas/core/generic.py\u001b[0m in \u001b[0;36m_take_with_is_copy\u001b[0;34m(self, indices, axis)\u001b[0m\n\u001b[1;32m   3626\u001b[0m         \u001b[0mSee\u001b[0m \u001b[0mthe\u001b[0m \u001b[0mdocstring\u001b[0m \u001b[0mof\u001b[0m\u001b[0;31m \u001b[0m\u001b[0;31m`\u001b[0m\u001b[0mtake\u001b[0m\u001b[0;31m`\u001b[0m \u001b[0;32mfor\u001b[0m \u001b[0mfull\u001b[0m \u001b[0mexplanation\u001b[0m \u001b[0mof\u001b[0m \u001b[0mthe\u001b[0m \u001b[0mparameters\u001b[0m\u001b[0;34m.\u001b[0m\u001b[0;34m\u001b[0m\u001b[0;34m\u001b[0m\u001b[0m\n\u001b[1;32m   3627\u001b[0m         \"\"\"\n\u001b[0;32m-> 3628\u001b[0;31m         \u001b[0mresult\u001b[0m \u001b[0;34m=\u001b[0m \u001b[0mself\u001b[0m\u001b[0;34m.\u001b[0m\u001b[0mtake\u001b[0m\u001b[0;34m(\u001b[0m\u001b[0mindices\u001b[0m\u001b[0;34m=\u001b[0m\u001b[0mindices\u001b[0m\u001b[0;34m,\u001b[0m \u001b[0maxis\u001b[0m\u001b[0;34m=\u001b[0m\u001b[0maxis\u001b[0m\u001b[0;34m)\u001b[0m\u001b[0;34m\u001b[0m\u001b[0;34m\u001b[0m\u001b[0m\n\u001b[0m\u001b[1;32m   3629\u001b[0m         \u001b[0;31m# Maybe set copy if we didn't actually change the index.\u001b[0m\u001b[0;34m\u001b[0m\u001b[0;34m\u001b[0m\u001b[0;34m\u001b[0m\u001b[0m\n\u001b[1;32m   3630\u001b[0m         \u001b[0;32mif\u001b[0m \u001b[0;32mnot\u001b[0m \u001b[0mresult\u001b[0m\u001b[0;34m.\u001b[0m\u001b[0m_get_axis\u001b[0m\u001b[0;34m(\u001b[0m\u001b[0maxis\u001b[0m\u001b[0;34m)\u001b[0m\u001b[0;34m.\u001b[0m\u001b[0mequals\u001b[0m\u001b[0;34m(\u001b[0m\u001b[0mself\u001b[0m\u001b[0;34m.\u001b[0m\u001b[0m_get_axis\u001b[0m\u001b[0;34m(\u001b[0m\u001b[0maxis\u001b[0m\u001b[0;34m)\u001b[0m\u001b[0;34m)\u001b[0m\u001b[0;34m:\u001b[0m\u001b[0;34m\u001b[0m\u001b[0;34m\u001b[0m\u001b[0m\n",
            "\u001b[0;32m/usr/local/lib/python3.8/dist-packages/pandas/core/generic.py\u001b[0m in \u001b[0;36mtake\u001b[0;34m(self, indices, axis, is_copy, **kwargs)\u001b[0m\n\u001b[1;32m   3611\u001b[0m         \u001b[0mnv\u001b[0m\u001b[0;34m.\u001b[0m\u001b[0mvalidate_take\u001b[0m\u001b[0;34m(\u001b[0m\u001b[0;34m(\u001b[0m\u001b[0;34m)\u001b[0m\u001b[0;34m,\u001b[0m \u001b[0mkwargs\u001b[0m\u001b[0;34m)\u001b[0m\u001b[0;34m\u001b[0m\u001b[0;34m\u001b[0m\u001b[0m\n\u001b[1;32m   3612\u001b[0m \u001b[0;34m\u001b[0m\u001b[0m\n\u001b[0;32m-> 3613\u001b[0;31m         \u001b[0mself\u001b[0m\u001b[0;34m.\u001b[0m\u001b[0m_consolidate_inplace\u001b[0m\u001b[0;34m(\u001b[0m\u001b[0;34m)\u001b[0m\u001b[0;34m\u001b[0m\u001b[0;34m\u001b[0m\u001b[0m\n\u001b[0m\u001b[1;32m   3614\u001b[0m \u001b[0;34m\u001b[0m\u001b[0m\n\u001b[1;32m   3615\u001b[0m         new_data = self._mgr.take(\n",
            "\u001b[0;32m/usr/local/lib/python3.8/dist-packages/pandas/core/generic.py\u001b[0m in \u001b[0;36m_consolidate_inplace\u001b[0;34m(self)\u001b[0m\n\u001b[1;32m   5563\u001b[0m             \u001b[0mself\u001b[0m\u001b[0;34m.\u001b[0m\u001b[0m_mgr\u001b[0m \u001b[0;34m=\u001b[0m \u001b[0mself\u001b[0m\u001b[0;34m.\u001b[0m\u001b[0m_mgr\u001b[0m\u001b[0;34m.\u001b[0m\u001b[0mconsolidate\u001b[0m\u001b[0;34m(\u001b[0m\u001b[0;34m)\u001b[0m\u001b[0;34m\u001b[0m\u001b[0;34m\u001b[0m\u001b[0m\n\u001b[1;32m   5564\u001b[0m \u001b[0;34m\u001b[0m\u001b[0m\n\u001b[0;32m-> 5565\u001b[0;31m         \u001b[0mself\u001b[0m\u001b[0;34m.\u001b[0m\u001b[0m_protect_consolidate\u001b[0m\u001b[0;34m(\u001b[0m\u001b[0mf\u001b[0m\u001b[0;34m)\u001b[0m\u001b[0;34m\u001b[0m\u001b[0;34m\u001b[0m\u001b[0m\n\u001b[0m\u001b[1;32m   5566\u001b[0m \u001b[0;34m\u001b[0m\u001b[0m\n\u001b[1;32m   5567\u001b[0m     \u001b[0;34m@\u001b[0m\u001b[0mfinal\u001b[0m\u001b[0;34m\u001b[0m\u001b[0;34m\u001b[0m\u001b[0m\n",
            "\u001b[0;32m/usr/local/lib/python3.8/dist-packages/pandas/core/generic.py\u001b[0m in \u001b[0;36m_protect_consolidate\u001b[0;34m(self, f)\u001b[0m\n\u001b[1;32m   5551\u001b[0m             \u001b[0;32mreturn\u001b[0m \u001b[0mf\u001b[0m\u001b[0;34m(\u001b[0m\u001b[0;34m)\u001b[0m\u001b[0;34m\u001b[0m\u001b[0;34m\u001b[0m\u001b[0m\n\u001b[1;32m   5552\u001b[0m         \u001b[0mblocks_before\u001b[0m \u001b[0;34m=\u001b[0m \u001b[0mlen\u001b[0m\u001b[0;34m(\u001b[0m\u001b[0mself\u001b[0m\u001b[0;34m.\u001b[0m\u001b[0m_mgr\u001b[0m\u001b[0;34m.\u001b[0m\u001b[0mblocks\u001b[0m\u001b[0;34m)\u001b[0m\u001b[0;34m\u001b[0m\u001b[0;34m\u001b[0m\u001b[0m\n\u001b[0;32m-> 5553\u001b[0;31m         \u001b[0mresult\u001b[0m \u001b[0;34m=\u001b[0m \u001b[0mf\u001b[0m\u001b[0;34m(\u001b[0m\u001b[0;34m)\u001b[0m\u001b[0;34m\u001b[0m\u001b[0;34m\u001b[0m\u001b[0m\n\u001b[0m\u001b[1;32m   5554\u001b[0m         \u001b[0;32mif\u001b[0m \u001b[0mlen\u001b[0m\u001b[0;34m(\u001b[0m\u001b[0mself\u001b[0m\u001b[0;34m.\u001b[0m\u001b[0m_mgr\u001b[0m\u001b[0;34m.\u001b[0m\u001b[0mblocks\u001b[0m\u001b[0;34m)\u001b[0m \u001b[0;34m!=\u001b[0m \u001b[0mblocks_before\u001b[0m\u001b[0;34m:\u001b[0m\u001b[0;34m\u001b[0m\u001b[0;34m\u001b[0m\u001b[0m\n\u001b[1;32m   5555\u001b[0m             \u001b[0mself\u001b[0m\u001b[0;34m.\u001b[0m\u001b[0m_clear_item_cache\u001b[0m\u001b[0;34m(\u001b[0m\u001b[0;34m)\u001b[0m\u001b[0;34m\u001b[0m\u001b[0;34m\u001b[0m\u001b[0m\n",
            "\u001b[0;32m/usr/local/lib/python3.8/dist-packages/pandas/core/generic.py\u001b[0m in \u001b[0;36mf\u001b[0;34m()\u001b[0m\n\u001b[1;32m   5561\u001b[0m \u001b[0;34m\u001b[0m\u001b[0m\n\u001b[1;32m   5562\u001b[0m         \u001b[0;32mdef\u001b[0m \u001b[0mf\u001b[0m\u001b[0;34m(\u001b[0m\u001b[0;34m)\u001b[0m\u001b[0;34m:\u001b[0m\u001b[0;34m\u001b[0m\u001b[0;34m\u001b[0m\u001b[0m\n\u001b[0;32m-> 5563\u001b[0;31m             \u001b[0mself\u001b[0m\u001b[0;34m.\u001b[0m\u001b[0m_mgr\u001b[0m \u001b[0;34m=\u001b[0m \u001b[0mself\u001b[0m\u001b[0;34m.\u001b[0m\u001b[0m_mgr\u001b[0m\u001b[0;34m.\u001b[0m\u001b[0mconsolidate\u001b[0m\u001b[0;34m(\u001b[0m\u001b[0;34m)\u001b[0m\u001b[0;34m\u001b[0m\u001b[0;34m\u001b[0m\u001b[0m\n\u001b[0m\u001b[1;32m   5564\u001b[0m \u001b[0;34m\u001b[0m\u001b[0m\n\u001b[1;32m   5565\u001b[0m         \u001b[0mself\u001b[0m\u001b[0;34m.\u001b[0m\u001b[0m_protect_consolidate\u001b[0m\u001b[0;34m(\u001b[0m\u001b[0mf\u001b[0m\u001b[0;34m)\u001b[0m\u001b[0;34m\u001b[0m\u001b[0;34m\u001b[0m\u001b[0m\n",
            "\u001b[0;32m/usr/local/lib/python3.8/dist-packages/pandas/core/internals/managers.py\u001b[0m in \u001b[0;36mconsolidate\u001b[0;34m(self)\u001b[0m\n\u001b[1;32m    617\u001b[0m         \u001b[0mbm\u001b[0m \u001b[0;34m=\u001b[0m \u001b[0mtype\u001b[0m\u001b[0;34m(\u001b[0m\u001b[0mself\u001b[0m\u001b[0;34m)\u001b[0m\u001b[0;34m(\u001b[0m\u001b[0mself\u001b[0m\u001b[0;34m.\u001b[0m\u001b[0mblocks\u001b[0m\u001b[0;34m,\u001b[0m \u001b[0mself\u001b[0m\u001b[0;34m.\u001b[0m\u001b[0maxes\u001b[0m\u001b[0;34m,\u001b[0m \u001b[0mverify_integrity\u001b[0m\u001b[0;34m=\u001b[0m\u001b[0;32mFalse\u001b[0m\u001b[0;34m)\u001b[0m\u001b[0;34m\u001b[0m\u001b[0;34m\u001b[0m\u001b[0m\n\u001b[1;32m    618\u001b[0m         \u001b[0mbm\u001b[0m\u001b[0;34m.\u001b[0m\u001b[0m_is_consolidated\u001b[0m \u001b[0;34m=\u001b[0m \u001b[0;32mFalse\u001b[0m\u001b[0;34m\u001b[0m\u001b[0;34m\u001b[0m\u001b[0m\n\u001b[0;32m--> 619\u001b[0;31m         \u001b[0mbm\u001b[0m\u001b[0;34m.\u001b[0m\u001b[0m_consolidate_inplace\u001b[0m\u001b[0;34m(\u001b[0m\u001b[0;34m)\u001b[0m\u001b[0;34m\u001b[0m\u001b[0;34m\u001b[0m\u001b[0m\n\u001b[0m\u001b[1;32m    620\u001b[0m         \u001b[0;32mreturn\u001b[0m \u001b[0mbm\u001b[0m\u001b[0;34m\u001b[0m\u001b[0;34m\u001b[0m\u001b[0m\n\u001b[1;32m    621\u001b[0m \u001b[0;34m\u001b[0m\u001b[0m\n",
            "\u001b[0;32m/usr/local/lib/python3.8/dist-packages/pandas/core/internals/managers.py\u001b[0m in \u001b[0;36m_consolidate_inplace\u001b[0;34m(self)\u001b[0m\n\u001b[1;32m    622\u001b[0m     \u001b[0;32mdef\u001b[0m \u001b[0m_consolidate_inplace\u001b[0m\u001b[0;34m(\u001b[0m\u001b[0mself\u001b[0m\u001b[0;34m)\u001b[0m \u001b[0;34m->\u001b[0m \u001b[0;32mNone\u001b[0m\u001b[0;34m:\u001b[0m\u001b[0;34m\u001b[0m\u001b[0;34m\u001b[0m\u001b[0m\n\u001b[1;32m    623\u001b[0m         \u001b[0;32mif\u001b[0m \u001b[0;32mnot\u001b[0m \u001b[0mself\u001b[0m\u001b[0;34m.\u001b[0m\u001b[0mis_consolidated\u001b[0m\u001b[0;34m(\u001b[0m\u001b[0;34m)\u001b[0m\u001b[0;34m:\u001b[0m\u001b[0;34m\u001b[0m\u001b[0;34m\u001b[0m\u001b[0m\n\u001b[0;32m--> 624\u001b[0;31m             \u001b[0mself\u001b[0m\u001b[0;34m.\u001b[0m\u001b[0mblocks\u001b[0m \u001b[0;34m=\u001b[0m \u001b[0mtuple\u001b[0m\u001b[0;34m(\u001b[0m\u001b[0m_consolidate\u001b[0m\u001b[0;34m(\u001b[0m\u001b[0mself\u001b[0m\u001b[0;34m.\u001b[0m\u001b[0mblocks\u001b[0m\u001b[0;34m)\u001b[0m\u001b[0;34m)\u001b[0m\u001b[0;34m\u001b[0m\u001b[0;34m\u001b[0m\u001b[0m\n\u001b[0m\u001b[1;32m    625\u001b[0m             \u001b[0mself\u001b[0m\u001b[0;34m.\u001b[0m\u001b[0m_is_consolidated\u001b[0m \u001b[0;34m=\u001b[0m \u001b[0;32mTrue\u001b[0m\u001b[0;34m\u001b[0m\u001b[0;34m\u001b[0m\u001b[0m\n\u001b[1;32m    626\u001b[0m             \u001b[0mself\u001b[0m\u001b[0;34m.\u001b[0m\u001b[0m_known_consolidated\u001b[0m \u001b[0;34m=\u001b[0m \u001b[0;32mTrue\u001b[0m\u001b[0;34m\u001b[0m\u001b[0;34m\u001b[0m\u001b[0m\n",
            "\u001b[0;32m/usr/local/lib/python3.8/dist-packages/pandas/core/internals/managers.py\u001b[0m in \u001b[0;36m_consolidate\u001b[0;34m(blocks)\u001b[0m\n\u001b[1;32m   1972\u001b[0m     \u001b[0mnew_blocks\u001b[0m\u001b[0;34m:\u001b[0m \u001b[0mlist\u001b[0m\u001b[0;34m[\u001b[0m\u001b[0mBlock\u001b[0m\u001b[0;34m]\u001b[0m \u001b[0;34m=\u001b[0m \u001b[0;34m[\u001b[0m\u001b[0;34m]\u001b[0m\u001b[0;34m\u001b[0m\u001b[0;34m\u001b[0m\u001b[0m\n\u001b[1;32m   1973\u001b[0m     \u001b[0;32mfor\u001b[0m \u001b[0;34m(\u001b[0m\u001b[0m_can_consolidate\u001b[0m\u001b[0;34m,\u001b[0m \u001b[0mdtype\u001b[0m\u001b[0;34m)\u001b[0m\u001b[0;34m,\u001b[0m \u001b[0mgroup_blocks\u001b[0m \u001b[0;32min\u001b[0m \u001b[0mgrouper\u001b[0m\u001b[0;34m:\u001b[0m\u001b[0;34m\u001b[0m\u001b[0;34m\u001b[0m\u001b[0m\n\u001b[0;32m-> 1974\u001b[0;31m         merged_blocks = _merge_blocks(\n\u001b[0m\u001b[1;32m   1975\u001b[0m             \u001b[0mlist\u001b[0m\u001b[0;34m(\u001b[0m\u001b[0mgroup_blocks\u001b[0m\u001b[0;34m)\u001b[0m\u001b[0;34m,\u001b[0m \u001b[0mdtype\u001b[0m\u001b[0;34m=\u001b[0m\u001b[0mdtype\u001b[0m\u001b[0;34m,\u001b[0m \u001b[0mcan_consolidate\u001b[0m\u001b[0;34m=\u001b[0m\u001b[0m_can_consolidate\u001b[0m\u001b[0;34m\u001b[0m\u001b[0;34m\u001b[0m\u001b[0m\n\u001b[1;32m   1976\u001b[0m         )\n",
            "\u001b[0;32m/usr/local/lib/python3.8/dist-packages/pandas/core/internals/managers.py\u001b[0m in \u001b[0;36m_merge_blocks\u001b[0;34m(blocks, dtype, can_consolidate)\u001b[0m\n\u001b[1;32m   2006\u001b[0m \u001b[0;34m\u001b[0m\u001b[0m\n\u001b[1;32m   2007\u001b[0m         \u001b[0margsort\u001b[0m \u001b[0;34m=\u001b[0m \u001b[0mnp\u001b[0m\u001b[0;34m.\u001b[0m\u001b[0margsort\u001b[0m\u001b[0;34m(\u001b[0m\u001b[0mnew_mgr_locs\u001b[0m\u001b[0;34m)\u001b[0m\u001b[0;34m\u001b[0m\u001b[0;34m\u001b[0m\u001b[0m\n\u001b[0;32m-> 2008\u001b[0;31m         \u001b[0mnew_values\u001b[0m \u001b[0;34m=\u001b[0m \u001b[0mnew_values\u001b[0m\u001b[0;34m[\u001b[0m\u001b[0margsort\u001b[0m\u001b[0;34m]\u001b[0m\u001b[0;34m\u001b[0m\u001b[0;34m\u001b[0m\u001b[0m\n\u001b[0m\u001b[1;32m   2009\u001b[0m         \u001b[0mnew_mgr_locs\u001b[0m \u001b[0;34m=\u001b[0m \u001b[0mnew_mgr_locs\u001b[0m\u001b[0;34m[\u001b[0m\u001b[0margsort\u001b[0m\u001b[0;34m]\u001b[0m\u001b[0;34m\u001b[0m\u001b[0;34m\u001b[0m\u001b[0m\n\u001b[1;32m   2010\u001b[0m \u001b[0;34m\u001b[0m\u001b[0m\n",
            "\u001b[0;31mKeyboardInterrupt\u001b[0m: "
          ]
        }
      ],
      "source": [
        "def alldrugsBclean(var):\n",
        "    if var>=1: \n",
        "      return 1 \n",
        "    elif var==0:\n",
        "      return 0\n",
        "    else:\n",
        "      return var\n",
        "\n",
        "\n",
        "\n",
        "df[\"ALLDGSFLAG\"] = df['COCYR']+df['CRKFLAG']+df['HERFLAG']+df['HALLUCFLAG']+ df['INHALFLAG']+df['METHAMFLAG']+df['MRJFLAG']\n",
        "\n",
        "#recode alldrugsB into binary\n",
        "df['ALLDGSFLAG']=df['ALLDGSFLAG'].apply(alldrugsBclean)\n",
        "\n",
        "\n",
        "\n",
        "#function that recodes frequency variables\n",
        "def freqvarclean(var):\n",
        "    if var== 991: \n",
        "      return 0 \n",
        "    elif var==993:\n",
        "      return 0\n",
        "    else:\n",
        "      return var\n",
        "\n",
        "#function that recodes frequency variables\n",
        "def binaryvarclean(var):\n",
        "    if var== 0: \n",
        "      return 'Never used' \n",
        "    elif var==1:\n",
        "      return 'Ever used'\n",
        "    else:\n",
        "      return None\n",
        "\n",
        "#functions that recode independent variables (that need to be recoded)\n",
        "def independentvarclean(var):\n",
        "    if var== 99: \n",
        "      return None \n",
        "    elif var== '.':\n",
        "      return None\n",
        "    else:\n",
        "      return var\n",
        "\n",
        "\n",
        "#function that recodes race variable \n",
        "def racevarclean(var):\n",
        "    if var== 1: \n",
        "      return 'White' \n",
        "    elif var== 2:\n",
        "      return 'Black/African American'\n",
        "    elif var== 3:\n",
        "      return 'Native American/Alaskan Native'\n",
        "    elif var== 4:\n",
        "      return 'Native Hawaiian/Other Pacific Islander'\n",
        "    elif var== 5:\n",
        "      return 'Asian'\n",
        "    elif var== 6:\n",
        "      return 'More than one race'\n",
        "    elif var==7:\n",
        "      return 'Hispanic'\n",
        "    else:\n",
        "      return 'Null'\n",
        "\n",
        "#function that recodes age variable \n",
        "def agevarclean(var):\n",
        "    if var== 1: \n",
        "      return '12-17 years old' \n",
        "    elif var== 2:\n",
        "      return '18-25 years old'\n",
        "    elif var== 3:\n",
        "      return '26-34 years old'\n",
        "    elif var== 4:\n",
        "      return '35 or older'\n",
        "    else:\n",
        "      return None\n",
        "\n",
        "\n",
        "#function that recodes age variable \n",
        "def gendervarclean(var):\n",
        "    if var== 1: \n",
        "      return 'Male' \n",
        "    elif var== 2:\n",
        "      return 'Female'\n",
        "    else:\n",
        "      return 'null'\n",
        "\n",
        "def deppclean(var):\n",
        "    if var== 1.: \n",
        "      return 'None' \n",
        "    elif var== 2.:\n",
        "      return 'Mild'\n",
        "    elif var== 3.:\n",
        "      return 'Moderate'\n",
        "    elif var== 4.:\n",
        "      return 'Severe'\n",
        "    elif var== 5.:\n",
        "      return 'Very Severe'\n",
        "    else:\n",
        "      return 'Aged 12-17/Unkn/Skip'\n",
        "\n",
        "def irpinc(var):\n",
        "     if var== 1: \n",
        "       return 'Less than $10,000' \n",
        "     elif var== 2:\n",
        "       return '$10,000-$19,999'\n",
        "     elif var== 3:\n",
        "       return '$20,000-$29,999'\n",
        "     elif var== 4:\n",
        "       return '$30,000-$39,999'\n",
        "     elif var== 5:\n",
        "       return '$40,000-$49,999'\n",
        "     elif var== 6:\n",
        "       return '$50,000-$74,999'\n",
        "     elif var== 7:\n",
        "       return '$75,000 or more'\n",
        "\n",
        "def ireduhigh(var):\n",
        "     if var== 1: \n",
        "       return 'Fifth grade or less grade completed' \n",
        "     elif var== 2:\n",
        "       return 'Sixth grade completed'\n",
        "     elif var== 3:\n",
        "       return 'Seventh grade completed'\n",
        "     elif var== 4:\n",
        "       return 'Eighth grade completed'\n",
        "     elif var== 5:\n",
        "       return 'Ninth grade completed'\n",
        "     elif var== 6:\n",
        "       return 'Tenth grade completed'\n",
        "     elif var== 7:\n",
        "       return 'Eleventh or Twelfth grade completed, no diploma'\n",
        "     elif var== 8:\n",
        "       return 'High school diploma/GED'\n",
        "     elif var== 9:\n",
        "       return 'Some college credit, but no degree'\n",
        "     elif var== 10:\n",
        "       return \"Associate's degree (AA, AS)\"\n",
        "     elif var== 11:\n",
        "       return 'College graduate or higher'\n",
        "\n",
        "def pden(var):\n",
        "     if var== 1: \n",
        "       return 'Segment in a CBSA with 1 million or more persons' \n",
        "     elif var== 2:\n",
        "       return 'Segm in a CBSA with fewer  than 1 million persons'\n",
        "     elif var== 3:\n",
        "       return 'Segment not in CBSA'\n",
        "\n",
        "def coutyp(var):\n",
        "     if var== 1: \n",
        "       return 'Large Metro' \n",
        "     elif var== 2:\n",
        "       return 'Small Metro'\n",
        "     elif var== 3:\n",
        "       return 'Nonmetro'\n",
        "\n",
        "def wrkstatclean(var):\n",
        "    if var== 1: \n",
        "      return 'Employed full time' \n",
        "    elif var== 2:\n",
        "      return 'Employed part time'\n",
        "    elif var== 3:\n",
        "      return 'Unemployed'\n",
        "    elif var== 4:\n",
        "      return 'Other (incl. not in labor force)'\n",
        "    else:\n",
        "      return '12-14 year olds'\n",
        "    \n",
        "def incomex(var):\n",
        "     if var== 1: \n",
        "       return 'Less than $20,000' \n",
        "     elif var== 2:\n",
        "       return '$20,000-$49,999'\n",
        "     elif var== 3:\n",
        "       return '$50,000-$74,999'\n",
        "     elif var== 4:\n",
        "       return '$75,000 or more'\n",
        "\n",
        "\n",
        "#apply frequency variable coding\n",
        "df['IRALCFY'] = df['IRALCFY'].apply(freqvarclean)\n",
        "df['IRMJFY'] = df['IRMJFY'].apply(freqvarclean)\n",
        "df['IRCOCFY'] = df['IRCOCFY'].apply(freqvarclean)\n",
        "df['IRHERFY'] = df['IRHERFY'].apply(freqvarclean)\n",
        "df['IRCRKFY'] = df['IRCRKFY'].apply(freqvarclean)\n",
        "df['IRHALLUCYFQ'] = df['IRHALLUCYFQ'].apply(freqvarclean)\n",
        "df['IRINHALYFQ'] = df['IRINHALYFQ'].apply(freqvarclean)\n",
        "df['IRMETHAMYFQ'] = df['IRMETHAMYFQ'].apply(freqvarclean)\n",
        "\n",
        "#apply binary variable coding\n",
        "df['ALCFLAG'] = df['ALCFLAG'].apply(binaryvarclean)\n",
        "df['MRJFLAG'] = df['MRJFLAG'].apply(binaryvarclean)\n",
        "df['COCYR'] = df['COCYR'].apply(binaryvarclean)\n",
        "df['CRKFLAG'] = df['CRKFLAG'].apply(binaryvarclean)\n",
        "df['HERFLAG'] = df['HERFLAG'].apply(binaryvarclean)\n",
        "df['HALLUCFLAG'] = df['HALLUCFLAG'].apply(binaryvarclean)\n",
        "df['INHALFLAG'] = df['INHALFLAG'].apply(binaryvarclean)\n",
        "df['METHAMFLAG'] = df['METHAMFLAG'].apply(binaryvarclean)\n",
        "df['ALLDGSFLAG'] = df['ALLDGSFLAG'].apply(binaryvarclean)\n",
        "\n",
        "#apply independent variables recoding\n",
        "df['IRWRKSTAT'] = df['IRWRKSTAT'].apply(independentvarclean)\n",
        "df['AMHTXND2'] = df['AMHTXND2'].apply(independentvarclean)\n",
        "df['AMDEYR'] = df['AMDEYR'].apply(independentvarclean)\n",
        "df['ASDSHOM2'] = df['ASDSHOM2'].apply(independentvarclean)\n",
        "df['ASDSWRK2'] = df['ASDSWRK2'].apply(independentvarclean)\n",
        "df['ASDSREL2'] = df['ASDSREL2'].apply(independentvarclean)\n",
        "df['ASDSSOC2'] = df['ASDSSOC2'].apply(independentvarclean)\n",
        "df['ASDSOVL2'] = df['ASDSOVL2'].apply(independentvarclean)\n",
        "\n",
        "#apply recoding \n",
        "df['NEWRACE2'] = df['NEWRACE2'].apply(racevarclean)\n",
        "df['CATAGE'] = df['CATAGE'].apply(agevarclean)\n",
        "df['IRSEX'] = df['IRSEX'].apply(gendervarclean)\n",
        "df['IRWRKSTAT'] = df['IRWRKSTAT'].apply(wrkstatclean)\n",
        "df['ASDSHOM2'] = df['ASDSHOM2'].apply(deppclean)\n",
        "df['ASDSWRK2'] = df['ASDSWRK2'].apply(deppclean)\n",
        "df['ASDSREL2'] = df['ASDSREL2'].apply(deppclean)\n",
        "df['ASDSSOC2'] = df['ASDSSOC2'].apply(deppclean)\n",
        "df['ASDSOVL2'] = df['ASDSOVL2'].apply(deppclean)\n",
        "df['IRPINC3'] = df['IRPINC3'].apply(irpinc)\n",
        "df['INCOME'] = df['INCOME'].apply(incomex)\n",
        "df['COUTYP4'] = df['COUTYP4'].apply(coutyp)\n",
        "df['PDEN10'] = df['PDEN10'].apply(pden)\n",
        "df['IREDUHIGHST2'] = df['IREDUHIGHST2'].apply(ireduhigh)\n",
        "\n",
        "#Create ALLDGS\n",
        "df[\"ALLDGS\"] = df['IRMETHAMYFQ']+df['IRCOCFY']+df['IRCRKFY']+df['IRHERFY']+ df['IRHALLUCYFQ']+df['IRINHALYFQ']+df['IRMJFY']\n",
        "\n",
        "# Converting ALCFLAG to METHAMFLAG to binary\n",
        "df.iloc[:,9:17] = df.iloc[:,9:17].replace(['Never used', 'Ever used'],[0,1])\n",
        "\n",
        "# Change ALLDGSFLAG to binary\n",
        "df['ALLDGSFLAG'] = df['ALLDGSFLAG'].replace(['Ever used', 'Never used'],[1,0])\n",
        "\n",
        "# Converting IRFAMSOC & IRPRVHLT to binary\n",
        "df['IRFAMSOC'] = df['IRFAMSOC'].replace([2,1],[0,1])\n",
        "df['IRPRVHLT'] = df['IRPRVHLT'].replace([1,2],[1,0])\n",
        "\n",
        "# Imputing highest mode in AMHTXND2 & convert to int datatype\n",
        "df['AMHTXND2'] = df['AMHTXND2'].replace([1.,2.],[1,0])\n",
        "df['AMHTXND2'] = df['AMHTXND2'].fillna(0) \n",
        "df['AMHTXND2'] = df['AMHTXND2'].astype(int)\n",
        "\n",
        "# Imputing highest mode in AMDEYR & convert to int datatype\n",
        "df['AMDEYR'] = df['AMDEYR'].replace([1.,2.],[1,0])\n",
        "df['AMDEYR'] = df['AMDEYR'].fillna(0) \n",
        "df['AMDEYR'] = df['AMDEYR'].astype(int)\n",
        "\n",
        "df[['ASDSHOM2','ASDSWRK2','ASDSREL2','ASDSSOC2','ASDSOVL2','IRSEX','IREDUHIGHST2','CATAGE','NEWRACE2','IRWRKSTAT','IRPINC3','INCOME','PDEN10','COUTYP4']] = df[['ASDSHOM2','ASDSWRK2','ASDSREL2','ASDSSOC2','ASDSOVL2','IRSEX','IREDUHIGHST2','CATAGE','NEWRACE2','IRWRKSTAT','IRPINC3','INCOME','PDEN10','COUTYP4']].astype('category') \n",
        "\n",
        "\n",
        "# Creating ALCCAT and ALLDGSCAT\n",
        "def mickey(var):\n",
        "  if var != 0:\n",
        "    return 1\n",
        "  else:\n",
        "    return 0\n",
        "\n",
        "df['ALCCAT'] = df['IRALCFY']\n",
        "df['ALLDGSCAT'] = df['ALLDGS']\n",
        "df['ALCCAT'] = df['ALCCAT'].apply(mickey)\n",
        "df['ALLDGSCAT'] = df['ALLDGSCAT'].apply(mickey)\n"
      ]
    },
    {
      "cell_type": "code",
      "source": [
        "# Forming dv\n",
        "# Use dv for visualization instead of df\n",
        "# Forming dv\n",
        "\n",
        "dv = df.copy()\n",
        "\n",
        "# Converting IRFAMSOC & IRPRVHLT to categorical (for visualization)\n",
        "dv['IRFAMSOC'] = dv['IRFAMSOC'].replace([0,1],['No','Yes'])\n",
        "dv['IRPRVHLT'] = dv['IRPRVHLT'].replace([1,0],['Yes','No'])\n",
        "\n",
        "# Converting AMHTXND2 & AMDEYR to categorical (for visualization)\n",
        "dv['AMHTXND2'] = dv['AMHTXND2'].replace([1,0],['Yes','No'])\n",
        "dv['AMDEYR'] = dv['AMDEYR'].replace([1,0],['Yes','No'])\n",
        "\n",
        "# Convert ALCFLAG to categorical  (for visualization)\n",
        "dv['ALCFLAG'] = dv['ALCFLAG'].replace([1,0],['Ever used','Never used'])\n",
        "\n",
        "# Convert ALLDGSFLAG to categorical (for visualization)\n",
        "dv['ALLDGSFLAG'] = dv['ALLDGSFLAG'].replace([1,0],['Ever used','Never used'])\n",
        "\n",
        "# Convert ALCCAT to categorical (for visualization)\n",
        "dv['ALCCAT'] = dv['ALCCAT'].replace([1,0],['Ever used','Never used'])\n",
        "\n",
        "# Convert ALLDGSCAT to categorical (for visualization)\n",
        "dv['ALLDGSCAT'] = dv['ALLDGSCAT'].replace([1,0],['Ever used','Never used'])\n",
        "\n",
        "dv[['IRFAMSOC','IRPRVHLT','AMHTXND2','AMDEYR','ALCFLAG','ALLDGSFLAG','ALCCAT','ALLDGSCAT','Year']] = dv[['IRFAMSOC','IRPRVHLT','AMHTXND2','AMDEYR','ALCFLAG','ALLDGSFLAG','ALCCAT','ALLDGSCAT','Year']].astype('category') \n"
      ],
      "metadata": {
        "id": "HBKuToGLOfOq"
      },
      "execution_count": null,
      "outputs": []
    },
    {
      "cell_type": "markdown",
      "source": [
        "#Descriptive and Exploratory stats"
      ],
      "metadata": {
        "id": "emD4JX4STQpa"
      }
    },
    {
      "cell_type": "code",
      "source": [
        "#breakdown of gender\n",
        "df['IRSEX'].value_counts(normalize=True)*100"
      ],
      "metadata": {
        "colab": {
          "base_uri": "https://localhost:8080/"
        },
        "id": "DENpqIan5GjI",
        "outputId": "0b19af53-5efd-4cc1-92b1-46744971474e"
      },
      "execution_count": null,
      "outputs": [
        {
          "output_type": "execute_result",
          "data": {
            "text/plain": [
              "Female    52.548145\n",
              "Male      47.451855\n",
              "Name: IRSEX, dtype: float64"
            ]
          },
          "metadata": {},
          "execution_count": 5
        }
      ]
    },
    {
      "cell_type": "code",
      "source": [
        "pd.crosstab(df.CATAGE, df.ALCCAT ,normalize='index')\\\n",
        "  .round(4)*100"
      ],
      "metadata": {
        "colab": {
          "base_uri": "https://localhost:8080/",
          "height": 206
        },
        "id": "JVtzFLvdeUef",
        "outputId": "ccb7adfd-781b-4201-d534-4ae985d6e4fa"
      },
      "execution_count": null,
      "outputs": [
        {
          "output_type": "execute_result",
          "data": {
            "text/plain": [
              "ALCCAT               0      1\n",
              "CATAGE                       \n",
              "12-17 years old  77.87  22.13\n",
              "18-25 years old  26.43  73.57\n",
              "26-34 years old  20.92  79.08\n",
              "35 or older      30.64  69.36"
            ],
            "text/html": [
              "\n",
              "  <div id=\"df-cfb58c0e-073d-4263-8e5e-a0644144e1b7\">\n",
              "    <div class=\"colab-df-container\">\n",
              "      <div>\n",
              "<style scoped>\n",
              "    .dataframe tbody tr th:only-of-type {\n",
              "        vertical-align: middle;\n",
              "    }\n",
              "\n",
              "    .dataframe tbody tr th {\n",
              "        vertical-align: top;\n",
              "    }\n",
              "\n",
              "    .dataframe thead th {\n",
              "        text-align: right;\n",
              "    }\n",
              "</style>\n",
              "<table border=\"1\" class=\"dataframe\">\n",
              "  <thead>\n",
              "    <tr style=\"text-align: right;\">\n",
              "      <th>ALCCAT</th>\n",
              "      <th>0</th>\n",
              "      <th>1</th>\n",
              "    </tr>\n",
              "    <tr>\n",
              "      <th>CATAGE</th>\n",
              "      <th></th>\n",
              "      <th></th>\n",
              "    </tr>\n",
              "  </thead>\n",
              "  <tbody>\n",
              "    <tr>\n",
              "      <th>12-17 years old</th>\n",
              "      <td>77.87</td>\n",
              "      <td>22.13</td>\n",
              "    </tr>\n",
              "    <tr>\n",
              "      <th>18-25 years old</th>\n",
              "      <td>26.43</td>\n",
              "      <td>73.57</td>\n",
              "    </tr>\n",
              "    <tr>\n",
              "      <th>26-34 years old</th>\n",
              "      <td>20.92</td>\n",
              "      <td>79.08</td>\n",
              "    </tr>\n",
              "    <tr>\n",
              "      <th>35 or older</th>\n",
              "      <td>30.64</td>\n",
              "      <td>69.36</td>\n",
              "    </tr>\n",
              "  </tbody>\n",
              "</table>\n",
              "</div>\n",
              "      <button class=\"colab-df-convert\" onclick=\"convertToInteractive('df-cfb58c0e-073d-4263-8e5e-a0644144e1b7')\"\n",
              "              title=\"Convert this dataframe to an interactive table.\"\n",
              "              style=\"display:none;\">\n",
              "        \n",
              "  <svg xmlns=\"http://www.w3.org/2000/svg\" height=\"24px\"viewBox=\"0 0 24 24\"\n",
              "       width=\"24px\">\n",
              "    <path d=\"M0 0h24v24H0V0z\" fill=\"none\"/>\n",
              "    <path d=\"M18.56 5.44l.94 2.06.94-2.06 2.06-.94-2.06-.94-.94-2.06-.94 2.06-2.06.94zm-11 1L8.5 8.5l.94-2.06 2.06-.94-2.06-.94L8.5 2.5l-.94 2.06-2.06.94zm10 10l.94 2.06.94-2.06 2.06-.94-2.06-.94-.94-2.06-.94 2.06-2.06.94z\"/><path d=\"M17.41 7.96l-1.37-1.37c-.4-.4-.92-.59-1.43-.59-.52 0-1.04.2-1.43.59L10.3 9.45l-7.72 7.72c-.78.78-.78 2.05 0 2.83L4 21.41c.39.39.9.59 1.41.59.51 0 1.02-.2 1.41-.59l7.78-7.78 2.81-2.81c.8-.78.8-2.07 0-2.86zM5.41 20L4 18.59l7.72-7.72 1.47 1.35L5.41 20z\"/>\n",
              "  </svg>\n",
              "      </button>\n",
              "      \n",
              "  <style>\n",
              "    .colab-df-container {\n",
              "      display:flex;\n",
              "      flex-wrap:wrap;\n",
              "      gap: 12px;\n",
              "    }\n",
              "\n",
              "    .colab-df-convert {\n",
              "      background-color: #E8F0FE;\n",
              "      border: none;\n",
              "      border-radius: 50%;\n",
              "      cursor: pointer;\n",
              "      display: none;\n",
              "      fill: #1967D2;\n",
              "      height: 32px;\n",
              "      padding: 0 0 0 0;\n",
              "      width: 32px;\n",
              "    }\n",
              "\n",
              "    .colab-df-convert:hover {\n",
              "      background-color: #E2EBFA;\n",
              "      box-shadow: 0px 1px 2px rgba(60, 64, 67, 0.3), 0px 1px 3px 1px rgba(60, 64, 67, 0.15);\n",
              "      fill: #174EA6;\n",
              "    }\n",
              "\n",
              "    [theme=dark] .colab-df-convert {\n",
              "      background-color: #3B4455;\n",
              "      fill: #D2E3FC;\n",
              "    }\n",
              "\n",
              "    [theme=dark] .colab-df-convert:hover {\n",
              "      background-color: #434B5C;\n",
              "      box-shadow: 0px 1px 3px 1px rgba(0, 0, 0, 0.15);\n",
              "      filter: drop-shadow(0px 1px 2px rgba(0, 0, 0, 0.3));\n",
              "      fill: #FFFFFF;\n",
              "    }\n",
              "  </style>\n",
              "\n",
              "      <script>\n",
              "        const buttonEl =\n",
              "          document.querySelector('#df-cfb58c0e-073d-4263-8e5e-a0644144e1b7 button.colab-df-convert');\n",
              "        buttonEl.style.display =\n",
              "          google.colab.kernel.accessAllowed ? 'block' : 'none';\n",
              "\n",
              "        async function convertToInteractive(key) {\n",
              "          const element = document.querySelector('#df-cfb58c0e-073d-4263-8e5e-a0644144e1b7');\n",
              "          const dataTable =\n",
              "            await google.colab.kernel.invokeFunction('convertToInteractive',\n",
              "                                                     [key], {});\n",
              "          if (!dataTable) return;\n",
              "\n",
              "          const docLinkHtml = 'Like what you see? Visit the ' +\n",
              "            '<a target=\"_blank\" href=https://colab.research.google.com/notebooks/data_table.ipynb>data table notebook</a>'\n",
              "            + ' to learn more about interactive tables.';\n",
              "          element.innerHTML = '';\n",
              "          dataTable['output_type'] = 'display_data';\n",
              "          await google.colab.output.renderOutput(dataTable, element);\n",
              "          const docLink = document.createElement('div');\n",
              "          docLink.innerHTML = docLinkHtml;\n",
              "          element.appendChild(docLink);\n",
              "        }\n",
              "      </script>\n",
              "    </div>\n",
              "  </div>\n",
              "  "
            ]
          },
          "metadata": {},
          "execution_count": 6
        }
      ]
    },
    {
      "cell_type": "code",
      "source": [
        "#breakdown of race\n",
        "df['NEWRACE2'].value_counts(normalize=True)*100"
      ],
      "metadata": {
        "colab": {
          "base_uri": "https://localhost:8080/"
        },
        "id": "tV7Hsu6MDg8H",
        "outputId": "83aea88f-bba0-43b7-fa22-e35a5321d9ff"
      },
      "execution_count": null,
      "outputs": [
        {
          "output_type": "execute_result",
          "data": {
            "text/plain": [
              "White                                     59.005705\n",
              "Hispanic                                  18.149534\n",
              "Black/African American                    12.393992\n",
              "Asian                                      4.699028\n",
              "More than one race                         3.859520\n",
              "Native American/Alaskan Native             1.395801\n",
              "Native Hawaiian/Other Pacific Islander     0.496419\n",
              "Name: NEWRACE2, dtype: float64"
            ]
          },
          "metadata": {},
          "execution_count": 7
        }
      ]
    },
    {
      "cell_type": "code",
      "source": [
        "#breakdown of age\n",
        "df['CATAGE'].value_counts(normalize=True)*100"
      ],
      "metadata": {
        "colab": {
          "base_uri": "https://localhost:8080/"
        },
        "id": "YRtnFGKV3Xi0",
        "outputId": "a61b4d19-e18c-4534-cd40-000b76e4fa0b"
      },
      "execution_count": null,
      "outputs": [
        {
          "output_type": "execute_result",
          "data": {
            "text/plain": [
              "35 or older        36.141937\n",
              "18-25 years old    24.666335\n",
              "12-17 years old    23.438436\n",
              "26-34 years old    15.753292\n",
              "Name: CATAGE, dtype: float64"
            ]
          },
          "metadata": {},
          "execution_count": 8
        }
      ]
    },
    {
      "cell_type": "code",
      "source": [
        "#Proportion of respondents who have used alcohol\n",
        "df['ALCFLAG'].value_counts(normalize=True)*100"
      ],
      "metadata": {
        "colab": {
          "base_uri": "https://localhost:8080/"
        },
        "id": "F9HZLpaV6ZmI",
        "outputId": "56e4f30a-041e-4b51-aba5-5d73952d24bc"
      },
      "execution_count": null,
      "outputs": [
        {
          "output_type": "execute_result",
          "data": {
            "text/plain": [
              "1    72.139099\n",
              "0    27.860901\n",
              "Name: ALCFLAG, dtype: float64"
            ]
          },
          "metadata": {},
          "execution_count": 9
        }
      ]
    },
    {
      "cell_type": "code",
      "source": [
        "#proportion of respondents who haveused any drugs except alcohol\n",
        "df['ALLDGS'].value_counts(normalize=True)*100"
      ],
      "metadata": {
        "id": "_jnCGcU_N1YV",
        "colab": {
          "base_uri": "https://localhost:8080/"
        },
        "outputId": "1be759b2-a035-4b64-dfae-98c5f36cb0ad"
      },
      "execution_count": null,
      "outputs": [
        {
          "output_type": "execute_result",
          "data": {
            "text/plain": [
              "0       79.116837\n",
              "1        1.466447\n",
              "2        1.137930\n",
              "364      1.047643\n",
              "3        0.987452\n",
              "          ...    \n",
              "662      0.000317\n",
              "925      0.000317\n",
              "1239     0.000317\n",
              "1088     0.000317\n",
              "1061     0.000317\n",
              "Name: ALLDGS, Length: 814, dtype: float64"
            ]
          },
          "metadata": {},
          "execution_count": 10
        }
      ]
    },
    {
      "cell_type": "code",
      "source": [
        "#Proportion of respondents who have used marihuana\n",
        "df['MRJFLAG'].value_counts(normalize=True)*100"
      ],
      "metadata": {
        "colab": {
          "base_uri": "https://localhost:8080/"
        },
        "id": "hBGUtO6t8H2K",
        "outputId": "713e65e9-e462-469b-cda8-0e2cce3babcf"
      },
      "execution_count": null,
      "outputs": [
        {
          "output_type": "execute_result",
          "data": {
            "text/plain": [
              "0    56.841675\n",
              "1    43.158325\n",
              "Name: MRJFLAG, dtype: float64"
            ]
          },
          "metadata": {},
          "execution_count": 11
        }
      ]
    },
    {
      "cell_type": "code",
      "source": [
        "#Proportion of respondents who have used cocaine\n",
        "df['COCYR'].value_counts(normalize=True)*100"
      ],
      "metadata": {
        "colab": {
          "base_uri": "https://localhost:8080/"
        },
        "id": "whLqSCai8LXZ",
        "outputId": "597f6c44-8a63-4291-cb44-c1906f48f77b"
      },
      "execution_count": null,
      "outputs": [
        {
          "output_type": "execute_result",
          "data": {
            "text/plain": [
              "0    97.631953\n",
              "1     2.368047\n",
              "Name: COCYR, dtype: float64"
            ]
          },
          "metadata": {},
          "execution_count": 12
        }
      ]
    },
    {
      "cell_type": "code",
      "source": [
        "#Proportion of respondents who have used crack\n",
        "df['CRKFLAG'].value_counts(normalize=True)*100"
      ],
      "metadata": {
        "colab": {
          "base_uri": "https://localhost:8080/"
        },
        "id": "de3AWeiA8M0o",
        "outputId": "e7786f20-bf49-446a-a15d-5bbb45883c95"
      },
      "execution_count": null,
      "outputs": [
        {
          "output_type": "execute_result",
          "data": {
            "text/plain": [
              "0    97.338917\n",
              "1     2.661083\n",
              "Name: CRKFLAG, dtype: float64"
            ]
          },
          "metadata": {},
          "execution_count": 13
        }
      ]
    },
    {
      "cell_type": "code",
      "source": [
        "#Proportion of respondents who have used heroin\n",
        "df['HERFLAG'].value_counts(normalize=True)*100"
      ],
      "metadata": {
        "colab": {
          "base_uri": "https://localhost:8080/"
        },
        "id": "CfT35WSy8NZW",
        "outputId": "fddae2aa-495e-4551-b857-7953c3e2552f"
      },
      "execution_count": null,
      "outputs": [
        {
          "output_type": "execute_result",
          "data": {
            "text/plain": [
              "0    98.27093\n",
              "1     1.72907\n",
              "Name: HERFLAG, dtype: float64"
            ]
          },
          "metadata": {},
          "execution_count": 14
        }
      ]
    },
    {
      "cell_type": "code",
      "source": [
        "#Proportion of respondents who have used hallucinogens\n",
        "df['HALLUCFLAG'].value_counts(normalize=True)*100"
      ],
      "metadata": {
        "colab": {
          "base_uri": "https://localhost:8080/"
        },
        "id": "NaQrbI-v8RqA",
        "outputId": "f58e62aa-dd50-4173-9890-54759936b7ac"
      },
      "execution_count": null,
      "outputs": [
        {
          "output_type": "execute_result",
          "data": {
            "text/plain": [
              "0    85.364046\n",
              "1    14.635954\n",
              "Name: HALLUCFLAG, dtype: float64"
            ]
          },
          "metadata": {},
          "execution_count": 15
        }
      ]
    },
    {
      "cell_type": "code",
      "source": [
        "#Proportion of respondents who have used inhalants\n",
        "df['INHALFLAG'].value_counts(normalize=True)*100"
      ],
      "metadata": {
        "colab": {
          "base_uri": "https://localhost:8080/"
        },
        "id": "sgAu4u7g8UCl",
        "outputId": "8ca793c4-143b-443b-b99f-1958a8b6e6df"
      },
      "execution_count": null,
      "outputs": [
        {
          "output_type": "execute_result",
          "data": {
            "text/plain": [
              "0    90.063391\n",
              "1     9.936609\n",
              "Name: INHALFLAG, dtype: float64"
            ]
          },
          "metadata": {},
          "execution_count": 16
        }
      ]
    },
    {
      "cell_type": "code",
      "source": [
        "#Proportion of respondents who have used meth\n",
        "df['METHAMFLAG'].value_counts(normalize=True)*100"
      ],
      "metadata": {
        "colab": {
          "base_uri": "https://localhost:8080/"
        },
        "id": "N-D8yC-A8Uqs",
        "outputId": "f43ed1f7-f621-4822-98a4-fb4c67df762c"
      },
      "execution_count": null,
      "outputs": [
        {
          "output_type": "execute_result",
          "data": {
            "text/plain": [
              "0    95.513225\n",
              "1     4.486775\n",
              "Name: METHAMFLAG, dtype: float64"
            ]
          },
          "metadata": {},
          "execution_count": 17
        }
      ]
    },
    {
      "cell_type": "code",
      "source": [
        "#exploratory statistics of frequency of substance use in a year\n",
        "frequency=df[['IRMETHAMYFQ', 'IRALCFY',\n",
        "       'IRMJFY', 'IRCOCFY', 'IRCRKFY', 'IRHERFY', 'IRHALLUCYFQ', 'IRINHALYFQ', 'ALLDGS']].describe(include='all')\n",
        "\n",
        "frequency.columns = ['Meth', 'Alcohol', 'Marihuana', 'Cocaine', 'Crack', 'Heroin', 'Hallucinogens', 'Inhallants', 'DrugsExceptAlc']\n",
        "\n",
        "frequency\n",
        "      "
      ],
      "metadata": {
        "colab": {
          "base_uri": "https://localhost:8080/",
          "height": 300
        },
        "id": "2F_8shn93UVI",
        "outputId": "0e5575f8-74e9-44d8-d898-adc1bb697080"
      },
      "execution_count": null,
      "outputs": [
        {
          "output_type": "execute_result",
          "data": {
            "text/plain": [
              "                Meth        Alcohol      Marihuana        Cocaine  \\\n",
              "count  315661.000000  315661.000000  315661.000000  315661.000000   \n",
              "mean        0.792093      49.781288      24.286833       0.705865   \n",
              "std        13.686260      81.377971      77.036602      10.316375   \n",
              "min         0.000000       0.000000       0.000000       0.000000   \n",
              "25%         0.000000       0.000000       0.000000       0.000000   \n",
              "50%         0.000000       6.000000       0.000000       0.000000   \n",
              "75%         0.000000      60.000000       0.000000       0.000000   \n",
              "max       365.000000     365.000000     365.000000     365.000000   \n",
              "\n",
              "               Crack         Heroin  Hallucinogens     Inhallants  \\\n",
              "count  315661.000000  315661.000000  315661.000000  315661.000000   \n",
              "mean        0.189859       0.453249       0.464378       0.319425   \n",
              "std         6.127078      10.810214       7.422459       6.569459   \n",
              "min         0.000000       0.000000       0.000000       0.000000   \n",
              "25%         0.000000       0.000000       0.000000       0.000000   \n",
              "50%         0.000000       0.000000       0.000000       0.000000   \n",
              "75%         0.000000       0.000000       0.000000       0.000000   \n",
              "max       365.000000     365.000000     365.000000     365.000000   \n",
              "\n",
              "       DrugsExceptAlc  \n",
              "count   315661.000000  \n",
              "mean        27.211702  \n",
              "std         86.493220  \n",
              "min          0.000000  \n",
              "25%          0.000000  \n",
              "50%          0.000000  \n",
              "75%          0.000000  \n",
              "max       2549.000000  "
            ],
            "text/html": [
              "\n",
              "  <div id=\"df-18ea847a-9dff-4f95-a761-623b804977f1\">\n",
              "    <div class=\"colab-df-container\">\n",
              "      <div>\n",
              "<style scoped>\n",
              "    .dataframe tbody tr th:only-of-type {\n",
              "        vertical-align: middle;\n",
              "    }\n",
              "\n",
              "    .dataframe tbody tr th {\n",
              "        vertical-align: top;\n",
              "    }\n",
              "\n",
              "    .dataframe thead th {\n",
              "        text-align: right;\n",
              "    }\n",
              "</style>\n",
              "<table border=\"1\" class=\"dataframe\">\n",
              "  <thead>\n",
              "    <tr style=\"text-align: right;\">\n",
              "      <th></th>\n",
              "      <th>Meth</th>\n",
              "      <th>Alcohol</th>\n",
              "      <th>Marihuana</th>\n",
              "      <th>Cocaine</th>\n",
              "      <th>Crack</th>\n",
              "      <th>Heroin</th>\n",
              "      <th>Hallucinogens</th>\n",
              "      <th>Inhallants</th>\n",
              "      <th>DrugsExceptAlc</th>\n",
              "    </tr>\n",
              "  </thead>\n",
              "  <tbody>\n",
              "    <tr>\n",
              "      <th>count</th>\n",
              "      <td>315661.000000</td>\n",
              "      <td>315661.000000</td>\n",
              "      <td>315661.000000</td>\n",
              "      <td>315661.000000</td>\n",
              "      <td>315661.000000</td>\n",
              "      <td>315661.000000</td>\n",
              "      <td>315661.000000</td>\n",
              "      <td>315661.000000</td>\n",
              "      <td>315661.000000</td>\n",
              "    </tr>\n",
              "    <tr>\n",
              "      <th>mean</th>\n",
              "      <td>0.792093</td>\n",
              "      <td>49.781288</td>\n",
              "      <td>24.286833</td>\n",
              "      <td>0.705865</td>\n",
              "      <td>0.189859</td>\n",
              "      <td>0.453249</td>\n",
              "      <td>0.464378</td>\n",
              "      <td>0.319425</td>\n",
              "      <td>27.211702</td>\n",
              "    </tr>\n",
              "    <tr>\n",
              "      <th>std</th>\n",
              "      <td>13.686260</td>\n",
              "      <td>81.377971</td>\n",
              "      <td>77.036602</td>\n",
              "      <td>10.316375</td>\n",
              "      <td>6.127078</td>\n",
              "      <td>10.810214</td>\n",
              "      <td>7.422459</td>\n",
              "      <td>6.569459</td>\n",
              "      <td>86.493220</td>\n",
              "    </tr>\n",
              "    <tr>\n",
              "      <th>min</th>\n",
              "      <td>0.000000</td>\n",
              "      <td>0.000000</td>\n",
              "      <td>0.000000</td>\n",
              "      <td>0.000000</td>\n",
              "      <td>0.000000</td>\n",
              "      <td>0.000000</td>\n",
              "      <td>0.000000</td>\n",
              "      <td>0.000000</td>\n",
              "      <td>0.000000</td>\n",
              "    </tr>\n",
              "    <tr>\n",
              "      <th>25%</th>\n",
              "      <td>0.000000</td>\n",
              "      <td>0.000000</td>\n",
              "      <td>0.000000</td>\n",
              "      <td>0.000000</td>\n",
              "      <td>0.000000</td>\n",
              "      <td>0.000000</td>\n",
              "      <td>0.000000</td>\n",
              "      <td>0.000000</td>\n",
              "      <td>0.000000</td>\n",
              "    </tr>\n",
              "    <tr>\n",
              "      <th>50%</th>\n",
              "      <td>0.000000</td>\n",
              "      <td>6.000000</td>\n",
              "      <td>0.000000</td>\n",
              "      <td>0.000000</td>\n",
              "      <td>0.000000</td>\n",
              "      <td>0.000000</td>\n",
              "      <td>0.000000</td>\n",
              "      <td>0.000000</td>\n",
              "      <td>0.000000</td>\n",
              "    </tr>\n",
              "    <tr>\n",
              "      <th>75%</th>\n",
              "      <td>0.000000</td>\n",
              "      <td>60.000000</td>\n",
              "      <td>0.000000</td>\n",
              "      <td>0.000000</td>\n",
              "      <td>0.000000</td>\n",
              "      <td>0.000000</td>\n",
              "      <td>0.000000</td>\n",
              "      <td>0.000000</td>\n",
              "      <td>0.000000</td>\n",
              "    </tr>\n",
              "    <tr>\n",
              "      <th>max</th>\n",
              "      <td>365.000000</td>\n",
              "      <td>365.000000</td>\n",
              "      <td>365.000000</td>\n",
              "      <td>365.000000</td>\n",
              "      <td>365.000000</td>\n",
              "      <td>365.000000</td>\n",
              "      <td>365.000000</td>\n",
              "      <td>365.000000</td>\n",
              "      <td>2549.000000</td>\n",
              "    </tr>\n",
              "  </tbody>\n",
              "</table>\n",
              "</div>\n",
              "      <button class=\"colab-df-convert\" onclick=\"convertToInteractive('df-18ea847a-9dff-4f95-a761-623b804977f1')\"\n",
              "              title=\"Convert this dataframe to an interactive table.\"\n",
              "              style=\"display:none;\">\n",
              "        \n",
              "  <svg xmlns=\"http://www.w3.org/2000/svg\" height=\"24px\"viewBox=\"0 0 24 24\"\n",
              "       width=\"24px\">\n",
              "    <path d=\"M0 0h24v24H0V0z\" fill=\"none\"/>\n",
              "    <path d=\"M18.56 5.44l.94 2.06.94-2.06 2.06-.94-2.06-.94-.94-2.06-.94 2.06-2.06.94zm-11 1L8.5 8.5l.94-2.06 2.06-.94-2.06-.94L8.5 2.5l-.94 2.06-2.06.94zm10 10l.94 2.06.94-2.06 2.06-.94-2.06-.94-.94-2.06-.94 2.06-2.06.94z\"/><path d=\"M17.41 7.96l-1.37-1.37c-.4-.4-.92-.59-1.43-.59-.52 0-1.04.2-1.43.59L10.3 9.45l-7.72 7.72c-.78.78-.78 2.05 0 2.83L4 21.41c.39.39.9.59 1.41.59.51 0 1.02-.2 1.41-.59l7.78-7.78 2.81-2.81c.8-.78.8-2.07 0-2.86zM5.41 20L4 18.59l7.72-7.72 1.47 1.35L5.41 20z\"/>\n",
              "  </svg>\n",
              "      </button>\n",
              "      \n",
              "  <style>\n",
              "    .colab-df-container {\n",
              "      display:flex;\n",
              "      flex-wrap:wrap;\n",
              "      gap: 12px;\n",
              "    }\n",
              "\n",
              "    .colab-df-convert {\n",
              "      background-color: #E8F0FE;\n",
              "      border: none;\n",
              "      border-radius: 50%;\n",
              "      cursor: pointer;\n",
              "      display: none;\n",
              "      fill: #1967D2;\n",
              "      height: 32px;\n",
              "      padding: 0 0 0 0;\n",
              "      width: 32px;\n",
              "    }\n",
              "\n",
              "    .colab-df-convert:hover {\n",
              "      background-color: #E2EBFA;\n",
              "      box-shadow: 0px 1px 2px rgba(60, 64, 67, 0.3), 0px 1px 3px 1px rgba(60, 64, 67, 0.15);\n",
              "      fill: #174EA6;\n",
              "    }\n",
              "\n",
              "    [theme=dark] .colab-df-convert {\n",
              "      background-color: #3B4455;\n",
              "      fill: #D2E3FC;\n",
              "    }\n",
              "\n",
              "    [theme=dark] .colab-df-convert:hover {\n",
              "      background-color: #434B5C;\n",
              "      box-shadow: 0px 1px 3px 1px rgba(0, 0, 0, 0.15);\n",
              "      filter: drop-shadow(0px 1px 2px rgba(0, 0, 0, 0.3));\n",
              "      fill: #FFFFFF;\n",
              "    }\n",
              "  </style>\n",
              "\n",
              "      <script>\n",
              "        const buttonEl =\n",
              "          document.querySelector('#df-18ea847a-9dff-4f95-a761-623b804977f1 button.colab-df-convert');\n",
              "        buttonEl.style.display =\n",
              "          google.colab.kernel.accessAllowed ? 'block' : 'none';\n",
              "\n",
              "        async function convertToInteractive(key) {\n",
              "          const element = document.querySelector('#df-18ea847a-9dff-4f95-a761-623b804977f1');\n",
              "          const dataTable =\n",
              "            await google.colab.kernel.invokeFunction('convertToInteractive',\n",
              "                                                     [key], {});\n",
              "          if (!dataTable) return;\n",
              "\n",
              "          const docLinkHtml = 'Like what you see? Visit the ' +\n",
              "            '<a target=\"_blank\" href=https://colab.research.google.com/notebooks/data_table.ipynb>data table notebook</a>'\n",
              "            + ' to learn more about interactive tables.';\n",
              "          element.innerHTML = '';\n",
              "          dataTable['output_type'] = 'display_data';\n",
              "          await google.colab.output.renderOutput(dataTable, element);\n",
              "          const docLink = document.createElement('div');\n",
              "          docLink.innerHTML = docLinkHtml;\n",
              "          element.appendChild(docLink);\n",
              "        }\n",
              "      </script>\n",
              "    </div>\n",
              "  </div>\n",
              "  "
            ]
          },
          "metadata": {},
          "execution_count": 18
        }
      ]
    },
    {
      "cell_type": "code",
      "source": [
        "#descriptive visualization\n",
        "import matplotlib.pyplot as plt\n",
        "import numpy as np\n",
        "\n",
        "my_data = df['IRSEX'].value_counts(normalize=True)*100\n",
        "my_labels = 'female', 'male'\n",
        "plt.pie(my_data, labels=my_labels, autopct='%1.1f%%')\n",
        "plt.title('Gender')\n",
        "plt.axis('equal')\n",
        "plt.show()\n"
      ],
      "metadata": {
        "colab": {
          "base_uri": "https://localhost:8080/",
          "height": 267
        },
        "id": "HqEugw3TapGP",
        "outputId": "e7746c03-595b-433c-af66-bbac7333ed01"
      },
      "execution_count": null,
      "outputs": [
        {
          "output_type": "display_data",
          "data": {
            "text/plain": [
              "<Figure size 432x288 with 1 Axes>"
            ],
            "image/png": "[encoded data removed]"
          },
          "metadata": {}
        }
      ]
    },
    {
      "cell_type": "code",
      "source": [
        "my_data = df['NEWRACE2'].value_counts(normalize=True)*100\n",
        "my_labels = 'white', 'hispanic', 'black', 'asian', 'more than one race', 'N.American', 'Hawaiian'\n",
        "plt.pie(my_data, labels=my_labels, autopct='%1.1f%%')\n",
        "plt.title('Race')\n",
        "plt.axis('equal')\n",
        "plt.show()\n"
      ],
      "metadata": {
        "colab": {
          "base_uri": "https://localhost:8080/",
          "height": 264
        },
        "id": "B-FlX99idJp-",
        "outputId": "445a9e5d-de9e-40ea-8363-a940f6b9e14d"
      },
      "execution_count": null,
      "outputs": [
        {
          "output_type": "display_data",
          "data": {
            "text/plain": [
              "<Figure size 432x288 with 1 Axes>"
            ],
            "image/png": "[encoded data removed]"
          },
          "metadata": {}
        }
      ]
    },
    {
      "cell_type": "code",
      "source": [
        "\n",
        "my_data = df['CATAGE'].value_counts(normalize=True)*100\n",
        "my_labels = '35 years or older', '18-25 years old', '12-17 years old', '26-34 years old'\n",
        "plt.pie(my_data, labels=my_labels, autopct='%1.1f%%')\n",
        "plt.title('age')\n",
        "plt.axis('equal')\n",
        "plt.show()"
      ],
      "metadata": {
        "colab": {
          "base_uri": "https://localhost:8080/",
          "height": 265
        },
        "id": "IjtGNzYDdsdR",
        "outputId": "62574ea1-2acd-4dbf-bd75-a2de5356c8ad"
      },
      "execution_count": null,
      "outputs": [
        {
          "output_type": "display_data",
          "data": {
            "text/plain": [
              "<Figure size 432x288 with 1 Axes>"
            ],
            "image/png": "[encoded data removed]"
          },
          "metadata": {}
        }
      ]
    },
    {
      "cell_type": "code",
      "source": [
        "pd.crosstab(df.CATAGE, df.ALCCAT ,normalize='index')\\\n",
        "  .round(4)*100"
      ],
      "metadata": {
        "colab": {
          "base_uri": "https://localhost:8080/",
          "height": 206
        },
        "outputId": "d39e750a-680e-4cc2-86e5-949acfcc0811",
        "id": "OxLyuSZmN0q4"
      },
      "execution_count": null,
      "outputs": [
        {
          "output_type": "execute_result",
          "data": {
            "text/plain": [
              "ALCCAT               0      1\n",
              "CATAGE                       \n",
              "12-17 years old  77.87  22.13\n",
              "18-25 years old  26.43  73.57\n",
              "26-34 years old  20.92  79.08\n",
              "35 or older      30.64  69.36"
            ],
            "text/html": [
              "\n",
              "  <div id=\"df-de4bc213-f4f6-4c0d-90c1-d315bbcc8af7\">\n",
              "    <div class=\"colab-df-container\">\n",
              "      <div>\n",
              "<style scoped>\n",
              "    .dataframe tbody tr th:only-of-type {\n",
              "        vertical-align: middle;\n",
              "    }\n",
              "\n",
              "    .dataframe tbody tr th {\n",
              "        vertical-align: top;\n",
              "    }\n",
              "\n",
              "    .dataframe thead th {\n",
              "        text-align: right;\n",
              "    }\n",
              "</style>\n",
              "<table border=\"1\" class=\"dataframe\">\n",
              "  <thead>\n",
              "    <tr style=\"text-align: right;\">\n",
              "      <th>ALCCAT</th>\n",
              "      <th>0</th>\n",
              "      <th>1</th>\n",
              "    </tr>\n",
              "    <tr>\n",
              "      <th>CATAGE</th>\n",
              "      <th></th>\n",
              "      <th></th>\n",
              "    </tr>\n",
              "  </thead>\n",
              "  <tbody>\n",
              "    <tr>\n",
              "      <th>12-17 years old</th>\n",
              "      <td>77.87</td>\n",
              "      <td>22.13</td>\n",
              "    </tr>\n",
              "    <tr>\n",
              "      <th>18-25 years old</th>\n",
              "      <td>26.43</td>\n",
              "      <td>73.57</td>\n",
              "    </tr>\n",
              "    <tr>\n",
              "      <th>26-34 years old</th>\n",
              "      <td>20.92</td>\n",
              "      <td>79.08</td>\n",
              "    </tr>\n",
              "    <tr>\n",
              "      <th>35 or older</th>\n",
              "      <td>30.64</td>\n",
              "      <td>69.36</td>\n",
              "    </tr>\n",
              "  </tbody>\n",
              "</table>\n",
              "</div>\n",
              "      <button class=\"colab-df-convert\" onclick=\"convertToInteractive('df-de4bc213-f4f6-4c0d-90c1-d315bbcc8af7')\"\n",
              "              title=\"Convert this dataframe to an interactive table.\"\n",
              "              style=\"display:none;\">\n",
              "        \n",
              "  <svg xmlns=\"http://www.w3.org/2000/svg\" height=\"24px\"viewBox=\"0 0 24 24\"\n",
              "       width=\"24px\">\n",
              "    <path d=\"M0 0h24v24H0V0z\" fill=\"none\"/>\n",
              "    <path d=\"M18.56 5.44l.94 2.06.94-2.06 2.06-.94-2.06-.94-.94-2.06-.94 2.06-2.06.94zm-11 1L8.5 8.5l.94-2.06 2.06-.94-2.06-.94L8.5 2.5l-.94 2.06-2.06.94zm10 10l.94 2.06.94-2.06 2.06-.94-2.06-.94-.94-2.06-.94 2.06-2.06.94z\"/><path d=\"M17.41 7.96l-1.37-1.37c-.4-.4-.92-.59-1.43-.59-.52 0-1.04.2-1.43.59L10.3 9.45l-7.72 7.72c-.78.78-.78 2.05 0 2.83L4 21.41c.39.39.9.59 1.41.59.51 0 1.02-.2 1.41-.59l7.78-7.78 2.81-2.81c.8-.78.8-2.07 0-2.86zM5.41 20L4 18.59l7.72-7.72 1.47 1.35L5.41 20z\"/>\n",
              "  </svg>\n",
              "      </button>\n",
              "      \n",
              "  <style>\n",
              "    .colab-df-container {\n",
              "      display:flex;\n",
              "      flex-wrap:wrap;\n",
              "      gap: 12px;\n",
              "    }\n",
              "\n",
              "    .colab-df-convert {\n",
              "      background-color: #E8F0FE;\n",
              "      border: none;\n",
              "      border-radius: 50%;\n",
              "      cursor: pointer;\n",
              "      display: none;\n",
              "      fill: #1967D2;\n",
              "      height: 32px;\n",
              "      padding: 0 0 0 0;\n",
              "      width: 32px;\n",
              "    }\n",
              "\n",
              "    .colab-df-convert:hover {\n",
              "      background-color: #E2EBFA;\n",
              "      box-shadow: 0px 1px 2px rgba(60, 64, 67, 0.3), 0px 1px 3px 1px rgba(60, 64, 67, 0.15);\n",
              "      fill: #174EA6;\n",
              "    }\n",
              "\n",
              "    [theme=dark] .colab-df-convert {\n",
              "      background-color: #3B4455;\n",
              "      fill: #D2E3FC;\n",
              "    }\n",
              "\n",
              "    [theme=dark] .colab-df-convert:hover {\n",
              "      background-color: #434B5C;\n",
              "      box-shadow: 0px 1px 3px 1px rgba(0, 0, 0, 0.15);\n",
              "      filter: drop-shadow(0px 1px 2px rgba(0, 0, 0, 0.3));\n",
              "      fill: #FFFFFF;\n",
              "    }\n",
              "  </style>\n",
              "\n",
              "      <script>\n",
              "        const buttonEl =\n",
              "          document.querySelector('#df-de4bc213-f4f6-4c0d-90c1-d315bbcc8af7 button.colab-df-convert');\n",
              "        buttonEl.style.display =\n",
              "          google.colab.kernel.accessAllowed ? 'block' : 'none';\n",
              "\n",
              "        async function convertToInteractive(key) {\n",
              "          const element = document.querySelector('#df-de4bc213-f4f6-4c0d-90c1-d315bbcc8af7');\n",
              "          const dataTable =\n",
              "            await google.colab.kernel.invokeFunction('convertToInteractive',\n",
              "                                                     [key], {});\n",
              "          if (!dataTable) return;\n",
              "\n",
              "          const docLinkHtml = 'Like what you see? Visit the ' +\n",
              "            '<a target=\"_blank\" href=https://colab.research.google.com/notebooks/data_table.ipynb>data table notebook</a>'\n",
              "            + ' to learn more about interactive tables.';\n",
              "          element.innerHTML = '';\n",
              "          dataTable['output_type'] = 'display_data';\n",
              "          await google.colab.output.renderOutput(dataTable, element);\n",
              "          const docLink = document.createElement('div');\n",
              "          docLink.innerHTML = docLinkHtml;\n",
              "          element.appendChild(docLink);\n",
              "        }\n",
              "      </script>\n",
              "    </div>\n",
              "  </div>\n",
              "  "
            ]
          },
          "metadata": {},
          "execution_count": 22
        }
      ]
    },
    {
      "cell_type": "code",
      "source": [
        "pd.crosstab(df.NEWRACE2, df.ALCCAT ,normalize='index')\\\n",
        "  .round(4)*100\n"
      ],
      "metadata": {
        "colab": {
          "base_uri": "https://localhost:8080/",
          "height": 300
        },
        "outputId": "ff882479-cae1-4c4d-c651-fba376ea9bb7",
        "id": "m9Cqm9PsN0q5"
      },
      "execution_count": null,
      "outputs": [
        {
          "output_type": "execute_result",
          "data": {
            "text/plain": [
              "ALCCAT                                      0      1\n",
              "NEWRACE2                                            \n",
              "Asian                                   49.79  50.21\n",
              "Black/African American                  47.29  52.71\n",
              "Hispanic                                46.54  53.46\n",
              "More than one race                      42.95  57.05\n",
              "Native American/Alaskan Native          46.96  53.04\n",
              "Native Hawaiian/Other Pacific Islander  50.61  49.39\n",
              "White                                   33.77  66.23"
            ],
            "text/html": [
              "\n",
              "  <div id=\"df-7068d68f-8095-4df0-affe-cca15e4a3b98\">\n",
              "    <div class=\"colab-df-container\">\n",
              "      <div>\n",
              "<style scoped>\n",
              "    .dataframe tbody tr th:only-of-type {\n",
              "        vertical-align: middle;\n",
              "    }\n",
              "\n",
              "    .dataframe tbody tr th {\n",
              "        vertical-align: top;\n",
              "    }\n",
              "\n",
              "    .dataframe thead th {\n",
              "        text-align: right;\n",
              "    }\n",
              "</style>\n",
              "<table border=\"1\" class=\"dataframe\">\n",
              "  <thead>\n",
              "    <tr style=\"text-align: right;\">\n",
              "      <th>ALCCAT</th>\n",
              "      <th>0</th>\n",
              "      <th>1</th>\n",
              "    </tr>\n",
              "    <tr>\n",
              "      <th>NEWRACE2</th>\n",
              "      <th></th>\n",
              "      <th></th>\n",
              "    </tr>\n",
              "  </thead>\n",
              "  <tbody>\n",
              "    <tr>\n",
              "      <th>Asian</th>\n",
              "      <td>49.79</td>\n",
              "      <td>50.21</td>\n",
              "    </tr>\n",
              "    <tr>\n",
              "      <th>Black/African American</th>\n",
              "      <td>47.29</td>\n",
              "      <td>52.71</td>\n",
              "    </tr>\n",
              "    <tr>\n",
              "      <th>Hispanic</th>\n",
              "      <td>46.54</td>\n",
              "      <td>53.46</td>\n",
              "    </tr>\n",
              "    <tr>\n",
              "      <th>More than one race</th>\n",
              "      <td>42.95</td>\n",
              "      <td>57.05</td>\n",
              "    </tr>\n",
              "    <tr>\n",
              "      <th>Native American/Alaskan Native</th>\n",
              "      <td>46.96</td>\n",
              "      <td>53.04</td>\n",
              "    </tr>\n",
              "    <tr>\n",
              "      <th>Native Hawaiian/Other Pacific Islander</th>\n",
              "      <td>50.61</td>\n",
              "      <td>49.39</td>\n",
              "    </tr>\n",
              "    <tr>\n",
              "      <th>White</th>\n",
              "      <td>33.77</td>\n",
              "      <td>66.23</td>\n",
              "    </tr>\n",
              "  </tbody>\n",
              "</table>\n",
              "</div>\n",
              "      <button class=\"colab-df-convert\" onclick=\"convertToInteractive('df-7068d68f-8095-4df0-affe-cca15e4a3b98')\"\n",
              "              title=\"Convert this dataframe to an interactive table.\"\n",
              "              style=\"display:none;\">\n",
              "        \n",
              "  <svg xmlns=\"http://www.w3.org/2000/svg\" height=\"24px\"viewBox=\"0 0 24 24\"\n",
              "       width=\"24px\">\n",
              "    <path d=\"M0 0h24v24H0V0z\" fill=\"none\"/>\n",
              "    <path d=\"M18.56 5.44l.94 2.06.94-2.06 2.06-.94-2.06-.94-.94-2.06-.94 2.06-2.06.94zm-11 1L8.5 8.5l.94-2.06 2.06-.94-2.06-.94L8.5 2.5l-.94 2.06-2.06.94zm10 10l.94 2.06.94-2.06 2.06-.94-2.06-.94-.94-2.06-.94 2.06-2.06.94z\"/><path d=\"M17.41 7.96l-1.37-1.37c-.4-.4-.92-.59-1.43-.59-.52 0-1.04.2-1.43.59L10.3 9.45l-7.72 7.72c-.78.78-.78 2.05 0 2.83L4 21.41c.39.39.9.59 1.41.59.51 0 1.02-.2 1.41-.59l7.78-7.78 2.81-2.81c.8-.78.8-2.07 0-2.86zM5.41 20L4 18.59l7.72-7.72 1.47 1.35L5.41 20z\"/>\n",
              "  </svg>\n",
              "      </button>\n",
              "      \n",
              "  <style>\n",
              "    .colab-df-container {\n",
              "      display:flex;\n",
              "      flex-wrap:wrap;\n",
              "      gap: 12px;\n",
              "    }\n",
              "\n",
              "    .colab-df-convert {\n",
              "      background-color: #E8F0FE;\n",
              "      border: none;\n",
              "      border-radius: 50%;\n",
              "      cursor: pointer;\n",
              "      display: none;\n",
              "      fill: #1967D2;\n",
              "      height: 32px;\n",
              "      padding: 0 0 0 0;\n",
              "      width: 32px;\n",
              "    }\n",
              "\n",
              "    .colab-df-convert:hover {\n",
              "      background-color: #E2EBFA;\n",
              "      box-shadow: 0px 1px 2px rgba(60, 64, 67, 0.3), 0px 1px 3px 1px rgba(60, 64, 67, 0.15);\n",
              "      fill: #174EA6;\n",
              "    }\n",
              "\n",
              "    [theme=dark] .colab-df-convert {\n",
              "      background-color: #3B4455;\n",
              "      fill: #D2E3FC;\n",
              "    }\n",
              "\n",
              "    [theme=dark] .colab-df-convert:hover {\n",
              "      background-color: #434B5C;\n",
              "      box-shadow: 0px 1px 3px 1px rgba(0, 0, 0, 0.15);\n",
              "      filter: drop-shadow(0px 1px 2px rgba(0, 0, 0, 0.3));\n",
              "      fill: #FFFFFF;\n",
              "    }\n",
              "  </style>\n",
              "\n",
              "      <script>\n",
              "        const buttonEl =\n",
              "          document.querySelector('#df-7068d68f-8095-4df0-affe-cca15e4a3b98 button.colab-df-convert');\n",
              "        buttonEl.style.display =\n",
              "          google.colab.kernel.accessAllowed ? 'block' : 'none';\n",
              "\n",
              "        async function convertToInteractive(key) {\n",
              "          const element = document.querySelector('#df-7068d68f-8095-4df0-affe-cca15e4a3b98');\n",
              "          const dataTable =\n",
              "            await google.colab.kernel.invokeFunction('convertToInteractive',\n",
              "                                                     [key], {});\n",
              "          if (!dataTable) return;\n",
              "\n",
              "          const docLinkHtml = 'Like what you see? Visit the ' +\n",
              "            '<a target=\"_blank\" href=https://colab.research.google.com/notebooks/data_table.ipynb>data table notebook</a>'\n",
              "            + ' to learn more about interactive tables.';\n",
              "          element.innerHTML = '';\n",
              "          dataTable['output_type'] = 'display_data';\n",
              "          await google.colab.output.renderOutput(dataTable, element);\n",
              "          const docLink = document.createElement('div');\n",
              "          docLink.innerHTML = docLinkHtml;\n",
              "          element.appendChild(docLink);\n",
              "        }\n",
              "      </script>\n",
              "    </div>\n",
              "  </div>\n",
              "  "
            ]
          },
          "metadata": {},
          "execution_count": 23
        }
      ]
    },
    {
      "cell_type": "code",
      "source": [
        "pd.crosstab(df.IRSEX, df.ALCCAT ,normalize='index')\\\n",
        "  .round(4)*100"
      ],
      "metadata": {
        "colab": {
          "base_uri": "https://localhost:8080/",
          "height": 143
        },
        "outputId": "2f6b924d-bc1c-4f9a-8a45-86746fc7f6f3",
        "id": "mHO7kJMtN0q5"
      },
      "execution_count": null,
      "outputs": [
        {
          "output_type": "execute_result",
          "data": {
            "text/plain": [
              "ALCCAT      0      1\n",
              "IRSEX               \n",
              "Female  39.01  60.99\n",
              "Male    39.28  60.72"
            ],
            "text/html": [
              "\n",
              "  <div id=\"df-75540e4c-9ced-4056-875d-50de1e513df9\">\n",
              "    <div class=\"colab-df-container\">\n",
              "      <div>\n",
              "<style scoped>\n",
              "    .dataframe tbody tr th:only-of-type {\n",
              "        vertical-align: middle;\n",
              "    }\n",
              "\n",
              "    .dataframe tbody tr th {\n",
              "        vertical-align: top;\n",
              "    }\n",
              "\n",
              "    .dataframe thead th {\n",
              "        text-align: right;\n",
              "    }\n",
              "</style>\n",
              "<table border=\"1\" class=\"dataframe\">\n",
              "  <thead>\n",
              "    <tr style=\"text-align: right;\">\n",
              "      <th>ALCCAT</th>\n",
              "      <th>0</th>\n",
              "      <th>1</th>\n",
              "    </tr>\n",
              "    <tr>\n",
              "      <th>IRSEX</th>\n",
              "      <th></th>\n",
              "      <th></th>\n",
              "    </tr>\n",
              "  </thead>\n",
              "  <tbody>\n",
              "    <tr>\n",
              "      <th>Female</th>\n",
              "      <td>39.01</td>\n",
              "      <td>60.99</td>\n",
              "    </tr>\n",
              "    <tr>\n",
              "      <th>Male</th>\n",
              "      <td>39.28</td>\n",
              "      <td>60.72</td>\n",
              "    </tr>\n",
              "  </tbody>\n",
              "</table>\n",
              "</div>\n",
              "      <button class=\"colab-df-convert\" onclick=\"convertToInteractive('df-75540e4c-9ced-4056-875d-50de1e513df9')\"\n",
              "              title=\"Convert this dataframe to an interactive table.\"\n",
              "              style=\"display:none;\">\n",
              "        \n",
              "  <svg xmlns=\"http://www.w3.org/2000/svg\" height=\"24px\"viewBox=\"0 0 24 24\"\n",
              "       width=\"24px\">\n",
              "    <path d=\"M0 0h24v24H0V0z\" fill=\"none\"/>\n",
              "    <path d=\"M18.56 5.44l.94 2.06.94-2.06 2.06-.94-2.06-.94-.94-2.06-.94 2.06-2.06.94zm-11 1L8.5 8.5l.94-2.06 2.06-.94-2.06-.94L8.5 2.5l-.94 2.06-2.06.94zm10 10l.94 2.06.94-2.06 2.06-.94-2.06-.94-.94-2.06-.94 2.06-2.06.94z\"/><path d=\"M17.41 7.96l-1.37-1.37c-.4-.4-.92-.59-1.43-.59-.52 0-1.04.2-1.43.59L10.3 9.45l-7.72 7.72c-.78.78-.78 2.05 0 2.83L4 21.41c.39.39.9.59 1.41.59.51 0 1.02-.2 1.41-.59l7.78-7.78 2.81-2.81c.8-.78.8-2.07 0-2.86zM5.41 20L4 18.59l7.72-7.72 1.47 1.35L5.41 20z\"/>\n",
              "  </svg>\n",
              "      </button>\n",
              "      \n",
              "  <style>\n",
              "    .colab-df-container {\n",
              "      display:flex;\n",
              "      flex-wrap:wrap;\n",
              "      gap: 12px;\n",
              "    }\n",
              "\n",
              "    .colab-df-convert {\n",
              "      background-color: #E8F0FE;\n",
              "      border: none;\n",
              "      border-radius: 50%;\n",
              "      cursor: pointer;\n",
              "      display: none;\n",
              "      fill: #1967D2;\n",
              "      height: 32px;\n",
              "      padding: 0 0 0 0;\n",
              "      width: 32px;\n",
              "    }\n",
              "\n",
              "    .colab-df-convert:hover {\n",
              "      background-color: #E2EBFA;\n",
              "      box-shadow: 0px 1px 2px rgba(60, 64, 67, 0.3), 0px 1px 3px 1px rgba(60, 64, 67, 0.15);\n",
              "      fill: #174EA6;\n",
              "    }\n",
              "\n",
              "    [theme=dark] .colab-df-convert {\n",
              "      background-color: #3B4455;\n",
              "      fill: #D2E3FC;\n",
              "    }\n",
              "\n",
              "    [theme=dark] .colab-df-convert:hover {\n",
              "      background-color: #434B5C;\n",
              "      box-shadow: 0px 1px 3px 1px rgba(0, 0, 0, 0.15);\n",
              "      filter: drop-shadow(0px 1px 2px rgba(0, 0, 0, 0.3));\n",
              "      fill: #FFFFFF;\n",
              "    }\n",
              "  </style>\n",
              "\n",
              "      <script>\n",
              "        const buttonEl =\n",
              "          document.querySelector('#df-75540e4c-9ced-4056-875d-50de1e513df9 button.colab-df-convert');\n",
              "        buttonEl.style.display =\n",
              "          google.colab.kernel.accessAllowed ? 'block' : 'none';\n",
              "\n",
              "        async function convertToInteractive(key) {\n",
              "          const element = document.querySelector('#df-75540e4c-9ced-4056-875d-50de1e513df9');\n",
              "          const dataTable =\n",
              "            await google.colab.kernel.invokeFunction('convertToInteractive',\n",
              "                                                     [key], {});\n",
              "          if (!dataTable) return;\n",
              "\n",
              "          const docLinkHtml = 'Like what you see? Visit the ' +\n",
              "            '<a target=\"_blank\" href=https://colab.research.google.com/notebooks/data_table.ipynb>data table notebook</a>'\n",
              "            + ' to learn more about interactive tables.';\n",
              "          element.innerHTML = '';\n",
              "          dataTable['output_type'] = 'display_data';\n",
              "          await google.colab.output.renderOutput(dataTable, element);\n",
              "          const docLink = document.createElement('div');\n",
              "          docLink.innerHTML = docLinkHtml;\n",
              "          element.appendChild(docLink);\n",
              "        }\n",
              "      </script>\n",
              "    </div>\n",
              "  </div>\n",
              "  "
            ]
          },
          "metadata": {},
          "execution_count": 24
        }
      ]
    },
    {
      "cell_type": "code",
      "source": [
        "pd.crosstab(df.NEWRACE2, df.ALCCAT ,normalize='index')\\\n",
        "  .round(4)*100\n"
      ],
      "metadata": {
        "colab": {
          "base_uri": "https://localhost:8080/",
          "height": 300
        },
        "id": "SVmvbbMXf_De",
        "outputId": "e21fcfa5-76a3-4f1c-e398-fd92c1233a4b"
      },
      "execution_count": null,
      "outputs": [
        {
          "output_type": "execute_result",
          "data": {
            "text/plain": [
              "ALCCAT                                      0      1\n",
              "NEWRACE2                                            \n",
              "Asian                                   49.79  50.21\n",
              "Black/African American                  47.29  52.71\n",
              "Hispanic                                46.54  53.46\n",
              "More than one race                      42.95  57.05\n",
              "Native American/Alaskan Native          46.96  53.04\n",
              "Native Hawaiian/Other Pacific Islander  50.61  49.39\n",
              "White                                   33.77  66.23"
            ],
            "text/html": [
              "\n",
              "  <div id=\"df-640a3663-ca72-4342-ba0f-e544716b92a7\">\n",
              "    <div class=\"colab-df-container\">\n",
              "      <div>\n",
              "<style scoped>\n",
              "    .dataframe tbody tr th:only-of-type {\n",
              "        vertical-align: middle;\n",
              "    }\n",
              "\n",
              "    .dataframe tbody tr th {\n",
              "        vertical-align: top;\n",
              "    }\n",
              "\n",
              "    .dataframe thead th {\n",
              "        text-align: right;\n",
              "    }\n",
              "</style>\n",
              "<table border=\"1\" class=\"dataframe\">\n",
              "  <thead>\n",
              "    <tr style=\"text-align: right;\">\n",
              "      <th>ALCCAT</th>\n",
              "      <th>0</th>\n",
              "      <th>1</th>\n",
              "    </tr>\n",
              "    <tr>\n",
              "      <th>NEWRACE2</th>\n",
              "      <th></th>\n",
              "      <th></th>\n",
              "    </tr>\n",
              "  </thead>\n",
              "  <tbody>\n",
              "    <tr>\n",
              "      <th>Asian</th>\n",
              "      <td>49.79</td>\n",
              "      <td>50.21</td>\n",
              "    </tr>\n",
              "    <tr>\n",
              "      <th>Black/African American</th>\n",
              "      <td>47.29</td>\n",
              "      <td>52.71</td>\n",
              "    </tr>\n",
              "    <tr>\n",
              "      <th>Hispanic</th>\n",
              "      <td>46.54</td>\n",
              "      <td>53.46</td>\n",
              "    </tr>\n",
              "    <tr>\n",
              "      <th>More than one race</th>\n",
              "      <td>42.95</td>\n",
              "      <td>57.05</td>\n",
              "    </tr>\n",
              "    <tr>\n",
              "      <th>Native American/Alaskan Native</th>\n",
              "      <td>46.96</td>\n",
              "      <td>53.04</td>\n",
              "    </tr>\n",
              "    <tr>\n",
              "      <th>Native Hawaiian/Other Pacific Islander</th>\n",
              "      <td>50.61</td>\n",
              "      <td>49.39</td>\n",
              "    </tr>\n",
              "    <tr>\n",
              "      <th>White</th>\n",
              "      <td>33.77</td>\n",
              "      <td>66.23</td>\n",
              "    </tr>\n",
              "  </tbody>\n",
              "</table>\n",
              "</div>\n",
              "      <button class=\"colab-df-convert\" onclick=\"convertToInteractive('df-640a3663-ca72-4342-ba0f-e544716b92a7')\"\n",
              "              title=\"Convert this dataframe to an interactive table.\"\n",
              "              style=\"display:none;\">\n",
              "        \n",
              "  <svg xmlns=\"http://www.w3.org/2000/svg\" height=\"24px\"viewBox=\"0 0 24 24\"\n",
              "       width=\"24px\">\n",
              "    <path d=\"M0 0h24v24H0V0z\" fill=\"none\"/>\n",
              "    <path d=\"M18.56 5.44l.94 2.06.94-2.06 2.06-.94-2.06-.94-.94-2.06-.94 2.06-2.06.94zm-11 1L8.5 8.5l.94-2.06 2.06-.94-2.06-.94L8.5 2.5l-.94 2.06-2.06.94zm10 10l.94 2.06.94-2.06 2.06-.94-2.06-.94-.94-2.06-.94 2.06-2.06.94z\"/><path d=\"M17.41 7.96l-1.37-1.37c-.4-.4-.92-.59-1.43-.59-.52 0-1.04.2-1.43.59L10.3 9.45l-7.72 7.72c-.78.78-.78 2.05 0 2.83L4 21.41c.39.39.9.59 1.41.59.51 0 1.02-.2 1.41-.59l7.78-7.78 2.81-2.81c.8-.78.8-2.07 0-2.86zM5.41 20L4 18.59l7.72-7.72 1.47 1.35L5.41 20z\"/>\n",
              "  </svg>\n",
              "      </button>\n",
              "      \n",
              "  <style>\n",
              "    .colab-df-container {\n",
              "      display:flex;\n",
              "      flex-wrap:wrap;\n",
              "      gap: 12px;\n",
              "    }\n",
              "\n",
              "    .colab-df-convert {\n",
              "      background-color: #E8F0FE;\n",
              "      border: none;\n",
              "      border-radius: 50%;\n",
              "      cursor: pointer;\n",
              "      display: none;\n",
              "      fill: #1967D2;\n",
              "      height: 32px;\n",
              "      padding: 0 0 0 0;\n",
              "      width: 32px;\n",
              "    }\n",
              "\n",
              "    .colab-df-convert:hover {\n",
              "      background-color: #E2EBFA;\n",
              "      box-shadow: 0px 1px 2px rgba(60, 64, 67, 0.3), 0px 1px 3px 1px rgba(60, 64, 67, 0.15);\n",
              "      fill: #174EA6;\n",
              "    }\n",
              "\n",
              "    [theme=dark] .colab-df-convert {\n",
              "      background-color: #3B4455;\n",
              "      fill: #D2E3FC;\n",
              "    }\n",
              "\n",
              "    [theme=dark] .colab-df-convert:hover {\n",
              "      background-color: #434B5C;\n",
              "      box-shadow: 0px 1px 3px 1px rgba(0, 0, 0, 0.15);\n",
              "      filter: drop-shadow(0px 1px 2px rgba(0, 0, 0, 0.3));\n",
              "      fill: #FFFFFF;\n",
              "    }\n",
              "  </style>\n",
              "\n",
              "      <script>\n",
              "        const buttonEl =\n",
              "          document.querySelector('#df-640a3663-ca72-4342-ba0f-e544716b92a7 button.colab-df-convert');\n",
              "        buttonEl.style.display =\n",
              "          google.colab.kernel.accessAllowed ? 'block' : 'none';\n",
              "\n",
              "        async function convertToInteractive(key) {\n",
              "          const element = document.querySelector('#df-640a3663-ca72-4342-ba0f-e544716b92a7');\n",
              "          const dataTable =\n",
              "            await google.colab.kernel.invokeFunction('convertToInteractive',\n",
              "                                                     [key], {});\n",
              "          if (!dataTable) return;\n",
              "\n",
              "          const docLinkHtml = 'Like what you see? Visit the ' +\n",
              "            '<a target=\"_blank\" href=https://colab.research.google.com/notebooks/data_table.ipynb>data table notebook</a>'\n",
              "            + ' to learn more about interactive tables.';\n",
              "          element.innerHTML = '';\n",
              "          dataTable['output_type'] = 'display_data';\n",
              "          await google.colab.output.renderOutput(dataTable, element);\n",
              "          const docLink = document.createElement('div');\n",
              "          docLink.innerHTML = docLinkHtml;\n",
              "          element.appendChild(docLink);\n",
              "        }\n",
              "      </script>\n",
              "    </div>\n",
              "  </div>\n",
              "  "
            ]
          },
          "metadata": {},
          "execution_count": 25
        }
      ]
    },
    {
      "cell_type": "code",
      "source": [
        "pd.crosstab(df.IRSEX, df.ALCCAT ,normalize='index')\\\n",
        "  .round(4)*100"
      ],
      "metadata": {
        "id": "7TvRmg3egHJb",
        "colab": {
          "base_uri": "https://localhost:8080/",
          "height": 143
        },
        "outputId": "678602f8-ee80-4e2a-ec81-bd1ee146e0ef"
      },
      "execution_count": null,
      "outputs": [
        {
          "output_type": "execute_result",
          "data": {
            "text/plain": [
              "ALCCAT      0      1\n",
              "IRSEX               \n",
              "Female  39.01  60.99\n",
              "Male    39.28  60.72"
            ],
            "text/html": [
              "\n",
              "  <div id=\"df-5f4fa496-ae58-479e-892b-fd32c10f1f28\">\n",
              "    <div class=\"colab-df-container\">\n",
              "      <div>\n",
              "<style scoped>\n",
              "    .dataframe tbody tr th:only-of-type {\n",
              "        vertical-align: middle;\n",
              "    }\n",
              "\n",
              "    .dataframe tbody tr th {\n",
              "        vertical-align: top;\n",
              "    }\n",
              "\n",
              "    .dataframe thead th {\n",
              "        text-align: right;\n",
              "    }\n",
              "</style>\n",
              "<table border=\"1\" class=\"dataframe\">\n",
              "  <thead>\n",
              "    <tr style=\"text-align: right;\">\n",
              "      <th>ALCCAT</th>\n",
              "      <th>0</th>\n",
              "      <th>1</th>\n",
              "    </tr>\n",
              "    <tr>\n",
              "      <th>IRSEX</th>\n",
              "      <th></th>\n",
              "      <th></th>\n",
              "    </tr>\n",
              "  </thead>\n",
              "  <tbody>\n",
              "    <tr>\n",
              "      <th>Female</th>\n",
              "      <td>39.01</td>\n",
              "      <td>60.99</td>\n",
              "    </tr>\n",
              "    <tr>\n",
              "      <th>Male</th>\n",
              "      <td>39.28</td>\n",
              "      <td>60.72</td>\n",
              "    </tr>\n",
              "  </tbody>\n",
              "</table>\n",
              "</div>\n",
              "      <button class=\"colab-df-convert\" onclick=\"convertToInteractive('df-5f4fa496-ae58-479e-892b-fd32c10f1f28')\"\n",
              "              title=\"Convert this dataframe to an interactive table.\"\n",
              "              style=\"display:none;\">\n",
              "        \n",
              "  <svg xmlns=\"http://www.w3.org/2000/svg\" height=\"24px\"viewBox=\"0 0 24 24\"\n",
              "       width=\"24px\">\n",
              "    <path d=\"M0 0h24v24H0V0z\" fill=\"none\"/>\n",
              "    <path d=\"M18.56 5.44l.94 2.06.94-2.06 2.06-.94-2.06-.94-.94-2.06-.94 2.06-2.06.94zm-11 1L8.5 8.5l.94-2.06 2.06-.94-2.06-.94L8.5 2.5l-.94 2.06-2.06.94zm10 10l.94 2.06.94-2.06 2.06-.94-2.06-.94-.94-2.06-.94 2.06-2.06.94z\"/><path d=\"M17.41 7.96l-1.37-1.37c-.4-.4-.92-.59-1.43-.59-.52 0-1.04.2-1.43.59L10.3 9.45l-7.72 7.72c-.78.78-.78 2.05 0 2.83L4 21.41c.39.39.9.59 1.41.59.51 0 1.02-.2 1.41-.59l7.78-7.78 2.81-2.81c.8-.78.8-2.07 0-2.86zM5.41 20L4 18.59l7.72-7.72 1.47 1.35L5.41 20z\"/>\n",
              "  </svg>\n",
              "      </button>\n",
              "      \n",
              "  <style>\n",
              "    .colab-df-container {\n",
              "      display:flex;\n",
              "      flex-wrap:wrap;\n",
              "      gap: 12px;\n",
              "    }\n",
              "\n",
              "    .colab-df-convert {\n",
              "      background-color: #E8F0FE;\n",
              "      border: none;\n",
              "      border-radius: 50%;\n",
              "      cursor: pointer;\n",
              "      display: none;\n",
              "      fill: #1967D2;\n",
              "      height: 32px;\n",
              "      padding: 0 0 0 0;\n",
              "      width: 32px;\n",
              "    }\n",
              "\n",
              "    .colab-df-convert:hover {\n",
              "      background-color: #E2EBFA;\n",
              "      box-shadow: 0px 1px 2px rgba(60, 64, 67, 0.3), 0px 1px 3px 1px rgba(60, 64, 67, 0.15);\n",
              "      fill: #174EA6;\n",
              "    }\n",
              "\n",
              "    [theme=dark] .colab-df-convert {\n",
              "      background-color: #3B4455;\n",
              "      fill: #D2E3FC;\n",
              "    }\n",
              "\n",
              "    [theme=dark] .colab-df-convert:hover {\n",
              "      background-color: #434B5C;\n",
              "      box-shadow: 0px 1px 3px 1px rgba(0, 0, 0, 0.15);\n",
              "      filter: drop-shadow(0px 1px 2px rgba(0, 0, 0, 0.3));\n",
              "      fill: #FFFFFF;\n",
              "    }\n",
              "  </style>\n",
              "\n",
              "      <script>\n",
              "        const buttonEl =\n",
              "          document.querySelector('#df-5f4fa496-ae58-479e-892b-fd32c10f1f28 button.colab-df-convert');\n",
              "        buttonEl.style.display =\n",
              "          google.colab.kernel.accessAllowed ? 'block' : 'none';\n",
              "\n",
              "        async function convertToInteractive(key) {\n",
              "          const element = document.querySelector('#df-5f4fa496-ae58-479e-892b-fd32c10f1f28');\n",
              "          const dataTable =\n",
              "            await google.colab.kernel.invokeFunction('convertToInteractive',\n",
              "                                                     [key], {});\n",
              "          if (!dataTable) return;\n",
              "\n",
              "          const docLinkHtml = 'Like what you see? Visit the ' +\n",
              "            '<a target=\"_blank\" href=https://colab.research.google.com/notebooks/data_table.ipynb>data table notebook</a>'\n",
              "            + ' to learn more about interactive tables.';\n",
              "          element.innerHTML = '';\n",
              "          dataTable['output_type'] = 'display_data';\n",
              "          await google.colab.output.renderOutput(dataTable, element);\n",
              "          const docLink = document.createElement('div');\n",
              "          docLink.innerHTML = docLinkHtml;\n",
              "          element.appendChild(docLink);\n",
              "        }\n",
              "      </script>\n",
              "    </div>\n",
              "  </div>\n",
              "  "
            ]
          },
          "metadata": {},
          "execution_count": 26
        }
      ]
    },
    {
      "cell_type": "code",
      "source": [
        "pd.crosstab(df.INCOME, df.ALCCAT ,normalize='index')\\\n",
        "  .round(4)*100"
      ],
      "metadata": {
        "id": "hs2MV1IXgaYL",
        "colab": {
          "base_uri": "https://localhost:8080/",
          "height": 206
        },
        "outputId": "741fb46a-3914-453c-dbd6-5b2471569b25"
      },
      "execution_count": null,
      "outputs": [
        {
          "output_type": "execute_result",
          "data": {
            "text/plain": [
              "ALCCAT                 0      1\n",
              "INCOME                         \n",
              "$20,000-$49,999    41.70  58.30\n",
              "$50,000-$74,999    36.52  63.48\n",
              "$75,000 or more    34.69  65.31\n",
              "Less than $20,000  45.83  54.17"
            ],
            "text/html": [
              "\n",
              "  <div id=\"df-ca2fab49-4a49-42b0-b3f3-3b9efe5e789b\">\n",
              "    <div class=\"colab-df-container\">\n",
              "      <div>\n",
              "<style scoped>\n",
              "    .dataframe tbody tr th:only-of-type {\n",
              "        vertical-align: middle;\n",
              "    }\n",
              "\n",
              "    .dataframe tbody tr th {\n",
              "        vertical-align: top;\n",
              "    }\n",
              "\n",
              "    .dataframe thead th {\n",
              "        text-align: right;\n",
              "    }\n",
              "</style>\n",
              "<table border=\"1\" class=\"dataframe\">\n",
              "  <thead>\n",
              "    <tr style=\"text-align: right;\">\n",
              "      <th>ALCCAT</th>\n",
              "      <th>0</th>\n",
              "      <th>1</th>\n",
              "    </tr>\n",
              "    <tr>\n",
              "      <th>INCOME</th>\n",
              "      <th></th>\n",
              "      <th></th>\n",
              "    </tr>\n",
              "  </thead>\n",
              "  <tbody>\n",
              "    <tr>\n",
              "      <th>$20,000-$49,999</th>\n",
              "      <td>41.70</td>\n",
              "      <td>58.30</td>\n",
              "    </tr>\n",
              "    <tr>\n",
              "      <th>$50,000-$74,999</th>\n",
              "      <td>36.52</td>\n",
              "      <td>63.48</td>\n",
              "    </tr>\n",
              "    <tr>\n",
              "      <th>$75,000 or more</th>\n",
              "      <td>34.69</td>\n",
              "      <td>65.31</td>\n",
              "    </tr>\n",
              "    <tr>\n",
              "      <th>Less than $20,000</th>\n",
              "      <td>45.83</td>\n",
              "      <td>54.17</td>\n",
              "    </tr>\n",
              "  </tbody>\n",
              "</table>\n",
              "</div>\n",
              "      <button class=\"colab-df-convert\" onclick=\"convertToInteractive('df-ca2fab49-4a49-42b0-b3f3-3b9efe5e789b')\"\n",
              "              title=\"Convert this dataframe to an interactive table.\"\n",
              "              style=\"display:none;\">\n",
              "        \n",
              "  <svg xmlns=\"http://www.w3.org/2000/svg\" height=\"24px\"viewBox=\"0 0 24 24\"\n",
              "       width=\"24px\">\n",
              "    <path d=\"M0 0h24v24H0V0z\" fill=\"none\"/>\n",
              "    <path d=\"M18.56 5.44l.94 2.06.94-2.06 2.06-.94-2.06-.94-.94-2.06-.94 2.06-2.06.94zm-11 1L8.5 8.5l.94-2.06 2.06-.94-2.06-.94L8.5 2.5l-.94 2.06-2.06.94zm10 10l.94 2.06.94-2.06 2.06-.94-2.06-.94-.94-2.06-.94 2.06-2.06.94z\"/><path d=\"M17.41 7.96l-1.37-1.37c-.4-.4-.92-.59-1.43-.59-.52 0-1.04.2-1.43.59L10.3 9.45l-7.72 7.72c-.78.78-.78 2.05 0 2.83L4 21.41c.39.39.9.59 1.41.59.51 0 1.02-.2 1.41-.59l7.78-7.78 2.81-2.81c.8-.78.8-2.07 0-2.86zM5.41 20L4 18.59l7.72-7.72 1.47 1.35L5.41 20z\"/>\n",
              "  </svg>\n",
              "      </button>\n",
              "      \n",
              "  <style>\n",
              "    .colab-df-container {\n",
              "      display:flex;\n",
              "      flex-wrap:wrap;\n",
              "      gap: 12px;\n",
              "    }\n",
              "\n",
              "    .colab-df-convert {\n",
              "      background-color: #E8F0FE;\n",
              "      border: none;\n",
              "      border-radius: 50%;\n",
              "      cursor: pointer;\n",
              "      display: none;\n",
              "      fill: #1967D2;\n",
              "      height: 32px;\n",
              "      padding: 0 0 0 0;\n",
              "      width: 32px;\n",
              "    }\n",
              "\n",
              "    .colab-df-convert:hover {\n",
              "      background-color: #E2EBFA;\n",
              "      box-shadow: 0px 1px 2px rgba(60, 64, 67, 0.3), 0px 1px 3px 1px rgba(60, 64, 67, 0.15);\n",
              "      fill: #174EA6;\n",
              "    }\n",
              "\n",
              "    [theme=dark] .colab-df-convert {\n",
              "      background-color: #3B4455;\n",
              "      fill: #D2E3FC;\n",
              "    }\n",
              "\n",
              "    [theme=dark] .colab-df-convert:hover {\n",
              "      background-color: #434B5C;\n",
              "      box-shadow: 0px 1px 3px 1px rgba(0, 0, 0, 0.15);\n",
              "      filter: drop-shadow(0px 1px 2px rgba(0, 0, 0, 0.3));\n",
              "      fill: #FFFFFF;\n",
              "    }\n",
              "  </style>\n",
              "\n",
              "      <script>\n",
              "        const buttonEl =\n",
              "          document.querySelector('#df-ca2fab49-4a49-42b0-b3f3-3b9efe5e789b button.colab-df-convert');\n",
              "        buttonEl.style.display =\n",
              "          google.colab.kernel.accessAllowed ? 'block' : 'none';\n",
              "\n",
              "        async function convertToInteractive(key) {\n",
              "          const element = document.querySelector('#df-ca2fab49-4a49-42b0-b3f3-3b9efe5e789b');\n",
              "          const dataTable =\n",
              "            await google.colab.kernel.invokeFunction('convertToInteractive',\n",
              "                                                     [key], {});\n",
              "          if (!dataTable) return;\n",
              "\n",
              "          const docLinkHtml = 'Like what you see? Visit the ' +\n",
              "            '<a target=\"_blank\" href=https://colab.research.google.com/notebooks/data_table.ipynb>data table notebook</a>'\n",
              "            + ' to learn more about interactive tables.';\n",
              "          element.innerHTML = '';\n",
              "          dataTable['output_type'] = 'display_data';\n",
              "          await google.colab.output.renderOutput(dataTable, element);\n",
              "          const docLink = document.createElement('div');\n",
              "          docLink.innerHTML = docLinkHtml;\n",
              "          element.appendChild(docLink);\n",
              "        }\n",
              "      </script>\n",
              "    </div>\n",
              "  </div>\n",
              "  "
            ]
          },
          "metadata": {},
          "execution_count": 27
        }
      ]
    },
    {
      "cell_type": "code",
      "source": [
        "pd.crosstab(df.IREDUHIGHST2, df.ALCCAT ,normalize='index')\\\n",
        "  .round(4)*100"
      ],
      "metadata": {
        "id": "VDYUCQetgftd",
        "colab": {
          "base_uri": "https://localhost:8080/",
          "height": 426
        },
        "outputId": "c2551439-0766-44c7-b722-e0f30dd740d4"
      },
      "execution_count": null,
      "outputs": [
        {
          "output_type": "execute_result",
          "data": {
            "text/plain": [
              "ALCCAT                                               0      1\n",
              "IREDUHIGHST2                                                 \n",
              "Associate's degree (AA, AS)                      21.86  78.14\n",
              "College graduate or higher                       17.68  82.32\n",
              "Eighth grade completed                           78.33  21.67\n",
              "Eleventh or Twelfth grade completed, no diploma  47.00  53.00\n",
              "Fifth grade or less grade completed              85.53  14.47\n",
              "High school diploma/GED                          34.08  65.92\n",
              "Ninth grade completed                            65.51  34.49\n",
              "Seventh grade completed                          89.32  10.68\n",
              "Sixth grade completed                            90.87   9.13\n",
              "Some college credit, but no degree               23.32  76.68\n",
              "Tenth grade completed                            56.77  43.23"
            ],
            "text/html": [
              "\n",
              "  <div id=\"df-029d993d-ff55-445f-a730-11b1606637b8\">\n",
              "    <div class=\"colab-df-container\">\n",
              "      <div>\n",
              "<style scoped>\n",
              "    .dataframe tbody tr th:only-of-type {\n",
              "        vertical-align: middle;\n",
              "    }\n",
              "\n",
              "    .dataframe tbody tr th {\n",
              "        vertical-align: top;\n",
              "    }\n",
              "\n",
              "    .dataframe thead th {\n",
              "        text-align: right;\n",
              "    }\n",
              "</style>\n",
              "<table border=\"1\" class=\"dataframe\">\n",
              "  <thead>\n",
              "    <tr style=\"text-align: right;\">\n",
              "      <th>ALCCAT</th>\n",
              "      <th>0</th>\n",
              "      <th>1</th>\n",
              "    </tr>\n",
              "    <tr>\n",
              "      <th>IREDUHIGHST2</th>\n",
              "      <th></th>\n",
              "      <th></th>\n",
              "    </tr>\n",
              "  </thead>\n",
              "  <tbody>\n",
              "    <tr>\n",
              "      <th>Associate's degree (AA, AS)</th>\n",
              "      <td>21.86</td>\n",
              "      <td>78.14</td>\n",
              "    </tr>\n",
              "    <tr>\n",
              "      <th>College graduate or higher</th>\n",
              "      <td>17.68</td>\n",
              "      <td>82.32</td>\n",
              "    </tr>\n",
              "    <tr>\n",
              "      <th>Eighth grade completed</th>\n",
              "      <td>78.33</td>\n",
              "      <td>21.67</td>\n",
              "    </tr>\n",
              "    <tr>\n",
              "      <th>Eleventh or Twelfth grade completed, no diploma</th>\n",
              "      <td>47.00</td>\n",
              "      <td>53.00</td>\n",
              "    </tr>\n",
              "    <tr>\n",
              "      <th>Fifth grade or less grade completed</th>\n",
              "      <td>85.53</td>\n",
              "      <td>14.47</td>\n",
              "    </tr>\n",
              "    <tr>\n",
              "      <th>High school diploma/GED</th>\n",
              "      <td>34.08</td>\n",
              "      <td>65.92</td>\n",
              "    </tr>\n",
              "    <tr>\n",
              "      <th>Ninth grade completed</th>\n",
              "      <td>65.51</td>\n",
              "      <td>34.49</td>\n",
              "    </tr>\n",
              "    <tr>\n",
              "      <th>Seventh grade completed</th>\n",
              "      <td>89.32</td>\n",
              "      <td>10.68</td>\n",
              "    </tr>\n",
              "    <tr>\n",
              "      <th>Sixth grade completed</th>\n",
              "      <td>90.87</td>\n",
              "      <td>9.13</td>\n",
              "    </tr>\n",
              "    <tr>\n",
              "      <th>Some college credit, but no degree</th>\n",
              "      <td>23.32</td>\n",
              "      <td>76.68</td>\n",
              "    </tr>\n",
              "    <tr>\n",
              "      <th>Tenth grade completed</th>\n",
              "      <td>56.77</td>\n",
              "      <td>43.23</td>\n",
              "    </tr>\n",
              "  </tbody>\n",
              "</table>\n",
              "</div>\n",
              "      <button class=\"colab-df-convert\" onclick=\"convertToInteractive('df-029d993d-ff55-445f-a730-11b1606637b8')\"\n",
              "              title=\"Convert this dataframe to an interactive table.\"\n",
              "              style=\"display:none;\">\n",
              "        \n",
              "  <svg xmlns=\"http://www.w3.org/2000/svg\" height=\"24px\"viewBox=\"0 0 24 24\"\n",
              "       width=\"24px\">\n",
              "    <path d=\"M0 0h24v24H0V0z\" fill=\"none\"/>\n",
              "    <path d=\"M18.56 5.44l.94 2.06.94-2.06 2.06-.94-2.06-.94-.94-2.06-.94 2.06-2.06.94zm-11 1L8.5 8.5l.94-2.06 2.06-.94-2.06-.94L8.5 2.5l-.94 2.06-2.06.94zm10 10l.94 2.06.94-2.06 2.06-.94-2.06-.94-.94-2.06-.94 2.06-2.06.94z\"/><path d=\"M17.41 7.96l-1.37-1.37c-.4-.4-.92-.59-1.43-.59-.52 0-1.04.2-1.43.59L10.3 9.45l-7.72 7.72c-.78.78-.78 2.05 0 2.83L4 21.41c.39.39.9.59 1.41.59.51 0 1.02-.2 1.41-.59l7.78-7.78 2.81-2.81c.8-.78.8-2.07 0-2.86zM5.41 20L4 18.59l7.72-7.72 1.47 1.35L5.41 20z\"/>\n",
              "  </svg>\n",
              "      </button>\n",
              "      \n",
              "  <style>\n",
              "    .colab-df-container {\n",
              "      display:flex;\n",
              "      flex-wrap:wrap;\n",
              "      gap: 12px;\n",
              "    }\n",
              "\n",
              "    .colab-df-convert {\n",
              "      background-color: #E8F0FE;\n",
              "      border: none;\n",
              "      border-radius: 50%;\n",
              "      cursor: pointer;\n",
              "      display: none;\n",
              "      fill: #1967D2;\n",
              "      height: 32px;\n",
              "      padding: 0 0 0 0;\n",
              "      width: 32px;\n",
              "    }\n",
              "\n",
              "    .colab-df-convert:hover {\n",
              "      background-color: #E2EBFA;\n",
              "      box-shadow: 0px 1px 2px rgba(60, 64, 67, 0.3), 0px 1px 3px 1px rgba(60, 64, 67, 0.15);\n",
              "      fill: #174EA6;\n",
              "    }\n",
              "\n",
              "    [theme=dark] .colab-df-convert {\n",
              "      background-color: #3B4455;\n",
              "      fill: #D2E3FC;\n",
              "    }\n",
              "\n",
              "    [theme=dark] .colab-df-convert:hover {\n",
              "      background-color: #434B5C;\n",
              "      box-shadow: 0px 1px 3px 1px rgba(0, 0, 0, 0.15);\n",
              "      filter: drop-shadow(0px 1px 2px rgba(0, 0, 0, 0.3));\n",
              "      fill: #FFFFFF;\n",
              "    }\n",
              "  </style>\n",
              "\n",
              "      <script>\n",
              "        const buttonEl =\n",
              "          document.querySelector('#df-029d993d-ff55-445f-a730-11b1606637b8 button.colab-df-convert');\n",
              "        buttonEl.style.display =\n",
              "          google.colab.kernel.accessAllowed ? 'block' : 'none';\n",
              "\n",
              "        async function convertToInteractive(key) {\n",
              "          const element = document.querySelector('#df-029d993d-ff55-445f-a730-11b1606637b8');\n",
              "          const dataTable =\n",
              "            await google.colab.kernel.invokeFunction('convertToInteractive',\n",
              "                                                     [key], {});\n",
              "          if (!dataTable) return;\n",
              "\n",
              "          const docLinkHtml = 'Like what you see? Visit the ' +\n",
              "            '<a target=\"_blank\" href=https://colab.research.google.com/notebooks/data_table.ipynb>data table notebook</a>'\n",
              "            + ' to learn more about interactive tables.';\n",
              "          element.innerHTML = '';\n",
              "          dataTable['output_type'] = 'display_data';\n",
              "          await google.colab.output.renderOutput(dataTable, element);\n",
              "          const docLink = document.createElement('div');\n",
              "          docLink.innerHTML = docLinkHtml;\n",
              "          element.appendChild(docLink);\n",
              "        }\n",
              "      </script>\n",
              "    </div>\n",
              "  </div>\n",
              "  "
            ]
          },
          "metadata": {},
          "execution_count": 28
        }
      ]
    },
    {
      "cell_type": "code",
      "source": [
        "pd.crosstab(df.CATAGE, df.ALLDGSCAT ,normalize='index')\\\n",
        "  .round(4)*100\n",
        "\n"
      ],
      "metadata": {
        "id": "IaI_hXq4g3pA",
        "colab": {
          "base_uri": "https://localhost:8080/",
          "height": 206
        },
        "outputId": "9be8feb9-9c79-4b7c-bd2f-f19ff20f4d8b"
      },
      "execution_count": null,
      "outputs": [
        {
          "output_type": "execute_result",
          "data": {
            "text/plain": [
              "ALLDGSCAT            0      1\n",
              "CATAGE                       \n",
              "12-17 years old  84.52  15.48\n",
              "18-25 years old  64.95  35.05\n",
              "26-34 years old  74.71  25.29\n",
              "35 or older      87.20  12.80"
            ],
            "text/html": [
              "\n",
              "  <div id=\"df-932ced3e-d1da-479a-8058-3a94101dea4b\">\n",
              "    <div class=\"colab-df-container\">\n",
              "      <div>\n",
              "<style scoped>\n",
              "    .dataframe tbody tr th:only-of-type {\n",
              "        vertical-align: middle;\n",
              "    }\n",
              "\n",
              "    .dataframe tbody tr th {\n",
              "        vertical-align: top;\n",
              "    }\n",
              "\n",
              "    .dataframe thead th {\n",
              "        text-align: right;\n",
              "    }\n",
              "</style>\n",
              "<table border=\"1\" class=\"dataframe\">\n",
              "  <thead>\n",
              "    <tr style=\"text-align: right;\">\n",
              "      <th>ALLDGSCAT</th>\n",
              "      <th>0</th>\n",
              "      <th>1</th>\n",
              "    </tr>\n",
              "    <tr>\n",
              "      <th>CATAGE</th>\n",
              "      <th></th>\n",
              "      <th></th>\n",
              "    </tr>\n",
              "  </thead>\n",
              "  <tbody>\n",
              "    <tr>\n",
              "      <th>12-17 years old</th>\n",
              "      <td>84.52</td>\n",
              "      <td>15.48</td>\n",
              "    </tr>\n",
              "    <tr>\n",
              "      <th>18-25 years old</th>\n",
              "      <td>64.95</td>\n",
              "      <td>35.05</td>\n",
              "    </tr>\n",
              "    <tr>\n",
              "      <th>26-34 years old</th>\n",
              "      <td>74.71</td>\n",
              "      <td>25.29</td>\n",
              "    </tr>\n",
              "    <tr>\n",
              "      <th>35 or older</th>\n",
              "      <td>87.20</td>\n",
              "      <td>12.80</td>\n",
              "    </tr>\n",
              "  </tbody>\n",
              "</table>\n",
              "</div>\n",
              "      <button class=\"colab-df-convert\" onclick=\"convertToInteractive('df-932ced3e-d1da-479a-8058-3a94101dea4b')\"\n",
              "              title=\"Convert this dataframe to an interactive table.\"\n",
              "              style=\"display:none;\">\n",
              "        \n",
              "  <svg xmlns=\"http://www.w3.org/2000/svg\" height=\"24px\"viewBox=\"0 0 24 24\"\n",
              "       width=\"24px\">\n",
              "    <path d=\"M0 0h24v24H0V0z\" fill=\"none\"/>\n",
              "    <path d=\"M18.56 5.44l.94 2.06.94-2.06 2.06-.94-2.06-.94-.94-2.06-.94 2.06-2.06.94zm-11 1L8.5 8.5l.94-2.06 2.06-.94-2.06-.94L8.5 2.5l-.94 2.06-2.06.94zm10 10l.94 2.06.94-2.06 2.06-.94-2.06-.94-.94-2.06-.94 2.06-2.06.94z\"/><path d=\"M17.41 7.96l-1.37-1.37c-.4-.4-.92-.59-1.43-.59-.52 0-1.04.2-1.43.59L10.3 9.45l-7.72 7.72c-.78.78-.78 2.05 0 2.83L4 21.41c.39.39.9.59 1.41.59.51 0 1.02-.2 1.41-.59l7.78-7.78 2.81-2.81c.8-.78.8-2.07 0-2.86zM5.41 20L4 18.59l7.72-7.72 1.47 1.35L5.41 20z\"/>\n",
              "  </svg>\n",
              "      </button>\n",
              "      \n",
              "  <style>\n",
              "    .colab-df-container {\n",
              "      display:flex;\n",
              "      flex-wrap:wrap;\n",
              "      gap: 12px;\n",
              "    }\n",
              "\n",
              "    .colab-df-convert {\n",
              "      background-color: #E8F0FE;\n",
              "      border: none;\n",
              "      border-radius: 50%;\n",
              "      cursor: pointer;\n",
              "      display: none;\n",
              "      fill: #1967D2;\n",
              "      height: 32px;\n",
              "      padding: 0 0 0 0;\n",
              "      width: 32px;\n",
              "    }\n",
              "\n",
              "    .colab-df-convert:hover {\n",
              "      background-color: #E2EBFA;\n",
              "      box-shadow: 0px 1px 2px rgba(60, 64, 67, 0.3), 0px 1px 3px 1px rgba(60, 64, 67, 0.15);\n",
              "      fill: #174EA6;\n",
              "    }\n",
              "\n",
              "    [theme=dark] .colab-df-convert {\n",
              "      background-color: #3B4455;\n",
              "      fill: #D2E3FC;\n",
              "    }\n",
              "\n",
              "    [theme=dark] .colab-df-convert:hover {\n",
              "      background-color: #434B5C;\n",
              "      box-shadow: 0px 1px 3px 1px rgba(0, 0, 0, 0.15);\n",
              "      filter: drop-shadow(0px 1px 2px rgba(0, 0, 0, 0.3));\n",
              "      fill: #FFFFFF;\n",
              "    }\n",
              "  </style>\n",
              "\n",
              "      <script>\n",
              "        const buttonEl =\n",
              "          document.querySelector('#df-932ced3e-d1da-479a-8058-3a94101dea4b button.colab-df-convert');\n",
              "        buttonEl.style.display =\n",
              "          google.colab.kernel.accessAllowed ? 'block' : 'none';\n",
              "\n",
              "        async function convertToInteractive(key) {\n",
              "          const element = document.querySelector('#df-932ced3e-d1da-479a-8058-3a94101dea4b');\n",
              "          const dataTable =\n",
              "            await google.colab.kernel.invokeFunction('convertToInteractive',\n",
              "                                                     [key], {});\n",
              "          if (!dataTable) return;\n",
              "\n",
              "          const docLinkHtml = 'Like what you see? Visit the ' +\n",
              "            '<a target=\"_blank\" href=https://colab.research.google.com/notebooks/data_table.ipynb>data table notebook</a>'\n",
              "            + ' to learn more about interactive tables.';\n",
              "          element.innerHTML = '';\n",
              "          dataTable['output_type'] = 'display_data';\n",
              "          await google.colab.output.renderOutput(dataTable, element);\n",
              "          const docLink = document.createElement('div');\n",
              "          docLink.innerHTML = docLinkHtml;\n",
              "          element.appendChild(docLink);\n",
              "        }\n",
              "      </script>\n",
              "    </div>\n",
              "  </div>\n",
              "  "
            ]
          },
          "metadata": {},
          "execution_count": 29
        }
      ]
    },
    {
      "cell_type": "code",
      "source": [
        "pd.crosstab(df.NEWRACE2, df.ALLDGSCAT ,normalize='index')\\\n",
        "  .round(4)*100\n"
      ],
      "metadata": {
        "id": "ZRnuSA9wg3pA",
        "colab": {
          "base_uri": "https://localhost:8080/",
          "height": 300
        },
        "outputId": "12b3bc44-17ec-42fb-f81b-c1b9ac99af4e"
      },
      "execution_count": null,
      "outputs": [
        {
          "output_type": "execute_result",
          "data": {
            "text/plain": [
              "ALLDGSCAT                                   0      1\n",
              "NEWRACE2                                            \n",
              "Asian                                   89.06  10.94\n",
              "Black/African American                  77.49  22.51\n",
              "Hispanic                                81.41  18.59\n",
              "More than one race                      70.89  29.11\n",
              "Native American/Alaskan Native          70.15  29.85\n",
              "Native Hawaiian/Other Pacific Islander  80.73  19.27\n",
              "White                                   78.70  21.30"
            ],
            "text/html": [
              "\n",
              "  <div id=\"df-dd85c155-91b6-406e-b188-2723e45c3824\">\n",
              "    <div class=\"colab-df-container\">\n",
              "      <div>\n",
              "<style scoped>\n",
              "    .dataframe tbody tr th:only-of-type {\n",
              "        vertical-align: middle;\n",
              "    }\n",
              "\n",
              "    .dataframe tbody tr th {\n",
              "        vertical-align: top;\n",
              "    }\n",
              "\n",
              "    .dataframe thead th {\n",
              "        text-align: right;\n",
              "    }\n",
              "</style>\n",
              "<table border=\"1\" class=\"dataframe\">\n",
              "  <thead>\n",
              "    <tr style=\"text-align: right;\">\n",
              "      <th>ALLDGSCAT</th>\n",
              "      <th>0</th>\n",
              "      <th>1</th>\n",
              "    </tr>\n",
              "    <tr>\n",
              "      <th>NEWRACE2</th>\n",
              "      <th></th>\n",
              "      <th></th>\n",
              "    </tr>\n",
              "  </thead>\n",
              "  <tbody>\n",
              "    <tr>\n",
              "      <th>Asian</th>\n",
              "      <td>89.06</td>\n",
              "      <td>10.94</td>\n",
              "    </tr>\n",
              "    <tr>\n",
              "      <th>Black/African American</th>\n",
              "      <td>77.49</td>\n",
              "      <td>22.51</td>\n",
              "    </tr>\n",
              "    <tr>\n",
              "      <th>Hispanic</th>\n",
              "      <td>81.41</td>\n",
              "      <td>18.59</td>\n",
              "    </tr>\n",
              "    <tr>\n",
              "      <th>More than one race</th>\n",
              "      <td>70.89</td>\n",
              "      <td>29.11</td>\n",
              "    </tr>\n",
              "    <tr>\n",
              "      <th>Native American/Alaskan Native</th>\n",
              "      <td>70.15</td>\n",
              "      <td>29.85</td>\n",
              "    </tr>\n",
              "    <tr>\n",
              "      <th>Native Hawaiian/Other Pacific Islander</th>\n",
              "      <td>80.73</td>\n",
              "      <td>19.27</td>\n",
              "    </tr>\n",
              "    <tr>\n",
              "      <th>White</th>\n",
              "      <td>78.70</td>\n",
              "      <td>21.30</td>\n",
              "    </tr>\n",
              "  </tbody>\n",
              "</table>\n",
              "</div>\n",
              "      <button class=\"colab-df-convert\" onclick=\"convertToInteractive('df-dd85c155-91b6-406e-b188-2723e45c3824')\"\n",
              "              title=\"Convert this dataframe to an interactive table.\"\n",
              "              style=\"display:none;\">\n",
              "        \n",
              "  <svg xmlns=\"http://www.w3.org/2000/svg\" height=\"24px\"viewBox=\"0 0 24 24\"\n",
              "       width=\"24px\">\n",
              "    <path d=\"M0 0h24v24H0V0z\" fill=\"none\"/>\n",
              "    <path d=\"M18.56 5.44l.94 2.06.94-2.06 2.06-.94-2.06-.94-.94-2.06-.94 2.06-2.06.94zm-11 1L8.5 8.5l.94-2.06 2.06-.94-2.06-.94L8.5 2.5l-.94 2.06-2.06.94zm10 10l.94 2.06.94-2.06 2.06-.94-2.06-.94-.94-2.06-.94 2.06-2.06.94z\"/><path d=\"M17.41 7.96l-1.37-1.37c-.4-.4-.92-.59-1.43-.59-.52 0-1.04.2-1.43.59L10.3 9.45l-7.72 7.72c-.78.78-.78 2.05 0 2.83L4 21.41c.39.39.9.59 1.41.59.51 0 1.02-.2 1.41-.59l7.78-7.78 2.81-2.81c.8-.78.8-2.07 0-2.86zM5.41 20L4 18.59l7.72-7.72 1.47 1.35L5.41 20z\"/>\n",
              "  </svg>\n",
              "      </button>\n",
              "      \n",
              "  <style>\n",
              "    .colab-df-container {\n",
              "      display:flex;\n",
              "      flex-wrap:wrap;\n",
              "      gap: 12px;\n",
              "    }\n",
              "\n",
              "    .colab-df-convert {\n",
              "      background-color: #E8F0FE;\n",
              "      border: none;\n",
              "      border-radius: 50%;\n",
              "      cursor: pointer;\n",
              "      display: none;\n",
              "      fill: #1967D2;\n",
              "      height: 32px;\n",
              "      padding: 0 0 0 0;\n",
              "      width: 32px;\n",
              "    }\n",
              "\n",
              "    .colab-df-convert:hover {\n",
              "      background-color: #E2EBFA;\n",
              "      box-shadow: 0px 1px 2px rgba(60, 64, 67, 0.3), 0px 1px 3px 1px rgba(60, 64, 67, 0.15);\n",
              "      fill: #174EA6;\n",
              "    }\n",
              "\n",
              "    [theme=dark] .colab-df-convert {\n",
              "      background-color: #3B4455;\n",
              "      fill: #D2E3FC;\n",
              "    }\n",
              "\n",
              "    [theme=dark] .colab-df-convert:hover {\n",
              "      background-color: #434B5C;\n",
              "      box-shadow: 0px 1px 3px 1px rgba(0, 0, 0, 0.15);\n",
              "      filter: drop-shadow(0px 1px 2px rgba(0, 0, 0, 0.3));\n",
              "      fill: #FFFFFF;\n",
              "    }\n",
              "  </style>\n",
              "\n",
              "      <script>\n",
              "        const buttonEl =\n",
              "          document.querySelector('#df-dd85c155-91b6-406e-b188-2723e45c3824 button.colab-df-convert');\n",
              "        buttonEl.style.display =\n",
              "          google.colab.kernel.accessAllowed ? 'block' : 'none';\n",
              "\n",
              "        async function convertToInteractive(key) {\n",
              "          const element = document.querySelector('#df-dd85c155-91b6-406e-b188-2723e45c3824');\n",
              "          const dataTable =\n",
              "            await google.colab.kernel.invokeFunction('convertToInteractive',\n",
              "                                                     [key], {});\n",
              "          if (!dataTable) return;\n",
              "\n",
              "          const docLinkHtml = 'Like what you see? Visit the ' +\n",
              "            '<a target=\"_blank\" href=https://colab.research.google.com/notebooks/data_table.ipynb>data table notebook</a>'\n",
              "            + ' to learn more about interactive tables.';\n",
              "          element.innerHTML = '';\n",
              "          dataTable['output_type'] = 'display_data';\n",
              "          await google.colab.output.renderOutput(dataTable, element);\n",
              "          const docLink = document.createElement('div');\n",
              "          docLink.innerHTML = docLinkHtml;\n",
              "          element.appendChild(docLink);\n",
              "        }\n",
              "      </script>\n",
              "    </div>\n",
              "  </div>\n",
              "  "
            ]
          },
          "metadata": {},
          "execution_count": 30
        }
      ]
    },
    {
      "cell_type": "code",
      "source": [
        "pd.crosstab(df.IRSEX, df.ALLDGSCAT ,normalize='index')\\\n",
        "  .round(4)*100"
      ],
      "metadata": {
        "id": "KkAaneTWg3pB",
        "colab": {
          "base_uri": "https://localhost:8080/",
          "height": 143
        },
        "outputId": "c1721b6e-a157-4d99-c4d9-ee1896fc00ff"
      },
      "execution_count": null,
      "outputs": [
        {
          "output_type": "execute_result",
          "data": {
            "text/plain": [
              "ALLDGSCAT      0      1\n",
              "IRSEX                  \n",
              "Female     81.14  18.86\n",
              "Male       76.88  23.12"
            ],
            "text/html": [
              "\n",
              "  <div id=\"df-fa9cbeee-7ec8-4a5f-b5ac-17060cc5773a\">\n",
              "    <div class=\"colab-df-container\">\n",
              "      <div>\n",
              "<style scoped>\n",
              "    .dataframe tbody tr th:only-of-type {\n",
              "        vertical-align: middle;\n",
              "    }\n",
              "\n",
              "    .dataframe tbody tr th {\n",
              "        vertical-align: top;\n",
              "    }\n",
              "\n",
              "    .dataframe thead th {\n",
              "        text-align: right;\n",
              "    }\n",
              "</style>\n",
              "<table border=\"1\" class=\"dataframe\">\n",
              "  <thead>\n",
              "    <tr style=\"text-align: right;\">\n",
              "      <th>ALLDGSCAT</th>\n",
              "      <th>0</th>\n",
              "      <th>1</th>\n",
              "    </tr>\n",
              "    <tr>\n",
              "      <th>IRSEX</th>\n",
              "      <th></th>\n",
              "      <th></th>\n",
              "    </tr>\n",
              "  </thead>\n",
              "  <tbody>\n",
              "    <tr>\n",
              "      <th>Female</th>\n",
              "      <td>81.14</td>\n",
              "      <td>18.86</td>\n",
              "    </tr>\n",
              "    <tr>\n",
              "      <th>Male</th>\n",
              "      <td>76.88</td>\n",
              "      <td>23.12</td>\n",
              "    </tr>\n",
              "  </tbody>\n",
              "</table>\n",
              "</div>\n",
              "      <button class=\"colab-df-convert\" onclick=\"convertToInteractive('df-fa9cbeee-7ec8-4a5f-b5ac-17060cc5773a')\"\n",
              "              title=\"Convert this dataframe to an interactive table.\"\n",
              "              style=\"display:none;\">\n",
              "        \n",
              "  <svg xmlns=\"http://www.w3.org/2000/svg\" height=\"24px\"viewBox=\"0 0 24 24\"\n",
              "       width=\"24px\">\n",
              "    <path d=\"M0 0h24v24H0V0z\" fill=\"none\"/>\n",
              "    <path d=\"M18.56 5.44l.94 2.06.94-2.06 2.06-.94-2.06-.94-.94-2.06-.94 2.06-2.06.94zm-11 1L8.5 8.5l.94-2.06 2.06-.94-2.06-.94L8.5 2.5l-.94 2.06-2.06.94zm10 10l.94 2.06.94-2.06 2.06-.94-2.06-.94-.94-2.06-.94 2.06-2.06.94z\"/><path d=\"M17.41 7.96l-1.37-1.37c-.4-.4-.92-.59-1.43-.59-.52 0-1.04.2-1.43.59L10.3 9.45l-7.72 7.72c-.78.78-.78 2.05 0 2.83L4 21.41c.39.39.9.59 1.41.59.51 0 1.02-.2 1.41-.59l7.78-7.78 2.81-2.81c.8-.78.8-2.07 0-2.86zM5.41 20L4 18.59l7.72-7.72 1.47 1.35L5.41 20z\"/>\n",
              "  </svg>\n",
              "      </button>\n",
              "      \n",
              "  <style>\n",
              "    .colab-df-container {\n",
              "      display:flex;\n",
              "      flex-wrap:wrap;\n",
              "      gap: 12px;\n",
              "    }\n",
              "\n",
              "    .colab-df-convert {\n",
              "      background-color: #E8F0FE;\n",
              "      border: none;\n",
              "      border-radius: 50%;\n",
              "      cursor: pointer;\n",
              "      display: none;\n",
              "      fill: #1967D2;\n",
              "      height: 32px;\n",
              "      padding: 0 0 0 0;\n",
              "      width: 32px;\n",
              "    }\n",
              "\n",
              "    .colab-df-convert:hover {\n",
              "      background-color: #E2EBFA;\n",
              "      box-shadow: 0px 1px 2px rgba(60, 64, 67, 0.3), 0px 1px 3px 1px rgba(60, 64, 67, 0.15);\n",
              "      fill: #174EA6;\n",
              "    }\n",
              "\n",
              "    [theme=dark] .colab-df-convert {\n",
              "      background-color: #3B4455;\n",
              "      fill: #D2E3FC;\n",
              "    }\n",
              "\n",
              "    [theme=dark] .colab-df-convert:hover {\n",
              "      background-color: #434B5C;\n",
              "      box-shadow: 0px 1px 3px 1px rgba(0, 0, 0, 0.15);\n",
              "      filter: drop-shadow(0px 1px 2px rgba(0, 0, 0, 0.3));\n",
              "      fill: #FFFFFF;\n",
              "    }\n",
              "  </style>\n",
              "\n",
              "      <script>\n",
              "        const buttonEl =\n",
              "          document.querySelector('#df-fa9cbeee-7ec8-4a5f-b5ac-17060cc5773a button.colab-df-convert');\n",
              "        buttonEl.style.display =\n",
              "          google.colab.kernel.accessAllowed ? 'block' : 'none';\n",
              "\n",
              "        async function convertToInteractive(key) {\n",
              "          const element = document.querySelector('#df-fa9cbeee-7ec8-4a5f-b5ac-17060cc5773a');\n",
              "          const dataTable =\n",
              "            await google.colab.kernel.invokeFunction('convertToInteractive',\n",
              "                                                     [key], {});\n",
              "          if (!dataTable) return;\n",
              "\n",
              "          const docLinkHtml = 'Like what you see? Visit the ' +\n",
              "            '<a target=\"_blank\" href=https://colab.research.google.com/notebooks/data_table.ipynb>data table notebook</a>'\n",
              "            + ' to learn more about interactive tables.';\n",
              "          element.innerHTML = '';\n",
              "          dataTable['output_type'] = 'display_data';\n",
              "          await google.colab.output.renderOutput(dataTable, element);\n",
              "          const docLink = document.createElement('div');\n",
              "          docLink.innerHTML = docLinkHtml;\n",
              "          element.appendChild(docLink);\n",
              "        }\n",
              "      </script>\n",
              "    </div>\n",
              "  </div>\n",
              "  "
            ]
          },
          "metadata": {},
          "execution_count": 31
        }
      ]
    },
    {
      "cell_type": "code",
      "source": [
        "pd.crosstab(df.INCOME, df.ALLDGSCAT ,normalize='index')\\\n",
        "  .round(4)*100"
      ],
      "metadata": {
        "id": "I0zVpn4Tg3pB",
        "colab": {
          "base_uri": "https://localhost:8080/",
          "height": 206
        },
        "outputId": "f50d8d3c-e5d2-4662-c3ba-7d7120503d4e"
      },
      "execution_count": null,
      "outputs": [
        {
          "output_type": "execute_result",
          "data": {
            "text/plain": [
              "ALLDGSCAT              0      1\n",
              "INCOME                         \n",
              "$20,000-$49,999    78.02  21.98\n",
              "$50,000-$74,999    80.46  19.54\n",
              "$75,000 or more    82.44  17.56\n",
              "Less than $20,000  73.35  26.65"
            ],
            "text/html": [
              "\n",
              "  <div id=\"df-a7c629b2-cf47-42f7-b5e9-9d0feddf61a5\">\n",
              "    <div class=\"colab-df-container\">\n",
              "      <div>\n",
              "<style scoped>\n",
              "    .dataframe tbody tr th:only-of-type {\n",
              "        vertical-align: middle;\n",
              "    }\n",
              "\n",
              "    .dataframe tbody tr th {\n",
              "        vertical-align: top;\n",
              "    }\n",
              "\n",
              "    .dataframe thead th {\n",
              "        text-align: right;\n",
              "    }\n",
              "</style>\n",
              "<table border=\"1\" class=\"dataframe\">\n",
              "  <thead>\n",
              "    <tr style=\"text-align: right;\">\n",
              "      <th>ALLDGSCAT</th>\n",
              "      <th>0</th>\n",
              "      <th>1</th>\n",
              "    </tr>\n",
              "    <tr>\n",
              "      <th>INCOME</th>\n",
              "      <th></th>\n",
              "      <th></th>\n",
              "    </tr>\n",
              "  </thead>\n",
              "  <tbody>\n",
              "    <tr>\n",
              "      <th>$20,000-$49,999</th>\n",
              "      <td>78.02</td>\n",
              "      <td>21.98</td>\n",
              "    </tr>\n",
              "    <tr>\n",
              "      <th>$50,000-$74,999</th>\n",
              "      <td>80.46</td>\n",
              "      <td>19.54</td>\n",
              "    </tr>\n",
              "    <tr>\n",
              "      <th>$75,000 or more</th>\n",
              "      <td>82.44</td>\n",
              "      <td>17.56</td>\n",
              "    </tr>\n",
              "    <tr>\n",
              "      <th>Less than $20,000</th>\n",
              "      <td>73.35</td>\n",
              "      <td>26.65</td>\n",
              "    </tr>\n",
              "  </tbody>\n",
              "</table>\n",
              "</div>\n",
              "      <button class=\"colab-df-convert\" onclick=\"convertToInteractive('df-a7c629b2-cf47-42f7-b5e9-9d0feddf61a5')\"\n",
              "              title=\"Convert this dataframe to an interactive table.\"\n",
              "              style=\"display:none;\">\n",
              "        \n",
              "  <svg xmlns=\"http://www.w3.org/2000/svg\" height=\"24px\"viewBox=\"0 0 24 24\"\n",
              "       width=\"24px\">\n",
              "    <path d=\"M0 0h24v24H0V0z\" fill=\"none\"/>\n",
              "    <path d=\"M18.56 5.44l.94 2.06.94-2.06 2.06-.94-2.06-.94-.94-2.06-.94 2.06-2.06.94zm-11 1L8.5 8.5l.94-2.06 2.06-.94-2.06-.94L8.5 2.5l-.94 2.06-2.06.94zm10 10l.94 2.06.94-2.06 2.06-.94-2.06-.94-.94-2.06-.94 2.06-2.06.94z\"/><path d=\"M17.41 7.96l-1.37-1.37c-.4-.4-.92-.59-1.43-.59-.52 0-1.04.2-1.43.59L10.3 9.45l-7.72 7.72c-.78.78-.78 2.05 0 2.83L4 21.41c.39.39.9.59 1.41.59.51 0 1.02-.2 1.41-.59l7.78-7.78 2.81-2.81c.8-.78.8-2.07 0-2.86zM5.41 20L4 18.59l7.72-7.72 1.47 1.35L5.41 20z\"/>\n",
              "  </svg>\n",
              "      </button>\n",
              "      \n",
              "  <style>\n",
              "    .colab-df-container {\n",
              "      display:flex;\n",
              "      flex-wrap:wrap;\n",
              "      gap: 12px;\n",
              "    }\n",
              "\n",
              "    .colab-df-convert {\n",
              "      background-color: #E8F0FE;\n",
              "      border: none;\n",
              "      border-radius: 50%;\n",
              "      cursor: pointer;\n",
              "      display: none;\n",
              "      fill: #1967D2;\n",
              "      height: 32px;\n",
              "      padding: 0 0 0 0;\n",
              "      width: 32px;\n",
              "    }\n",
              "\n",
              "    .colab-df-convert:hover {\n",
              "      background-color: #E2EBFA;\n",
              "      box-shadow: 0px 1px 2px rgba(60, 64, 67, 0.3), 0px 1px 3px 1px rgba(60, 64, 67, 0.15);\n",
              "      fill: #174EA6;\n",
              "    }\n",
              "\n",
              "    [theme=dark] .colab-df-convert {\n",
              "      background-color: #3B4455;\n",
              "      fill: #D2E3FC;\n",
              "    }\n",
              "\n",
              "    [theme=dark] .colab-df-convert:hover {\n",
              "      background-color: #434B5C;\n",
              "      box-shadow: 0px 1px 3px 1px rgba(0, 0, 0, 0.15);\n",
              "      filter: drop-shadow(0px 1px 2px rgba(0, 0, 0, 0.3));\n",
              "      fill: #FFFFFF;\n",
              "    }\n",
              "  </style>\n",
              "\n",
              "      <script>\n",
              "        const buttonEl =\n",
              "          document.querySelector('#df-a7c629b2-cf47-42f7-b5e9-9d0feddf61a5 button.colab-df-convert');\n",
              "        buttonEl.style.display =\n",
              "          google.colab.kernel.accessAllowed ? 'block' : 'none';\n",
              "\n",
              "        async function convertToInteractive(key) {\n",
              "          const element = document.querySelector('#df-a7c629b2-cf47-42f7-b5e9-9d0feddf61a5');\n",
              "          const dataTable =\n",
              "            await google.colab.kernel.invokeFunction('convertToInteractive',\n",
              "                                                     [key], {});\n",
              "          if (!dataTable) return;\n",
              "\n",
              "          const docLinkHtml = 'Like what you see? Visit the ' +\n",
              "            '<a target=\"_blank\" href=https://colab.research.google.com/notebooks/data_table.ipynb>data table notebook</a>'\n",
              "            + ' to learn more about interactive tables.';\n",
              "          element.innerHTML = '';\n",
              "          dataTable['output_type'] = 'display_data';\n",
              "          await google.colab.output.renderOutput(dataTable, element);\n",
              "          const docLink = document.createElement('div');\n",
              "          docLink.innerHTML = docLinkHtml;\n",
              "          element.appendChild(docLink);\n",
              "        }\n",
              "      </script>\n",
              "    </div>\n",
              "  </div>\n",
              "  "
            ]
          },
          "metadata": {},
          "execution_count": 32
        }
      ]
    },
    {
      "cell_type": "code",
      "source": [
        "pd.crosstab(df.IREDUHIGHST2, df.ALLDGSCAT ,normalize='index')\\\n",
        "  .round(4)*100"
      ],
      "metadata": {
        "id": "emky5WReg3pB",
        "colab": {
          "base_uri": "https://localhost:8080/",
          "height": 426
        },
        "outputId": "08bdc730-c8df-4ae3-cc45-16896c8f3470"
      },
      "execution_count": null,
      "outputs": [
        {
          "output_type": "execute_result",
          "data": {
            "text/plain": [
              "ALLDGSCAT                                            0      1\n",
              "IREDUHIGHST2                                                 \n",
              "Associate's degree (AA, AS)                      80.12  19.88\n",
              "College graduate or higher                       81.88  18.12\n",
              "Eighth grade completed                           86.81  13.19\n",
              "Eleventh or Twelfth grade completed, no diploma  72.07  27.93\n",
              "Fifth grade or less grade completed              94.72   5.28\n",
              "High school diploma/GED                          76.22  23.78\n",
              "Ninth grade completed                            80.61  19.39\n",
              "Seventh grade completed                          92.76   7.24\n",
              "Sixth grade completed                            95.53   4.47\n",
              "Some college credit, but no degree               71.99  28.01\n",
              "Tenth grade completed                            74.94  25.06"
            ],
            "text/html": [
              "\n",
              "  <div id=\"df-0b132da0-041a-44e2-99cb-44bff3ed987a\">\n",
              "    <div class=\"colab-df-container\">\n",
              "      <div>\n",
              "<style scoped>\n",
              "    .dataframe tbody tr th:only-of-type {\n",
              "        vertical-align: middle;\n",
              "    }\n",
              "\n",
              "    .dataframe tbody tr th {\n",
              "        vertical-align: top;\n",
              "    }\n",
              "\n",
              "    .dataframe thead th {\n",
              "        text-align: right;\n",
              "    }\n",
              "</style>\n",
              "<table border=\"1\" class=\"dataframe\">\n",
              "  <thead>\n",
              "    <tr style=\"text-align: right;\">\n",
              "      <th>ALLDGSCAT</th>\n",
              "      <th>0</th>\n",
              "      <th>1</th>\n",
              "    </tr>\n",
              "    <tr>\n",
              "      <th>IREDUHIGHST2</th>\n",
              "      <th></th>\n",
              "      <th></th>\n",
              "    </tr>\n",
              "  </thead>\n",
              "  <tbody>\n",
              "    <tr>\n",
              "      <th>Associate's degree (AA, AS)</th>\n",
              "      <td>80.12</td>\n",
              "      <td>19.88</td>\n",
              "    </tr>\n",
              "    <tr>\n",
              "      <th>College graduate or higher</th>\n",
              "      <td>81.88</td>\n",
              "      <td>18.12</td>\n",
              "    </tr>\n",
              "    <tr>\n",
              "      <th>Eighth grade completed</th>\n",
              "      <td>86.81</td>\n",
              "      <td>13.19</td>\n",
              "    </tr>\n",
              "    <tr>\n",
              "      <th>Eleventh or Twelfth grade completed, no diploma</th>\n",
              "      <td>72.07</td>\n",
              "      <td>27.93</td>\n",
              "    </tr>\n",
              "    <tr>\n",
              "      <th>Fifth grade or less grade completed</th>\n",
              "      <td>94.72</td>\n",
              "      <td>5.28</td>\n",
              "    </tr>\n",
              "    <tr>\n",
              "      <th>High school diploma/GED</th>\n",
              "      <td>76.22</td>\n",
              "      <td>23.78</td>\n",
              "    </tr>\n",
              "    <tr>\n",
              "      <th>Ninth grade completed</th>\n",
              "      <td>80.61</td>\n",
              "      <td>19.39</td>\n",
              "    </tr>\n",
              "    <tr>\n",
              "      <th>Seventh grade completed</th>\n",
              "      <td>92.76</td>\n",
              "      <td>7.24</td>\n",
              "    </tr>\n",
              "    <tr>\n",
              "      <th>Sixth grade completed</th>\n",
              "      <td>95.53</td>\n",
              "      <td>4.47</td>\n",
              "    </tr>\n",
              "    <tr>\n",
              "      <th>Some college credit, but no degree</th>\n",
              "      <td>71.99</td>\n",
              "      <td>28.01</td>\n",
              "    </tr>\n",
              "    <tr>\n",
              "      <th>Tenth grade completed</th>\n",
              "      <td>74.94</td>\n",
              "      <td>25.06</td>\n",
              "    </tr>\n",
              "  </tbody>\n",
              "</table>\n",
              "</div>\n",
              "      <button class=\"colab-df-convert\" onclick=\"convertToInteractive('df-0b132da0-041a-44e2-99cb-44bff3ed987a')\"\n",
              "              title=\"Convert this dataframe to an interactive table.\"\n",
              "              style=\"display:none;\">\n",
              "        \n",
              "  <svg xmlns=\"http://www.w3.org/2000/svg\" height=\"24px\"viewBox=\"0 0 24 24\"\n",
              "       width=\"24px\">\n",
              "    <path d=\"M0 0h24v24H0V0z\" fill=\"none\"/>\n",
              "    <path d=\"M18.56 5.44l.94 2.06.94-2.06 2.06-.94-2.06-.94-.94-2.06-.94 2.06-2.06.94zm-11 1L8.5 8.5l.94-2.06 2.06-.94-2.06-.94L8.5 2.5l-.94 2.06-2.06.94zm10 10l.94 2.06.94-2.06 2.06-.94-2.06-.94-.94-2.06-.94 2.06-2.06.94z\"/><path d=\"M17.41 7.96l-1.37-1.37c-.4-.4-.92-.59-1.43-.59-.52 0-1.04.2-1.43.59L10.3 9.45l-7.72 7.72c-.78.78-.78 2.05 0 2.83L4 21.41c.39.39.9.59 1.41.59.51 0 1.02-.2 1.41-.59l7.78-7.78 2.81-2.81c.8-.78.8-2.07 0-2.86zM5.41 20L4 18.59l7.72-7.72 1.47 1.35L5.41 20z\"/>\n",
              "  </svg>\n",
              "      </button>\n",
              "      \n",
              "  <style>\n",
              "    .colab-df-container {\n",
              "      display:flex;\n",
              "      flex-wrap:wrap;\n",
              "      gap: 12px;\n",
              "    }\n",
              "\n",
              "    .colab-df-convert {\n",
              "      background-color: #E8F0FE;\n",
              "      border: none;\n",
              "      border-radius: 50%;\n",
              "      cursor: pointer;\n",
              "      display: none;\n",
              "      fill: #1967D2;\n",
              "      height: 32px;\n",
              "      padding: 0 0 0 0;\n",
              "      width: 32px;\n",
              "    }\n",
              "\n",
              "    .colab-df-convert:hover {\n",
              "      background-color: #E2EBFA;\n",
              "      box-shadow: 0px 1px 2px rgba(60, 64, 67, 0.3), 0px 1px 3px 1px rgba(60, 64, 67, 0.15);\n",
              "      fill: #174EA6;\n",
              "    }\n",
              "\n",
              "    [theme=dark] .colab-df-convert {\n",
              "      background-color: #3B4455;\n",
              "      fill: #D2E3FC;\n",
              "    }\n",
              "\n",
              "    [theme=dark] .colab-df-convert:hover {\n",
              "      background-color: #434B5C;\n",
              "      box-shadow: 0px 1px 3px 1px rgba(0, 0, 0, 0.15);\n",
              "      filter: drop-shadow(0px 1px 2px rgba(0, 0, 0, 0.3));\n",
              "      fill: #FFFFFF;\n",
              "    }\n",
              "  </style>\n",
              "\n",
              "      <script>\n",
              "        const buttonEl =\n",
              "          document.querySelector('#df-0b132da0-041a-44e2-99cb-44bff3ed987a button.colab-df-convert');\n",
              "        buttonEl.style.display =\n",
              "          google.colab.kernel.accessAllowed ? 'block' : 'none';\n",
              "\n",
              "        async function convertToInteractive(key) {\n",
              "          const element = document.querySelector('#df-0b132da0-041a-44e2-99cb-44bff3ed987a');\n",
              "          const dataTable =\n",
              "            await google.colab.kernel.invokeFunction('convertToInteractive',\n",
              "                                                     [key], {});\n",
              "          if (!dataTable) return;\n",
              "\n",
              "          const docLinkHtml = 'Like what you see? Visit the ' +\n",
              "            '<a target=\"_blank\" href=https://colab.research.google.com/notebooks/data_table.ipynb>data table notebook</a>'\n",
              "            + ' to learn more about interactive tables.';\n",
              "          element.innerHTML = '';\n",
              "          dataTable['output_type'] = 'display_data';\n",
              "          await google.colab.output.renderOutput(dataTable, element);\n",
              "          const docLink = document.createElement('div');\n",
              "          docLink.innerHTML = docLinkHtml;\n",
              "          element.appendChild(docLink);\n",
              "        }\n",
              "      </script>\n",
              "    </div>\n",
              "  </div>\n",
              "  "
            ]
          },
          "metadata": {},
          "execution_count": 33
        }
      ]
    },
    {
      "cell_type": "code",
      "execution_count": null,
      "metadata": {
        "id": "abCQp9xUJUQ5",
        "colab": {
          "base_uri": "https://localhost:8080/",
          "height": 451
        },
        "outputId": "057839e0-849b-4869-be90-fe31fb7410a4"
      },
      "outputs": [
        {
          "output_type": "stream",
          "name": "stdout",
          "text": [
            "                                     Race  Alldrugfreq\n",
            "6          Native American/Alaskan Native           45\n",
            "1                      More than one race           43\n",
            "3                  Black/African American           32\n",
            "0                                   White           27\n",
            "4  Native Hawaiian/Other Pacific Islander           26\n",
            "2                                Hispanic           23\n",
            "5                                   Asian            9\n"
          ]
        },
        {
          "output_type": "execute_result",
          "data": {
            "text/plain": [
              "Text(0.5, 1.0, 'Bargraph of Avg All drugs Freq by Race')"
            ]
          },
          "metadata": {},
          "execution_count": 34
        },
        {
          "output_type": "display_data",
          "data": {
            "text/plain": [
              "<Figure size 432x288 with 1 Axes>"
            ],
            "image/png": "[encoded data removed]"
          },
          "metadata": {
            "needs_background": "light"
          }
        }
      ],
      "source": [
        "#importing the modules\n",
        "import pandas as pd\n",
        "import matplotlib.pyplot as plt\n",
        "import numpy as np\n",
        "\n",
        "#getting the unique values from NEWRACE2 and assigning it to x\n",
        "x = list(dv['NEWRACE2'].unique())\n",
        "y = []\n",
        "\n",
        "# Taking average of y-values and rounding-off to nearest number\n",
        "# Taking sum of y is not preffered, so going for mean (avg)\n",
        "for i in range(len(x)):\n",
        "    y.append(int(dv['ALLDGS'][df['NEWRACE2'] == x[i]].mean().round())) \n",
        "    \n",
        "df_bar = {\"Race\": list(x), \"Alldrugfreq\": y}\n",
        "dFrame = pd.DataFrame.from_dict(df_bar)\n",
        "df_sorted_bar = dFrame.sort_values('Alldrugfreq',ascending=True)\n",
        "\n",
        "print(df_sorted_bar.sort_values('Alldrugfreq',ascending=False))\n",
        "\n",
        "## Bar Graph (Taking Horizontal bar since regular bar shows an overlap of the Race names)\n",
        "plt.barh('Race', 'Alldrugfreq', data=df_sorted_bar)\n",
        "plt.ylabel('Race')\n",
        "plt.xlabel('Avg All drugs Freq (past year)')\n",
        "plt.title('Bargraph of Avg All drugs Freq by Race')"
      ]
    },
    {
      "cell_type": "code",
      "execution_count": null,
      "metadata": {
        "id": "Jhdk6gY_MmoU",
        "colab": {
          "base_uri": "https://localhost:8080/",
          "height": 399
        },
        "outputId": "735556dc-20eb-48b9-85a0-5598256908cd"
      },
      "outputs": [
        {
          "output_type": "stream",
          "name": "stdout",
          "text": [
            "               Age  Alldrugfreq\n",
            "3  18-25 years old           49\n",
            "1  26-34 years old           37\n",
            "0      35 or older           18\n",
            "2  12-17 years old           12\n"
          ]
        },
        {
          "output_type": "execute_result",
          "data": {
            "text/plain": [
              "Text(0.5, 1.0, 'Bargraph of Avg All drugs Freq by Age group')"
            ]
          },
          "metadata": {},
          "execution_count": 35
        },
        {
          "output_type": "display_data",
          "data": {
            "text/plain": [
              "<Figure size 432x288 with 1 Axes>"
            ],
            "image/png": "[encoded data removed]"
          },
          "metadata": {
            "needs_background": "light"
          }
        }
      ],
      "source": [
        "#importing the modules\n",
        "import pandas as pd\n",
        "import matplotlib.pyplot as plt\n",
        "import numpy as np\n",
        "\n",
        "#getting the unique values from NEWRACE2 and assigning it to x\n",
        "x = list(dv['CATAGE'].unique())\n",
        "y = []\n",
        "\n",
        "# Taking average of y-values and rounding-off to nearest number\n",
        "# Taking sum of y is not preffered, so going for mean (avg)\n",
        "for i in range(len(x)):\n",
        "    y.append(int(dv['ALLDGS'][df['CATAGE'] == x[i]].mean().round())) \n",
        "    \n",
        "df_bar = {\"Age\": list(x), \"Alldrugfreq\": y}\n",
        "dFrame = pd.DataFrame.from_dict(df_bar)\n",
        "df_sorted_bar = dFrame.sort_values('Alldrugfreq',ascending=True)\n",
        "\n",
        "print(df_sorted_bar.sort_values('Alldrugfreq',ascending=False))\n",
        "\n",
        "## Bar Graph (Taking Horizontal bar since regular bar shows an overlap of the Race names)\n",
        "plt.barh('Age', 'Alldrugfreq', data=df_sorted_bar)\n",
        "plt.ylabel('Age')\n",
        "plt.xlabel('Avg All drugs Freq (past year)')\n",
        "plt.title('Bargraph of Avg All drugs Freq by Age group')"
      ]
    },
    {
      "cell_type": "code",
      "execution_count": null,
      "metadata": {
        "id": "8d4-jzu_M6si",
        "colab": {
          "base_uri": "https://localhost:8080/",
          "height": 399
        },
        "outputId": "5172bed3-b48f-42fc-a9aa-d261152dbeaf"
      },
      "outputs": [
        {
          "output_type": "stream",
          "name": "stdout",
          "text": [
            "              Income  Alldrugfreq\n",
            "3  Less than $20,000           40\n",
            "2    $20,000-$49,999           32\n",
            "1    $50,000-$74,999           25\n",
            "0    $75,000 or more           18\n"
          ]
        },
        {
          "output_type": "execute_result",
          "data": {
            "text/plain": [
              "Text(0.5, 1.0, 'Bargraph of Avg All drugs Freq by Income')"
            ]
          },
          "metadata": {},
          "execution_count": 36
        },
        {
          "output_type": "display_data",
          "data": {
            "text/plain": [
              "<Figure size 432x288 with 1 Axes>"
            ],
            "image/png": "[encoded data removed]"
          },
          "metadata": {
            "needs_background": "light"
          }
        }
      ],
      "source": [
        "#importing the modules\n",
        "import pandas as pd\n",
        "import matplotlib.pyplot as plt\n",
        "import numpy as np\n",
        "\n",
        "#getting the unique values from NEWRACE2 and assigning it to x\n",
        "x = list(dv['INCOME'].unique())\n",
        "y = []\n",
        "\n",
        "# Taking average of y-values and rounding-off to nearest number\n",
        "# Taking sum of y is not preffered, so going for mean (avg)\n",
        "for i in range(len(x)):\n",
        "    y.append(int(dv['ALLDGS'][df['INCOME'] == x[i]].mean().round())) \n",
        "    \n",
        "df_bar = {\"Income\": list(x), \"Alldrugfreq\": y}\n",
        "dFrame = pd.DataFrame.from_dict(df_bar)\n",
        "df_sorted_bar = dFrame.sort_values('Alldrugfreq',ascending=True)\n",
        "\n",
        "print(df_sorted_bar.sort_values('Alldrugfreq',ascending=False))\n",
        "\n",
        "## Bar Graph (Taking Horizontal bar since regular bar shows an overlap of the Race names)\n",
        "plt.barh('Income', 'Alldrugfreq', data=df_sorted_bar)\n",
        "plt.ylabel('Income')\n",
        "plt.xlabel('Avg All drugs Freq (past year)')\n",
        "plt.title('Bargraph of Avg All drugs Freq by Income')"
      ]
    },
    {
      "cell_type": "code",
      "execution_count": null,
      "metadata": {
        "id": "-Eg1TxdDOdEM",
        "colab": {
          "base_uri": "https://localhost:8080/",
          "height": 521
        },
        "outputId": "b6cae23f-d4c8-4b32-fcf6-6ac564210bf6"
      },
      "outputs": [
        {
          "output_type": "stream",
          "name": "stdout",
          "text": [
            "                                 Level of Education  Alldrugfreq\n",
            "0                Some college credit, but no degree           40\n",
            "5                           High school diploma/GED           40\n",
            "8   Eleventh or Twelfth grade completed, no diploma           38\n",
            "4                             Tenth grade completed           30\n",
            "3                       Associate's degree (AA, AS)           28\n",
            "9                             Ninth grade completed           20\n",
            "1                        College graduate or higher           17\n",
            "2                            Eighth grade completed           11\n",
            "10              Fifth grade or less grade completed            5\n",
            "6                           Seventh grade completed            4\n",
            "7                             Sixth grade completed            3\n"
          ]
        },
        {
          "output_type": "execute_result",
          "data": {
            "text/plain": [
              "Text(0.5, 1.0, 'Bargraph of Avg All drugs Freq by Level of Education')"
            ]
          },
          "metadata": {},
          "execution_count": 37
        },
        {
          "output_type": "display_data",
          "data": {
            "text/plain": [
              "<Figure size 432x288 with 1 Axes>"
            ],
            "image/png": "[encoded data removed]"
          },
          "metadata": {
            "needs_background": "light"
          }
        }
      ],
      "source": [
        "#importing the modules\n",
        "import pandas as pd\n",
        "import matplotlib.pyplot as plt\n",
        "import numpy as np\n",
        "\n",
        "#getting the unique values from NEWRACE2 and assigning it to x\n",
        "x = list(dv['IREDUHIGHST2'].unique())\n",
        "y = []\n",
        "\n",
        "# Taking average of y-values and rounding-off to nearest number\n",
        "# Taking sum of y is not preffered, so going for mean (avg)\n",
        "for i in range(len(x)):\n",
        "    y.append(int(dv['ALLDGS'][df['IREDUHIGHST2'] == x[i]].mean().round())) \n",
        "    \n",
        "df_bar = {\"Level of Education\": list(x), \"Alldrugfreq\": y}\n",
        "dFrame = pd.DataFrame.from_dict(df_bar)\n",
        "df_sorted_bar = dFrame.sort_values('Alldrugfreq',ascending=True)\n",
        "\n",
        "print(df_sorted_bar.sort_values('Alldrugfreq',ascending=False))\n",
        "\n",
        "## Bar Graph (Taking Horizontal bar since regular bar shows an overlap of the Race names)\n",
        "plt.barh('Level of Education', 'Alldrugfreq', data=df_sorted_bar)\n",
        "plt.ylabel('Level of Education')\n",
        "plt.xlabel('Avg All drugs Freq (past year)')\n",
        "plt.title('Bargraph of Avg All drugs Freq by Level of Education')"
      ]
    },
    {
      "cell_type": "code",
      "source": [
        "#importing the modules\n",
        "import pandas as pd\n",
        "import matplotlib.pyplot as plt\n",
        "import numpy as np\n",
        "\n",
        "#getting the unique values from NEWRACE2 and assigning it to x\n",
        "x = list(df['NEWRACE2'].unique())\n",
        "y = []\n",
        "\n",
        "# Taking average of y-values and rounding-off to nearest number\n",
        "# Taking sum of y is not preffered, so going for mean (avg)\n",
        "for i in range(len(x)):\n",
        "    y.append(int(df['IRALCFY'][df['NEWRACE2'] == x[i]].mean().round())) \n",
        "    \n",
        "df_bar = {\"Race\": list(x), \"Alcfreq\": y}\n",
        "dFrame = pd.DataFrame.from_dict(df_bar)\n",
        "df_sorted_bar = dFrame.sort_values('Alcfreq',ascending=True)\n",
        "\n",
        "print(df_sorted_bar.sort_values('Alcfreq',ascending=False))\n",
        "\n",
        "## Bar Graph (Taking Horizontal bar since regular bar shows an overlap of the Race names)\n",
        "plt.barh('Race', 'Alcfreq', data=df_sorted_bar)\n",
        "plt.ylabel('Race')\n",
        "plt.xlabel('Avg Alcohol Freq')\n",
        "plt.title('Bargraph of Avg Alcohol Freq by Race')"
      ],
      "metadata": {
        "id": "8h5uitwxX6_a",
        "colab": {
          "base_uri": "https://localhost:8080/",
          "height": 451
        },
        "outputId": "8f7841ae-d567-4c30-8f39-981a30f881e1"
      },
      "execution_count": null,
      "outputs": [
        {
          "output_type": "stream",
          "name": "stdout",
          "text": [
            "                                     Race  Alcfreq\n",
            "0                                   White       59\n",
            "1                      More than one race       42\n",
            "6          Native American/Alaskan Native       41\n",
            "3                  Black/African American       40\n",
            "4  Native Hawaiian/Other Pacific Islander       38\n",
            "2                                Hispanic       35\n",
            "5                                   Asian       29\n"
          ]
        },
        {
          "output_type": "execute_result",
          "data": {
            "text/plain": [
              "Text(0.5, 1.0, 'Bargraph of Avg Alcohol Freq by Race')"
            ]
          },
          "metadata": {},
          "execution_count": 38
        },
        {
          "output_type": "display_data",
          "data": {
            "text/plain": [
              "<Figure size 432x288 with 1 Axes>"
            ],
            "image/png": "[encoded data removed]"
          },
          "metadata": {
            "needs_background": "light"
          }
        }
      ]
    },
    {
      "cell_type": "code",
      "source": [
        "#importing the modules\n",
        "import pandas as pd\n",
        "import matplotlib.pyplot as plt\n",
        "import numpy as np\n",
        "\n",
        "#getting the unique values from CATAGE and assigning it to x\n",
        "x = list(df['CATAGE'].unique())\n",
        "y = []\n",
        "\n",
        "# Taking average of y-values and rounding-off to nearest number\n",
        "# Taking sum of y is not preffered, so going for mean (avg)\n",
        "for i in range(len(x)):\n",
        "    y.append(int(df['IRALCFY'][df['CATAGE'] == x[i]].mean().round())) \n",
        "    \n",
        "df_bar = {\"Age Group\": list(x), \"Alcfreq\": y}\n",
        "dFrame = pd.DataFrame.from_dict(df_bar)\n",
        "df_sorted_bar = dFrame.sort_values('Alcfreq',ascending=True)\n",
        "\n",
        "print(df_sorted_bar.sort_values('Alcfreq',ascending=False))\n",
        "\n",
        "## Bar Graph\n",
        "plt.barh('Age Group', 'Alcfreq', data=df_sorted_bar)\n",
        "plt.ylabel('Age Group')\n",
        "plt.xlabel('Avg Alcohol Freq')\n",
        "plt.title('Bargraph of Avg Alcohol Freq by Age group')"
      ],
      "metadata": {
        "id": "sFV_WqoHlU4y",
        "colab": {
          "base_uri": "https://localhost:8080/",
          "height": 399
        },
        "outputId": "826607fd-c8c4-4371-b3e6-f27c9855618e"
      },
      "execution_count": null,
      "outputs": [
        {
          "output_type": "stream",
          "name": "stdout",
          "text": [
            "         Age Group  Alcfreq\n",
            "1  26-34 years old       69\n",
            "0      35 or older       66\n",
            "3  18-25 years old       55\n",
            "2  12-17 years old        6\n"
          ]
        },
        {
          "output_type": "execute_result",
          "data": {
            "text/plain": [
              "Text(0.5, 1.0, 'Bargraph of Avg Alcohol Freq by Age group')"
            ]
          },
          "metadata": {},
          "execution_count": 39
        },
        {
          "output_type": "display_data",
          "data": {
            "text/plain": [
              "<Figure size 432x288 with 1 Axes>"
            ],
            "image/png": "[encoded data removed]"
          },
          "metadata": {
            "needs_background": "light"
          }
        }
      ]
    },
    {
      "cell_type": "code",
      "source": [
        "#importing the modules\n",
        "import pandas as pd\n",
        "import matplotlib.pyplot as plt\n",
        "import numpy as np\n",
        "\n",
        "#getting the unique values from INCOME and assigning it to x\n",
        "x = list(df['INCOME'].unique())\n",
        "y = []\n",
        "\n",
        "# Taking average of y-values and rounding-off to nearest number\n",
        "# Taking sum of y is not preffered, so going for mean (avg)\n",
        "for i in range(len(x)):\n",
        "    y.append(int(df['IRALCFY'][df['INCOME'] == x[i]].mean().round())) \n",
        "    \n",
        "df_bar = {\"Income\": list(x), \"Alcfreq\": y}\n",
        "dFrame = pd.DataFrame.from_dict(df_bar)\n",
        "df_sorted_bar = dFrame.sort_values('Alcfreq',ascending=True)\n",
        "\n",
        "print(df_sorted_bar.sort_values('Alcfreq',ascending=False))\n",
        "\n",
        "## Bar Graph\n",
        "plt.barh('Income', 'Alcfreq', data=df_sorted_bar)\n",
        "plt.ylabel('Income')\n",
        "plt.xlabel('Avg Alcohol Freq')\n",
        "plt.title('Bargraph of Avg Alcohol Freq by Total Income')"
      ],
      "metadata": {
        "id": "1Let9seJlVRt",
        "colab": {
          "base_uri": "https://localhost:8080/",
          "height": 399
        },
        "outputId": "7e4e9dd2-7e4f-4083-8561-f5b41519039f"
      },
      "execution_count": null,
      "outputs": [
        {
          "output_type": "stream",
          "name": "stdout",
          "text": [
            "              Income  Alcfreq\n",
            "0    $75,000 or more       58\n",
            "1    $50,000-$74,999       51\n",
            "2    $20,000-$49,999       45\n",
            "3  Less than $20,000       41\n"
          ]
        },
        {
          "output_type": "execute_result",
          "data": {
            "text/plain": [
              "Text(0.5, 1.0, 'Bargraph of Avg Alcohol Freq by Total Income')"
            ]
          },
          "metadata": {},
          "execution_count": 40
        },
        {
          "output_type": "display_data",
          "data": {
            "text/plain": [
              "<Figure size 432x288 with 1 Axes>"
            ],
            "image/png": "[encoded data removed]"
          },
          "metadata": {
            "needs_background": "light"
          }
        }
      ]
    },
    {
      "cell_type": "code",
      "source": [
        "#importing the modules\n",
        "import pandas as pd\n",
        "import matplotlib.pyplot as plt\n",
        "import numpy as np\n",
        "\n",
        "#getting the unique values from IREDUHIGHST2 and assigning it to x\n",
        "x = list(df['IREDUHIGHST2'].unique())\n",
        "y = []\n",
        "\n",
        "# Taking average of y-values and rounding-off to nearest number\n",
        "# Taking sum of y is not preffered, so going for mean (avg)\n",
        "for i in range(len(x)):\n",
        "    y.append(int(df['IRALCFY'][df['IREDUHIGHST2'] == x[i]].mean().round())) \n",
        "    \n",
        "df_bar = {\"Education\": list(x), \"Alcfreq\": y}\n",
        "dFrame = pd.DataFrame.from_dict(df_bar)\n",
        "df_sorted_bar = dFrame.sort_values('Alcfreq',ascending=True)\n",
        "\n",
        "print(df_sorted_bar.sort_values('Alcfreq',ascending=False))\n",
        "\n",
        "## Bar Graph \n",
        "plt.barh('Education', 'Alcfreq', data=df_sorted_bar)\n",
        "plt.ylabel('Education')\n",
        "plt.xlabel('Avg Alcohol Freq')\n",
        "plt.title('Bargraph of Avg Alcohol Freq by Level of Education')"
      ],
      "metadata": {
        "id": "ONAQMW6ZlVmG",
        "colab": {
          "base_uri": "https://localhost:8080/",
          "height": 521
        },
        "outputId": "fe79f7af-2028-49a6-e4b3-7ea1a3bf1c95"
      },
      "execution_count": null,
      "outputs": [
        {
          "output_type": "stream",
          "name": "stdout",
          "text": [
            "                                          Education  Alcfreq\n",
            "1                        College graduate or higher       82\n",
            "3                       Associate's degree (AA, AS)       65\n",
            "0                Some college credit, but no degree       62\n",
            "5                           High school diploma/GED       53\n",
            "8   Eleventh or Twelfth grade completed, no diploma       33\n",
            "4                             Tenth grade completed       21\n",
            "9                             Ninth grade completed       16\n",
            "10              Fifth grade or less grade completed       10\n",
            "2                            Eighth grade completed        9\n",
            "6                           Seventh grade completed        4\n",
            "7                             Sixth grade completed        4\n"
          ]
        },
        {
          "output_type": "execute_result",
          "data": {
            "text/plain": [
              "Text(0.5, 1.0, 'Bargraph of Avg Alcohol Freq by Level of Education')"
            ]
          },
          "metadata": {},
          "execution_count": 41
        },
        {
          "output_type": "display_data",
          "data": {
            "text/plain": [
              "<Figure size 432x288 with 1 Axes>"
            ],
            "image/png": "[encoded data removed]"
          },
          "metadata": {
            "needs_background": "light"
          }
        }
      ]
    },
    {
      "cell_type": "markdown",
      "source": [
        "#Testing for normality"
      ],
      "metadata": {
        "id": "CoC5AKoAWdbZ"
      }
    },
    {
      "cell_type": "code",
      "source": [
        "from scipy import stats\n",
        "x=df[\"ALLDGS\"] \n",
        "k2, p = stats.normaltest(x)\n",
        "alpha = 1e-3\n",
        "print(\"p = {:g}\".format(p))\n",
        "p = 8.4713e-19\n",
        "if p < alpha:  # null hypothesis: x comes from a normal distribution\n",
        "    print(\"The null hypothesis can be rejected\")\n",
        "else:\n",
        "    print(\"The null hypothesis cannot be rejected\")"
      ],
      "metadata": {
        "colab": {
          "base_uri": "https://localhost:8080/"
        },
        "outputId": "b093e978-e0e6-419e-d387-8de141c770f5",
        "id": "hz32jcwLOViE"
      },
      "execution_count": null,
      "outputs": [
        {
          "output_type": "stream",
          "name": "stdout",
          "text": [
            "p = 0\n",
            "The null hypothesis can be rejected\n"
          ]
        }
      ]
    },
    {
      "cell_type": "code",
      "source": [
        "from scipy import stats\n",
        "x=df[\"IRALCFY\"] \n",
        "k2, p = stats.normaltest(x)\n",
        "alpha = 1e-3\n",
        "print(\"p = {:g}\".format(p))\n",
        "p = 8.4713e-19\n",
        "if p < alpha:  # null hypothesis: x comes from a normal distribution\n",
        "    print(\"The null hypothesis can be rejected\")\n",
        "else:\n",
        "    print(\"The null hypothesis cannot be rejected\")"
      ],
      "metadata": {
        "colab": {
          "base_uri": "https://localhost:8080/"
        },
        "outputId": "678dce42-cae1-46f1-ea91-7a2fb626c976",
        "id": "zM32Bb9ZT-1l"
      },
      "execution_count": null,
      "outputs": [
        {
          "output_type": "stream",
          "name": "stdout",
          "text": [
            "p = 0\n",
            "The null hypothesis can be rejected\n"
          ]
        }
      ]
    },
    {
      "cell_type": "markdown",
      "source": [
        "#Testing for difference between groups"
      ],
      "metadata": {
        "id": "6PtAl21HT5Zw"
      }
    },
    {
      "cell_type": "code",
      "execution_count": null,
      "metadata": {
        "id": "Kq1Zx1IYEWr-",
        "colab": {
          "base_uri": "https://localhost:8080/"
        },
        "outputId": "7798bfd3-b44d-4c04-e084-8e9b0de111a8"
      },
      "outputs": [
        {
          "output_type": "stream",
          "name": "stdout",
          "text": [
            "Looking in indexes: https://pypi.org/simple, https://us-python.pkg.dev/colab-wheels/public/simple/\n",
            "Collecting scikit-posthocs\n",
            "  Downloading scikit_posthocs-0.7.0-py3-none-any.whl (38 kB)\n",
            "Requirement already satisfied: seaborn in /usr/local/lib/python3.8/dist-packages (from scikit-posthocs) (0.11.2)\n",
            "Requirement already satisfied: pandas>=0.20.0 in /usr/local/lib/python3.8/dist-packages (from scikit-posthocs) (1.3.5)\n",
            "Requirement already satisfied: scipy in /usr/local/lib/python3.8/dist-packages (from scikit-posthocs) (1.7.3)\n",
            "Requirement already satisfied: statsmodels in /usr/local/lib/python3.8/dist-packages (from scikit-posthocs) (0.12.2)\n",
            "Requirement already satisfied: numpy in /usr/local/lib/python3.8/dist-packages (from scikit-posthocs) (1.21.6)\n",
            "Requirement already satisfied: matplotlib in /usr/local/lib/python3.8/dist-packages (from scikit-posthocs) (3.2.2)\n",
            "Requirement already satisfied: python-dateutil>=2.7.3 in /usr/local/lib/python3.8/dist-packages (from pandas>=0.20.0->scikit-posthocs) (2.8.2)\n",
            "Requirement already satisfied: pytz>=2017.3 in /usr/local/lib/python3.8/dist-packages (from pandas>=0.20.0->scikit-posthocs) (2022.6)\n",
            "Requirement already satisfied: six>=1.5 in /usr/local/lib/python3.8/dist-packages (from python-dateutil>=2.7.3->pandas>=0.20.0->scikit-posthocs) (1.15.0)\n",
            "Requirement already satisfied: kiwisolver>=1.0.1 in /usr/local/lib/python3.8/dist-packages (from matplotlib->scikit-posthocs) (1.4.4)\n",
            "Requirement already satisfied: pyparsing!=2.0.4,!=2.1.2,!=2.1.6,>=2.0.1 in /usr/local/lib/python3.8/dist-packages (from matplotlib->scikit-posthocs) (3.0.9)\n",
            "Requirement already satisfied: cycler>=0.10 in /usr/local/lib/python3.8/dist-packages (from matplotlib->scikit-posthocs) (0.11.0)\n",
            "Requirement already satisfied: patsy>=0.5 in /usr/local/lib/python3.8/dist-packages (from statsmodels->scikit-posthocs) (0.5.3)\n",
            "Installing collected packages: scikit-posthocs\n",
            "Successfully installed scikit-posthocs-0.7.0\n"
          ]
        }
      ],
      "source": [
        "!pip install scikit-posthocs"
      ]
    },
    {
      "cell_type": "markdown",
      "metadata": {
        "id": "fm2PmRn2BAfF"
      },
      "source": [
        "Kruskal Wallis for Alcohol and Ethnicity\n",
        "\n"
      ]
    },
    {
      "cell_type": "code",
      "execution_count": null,
      "metadata": {
        "id": "Uo02selk5e7N"
      },
      "outputs": [],
      "source": [
        "x1 = dv['IRALCFY'][dv['NEWRACE2']=='White'].sum()\n",
        "x2 = dv['IRALCFY'][dv['NEWRACE2']=='Hispanic'].sum()\n",
        "x3 = dv['IRALCFY'][dv['NEWRACE2']=='Black/African American'].sum()\n",
        "x4 = dv['IRALCFY'][dv['NEWRACE2']=='Native Hawaiian/Other Pacific Islander'].sum()\n",
        "x5 = dv['IRALCFY'][dv['NEWRACE2']=='Asian'].sum()\n",
        "x6 = dv['IRALCFY'][dv['NEWRACE2']=='Native American/Alaskan Native'].sum()\n",
        "x7 = dv['IRALCFY'][dv['NEWRACE2']=='More than one race'].sum()\n",
        "x = [x1,x2,x3,x4,x5,x6,x7]"
      ]
    },
    {
      "cell_type": "code",
      "execution_count": null,
      "metadata": {
        "id": "KR6jDClH82XL"
      },
      "outputs": [],
      "source": [
        "c1 = dv['NEWRACE2'][dv['NEWRACE2']== 'White'].count()\n",
        "c2 = dv['NEWRACE2'][dv['NEWRACE2']== 'Hispanic'].count()\n",
        "c3 = dv['NEWRACE2'][dv['NEWRACE2']== 'Black/African American'].count()\n",
        "c4 = dv['NEWRACE2'][dv['NEWRACE2']== 'Native Hawaiian/Other Pacific Islander'].count()\n",
        "c5 = dv['NEWRACE2'][dv['NEWRACE2']== 'Asian'].count()\n",
        "c6 = dv['NEWRACE2'][dv['NEWRACE2']== 'Native American/Alaskan Native'].count()\n",
        "c7 = dv['NEWRACE2'][dv['NEWRACE2']== 'More than one race'].count()\n",
        "c = [c1,c2,c3,c4,c5,c6,c7]"
      ]
    },
    {
      "cell_type": "code",
      "execution_count": null,
      "metadata": {
        "id": "mTQOx7vk-8RF",
        "colab": {
          "base_uri": "https://localhost:8080/"
        },
        "outputId": "f594ae0a-1b1e-445c-9e44-da2f3afd8c73"
      },
      "outputs": [
        {
          "output_type": "execute_result",
          "data": {
            "text/plain": [
              "KruskalResult(statistic=8.265306122448976, pvalue=0.004040984683985589)"
            ]
          },
          "metadata": {},
          "execution_count": 48
        }
      ],
      "source": [
        "stats. kruskal(x, c)"
      ]
    },
    {
      "cell_type": "markdown",
      "source": [
        "Krustal Wallis for all substances and ethnicity"
      ],
      "metadata": {
        "id": "IKtqUZB6arUK"
      }
    },
    {
      "cell_type": "code",
      "source": [
        "x1 = dv['ALLDGS'][dv['NEWRACE2']=='White'].sum()\n",
        "x2 = dv['ALLDGS'][dv['NEWRACE2']=='Hispanic'].sum()\n",
        "x3 = dv['ALLDGS'][dv['NEWRACE2']=='Black/African American'].sum()\n",
        "x4 = dv['ALLDGS'][dv['NEWRACE2']=='Native Hawaiian/Other Pacific Islander'].sum()\n",
        "x5 = dv['ALLDGS'][dv['NEWRACE2']=='Asian'].sum()\n",
        "x6 = dv['ALLDGS'][dv['NEWRACE2']=='Native American/Alaskan Native'].sum()\n",
        "x7 = dv['ALLDGS'][dv['NEWRACE2']=='More than one race'].sum()\n",
        "x = [x1,x2,x3,x4,x5,x6,x7]"
      ],
      "metadata": {
        "id": "O2UqIbNebCFw"
      },
      "execution_count": null,
      "outputs": []
    },
    {
      "cell_type": "code",
      "source": [
        "c1 = dv['NEWRACE2'][dv['NEWRACE2']== 'White'].count()\n",
        "c2 = dv['NEWRACE2'][dv['NEWRACE2']== 'Hispanic'].count()\n",
        "c3 = dv['NEWRACE2'][dv['NEWRACE2']== 'Black/African American'].count()\n",
        "c4 = dv['NEWRACE2'][dv['NEWRACE2']== 'Native Hawaiian/Other Pacific Islander'].count()\n",
        "c5 = dv['NEWRACE2'][dv['NEWRACE2']== 'Asian'].count()\n",
        "c6 = dv['NEWRACE2'][dv['NEWRACE2']== 'Native American/Alaskan Native'].count()\n",
        "c7 = dv['NEWRACE2'][dv['NEWRACE2']== 'More than one race'].count()\n",
        "c = [c1,c2,c3,c4,c5,c6,c7]"
      ],
      "metadata": {
        "id": "6AQCYOGqbLaV"
      },
      "execution_count": null,
      "outputs": []
    },
    {
      "cell_type": "code",
      "source": [
        "stats. kruskal(x, c)"
      ],
      "metadata": {
        "id": "qImdylnjbLn9",
        "colab": {
          "base_uri": "https://localhost:8080/"
        },
        "outputId": "e32d1b22-354d-4e1b-b242-a7705fbf9704"
      },
      "execution_count": null,
      "outputs": [
        {
          "output_type": "execute_result",
          "data": {
            "text/plain": [
              "KruskalResult(statistic=7.546938775510206, pvalue=0.006011210888904063)"
            ]
          },
          "metadata": {},
          "execution_count": 51
        }
      ]
    },
    {
      "cell_type": "markdown",
      "metadata": {
        "id": "NY6HFO3sChc4"
      },
      "source": [
        "KW for alcohol frequency and age\n",
        "\n",
        "\n",
        "\n",
        "\n"
      ]
    },
    {
      "cell_type": "code",
      "execution_count": null,
      "metadata": {
        "id": "DBG1UA2zFpL-"
      },
      "outputs": [],
      "source": [
        "x1 = dv['IRALCFY'][dv['CATAGE']=='12-17 years old'].sum()\n",
        "x2 = dv['IRALCFY'][dv['CATAGE']=='18-25 years old'].sum()\n",
        "x3 = dv['IRALCFY'][dv['CATAGE']=='26-34 years old'].sum()\n",
        "x4 = dv['IRALCFY'][dv['CATAGE']=='35 or older'].sum()\n",
        "x = [x1,x2,x3,x4]"
      ]
    },
    {
      "cell_type": "code",
      "execution_count": null,
      "metadata": {
        "id": "wstOHKMRGfy3"
      },
      "outputs": [],
      "source": [
        "c1 = dv['CATAGE'][dv['CATAGE']== '12-17 years old'].count()\n",
        "c2 = dv['CATAGE'][dv['CATAGE']== '18-25 years old'].count()\n",
        "c3 = dv['CATAGE'][dv['CATAGE']== '26-34 years old'].count()\n",
        "c4 = dv['CATAGE'][dv['CATAGE']== '35 or older'].count()\n",
        "c = [c1,c2,c3,c4]"
      ]
    },
    {
      "cell_type": "code",
      "execution_count": null,
      "metadata": {
        "id": "ZoUoTJ5sG9IR",
        "colab": {
          "base_uri": "https://localhost:8080/"
        },
        "outputId": "29cf20b7-7ac8-44c8-da84-46552e6bec82"
      },
      "outputs": [
        {
          "output_type": "execute_result",
          "data": {
            "text/plain": [
              "KruskalResult(statistic=5.333333333333329, pvalue=0.020921335337794052)"
            ]
          },
          "metadata": {},
          "execution_count": 54
        }
      ],
      "source": [
        "stats. kruskal(x, c)"
      ]
    },
    {
      "cell_type": "markdown",
      "source": [
        "KW for all substances and age groups"
      ],
      "metadata": {
        "id": "BeLHut5RcyjR"
      }
    },
    {
      "cell_type": "code",
      "source": [
        "x1 = dv['ALLDGS'][dv['CATAGE']=='12-17 years old'].sum()\n",
        "x2 = dv['ALLDGS'][dv['CATAGE']=='18-25 years old'].sum()\n",
        "x3 = dv['ALLDGS'][dv['CATAGE']=='26-34 years old'].sum()\n",
        "x4 = dv['ALLDGS'][dv['CATAGE']=='35 or older'].sum()\n",
        "x = [x1,x2,x3,x4]"
      ],
      "metadata": {
        "id": "BF7TwTb5dgqd"
      },
      "execution_count": null,
      "outputs": []
    },
    {
      "cell_type": "code",
      "source": [
        "c1 = dv['CATAGE'][dv['CATAGE']== '12-17 years old'].count()\n",
        "c2 = dv['CATAGE'][dv['CATAGE']== '18-25 years old'].count()\n",
        "c3 = dv['CATAGE'][dv['CATAGE']== '26-34 years old'].count()\n",
        "c4 = dv['CATAGE'][dv['CATAGE']== '35 or older'].count()\n",
        "c = [c1,c2,c3,c4]"
      ],
      "metadata": {
        "id": "p4s87Oh_dreP"
      },
      "execution_count": null,
      "outputs": []
    },
    {
      "cell_type": "code",
      "source": [
        "stats. kruskal(x, c)"
      ],
      "metadata": {
        "id": "tuFatyR6dymg",
        "colab": {
          "base_uri": "https://localhost:8080/"
        },
        "outputId": "d886e83c-177a-45f0-f4c3-a14fa7d841f0"
      },
      "execution_count": null,
      "outputs": [
        {
          "output_type": "execute_result",
          "data": {
            "text/plain": [
              "KruskalResult(statistic=5.333333333333329, pvalue=0.020921335337794052)"
            ]
          },
          "metadata": {},
          "execution_count": 57
        }
      ]
    },
    {
      "cell_type": "markdown",
      "metadata": {
        "id": "91S4gbKXHaET"
      },
      "source": [
        "KW for alcohol frequency and gender"
      ]
    },
    {
      "cell_type": "code",
      "execution_count": null,
      "metadata": {
        "id": "z0HnxoIrHglM"
      },
      "outputs": [],
      "source": [
        "x1 = dv['IRALCFY'][dv['IRSEX']=='Male'].sum()\n",
        "x2 = dv['IRALCFY'][dv['IRSEX']=='Female'].sum()\n",
        "x = [x1,x2]"
      ]
    },
    {
      "cell_type": "code",
      "execution_count": null,
      "metadata": {
        "id": "Xi382lcGH9Pg"
      },
      "outputs": [],
      "source": [
        "c1 = dv['IRSEX'][dv['IRSEX']== 'Male'].count()\n",
        "c2 = dv['IRSEX'][dv['IRSEX']== 'Female'].count()\n",
        "c = [c1,c2]"
      ]
    },
    {
      "cell_type": "code",
      "execution_count": null,
      "metadata": {
        "id": "fROIg4ntIvIg",
        "colab": {
          "base_uri": "https://localhost:8080/"
        },
        "outputId": "c521ad19-9c42-46a8-c282-9a74b0eec423"
      },
      "outputs": [
        {
          "output_type": "execute_result",
          "data": {
            "text/plain": [
              "KruskalResult(statistic=2.3999999999999986, pvalue=0.12133525035848367)"
            ]
          },
          "metadata": {},
          "execution_count": 60
        }
      ],
      "source": [
        "stats. kruskal(x,c)"
      ]
    },
    {
      "cell_type": "markdown",
      "source": [
        "KW for all substances and gender"
      ],
      "metadata": {
        "id": "vXRiSEocepAr"
      }
    },
    {
      "cell_type": "code",
      "source": [
        "x1 = dv['ALLDGS'][dv['IRSEX']=='Male'].sum()\n",
        "x2 = dv['ALLDGS'][dv['IRSEX']=='Female'].sum()\n",
        "x = [x1,x2]"
      ],
      "metadata": {
        "id": "ESMFhoLyetc9"
      },
      "execution_count": null,
      "outputs": []
    },
    {
      "cell_type": "code",
      "source": [
        "c1 = dv['IRSEX'][dv['IRSEX']== 'Male'].count()\n",
        "c2 = dv['IRSEX'][dv['IRSEX']== 'Female'].count()\n",
        "c = [c1,c2]"
      ],
      "metadata": {
        "id": "9x5nXDTIe5CY"
      },
      "execution_count": null,
      "outputs": []
    },
    {
      "cell_type": "code",
      "source": [
        "stats. kruskal(x,c)"
      ],
      "metadata": {
        "id": "hAUcluJke-Yt",
        "colab": {
          "base_uri": "https://localhost:8080/"
        },
        "outputId": "bfdc94c6-707d-466b-b168-53dfc0aa843b"
      },
      "execution_count": null,
      "outputs": [
        {
          "output_type": "execute_result",
          "data": {
            "text/plain": [
              "KruskalResult(statistic=2.3999999999999986, pvalue=0.12133525035848367)"
            ]
          },
          "metadata": {},
          "execution_count": 63
        }
      ]
    },
    {
      "cell_type": "markdown",
      "metadata": {
        "id": "sPSQhNIUI78R"
      },
      "source": [
        "KW For alcohol frequency and work status"
      ]
    },
    {
      "cell_type": "code",
      "execution_count": null,
      "metadata": {
        "id": "WAkZrFH2JLv4"
      },
      "outputs": [],
      "source": [
        "x1 = dv['IRALCFY'][dv['IRWRKSTAT']=='Employed full time'].sum()\n",
        "x2 = dv['IRALCFY'][dv['IRWRKSTAT']=='Employed part time'].sum()\n",
        "x3 = dv['IRALCFY'][dv['IRWRKSTAT']=='Unemployed'].sum()\n",
        "x4 = dv['IRALCFY'][dv['IRWRKSTAT']=='Other (incl. not in labor force)'].sum()\n",
        "x5 = dv['IRALCFY'][dv['IRWRKSTAT']=='12-14 year olds'].sum()\n",
        "x=[x1,x2,x3,x4,x5]"
      ]
    },
    {
      "cell_type": "code",
      "execution_count": null,
      "metadata": {
        "id": "_mUXTk6qKDhA"
      },
      "outputs": [],
      "source": [
        "c1 = dv['IRWRKSTAT'][dv['IRWRKSTAT']== 'Employed full time'].count()\n",
        "c2 = dv['IRWRKSTAT'][dv['IRWRKSTAT']== 'Employed part time'].count()\n",
        "c3 = dv['IRWRKSTAT'][dv['IRWRKSTAT']== 'Unemployed'].count()\n",
        "c4 = dv['IRWRKSTAT'][dv['IRWRKSTAT']== 'Other (incl. not in labor force)'].count()\n",
        "c5 = dv['IRWRKSTAT'][dv['IRWRKSTAT']== '12-14 year olds'].count()\n",
        "c=[c1,c2,c3,c4,c5]"
      ]
    },
    {
      "cell_type": "code",
      "execution_count": null,
      "metadata": {
        "id": "aCz7ecjFKerK",
        "colab": {
          "base_uri": "https://localhost:8080/"
        },
        "outputId": "9c444863-c0e6-48d0-a56b-fa702c38f6aa"
      },
      "outputs": [
        {
          "output_type": "execute_result",
          "data": {
            "text/plain": [
              "KruskalResult(statistic=4.810909090909092, pvalue=0.02828012256827699)"
            ]
          },
          "metadata": {},
          "execution_count": 66
        }
      ],
      "source": [
        "stats. kruskal(x,c)"
      ]
    },
    {
      "cell_type": "markdown",
      "metadata": {
        "id": "raLFL0dCKjPA"
      },
      "source": [
        "KW For alcohol frequency and education"
      ]
    },
    {
      "cell_type": "code",
      "execution_count": null,
      "metadata": {
        "id": "4PgxZN7IKoxh"
      },
      "outputs": [],
      "source": [
        "x1 = dv['IRALCFY'][dv['IREDUHIGHST2']=='Fifth grade or less grade completed'].sum()\n",
        "x2 = dv['IRALCFY'][dv['IREDUHIGHST2']=='Sixth grade completed'].sum()\n",
        "x3 = dv['IRALCFY'][dv['IREDUHIGHST2']=='Seventh grade completed'].sum()\n",
        "x4 = dv['IRALCFY'][dv['IREDUHIGHST2']=='Eighth grade completed'].sum()\n",
        "x5 = dv['IRALCFY'][dv['IREDUHIGHST2']=='Ninth grade completed'].sum()\n",
        "x6 = dv['IRALCFY'][dv['IREDUHIGHST2']=='Tenth grade completed'].sum()\n",
        "x7 = dv['IRALCFY'][dv['IREDUHIGHST2']=='Eleventh or Twelfth grade completed, no diploma'].sum()\n",
        "x8 = dv['IRALCFY'][dv['IREDUHIGHST2']=='High school diploma/GED'].sum()\n",
        "x9 = dv['IRALCFY'][dv['IREDUHIGHST2']=='Some college credit, but no degree'].sum()\n",
        "x10 = dv['IRALCFY'][dv['IREDUHIGHST2']==\"Associate's degree (AA, AS)\"].sum()\n",
        "x11 = dv['IRALCFY'][dv['IREDUHIGHST2']=='College graduate or higher'].sum()\n",
        "x=[x1,x2,x3,x4,x5,x6,x7,x8,x9,x10,x11]"
      ]
    },
    {
      "cell_type": "code",
      "execution_count": null,
      "metadata": {
        "id": "qmPgOHuqNLFb"
      },
      "outputs": [],
      "source": [
        "c1 = dv['IREDUHIGHST2'][dv['IREDUHIGHST2']== 'Fifth grade or less grade completed'].count()\n",
        "c2 = dv['IREDUHIGHST2'][dv['IREDUHIGHST2']== 'Sixth grade completed'].count()\n",
        "c3 = dv['IREDUHIGHST2'][dv['IREDUHIGHST2']== 'Seventh grade completed'].count()\n",
        "c4 = dv['IREDUHIGHST2'][dv['IREDUHIGHST2']== 'Eighth grade completed'].count()\n",
        "c5 = dv['IREDUHIGHST2'][dv['IREDUHIGHST2']== 'Ninth grade completed'].count()\n",
        "c6 = dv['IREDUHIGHST2'][dv['IREDUHIGHST2']== 'Tenth grade completed'].count()\n",
        "c7 = dv['IREDUHIGHST2'][dv['IREDUHIGHST2']== 'Eleventh or Twelfth grade completed, no diploma'].count()\n",
        "c8 = dv['IREDUHIGHST2'][dv['IREDUHIGHST2']== 'High school diploma/GED'].count()\n",
        "c9 = dv['IREDUHIGHST2'][dv['IREDUHIGHST2']== 'Some college credit, but no degree'].count()\n",
        "c10 = dv['IREDUHIGHST2'][dv['IREDUHIGHST2']== \"Associate's degree (AA, AS)\"].count()\n",
        "c11 = dv['IREDUHIGHST2'][dv['IREDUHIGHST2']== 'College graduate or higher'].count()\n",
        "c=[c1,c2,c3,c4,c5,c6,c7,c8,c9,c10,c11]"
      ]
    },
    {
      "cell_type": "code",
      "execution_count": null,
      "metadata": {
        "id": "C7_1yLxEOUNZ",
        "colab": {
          "base_uri": "https://localhost:8080/"
        },
        "outputId": "02c7e270-d645-44c7-aded-b195ddd934fd"
      },
      "outputs": [
        {
          "output_type": "execute_result",
          "data": {
            "text/plain": [
              "KruskalResult(statistic=11.884656845131161, pvalue=0.0005659825222357755)"
            ]
          },
          "metadata": {},
          "execution_count": 69
        }
      ],
      "source": [
        "stats. kruskal(x,c)"
      ]
    },
    {
      "cell_type": "markdown",
      "source": [
        "KW for all susbtances and education"
      ],
      "metadata": {
        "id": "WSdXvShTf5R6"
      }
    },
    {
      "cell_type": "code",
      "source": [
        "x1 = dv['ALLDGS'][dv['IREDUHIGHST2']=='Fifth grade or less grade completed'].sum()\n",
        "x2 = dv['ALLDGS'][dv['IREDUHIGHST2']=='Sixth grade completed'].sum()\n",
        "x3 = dv['ALLDGS'][dv['IREDUHIGHST2']=='Seventh grade completed'].sum()\n",
        "x4 = dv['ALLDGS'][dv['IREDUHIGHST2']=='Eighth grade completed'].sum()\n",
        "x5 = dv['ALLDGS'][dv['IREDUHIGHST2']=='Ninth grade completed'].sum()\n",
        "x6 = dv['ALLDGS'][dv['IREDUHIGHST2']=='Tenth grade completed'].sum()\n",
        "x7 = dv['ALLDGS'][dv['IREDUHIGHST2']=='Eleventh or Twelfth grade completed, no diploma'].sum()\n",
        "x8 = dv['ALLDGS'][dv['IREDUHIGHST2']=='High school diploma/GED'].sum()\n",
        "x9 = dv['ALLDGS'][dv['IREDUHIGHST2']=='Some college credit, but no degree'].sum()\n",
        "x10 = dv['ALLDGS'][dv['IREDUHIGHST2']==\"Associate's degree (AA, AS)\"].sum()\n",
        "x11 = dv['ALLDGS'][dv['IREDUHIGHST2']=='College graduate or higher'].sum()\n",
        "x=[x1,x2,x3,x4,x5,x6,x7,x8,x9,x10,x11]"
      ],
      "metadata": {
        "id": "anMdg_ecf5oD"
      },
      "execution_count": null,
      "outputs": []
    },
    {
      "cell_type": "code",
      "source": [
        "c1 = dv['IREDUHIGHST2'][dv['IREDUHIGHST2']== 'Fifth grade or less grade completed'].count()\n",
        "c2 = dv['IREDUHIGHST2'][dv['IREDUHIGHST2']== 'Sixth grade completed'].count()\n",
        "c3 = dv['IREDUHIGHST2'][dv['IREDUHIGHST2']== 'Seventh grade completed'].count()\n",
        "c4 = dv['IREDUHIGHST2'][dv['IREDUHIGHST2']== 'Eighth grade completed'].count()\n",
        "c5 = dv['IREDUHIGHST2'][dv['IREDUHIGHST2']== 'Ninth grade completed'].count()\n",
        "c6 = dv['IREDUHIGHST2'][dv['IREDUHIGHST2']== 'Tenth grade completed'].count()\n",
        "c7 = dv['IREDUHIGHST2'][dv['IREDUHIGHST2']== 'Eleventh or Twelfth grade completed, no diploma'].count()\n",
        "c8 = dv['IREDUHIGHST2'][dv['IREDUHIGHST2']== 'High school diploma/GED'].count()\n",
        "c9 = dv['IREDUHIGHST2'][dv['IREDUHIGHST2']== 'Some college credit, but no degree'].count()\n",
        "c10 = dv['IREDUHIGHST2'][dv['IREDUHIGHST2']== \"Associate's degree (AA, AS)\"].count()\n",
        "c11 = dv['IREDUHIGHST2'][dv['IREDUHIGHST2']== 'College graduate or higher'].count()\n",
        "c=[c1,c2,c3,c4,c5,c6,c7,c8,c9,c10,c11]"
      ],
      "metadata": {
        "id": "22JdKN1If56B"
      },
      "execution_count": null,
      "outputs": []
    },
    {
      "cell_type": "code",
      "source": [
        "stats. kruskal(x,c)"
      ],
      "metadata": {
        "id": "xITBmkNff6BU",
        "colab": {
          "base_uri": "https://localhost:8080/"
        },
        "outputId": "f331746c-e9f3-4328-feb9-112fcebf09bd"
      },
      "execution_count": null,
      "outputs": [
        {
          "output_type": "execute_result",
          "data": {
            "text/plain": [
              "KruskalResult(statistic=11.436219906575644, pvalue=0.0007202617099102218)"
            ]
          },
          "metadata": {},
          "execution_count": 72
        }
      ]
    },
    {
      "cell_type": "markdown",
      "metadata": {
        "id": "H3XV7QNVOnwq"
      },
      "source": [
        "KW for alcohol frequency and population density\n"
      ]
    },
    {
      "cell_type": "code",
      "execution_count": null,
      "metadata": {
        "id": "mmvf1igeOwbb"
      },
      "outputs": [],
      "source": [
        "x1 = dv['IRALCFY'][dv['PDEN10']=='Segment in a CBSA with 1 million or more persons'].sum()\n",
        "x2 = dv['IRALCFY'][dv['PDEN10']=='Segm in a CBSA with fewer  than 1 million persons'].sum()\n",
        "x3 = dv['IRALCFY'][dv['PDEN10']=='Segment not in CBSA'].sum()\n",
        "x=[x1,x2,x3]"
      ]
    },
    {
      "cell_type": "code",
      "execution_count": null,
      "metadata": {
        "id": "JALrKnJrPRgB"
      },
      "outputs": [],
      "source": [
        "c1 = dv['PDEN10'][dv['PDEN10']== 'Segment in a CBSA with 1 million or more persons'].count()\n",
        "c2 = dv['PDEN10'][dv['PDEN10']== 'Segm in a CBSA with fewer  than 1 million persons'].count()\n",
        "c3 = dv['PDEN10'][dv['PDEN10']== 'Segment not in CBSA'].count()\n",
        "c=[c1,c2,c3]"
      ]
    },
    {
      "cell_type": "code",
      "execution_count": null,
      "metadata": {
        "id": "MVWUonp5Pp4d",
        "colab": {
          "base_uri": "https://localhost:8080/"
        },
        "outputId": "fd46f9c3-0887-4236-905f-7a42be7ce254"
      },
      "outputs": [
        {
          "output_type": "execute_result",
          "data": {
            "text/plain": [
              "KruskalResult(statistic=3.857142857142854, pvalue=0.049534613435626915)"
            ]
          },
          "metadata": {},
          "execution_count": 75
        }
      ],
      "source": [
        "stats. kruskal(x,c)"
      ]
    },
    {
      "cell_type": "markdown",
      "metadata": {
        "id": "ARztkFQbPssJ"
      },
      "source": [
        "KW for alcohol frequency and county"
      ]
    },
    {
      "cell_type": "code",
      "execution_count": null,
      "metadata": {
        "id": "9L5CLTWRPtT-"
      },
      "outputs": [],
      "source": [
        "x1 = dv['IRALCFY'][dv['COUTYP4']=='Large Metro'].sum()\n",
        "x2 = dv['IRALCFY'][dv['COUTYP4']=='Small Metro'].sum()\n",
        "x3 = dv['IRALCFY'][dv['COUTYP4']=='Nonmetro'].sum()\n",
        "x=[x1,x2,x3]"
      ]
    },
    {
      "cell_type": "code",
      "execution_count": null,
      "metadata": {
        "id": "7JRlXIIUQKiF"
      },
      "outputs": [],
      "source": [
        "c1 = dv['IRALCFY'][dv['IRALCFY']== 'Large Metro'].count()\n",
        "c2 = dv['IRALCFY'][dv['IRALCFY']== 'Small Metro'].count()\n",
        "c3 = dv['IRALCFY'][dv['IRALCFY']== 'Nonmetro'].count()\n",
        "c=[c1,c2,c3]"
      ]
    },
    {
      "cell_type": "code",
      "execution_count": null,
      "metadata": {
        "id": "Hpd8pzCpQe5p",
        "colab": {
          "base_uri": "https://localhost:8080/"
        },
        "outputId": "dde99f84-118c-41a0-fc08-e8497857a9ba"
      },
      "outputs": [
        {
          "output_type": "execute_result",
          "data": {
            "text/plain": [
              "KruskalResult(statistic=4.354838709677416, pvalue=0.03690395361371825)"
            ]
          },
          "metadata": {},
          "execution_count": 78
        }
      ],
      "source": [
        "stats. kruskal(x,c)"
      ]
    },
    {
      "cell_type": "markdown",
      "metadata": {
        "id": "rZDTn_YSQmzb"
      },
      "source": [
        "KW for alcohol frequency and health insurance"
      ]
    },
    {
      "cell_type": "code",
      "execution_count": null,
      "metadata": {
        "id": "38jdVRONQ3jz"
      },
      "outputs": [],
      "source": [
        "x1 = dv['IRALCFY'][dv['IRPRVHLT']=='Yes'].sum()\n",
        "x2 = dv['IRALCFY'][dv['IRPRVHLT']=='No'].sum()\n",
        "x=[x1,x2]"
      ]
    },
    {
      "cell_type": "code",
      "execution_count": null,
      "metadata": {
        "id": "aegvkjq4RWw4"
      },
      "outputs": [],
      "source": [
        "c1 = dv['IRPRVHLT'][dv['IRPRVHLT']== 'Yes'].count()\n",
        "c2 = dv['IRPRVHLT'][dv['IRPRVHLT']== 'No'].count()\n",
        "c = [c1,c2]"
      ]
    },
    {
      "cell_type": "markdown",
      "metadata": {
        "id": "wOUlN26nRqM-"
      },
      "source": [
        "KW for alcohol frequency and median household income"
      ]
    },
    {
      "cell_type": "code",
      "execution_count": null,
      "metadata": {
        "id": "hCzPWK5LRu8j"
      },
      "outputs": [],
      "source": [
        "x1 = dv['IRALCFY'][dv['IRPINC3']=='Less than $10,000'].sum()\n",
        "x2 = dv['IRALCFY'][dv['IRPINC3']=='$10,000-$19,999'].sum()\n",
        "x3 = dv['IRALCFY'][dv['IRPINC3']=='$20,000-$29,999'].sum()\n",
        "x4 = dv['IRALCFY'][dv['IRPINC3']=='$30,000-$39,999'].sum()\n",
        "x5 = dv['IRALCFY'][dv['IRPINC3']=='$40,000-$49,999'].sum()\n",
        "x6 = dv['IRALCFY'][dv['IRPINC3']=='$50,000-$74,999'].sum()\n",
        "x7 = dv['IRALCFY'][dv['IRPINC3']=='$75,000 or more'].sum()\n",
        "x=[x1,x2,x3,x4,x5,x6,x7]"
      ]
    },
    {
      "cell_type": "code",
      "execution_count": null,
      "metadata": {
        "id": "uad-FFkJSwpT"
      },
      "outputs": [],
      "source": [
        "c1 = dv['IRPINC3'][dv['IRPINC3']== 'Less than $10,000'].count()\n",
        "c2 = dv['IRPINC3'][dv['IRPINC3']== '$10,000-$19,999'].count()\n",
        "c3 = dv['IRPINC3'][dv['IRPINC3']== '$20,000-$29,999'].count()\n",
        "c4 = dv['IRPINC3'][dv['IRPINC3']== '$30,000-$39,999'].count()\n",
        "c5 = dv['IRPINC3'][dv['IRPINC3']== '$40,000-$49,999'].count()\n",
        "c6 = dv['IRPINC3'][dv['IRPINC3']== '$50,000-$74,999'].count()\n",
        "c7 = dv['IRPINC3'][dv['IRPINC3']== '$75,000 or more'].count()\n",
        "c=[c1,c2,c3,c4,c5,c6,c7]"
      ]
    },
    {
      "cell_type": "code",
      "execution_count": null,
      "metadata": {
        "id": "C-q_sgdWTn6a"
      },
      "outputs": [],
      "source": [
        "stats.kruskal(x,c)"
      ]
    },
    {
      "cell_type": "markdown",
      "metadata": {
        "id": "en8VAAbmT7hK"
      },
      "source": [
        "KW for alcohol frequency and government assistance"
      ]
    },
    {
      "cell_type": "code",
      "execution_count": null,
      "metadata": {
        "id": "xBH9F0JuUH80"
      },
      "outputs": [],
      "source": [
        "x1 = dv['IRALCFY'][dv['IRFAMSOC']=='Yes'].sum()\n",
        "x2 = dv['IRALCFY'][dv['IRFAMSOC']=='No'].sum()\n",
        "x=[x1,x2]"
      ]
    },
    {
      "cell_type": "code",
      "execution_count": null,
      "metadata": {
        "id": "np5Oh8VgUWCf"
      },
      "outputs": [],
      "source": [
        "c1 = dv['IRFAMSOC'][dv['IRFAMSOC']== 'Yes'].count()\n",
        "c2 = dv['IRFAMSOC'][dv['IRFAMSOC']== 'No'].count()\n",
        "c=[c1,c2]"
      ]
    },
    {
      "cell_type": "code",
      "execution_count": null,
      "metadata": {
        "id": "_XhLAKJPU6M1"
      },
      "outputs": [],
      "source": [
        "stats.kruskal(x,c)"
      ]
    },
    {
      "cell_type": "markdown",
      "metadata": {
        "id": "j0zKTo96VFD3"
      },
      "source": [
        "KW for alcohol frequency and perception of unmet need for mental health"
      ]
    },
    {
      "cell_type": "code",
      "execution_count": null,
      "metadata": {
        "id": "kZcqOn-eVSkB"
      },
      "outputs": [],
      "source": [
        "x1 = dv['IRALCFY'][dv['AMHTXND2']=='Unknown/Aged 12-17'].sum()\n",
        "x2 = dv['IRALCFY'][dv['AMHTXND2']=='Yes'].sum()\n",
        "x3 = dv['IRALCFY'][dv['AMHTXND2']=='No'].sum()\n",
        "x=[x1,x2,x3]"
      ]
    },
    {
      "cell_type": "code",
      "execution_count": null,
      "metadata": {
        "id": "dWEazA1BVomQ"
      },
      "outputs": [],
      "source": [
        "c1 = dv['AMHTXND2'][dv['AMHTXND2']== 'Unknown/Aged 12-17'].count()\n",
        "c2 = dv['AMHTXND2'][dv['AMHTXND2']== 'No'].count()\n",
        "c3 = dv['AMHTXND2'][dv['AMHTXND2']== 'Yes'].count()\n",
        "c=[c1,c2,c3]"
      ]
    },
    {
      "cell_type": "code",
      "execution_count": null,
      "metadata": {
        "id": "OFqAl01pV9iu"
      },
      "outputs": [],
      "source": [
        "stats.kruskal(x,c)"
      ]
    },
    {
      "cell_type": "markdown",
      "metadata": {
        "id": "P745P9CEWlgn"
      },
      "source": [
        "KW for alcohol frequency and past depression\n"
      ]
    },
    {
      "cell_type": "code",
      "execution_count": null,
      "metadata": {
        "id": "wFQRYJpoW2PM"
      },
      "outputs": [],
      "source": [
        "x1 = dv['IRALCFY'][dv['AMDEYR']=='Unknown/Aged 12-17'].sum()\n",
        "x2 = dv['IRALCFY'][dv['AMDEYR']=='Yes'].sum()\n",
        "x3 = dv['IRALCFY'][dv['AMDEYR']=='No'].sum()\n",
        "x=[x1,x2,x3]"
      ]
    },
    {
      "cell_type": "code",
      "execution_count": null,
      "metadata": {
        "id": "_dw4vhHnXSWR"
      },
      "outputs": [],
      "source": [
        "c1 = dv['AMDEYR'][dv['AMDEYR']== 'Unknown/Aged 12-17'].count()\n",
        "c2 = dv['AMDEYR'][dv['AMDEYR']== 'No'].count()\n",
        "c3 = dv['AMDEYR'][dv['AMDEYR']== 'Yes'].count()\n",
        "c=[c1,c2,c3]"
      ]
    },
    {
      "cell_type": "code",
      "execution_count": null,
      "metadata": {
        "id": "rUSduNijXeWq"
      },
      "outputs": [],
      "source": [
        "stats.kruskal(x,c)"
      ]
    },
    {
      "cell_type": "markdown",
      "metadata": {
        "id": "HRkIqbeKXpCI"
      },
      "source": [
        "KW for alcohol frequency and level of disability"
      ]
    },
    {
      "cell_type": "code",
      "execution_count": null,
      "metadata": {
        "id": "0loQxX6GXwEk"
      },
      "outputs": [],
      "source": [
        "x1 = dv['IRALCFY'][dv['ASDSHOM2']=='Aged 12-17/Unkn/Skip'].sum()\n",
        "x2 = dv['IRALCFY'][dv['ASDSHOM2']=='None'].sum()\n",
        "x3 = dv['IRALCFY'][dv['ASDSHOM2']=='Mild'].sum()\n",
        "x4 = dv['IRALCFY'][dv['ASDSHOM2']=='Moderate'].sum()\n",
        "x5 = dv['IRALCFY'][dv['ASDSHOM2']=='Severe'].sum()\n",
        "x6 = dv['IRALCFY'][dv['ASDSHOM2']=='Very Severe'].sum()\n",
        "x= [x1,x2,x3,x4,x5,x6]"
      ]
    },
    {
      "cell_type": "code",
      "execution_count": null,
      "metadata": {
        "id": "pSRGrMW8ZDiN"
      },
      "outputs": [],
      "source": [
        "c1 = dv['IRPINC3'][dv['ASDSHOM2']== 'Aged 12-17/Unkn/Skip'].count()\n",
        "c2 = dv['IRPINC3'][dv['ASDSHOM2']== 'None'].count()\n",
        "c3 = dv['IRPINC3'][dv['ASDSHOM2']== 'Mild'].count()\n",
        "c4 = dv['IRPINC3'][dv['ASDSHOM2']== 'Moderate'].count()\n",
        "c5 = dv['IRPINC3'][dv['ASDSHOM2']== 'Severe'].count()\n",
        "c6 = dv['IRPINC3'][dv['ASDSHOM2']== 'Very Severe'].count()\n",
        "c= [c1,c2,c3,c4,c5,c6]"
      ]
    },
    {
      "cell_type": "code",
      "execution_count": null,
      "metadata": {
        "id": "9G272-acZ45k"
      },
      "outputs": [],
      "source": [
        "stats.kruskal(x,c)"
      ]
    },
    {
      "cell_type": "markdown",
      "metadata": {
        "id": "xq9B-jhobNte"
      },
      "source": [
        "KW for alcohol frequency and level of functioning disability"
      ]
    },
    {
      "cell_type": "code",
      "execution_count": null,
      "metadata": {
        "id": "LJnBNXRlbSRh"
      },
      "outputs": [],
      "source": [
        "x1 = dv['IRALCFY'][dv['ASDSWRK2']=='Aged 12-17/Unkn/Skip'].sum()\n",
        "x2 = dv['IRALCFY'][dv['ASDSWRK2']=='None'].sum()\n",
        "x3 = dv['IRALCFY'][dv['ASDSWRK2']=='Mild'].sum()\n",
        "x4 = dv['IRALCFY'][dv['ASDSWRK2']=='Moderate'].sum()\n",
        "x5 = dv['IRALCFY'][dv['ASDSWRK2']=='Severe'].sum()\n",
        "x6 = dv['IRALCFY'][dv['ASDSWRK2']=='Very Severe'].sum()\n",
        "x= [x1,x2,x3,x4,x5,x6]"
      ]
    },
    {
      "cell_type": "code",
      "execution_count": null,
      "metadata": {
        "id": "C7WYaL0ObhxA"
      },
      "outputs": [],
      "source": [
        "c1 = dv['IRPINC3'][dv['ASDSWRK2']== 'Aged 12-17/Unkn/Skip'].count()\n",
        "c2 = dv['IRPINC3'][dv['ASDSWRK2']== 'None'].count()\n",
        "c3 = dv['IRPINC3'][dv['ASDSWRK2']== 'Mild'].count()\n",
        "c4 = dv['IRPINC3'][dv['ASDSWRK2']== 'Moderate'].count()\n",
        "c5 = dv['IRPINC3'][dv['ASDSWRK2']== 'Severe'].count()\n",
        "c6 = dv['IRPINC3'][dv['ASDSWRK2']== 'Very Severe'].count()\n",
        "c= [c1,c2,c3,c4,c5,c6]"
      ]
    },
    {
      "cell_type": "code",
      "execution_count": null,
      "metadata": {
        "id": "rsmAGCGqbz-s"
      },
      "outputs": [],
      "source": [
        "stats.kruskal(x,c)"
      ]
    },
    {
      "cell_type": "markdown",
      "metadata": {
        "id": "s7dUZiA7bFfB"
      },
      "source": [
        "KW between alcohol frequency and Level of functioning disability- from depression- Close Relationships"
      ]
    },
    {
      "cell_type": "code",
      "execution_count": null,
      "metadata": {
        "id": "te6GKBJIaM4P"
      },
      "outputs": [],
      "source": [
        "x1 = dv['IRALCFY'][dv['ASDSREL2']=='Aged 12-17/Unkn/Skip'].sum()\n",
        "x2 = dv['IRALCFY'][dv['ASDSREL2']=='None'].sum()\n",
        "x3 = dv['IRALCFY'][dv['ASDSREL2']=='Mild'].sum()\n",
        "x4 = dv['IRALCFY'][dv['ASDSREL2']=='Moderate'].sum()\n",
        "x5 = dv['IRALCFY'][dv['ASDSREL2']=='Severe'].sum()\n",
        "x6 = dv['IRALCFY'][dv['ASDSREL2']=='Very Severe'].sum()\n",
        "x= [x1,x2,x3,x4,x5,x6]"
      ]
    },
    {
      "cell_type": "code",
      "execution_count": null,
      "metadata": {
        "id": "jU7TaUmwabIC"
      },
      "outputs": [],
      "source": [
        "c1 = dv['IRPINC3'][dv['ASDSREL2']== 'Aged 12-17/Unkn/Skip'].count()\n",
        "c2 = dv['IRPINC3'][dv['ASDSREL2']== 'None'].count()\n",
        "c3 = dv['IRPINC3'][dv['ASDSREL2']== 'Mild'].count()\n",
        "c4 = dv['IRPINC3'][dv['ASDSREL2']== 'Moderate'].count()\n",
        "c5 = dv['IRPINC3'][dv['ASDSREL2']== 'Severe'].count()\n",
        "c6 = dv['IRPINC3'][dv['ASDSREL2']== 'Very Severe'].count()\n",
        "c= [c1,c2,c3,c4,c5,c6]"
      ]
    },
    {
      "cell_type": "code",
      "execution_count": null,
      "metadata": {
        "id": "n2qHzKkram7s"
      },
      "outputs": [],
      "source": [
        "stats.kruskal(x,c)"
      ]
    },
    {
      "cell_type": "markdown",
      "metadata": {
        "id": "fe2orVxta4g6"
      },
      "source": [
        "Kruskal Wallis between alcohol frequency use and Level of functioning disability- from depression- Social life"
      ]
    },
    {
      "cell_type": "code",
      "execution_count": null,
      "metadata": {
        "id": "slvj9YtKar4p"
      },
      "outputs": [],
      "source": [
        "x1 = dv['IRALCFY'][dv['ASDSSOC2']=='Aged 12-17/Unkn/Skip'].sum()\n",
        "x2 = dv['IRALCFY'][dv['ASDSSOC2']=='None'].sum()\n",
        "x3 = dv['IRALCFY'][dv['ASDSSOC2']=='Mild'].sum()\n",
        "x4 = dv['IRALCFY'][dv['ASDSSOC2']=='Moderate'].sum()\n",
        "x5 = dv['IRALCFY'][dv['ASDSSOC2']=='Severe'].sum()\n",
        "x6 = dv['IRALCFY'][dv['ASDSSOC2']=='Very Severe'].sum()\n",
        "x= [x1,x2,x3,x4,x5,x6]"
      ]
    },
    {
      "cell_type": "code",
      "execution_count": null,
      "metadata": {
        "id": "T00-e8t5cR7U"
      },
      "outputs": [],
      "source": [
        "c1 = dv['IRPINC3'][dv['ASDSREL2']== 'Aged 12-17/Unkn/Skip'].count()\n",
        "c2 = dv['IRPINC3'][dv['ASDSREL2']== 'None'].count()\n",
        "c3 = dv['IRPINC3'][dv['ASDSREL2']== 'Mild'].count()\n",
        "c4 = dv['IRPINC3'][dv['ASDSREL2']== 'Moderate'].count()\n",
        "c5 = dv['IRPINC3'][dv['ASDSREL2']== 'Severe'].count()\n",
        "c6 = dv['IRPINC3'][dv['ASDSREL2']== 'Very Severe'].count()\n",
        "c= [c1,c2,c3,c4,c5,c6]"
      ]
    },
    {
      "cell_type": "markdown",
      "source": [
        "Hypothesis Testing\n",
        "\n",
        "To test if there is a statistically significant difference in Genders (M, F) population and alcohol consumption, we apply the Chi-Square Test\n",
        "\n",
        "To run the Chi-Square Test, the easiest way is to convert the data into a contingency table with frequencies. We will use the crosstab command from pandas"
      ],
      "metadata": {
        "id": "SFW63lk-MFiS"
      }
    },
    {
      "cell_type": "code",
      "source": [
        "import pandas as pd\n",
        "import numpy as np\n",
        "from scipy.stats import chi2_contingency\n",
        "import seaborn as sns\n",
        "import matplotlib.pyplot as plt\n",
        "%matplotlib inline\n",
        "contigency= pd.crosstab(dv['IRSEX'], dv['ALCCAT'])\n",
        "contigency"
      ],
      "metadata": {
        "colab": {
          "base_uri": "https://localhost:8080/",
          "height": 142
        },
        "id": "4evrbulYMLxN",
        "outputId": "ab367922-c1e6-44bf-e94b-c3ea50271c97"
      },
      "execution_count": null,
      "outputs": [
        {
          "output_type": "execute_result",
          "data": {
            "text/plain": [
              "ALCCAT      0       1\n",
              "IRSEX                \n",
              "Female  64712  101162\n",
              "Male    58837   90950"
            ],
            "text/html": [
              "\n",
              "  <div id=\"df-d0c695d3-4e41-4430-bea4-f1840febf701\">\n",
              "    <div class=\"colab-df-container\">\n",
              "      <div>\n",
              "<style scoped>\n",
              "    .dataframe tbody tr th:only-of-type {\n",
              "        vertical-align: middle;\n",
              "    }\n",
              "\n",
              "    .dataframe tbody tr th {\n",
              "        vertical-align: top;\n",
              "    }\n",
              "\n",
              "    .dataframe thead th {\n",
              "        text-align: right;\n",
              "    }\n",
              "</style>\n",
              "<table border=\"1\" class=\"dataframe\">\n",
              "  <thead>\n",
              "    <tr style=\"text-align: right;\">\n",
              "      <th>ALCCAT</th>\n",
              "      <th>0</th>\n",
              "      <th>1</th>\n",
              "    </tr>\n",
              "    <tr>\n",
              "      <th>IRSEX</th>\n",
              "      <th></th>\n",
              "      <th></th>\n",
              "    </tr>\n",
              "  </thead>\n",
              "  <tbody>\n",
              "    <tr>\n",
              "      <th>Female</th>\n",
              "      <td>64712</td>\n",
              "      <td>101162</td>\n",
              "    </tr>\n",
              "    <tr>\n",
              "      <th>Male</th>\n",
              "      <td>58837</td>\n",
              "      <td>90950</td>\n",
              "    </tr>\n",
              "  </tbody>\n",
              "</table>\n",
              "</div>\n",
              "      <button class=\"colab-df-convert\" onclick=\"convertToInteractive('df-d0c695d3-4e41-4430-bea4-f1840febf701')\"\n",
              "              title=\"Convert this dataframe to an interactive table.\"\n",
              "              style=\"display:none;\">\n",
              "        \n",
              "  <svg xmlns=\"http://www.w3.org/2000/svg\" height=\"24px\"viewBox=\"0 0 24 24\"\n",
              "       width=\"24px\">\n",
              "    <path d=\"M0 0h24v24H0V0z\" fill=\"none\"/>\n",
              "    <path d=\"M18.56 5.44l.94 2.06.94-2.06 2.06-.94-2.06-.94-.94-2.06-.94 2.06-2.06.94zm-11 1L8.5 8.5l.94-2.06 2.06-.94-2.06-.94L8.5 2.5l-.94 2.06-2.06.94zm10 10l.94 2.06.94-2.06 2.06-.94-2.06-.94-.94-2.06-.94 2.06-2.06.94z\"/><path d=\"M17.41 7.96l-1.37-1.37c-.4-.4-.92-.59-1.43-.59-.52 0-1.04.2-1.43.59L10.3 9.45l-7.72 7.72c-.78.78-.78 2.05 0 2.83L4 21.41c.39.39.9.59 1.41.59.51 0 1.02-.2 1.41-.59l7.78-7.78 2.81-2.81c.8-.78.8-2.07 0-2.86zM5.41 20L4 18.59l7.72-7.72 1.47 1.35L5.41 20z\"/>\n",
              "  </svg>\n",
              "      </button>\n",
              "      \n",
              "  <style>\n",
              "    .colab-df-container {\n",
              "      display:flex;\n",
              "      flex-wrap:wrap;\n",
              "      gap: 12px;\n",
              "    }\n",
              "\n",
              "    .colab-df-convert {\n",
              "      background-color: #E8F0FE;\n",
              "      border: none;\n",
              "      border-radius: 50%;\n",
              "      cursor: pointer;\n",
              "      display: none;\n",
              "      fill: #1967D2;\n",
              "      height: 32px;\n",
              "      padding: 0 0 0 0;\n",
              "      width: 32px;\n",
              "    }\n",
              "\n",
              "    .colab-df-convert:hover {\n",
              "      background-color: #E2EBFA;\n",
              "      box-shadow: 0px 1px 2px rgba(60, 64, 67, 0.3), 0px 1px 3px 1px rgba(60, 64, 67, 0.15);\n",
              "      fill: #174EA6;\n",
              "    }\n",
              "\n",
              "    [theme=dark] .colab-df-convert {\n",
              "      background-color: #3B4455;\n",
              "      fill: #D2E3FC;\n",
              "    }\n",
              "\n",
              "    [theme=dark] .colab-df-convert:hover {\n",
              "      background-color: #434B5C;\n",
              "      box-shadow: 0px 1px 3px 1px rgba(0, 0, 0, 0.15);\n",
              "      filter: drop-shadow(0px 1px 2px rgba(0, 0, 0, 0.3));\n",
              "      fill: #FFFFFF;\n",
              "    }\n",
              "  </style>\n",
              "\n",
              "      <script>\n",
              "        const buttonEl =\n",
              "          document.querySelector('#df-d0c695d3-4e41-4430-bea4-f1840febf701 button.colab-df-convert');\n",
              "        buttonEl.style.display =\n",
              "          google.colab.kernel.accessAllowed ? 'block' : 'none';\n",
              "\n",
              "        async function convertToInteractive(key) {\n",
              "          const element = document.querySelector('#df-d0c695d3-4e41-4430-bea4-f1840febf701');\n",
              "          const dataTable =\n",
              "            await google.colab.kernel.invokeFunction('convertToInteractive',\n",
              "                                                     [key], {});\n",
              "          if (!dataTable) return;\n",
              "\n",
              "          const docLinkHtml = 'Like what you see? Visit the ' +\n",
              "            '<a target=\"_blank\" href=https://colab.research.google.com/notebooks/data_table.ipynb>data table notebook</a>'\n",
              "            + ' to learn more about interactive tables.';\n",
              "          element.innerHTML = '';\n",
              "          dataTable['output_type'] = 'display_data';\n",
              "          await google.colab.output.renderOutput(dataTable, element);\n",
              "          const docLink = document.createElement('div');\n",
              "          docLink.innerHTML = docLinkHtml;\n",
              "          element.appendChild(docLink);\n",
              "        }\n",
              "      </script>\n",
              "    </div>\n",
              "  </div>\n",
              "  "
            ]
          },
          "metadata": {},
          "execution_count": 100
        }
      ]
    },
    {
      "cell_type": "markdown",
      "source": [
        "To visualize the contingency tables, we are plotting the heatmaps"
      ],
      "metadata": {
        "id": "Vw7_77DjMqA5"
      }
    },
    {
      "cell_type": "code",
      "source": [
        "plt.figure(figsize=(12,8))\n",
        "sns.heatmap(contigency, annot=True, cmap=\"YlGnBu\")"
      ],
      "metadata": {
        "colab": {
          "base_uri": "https://localhost:8080/",
          "height": 514
        },
        "id": "ycTdgS65MeSY",
        "outputId": "bcb8a70e-e37c-47af-dd31-e4099b1a9321"
      },
      "execution_count": null,
      "outputs": [
        {
          "output_type": "execute_result",
          "data": {
            "text/plain": [
              "<matplotlib.axes._subplots.AxesSubplot at 0x7efccd745220>"
            ]
          },
          "metadata": {},
          "execution_count": 101
        },
        {
          "output_type": "display_data",
          "data": {
            "text/plain": [
              "<Figure size 864x576 with 2 Axes>"
            ],
            "image/png": "[encoded data removed]"
          },
          "metadata": {
            "needs_background": "light"
          }
        }
      ]
    },
    {
      "cell_type": "markdown",
      "source": [
        "Now that we have built the contingency table we can pass it to chi2_contingency function from the scipy package which returns the: chi2: The test statistic p: The p-value of the test dof: Degrees of freedom expected: The expected frequencies, based on the marginal sums of the table"
      ],
      "metadata": {
        "id": "79xKkiBlM1QZ"
      }
    },
    {
      "cell_type": "code",
      "source": [
        "# Chi-square test of independence.\n",
        "c, p, dof, expected = chi2_contingency(contigency)\n",
        "p"
      ],
      "metadata": {
        "colab": {
          "base_uri": "https://localhost:8080/"
        },
        "id": "TcovjIt6M7-G",
        "outputId": "3a3a3ec8-ec62-4b0d-da69-d3d783251296"
      },
      "execution_count": null,
      "outputs": [
        {
          "output_type": "execute_result",
          "data": {
            "text/plain": [
              "0.12474173453822644"
            ]
          },
          "metadata": {},
          "execution_count": 102
        }
      ]
    },
    {
      "cell_type": "markdown",
      "source": [
        "The p-value is 12.47% which means that we do not reject the null hypothesis. The null hypothesis was that Alcohol consumption and Gender are independent.\n"
      ],
      "metadata": {
        "id": "lu7OWgoZM7vR"
      }
    },
    {
      "cell_type": "markdown",
      "source": [
        "Hypothesis Testing\n",
        "\n",
        "To test if there is a statistically significant difference in Genders (M, F) population and other drug consumption, we apply the Chi-Square Test\n",
        "\n",
        "To run the Chi-Square Test, the easiest way is to convert the data into a contingency table with frequencies. We will use the crosstab command from pandas."
      ],
      "metadata": {
        "id": "8J_Hn-KIHZCt"
      }
    },
    {
      "cell_type": "code",
      "source": [
        "import pandas as pd\n",
        "import numpy as np\n",
        "from scipy.stats import chi2_contingency\n",
        "import seaborn as sns\n",
        "import matplotlib.pyplot as plt\n",
        "%matplotlib inline\n",
        "contigency= pd.crosstab(dv['IRSEX'], dv['ALLDGSCAT'])\n",
        "contigency"
      ],
      "metadata": {
        "colab": {
          "base_uri": "https://localhost:8080/",
          "height": 142
        },
        "id": "FeBdVKnvHdlk",
        "outputId": "f61e21f3-0b15-4164-ca7d-460cc81befd1"
      },
      "execution_count": null,
      "outputs": [
        {
          "output_type": "execute_result",
          "data": {
            "text/plain": [
              "ALLDGSCAT       0      1\n",
              "IRSEX                   \n",
              "Female     134592  31282\n",
              "Male       115149  34638"
            ],
            "text/html": [
              "\n",
              "  <div id=\"df-1ecb9ec2-64de-4597-9cf5-8a87cd5c62c9\">\n",
              "    <div class=\"colab-df-container\">\n",
              "      <div>\n",
              "<style scoped>\n",
              "    .dataframe tbody tr th:only-of-type {\n",
              "        vertical-align: middle;\n",
              "    }\n",
              "\n",
              "    .dataframe tbody tr th {\n",
              "        vertical-align: top;\n",
              "    }\n",
              "\n",
              "    .dataframe thead th {\n",
              "        text-align: right;\n",
              "    }\n",
              "</style>\n",
              "<table border=\"1\" class=\"dataframe\">\n",
              "  <thead>\n",
              "    <tr style=\"text-align: right;\">\n",
              "      <th>ALLDGSCAT</th>\n",
              "      <th>0</th>\n",
              "      <th>1</th>\n",
              "    </tr>\n",
              "    <tr>\n",
              "      <th>IRSEX</th>\n",
              "      <th></th>\n",
              "      <th></th>\n",
              "    </tr>\n",
              "  </thead>\n",
              "  <tbody>\n",
              "    <tr>\n",
              "      <th>Female</th>\n",
              "      <td>134592</td>\n",
              "      <td>31282</td>\n",
              "    </tr>\n",
              "    <tr>\n",
              "      <th>Male</th>\n",
              "      <td>115149</td>\n",
              "      <td>34638</td>\n",
              "    </tr>\n",
              "  </tbody>\n",
              "</table>\n",
              "</div>\n",
              "      <button class=\"colab-df-convert\" onclick=\"convertToInteractive('df-1ecb9ec2-64de-4597-9cf5-8a87cd5c62c9')\"\n",
              "              title=\"Convert this dataframe to an interactive table.\"\n",
              "              style=\"display:none;\">\n",
              "        \n",
              "  <svg xmlns=\"http://www.w3.org/2000/svg\" height=\"24px\"viewBox=\"0 0 24 24\"\n",
              "       width=\"24px\">\n",
              "    <path d=\"M0 0h24v24H0V0z\" fill=\"none\"/>\n",
              "    <path d=\"M18.56 5.44l.94 2.06.94-2.06 2.06-.94-2.06-.94-.94-2.06-.94 2.06-2.06.94zm-11 1L8.5 8.5l.94-2.06 2.06-.94-2.06-.94L8.5 2.5l-.94 2.06-2.06.94zm10 10l.94 2.06.94-2.06 2.06-.94-2.06-.94-.94-2.06-.94 2.06-2.06.94z\"/><path d=\"M17.41 7.96l-1.37-1.37c-.4-.4-.92-.59-1.43-.59-.52 0-1.04.2-1.43.59L10.3 9.45l-7.72 7.72c-.78.78-.78 2.05 0 2.83L4 21.41c.39.39.9.59 1.41.59.51 0 1.02-.2 1.41-.59l7.78-7.78 2.81-2.81c.8-.78.8-2.07 0-2.86zM5.41 20L4 18.59l7.72-7.72 1.47 1.35L5.41 20z\"/>\n",
              "  </svg>\n",
              "      </button>\n",
              "      \n",
              "  <style>\n",
              "    .colab-df-container {\n",
              "      display:flex;\n",
              "      flex-wrap:wrap;\n",
              "      gap: 12px;\n",
              "    }\n",
              "\n",
              "    .colab-df-convert {\n",
              "      background-color: #E8F0FE;\n",
              "      border: none;\n",
              "      border-radius: 50%;\n",
              "      cursor: pointer;\n",
              "      display: none;\n",
              "      fill: #1967D2;\n",
              "      height: 32px;\n",
              "      padding: 0 0 0 0;\n",
              "      width: 32px;\n",
              "    }\n",
              "\n",
              "    .colab-df-convert:hover {\n",
              "      background-color: #E2EBFA;\n",
              "      box-shadow: 0px 1px 2px rgba(60, 64, 67, 0.3), 0px 1px 3px 1px rgba(60, 64, 67, 0.15);\n",
              "      fill: #174EA6;\n",
              "    }\n",
              "\n",
              "    [theme=dark] .colab-df-convert {\n",
              "      background-color: #3B4455;\n",
              "      fill: #D2E3FC;\n",
              "    }\n",
              "\n",
              "    [theme=dark] .colab-df-convert:hover {\n",
              "      background-color: #434B5C;\n",
              "      box-shadow: 0px 1px 3px 1px rgba(0, 0, 0, 0.15);\n",
              "      filter: drop-shadow(0px 1px 2px rgba(0, 0, 0, 0.3));\n",
              "      fill: #FFFFFF;\n",
              "    }\n",
              "  </style>\n",
              "\n",
              "      <script>\n",
              "        const buttonEl =\n",
              "          document.querySelector('#df-1ecb9ec2-64de-4597-9cf5-8a87cd5c62c9 button.colab-df-convert');\n",
              "        buttonEl.style.display =\n",
              "          google.colab.kernel.accessAllowed ? 'block' : 'none';\n",
              "\n",
              "        async function convertToInteractive(key) {\n",
              "          const element = document.querySelector('#df-1ecb9ec2-64de-4597-9cf5-8a87cd5c62c9');\n",
              "          const dataTable =\n",
              "            await google.colab.kernel.invokeFunction('convertToInteractive',\n",
              "                                                     [key], {});\n",
              "          if (!dataTable) return;\n",
              "\n",
              "          const docLinkHtml = 'Like what you see? Visit the ' +\n",
              "            '<a target=\"_blank\" href=https://colab.research.google.com/notebooks/data_table.ipynb>data table notebook</a>'\n",
              "            + ' to learn more about interactive tables.';\n",
              "          element.innerHTML = '';\n",
              "          dataTable['output_type'] = 'display_data';\n",
              "          await google.colab.output.renderOutput(dataTable, element);\n",
              "          const docLink = document.createElement('div');\n",
              "          docLink.innerHTML = docLinkHtml;\n",
              "          element.appendChild(docLink);\n",
              "        }\n",
              "      </script>\n",
              "    </div>\n",
              "  </div>\n",
              "  "
            ]
          },
          "metadata": {},
          "execution_count": 104
        }
      ]
    },
    {
      "cell_type": "markdown",
      "source": [
        "To visualize the contingency tables, we are plotting the heatmaps"
      ],
      "metadata": {
        "id": "yGzXUSqUHrW0"
      }
    },
    {
      "cell_type": "code",
      "source": [
        "plt.figure(figsize=(12,8))\n",
        "sns.heatmap(contigency, annot=True, cmap=\"YlGnBu\")"
      ],
      "metadata": {
        "colab": {
          "base_uri": "https://localhost:8080/",
          "height": 514
        },
        "id": "UeRZ-z3UHn9o",
        "outputId": "0cbd07a7-cfd2-4ca8-d5ae-5d6249f79170"
      },
      "execution_count": null,
      "outputs": [
        {
          "output_type": "execute_result",
          "data": {
            "text/plain": [
              "<matplotlib.axes._subplots.AxesSubplot at 0x7efccd3d2880>"
            ]
          },
          "metadata": {},
          "execution_count": 105
        },
        {
          "output_type": "display_data",
          "data": {
            "text/plain": [
              "<Figure size 864x576 with 2 Axes>"
            ],
            "image/png": "[encoded data removed]"
          },
          "metadata": {
            "needs_background": "light"
          }
        }
      ]
    },
    {
      "cell_type": "markdown",
      "source": [
        "Now that we have built the contingency table we can pass it to chi2_contingency function from the scipy package which returns the:\n",
        "chi2: The test statistic p: The p-value of the test dof: Degrees of freedom expected: The expected frequencies, based on the marginal sums of the table"
      ],
      "metadata": {
        "id": "TOvtl6FZH40U"
      }
    },
    {
      "cell_type": "code",
      "source": [
        "# Chi-square test of independence.\n",
        "c, p, dof, expected = chi2_contingency(contigency)\n",
        "p"
      ],
      "metadata": {
        "colab": {
          "base_uri": "https://localhost:8080/"
        },
        "id": "NQo8-no4H6Pt",
        "outputId": "a83c5b88-88e5-44a9-fb61-8c04db96f893"
      },
      "execution_count": null,
      "outputs": [
        {
          "output_type": "execute_result",
          "data": {
            "text/plain": [
              "1.7045922058752551e-190"
            ]
          },
          "metadata": {},
          "execution_count": 106
        }
      ]
    },
    {
      "cell_type": "markdown",
      "source": [
        " The p-value is very small and insignificant which means that we reject the null hypothesis. The null hypothesis was that other drug consumption and Gender are independent."
      ],
      "metadata": {
        "id": "hcA5RGWvKc7O"
      }
    },
    {
      "cell_type": "markdown",
      "source": [
        "To test if there is a statistically significant difference in Population Race and Alcohol consumption, we apply the Chi-Square Test"
      ],
      "metadata": {
        "id": "dPgzwqcoNtOM"
      }
    },
    {
      "cell_type": "code",
      "source": [
        "contigency= pd.crosstab(dv['NEWRACE2'], dv['ALCCAT'])\n",
        "contigency"
      ],
      "metadata": {
        "colab": {
          "base_uri": "https://localhost:8080/",
          "height": 297
        },
        "id": "1jq2uBAjN26O",
        "outputId": "4099be7b-eb90-40fc-a3ce-385a34dbf22d"
      },
      "execution_count": null,
      "outputs": [
        {
          "output_type": "execute_result",
          "data": {
            "text/plain": [
              "ALCCAT                                      0       1\n",
              "NEWRACE2                                             \n",
              "Asian                                    7385    7448\n",
              "Black/African American                  18501   20622\n",
              "Hispanic                                26663   30628\n",
              "More than one race                       5233    6950\n",
              "Native American/Alaskan Native           2069    2337\n",
              "Native Hawaiian/Other Pacific Islander    793     774\n",
              "White                                   62905  123353"
            ],
            "text/html": [
              "\n",
              "  <div id=\"df-620dfcae-842a-4004-8657-a1f6a5f5b4d4\">\n",
              "    <div class=\"colab-df-container\">\n",
              "      <div>\n",
              "<style scoped>\n",
              "    .dataframe tbody tr th:only-of-type {\n",
              "        vertical-align: middle;\n",
              "    }\n",
              "\n",
              "    .dataframe tbody tr th {\n",
              "        vertical-align: top;\n",
              "    }\n",
              "\n",
              "    .dataframe thead th {\n",
              "        text-align: right;\n",
              "    }\n",
              "</style>\n",
              "<table border=\"1\" class=\"dataframe\">\n",
              "  <thead>\n",
              "    <tr style=\"text-align: right;\">\n",
              "      <th>ALCCAT</th>\n",
              "      <th>0</th>\n",
              "      <th>1</th>\n",
              "    </tr>\n",
              "    <tr>\n",
              "      <th>NEWRACE2</th>\n",
              "      <th></th>\n",
              "      <th></th>\n",
              "    </tr>\n",
              "  </thead>\n",
              "  <tbody>\n",
              "    <tr>\n",
              "      <th>Asian</th>\n",
              "      <td>7385</td>\n",
              "      <td>7448</td>\n",
              "    </tr>\n",
              "    <tr>\n",
              "      <th>Black/African American</th>\n",
              "      <td>18501</td>\n",
              "      <td>20622</td>\n",
              "    </tr>\n",
              "    <tr>\n",
              "      <th>Hispanic</th>\n",
              "      <td>26663</td>\n",
              "      <td>30628</td>\n",
              "    </tr>\n",
              "    <tr>\n",
              "      <th>More than one race</th>\n",
              "      <td>5233</td>\n",
              "      <td>6950</td>\n",
              "    </tr>\n",
              "    <tr>\n",
              "      <th>Native American/Alaskan Native</th>\n",
              "      <td>2069</td>\n",
              "      <td>2337</td>\n",
              "    </tr>\n",
              "    <tr>\n",
              "      <th>Native Hawaiian/Other Pacific Islander</th>\n",
              "      <td>793</td>\n",
              "      <td>774</td>\n",
              "    </tr>\n",
              "    <tr>\n",
              "      <th>White</th>\n",
              "      <td>62905</td>\n",
              "      <td>123353</td>\n",
              "    </tr>\n",
              "  </tbody>\n",
              "</table>\n",
              "</div>\n",
              "      <button class=\"colab-df-convert\" onclick=\"convertToInteractive('df-620dfcae-842a-4004-8657-a1f6a5f5b4d4')\"\n",
              "              title=\"Convert this dataframe to an interactive table.\"\n",
              "              style=\"display:none;\">\n",
              "        \n",
              "  <svg xmlns=\"http://www.w3.org/2000/svg\" height=\"24px\"viewBox=\"0 0 24 24\"\n",
              "       width=\"24px\">\n",
              "    <path d=\"M0 0h24v24H0V0z\" fill=\"none\"/>\n",
              "    <path d=\"M18.56 5.44l.94 2.06.94-2.06 2.06-.94-2.06-.94-.94-2.06-.94 2.06-2.06.94zm-11 1L8.5 8.5l.94-2.06 2.06-.94-2.06-.94L8.5 2.5l-.94 2.06-2.06.94zm10 10l.94 2.06.94-2.06 2.06-.94-2.06-.94-.94-2.06-.94 2.06-2.06.94z\"/><path d=\"M17.41 7.96l-1.37-1.37c-.4-.4-.92-.59-1.43-.59-.52 0-1.04.2-1.43.59L10.3 9.45l-7.72 7.72c-.78.78-.78 2.05 0 2.83L4 21.41c.39.39.9.59 1.41.59.51 0 1.02-.2 1.41-.59l7.78-7.78 2.81-2.81c.8-.78.8-2.07 0-2.86zM5.41 20L4 18.59l7.72-7.72 1.47 1.35L5.41 20z\"/>\n",
              "  </svg>\n",
              "      </button>\n",
              "      \n",
              "  <style>\n",
              "    .colab-df-container {\n",
              "      display:flex;\n",
              "      flex-wrap:wrap;\n",
              "      gap: 12px;\n",
              "    }\n",
              "\n",
              "    .colab-df-convert {\n",
              "      background-color: #E8F0FE;\n",
              "      border: none;\n",
              "      border-radius: 50%;\n",
              "      cursor: pointer;\n",
              "      display: none;\n",
              "      fill: #1967D2;\n",
              "      height: 32px;\n",
              "      padding: 0 0 0 0;\n",
              "      width: 32px;\n",
              "    }\n",
              "\n",
              "    .colab-df-convert:hover {\n",
              "      background-color: #E2EBFA;\n",
              "      box-shadow: 0px 1px 2px rgba(60, 64, 67, 0.3), 0px 1px 3px 1px rgba(60, 64, 67, 0.15);\n",
              "      fill: #174EA6;\n",
              "    }\n",
              "\n",
              "    [theme=dark] .colab-df-convert {\n",
              "      background-color: #3B4455;\n",
              "      fill: #D2E3FC;\n",
              "    }\n",
              "\n",
              "    [theme=dark] .colab-df-convert:hover {\n",
              "      background-color: #434B5C;\n",
              "      box-shadow: 0px 1px 3px 1px rgba(0, 0, 0, 0.15);\n",
              "      filter: drop-shadow(0px 1px 2px rgba(0, 0, 0, 0.3));\n",
              "      fill: #FFFFFF;\n",
              "    }\n",
              "  </style>\n",
              "\n",
              "      <script>\n",
              "        const buttonEl =\n",
              "          document.querySelector('#df-620dfcae-842a-4004-8657-a1f6a5f5b4d4 button.colab-df-convert');\n",
              "        buttonEl.style.display =\n",
              "          google.colab.kernel.accessAllowed ? 'block' : 'none';\n",
              "\n",
              "        async function convertToInteractive(key) {\n",
              "          const element = document.querySelector('#df-620dfcae-842a-4004-8657-a1f6a5f5b4d4');\n",
              "          const dataTable =\n",
              "            await google.colab.kernel.invokeFunction('convertToInteractive',\n",
              "                                                     [key], {});\n",
              "          if (!dataTable) return;\n",
              "\n",
              "          const docLinkHtml = 'Like what you see? Visit the ' +\n",
              "            '<a target=\"_blank\" href=https://colab.research.google.com/notebooks/data_table.ipynb>data table notebook</a>'\n",
              "            + ' to learn more about interactive tables.';\n",
              "          element.innerHTML = '';\n",
              "          dataTable['output_type'] = 'display_data';\n",
              "          await google.colab.output.renderOutput(dataTable, element);\n",
              "          const docLink = document.createElement('div');\n",
              "          docLink.innerHTML = docLinkHtml;\n",
              "          element.appendChild(docLink);\n",
              "        }\n",
              "      </script>\n",
              "    </div>\n",
              "  </div>\n",
              "  "
            ]
          },
          "metadata": {},
          "execution_count": 107
        }
      ]
    },
    {
      "cell_type": "code",
      "source": [
        "plt.figure(figsize=(12,8))\n",
        "sns.heatmap(contigency, annot=True, cmap=\"YlGnBu\")"
      ],
      "metadata": {
        "colab": {
          "base_uri": "https://localhost:8080/",
          "height": 514
        },
        "id": "MCglUgqaN-dR",
        "outputId": "83cec927-84ff-4c10-e4d1-556d8f33b8dc"
      },
      "execution_count": null,
      "outputs": [
        {
          "output_type": "execute_result",
          "data": {
            "text/plain": [
              "<matplotlib.axes._subplots.AxesSubplot at 0x7efccd6bcf10>"
            ]
          },
          "metadata": {},
          "execution_count": 108
        },
        {
          "output_type": "display_data",
          "data": {
            "text/plain": [
              "<Figure size 864x576 with 2 Axes>"
            ],
            "image/png": "[encoded data removed]"
          },
          "metadata": {
            "needs_background": "light"
          }
        }
      ]
    },
    {
      "cell_type": "code",
      "source": [
        "# Chi-square test of independence.\n",
        "c, p, dof, expected = chi2_contingency(contigency)\n",
        "p"
      ],
      "metadata": {
        "colab": {
          "base_uri": "https://localhost:8080/"
        },
        "id": "oewVl4_DOMnr",
        "outputId": "b1db7f3b-58c9-42a7-84be-e484c0a480d6"
      },
      "execution_count": null,
      "outputs": [
        {
          "output_type": "execute_result",
          "data": {
            "text/plain": [
              "0.0"
            ]
          },
          "metadata": {},
          "execution_count": 109
        }
      ]
    },
    {
      "cell_type": "markdown",
      "source": [
        "The p-value is 0% which means that we reject the null hypothesis. The null hypothesis was that Alcohol consumption and Race are independent."
      ],
      "metadata": {
        "id": "7Ze-FMiiOQtQ"
      }
    },
    {
      "cell_type": "markdown",
      "source": [
        "To test if there is a statistically significant difference in Population Race and other drug consumption consumption, we apply the Chi-Square Test"
      ],
      "metadata": {
        "id": "XUdpsq17Kg3m"
      }
    },
    {
      "cell_type": "code",
      "source": [
        "contigency= pd.crosstab(dv['NEWRACE2'], dv['ALLDGSCAT'])\n",
        "contigency"
      ],
      "metadata": {
        "colab": {
          "base_uri": "https://localhost:8080/",
          "height": 297
        },
        "id": "mbQsxGbMKl7y",
        "outputId": "7fd84a8d-6125-46d8-cf4e-0b8b770df6b8"
      },
      "execution_count": null,
      "outputs": [
        {
          "output_type": "execute_result",
          "data": {
            "text/plain": [
              "ALLDGSCAT                                    0      1\n",
              "NEWRACE2                                             \n",
              "Asian                                    13210   1623\n",
              "Black/African American                   30317   8806\n",
              "Hispanic                                 46642  10649\n",
              "More than one race                        8637   3546\n",
              "Native American/Alaskan Native            3091   1315\n",
              "Native Hawaiian/Other Pacific Islander    1265    302\n",
              "White                                   146579  39679"
            ],
            "text/html": [
              "\n",
              "  <div id=\"df-c429c788-062f-4ea1-908d-da20417fbe71\">\n",
              "    <div class=\"colab-df-container\">\n",
              "      <div>\n",
              "<style scoped>\n",
              "    .dataframe tbody tr th:only-of-type {\n",
              "        vertical-align: middle;\n",
              "    }\n",
              "\n",
              "    .dataframe tbody tr th {\n",
              "        vertical-align: top;\n",
              "    }\n",
              "\n",
              "    .dataframe thead th {\n",
              "        text-align: right;\n",
              "    }\n",
              "</style>\n",
              "<table border=\"1\" class=\"dataframe\">\n",
              "  <thead>\n",
              "    <tr style=\"text-align: right;\">\n",
              "      <th>ALLDGSCAT</th>\n",
              "      <th>0</th>\n",
              "      <th>1</th>\n",
              "    </tr>\n",
              "    <tr>\n",
              "      <th>NEWRACE2</th>\n",
              "      <th></th>\n",
              "      <th></th>\n",
              "    </tr>\n",
              "  </thead>\n",
              "  <tbody>\n",
              "    <tr>\n",
              "      <th>Asian</th>\n",
              "      <td>13210</td>\n",
              "      <td>1623</td>\n",
              "    </tr>\n",
              "    <tr>\n",
              "      <th>Black/African American</th>\n",
              "      <td>30317</td>\n",
              "      <td>8806</td>\n",
              "    </tr>\n",
              "    <tr>\n",
              "      <th>Hispanic</th>\n",
              "      <td>46642</td>\n",
              "      <td>10649</td>\n",
              "    </tr>\n",
              "    <tr>\n",
              "      <th>More than one race</th>\n",
              "      <td>8637</td>\n",
              "      <td>3546</td>\n",
              "    </tr>\n",
              "    <tr>\n",
              "      <th>Native American/Alaskan Native</th>\n",
              "      <td>3091</td>\n",
              "      <td>1315</td>\n",
              "    </tr>\n",
              "    <tr>\n",
              "      <th>Native Hawaiian/Other Pacific Islander</th>\n",
              "      <td>1265</td>\n",
              "      <td>302</td>\n",
              "    </tr>\n",
              "    <tr>\n",
              "      <th>White</th>\n",
              "      <td>146579</td>\n",
              "      <td>39679</td>\n",
              "    </tr>\n",
              "  </tbody>\n",
              "</table>\n",
              "</div>\n",
              "      <button class=\"colab-df-convert\" onclick=\"convertToInteractive('df-c429c788-062f-4ea1-908d-da20417fbe71')\"\n",
              "              title=\"Convert this dataframe to an interactive table.\"\n",
              "              style=\"display:none;\">\n",
              "        \n",
              "  <svg xmlns=\"http://www.w3.org/2000/svg\" height=\"24px\"viewBox=\"0 0 24 24\"\n",
              "       width=\"24px\">\n",
              "    <path d=\"M0 0h24v24H0V0z\" fill=\"none\"/>\n",
              "    <path d=\"M18.56 5.44l.94 2.06.94-2.06 2.06-.94-2.06-.94-.94-2.06-.94 2.06-2.06.94zm-11 1L8.5 8.5l.94-2.06 2.06-.94-2.06-.94L8.5 2.5l-.94 2.06-2.06.94zm10 10l.94 2.06.94-2.06 2.06-.94-2.06-.94-.94-2.06-.94 2.06-2.06.94z\"/><path d=\"M17.41 7.96l-1.37-1.37c-.4-.4-.92-.59-1.43-.59-.52 0-1.04.2-1.43.59L10.3 9.45l-7.72 7.72c-.78.78-.78 2.05 0 2.83L4 21.41c.39.39.9.59 1.41.59.51 0 1.02-.2 1.41-.59l7.78-7.78 2.81-2.81c.8-.78.8-2.07 0-2.86zM5.41 20L4 18.59l7.72-7.72 1.47 1.35L5.41 20z\"/>\n",
              "  </svg>\n",
              "      </button>\n",
              "      \n",
              "  <style>\n",
              "    .colab-df-container {\n",
              "      display:flex;\n",
              "      flex-wrap:wrap;\n",
              "      gap: 12px;\n",
              "    }\n",
              "\n",
              "    .colab-df-convert {\n",
              "      background-color: #E8F0FE;\n",
              "      border: none;\n",
              "      border-radius: 50%;\n",
              "      cursor: pointer;\n",
              "      display: none;\n",
              "      fill: #1967D2;\n",
              "      height: 32px;\n",
              "      padding: 0 0 0 0;\n",
              "      width: 32px;\n",
              "    }\n",
              "\n",
              "    .colab-df-convert:hover {\n",
              "      background-color: #E2EBFA;\n",
              "      box-shadow: 0px 1px 2px rgba(60, 64, 67, 0.3), 0px 1px 3px 1px rgba(60, 64, 67, 0.15);\n",
              "      fill: #174EA6;\n",
              "    }\n",
              "\n",
              "    [theme=dark] .colab-df-convert {\n",
              "      background-color: #3B4455;\n",
              "      fill: #D2E3FC;\n",
              "    }\n",
              "\n",
              "    [theme=dark] .colab-df-convert:hover {\n",
              "      background-color: #434B5C;\n",
              "      box-shadow: 0px 1px 3px 1px rgba(0, 0, 0, 0.15);\n",
              "      filter: drop-shadow(0px 1px 2px rgba(0, 0, 0, 0.3));\n",
              "      fill: #FFFFFF;\n",
              "    }\n",
              "  </style>\n",
              "\n",
              "      <script>\n",
              "        const buttonEl =\n",
              "          document.querySelector('#df-c429c788-062f-4ea1-908d-da20417fbe71 button.colab-df-convert');\n",
              "        buttonEl.style.display =\n",
              "          google.colab.kernel.accessAllowed ? 'block' : 'none';\n",
              "\n",
              "        async function convertToInteractive(key) {\n",
              "          const element = document.querySelector('#df-c429c788-062f-4ea1-908d-da20417fbe71');\n",
              "          const dataTable =\n",
              "            await google.colab.kernel.invokeFunction('convertToInteractive',\n",
              "                                                     [key], {});\n",
              "          if (!dataTable) return;\n",
              "\n",
              "          const docLinkHtml = 'Like what you see? Visit the ' +\n",
              "            '<a target=\"_blank\" href=https://colab.research.google.com/notebooks/data_table.ipynb>data table notebook</a>'\n",
              "            + ' to learn more about interactive tables.';\n",
              "          element.innerHTML = '';\n",
              "          dataTable['output_type'] = 'display_data';\n",
              "          await google.colab.output.renderOutput(dataTable, element);\n",
              "          const docLink = document.createElement('div');\n",
              "          docLink.innerHTML = docLinkHtml;\n",
              "          element.appendChild(docLink);\n",
              "        }\n",
              "      </script>\n",
              "    </div>\n",
              "  </div>\n",
              "  "
            ]
          },
          "metadata": {},
          "execution_count": 89
        }
      ]
    },
    {
      "cell_type": "code",
      "source": [
        "plt.figure(figsize=(12,8))\n",
        "sns.heatmap(contigency, annot=True, cmap=\"YlGnBu\")"
      ],
      "metadata": {
        "colab": {
          "base_uri": "https://localhost:8080/",
          "height": 514
        },
        "id": "Aj0z8kssKd5e",
        "outputId": "3c8db3f3-9d49-4554-959b-c8904f78b500"
      },
      "execution_count": null,
      "outputs": [
        {
          "output_type": "execute_result",
          "data": {
            "text/plain": [
              "<matplotlib.axes._subplots.AxesSubplot at 0x7efcd008b640>"
            ]
          },
          "metadata": {},
          "execution_count": 90
        },
        {
          "output_type": "display_data",
          "data": {
            "text/plain": [
              "<Figure size 864x576 with 2 Axes>"
            ],
            "image/png": "[encoded data removed]"
          },
          "metadata": {
            "needs_background": "light"
          }
        }
      ]
    },
    {
      "cell_type": "code",
      "source": [
        "# Chi-square test of independence.\n",
        "c, p, dof, expected = chi2_contingency(contigency)\n",
        "p"
      ],
      "metadata": {
        "colab": {
          "base_uri": "https://localhost:8080/"
        },
        "id": "1E77p_HiKsEB",
        "outputId": "30d3cf6b-f56e-4422-e1ad-0f5d96fed76c"
      },
      "execution_count": null,
      "outputs": [
        {
          "output_type": "execute_result",
          "data": {
            "text/plain": [
              "0.0"
            ]
          },
          "metadata": {},
          "execution_count": 91
        }
      ]
    },
    {
      "cell_type": "markdown",
      "source": [
        "The p-value is 0% which means that we reject the null hypothesis. The null hypothesis was that other drug consumption and Race are independent."
      ],
      "metadata": {
        "id": "gTsqJm9yK1ih"
      }
    },
    {
      "cell_type": "markdown",
      "source": [
        "To test if there is a statistically significant difference in Education and other drug consumption, we apply the Chi-Square Test"
      ],
      "metadata": {
        "id": "KCm7T5GJK58A"
      }
    },
    {
      "cell_type": "code",
      "source": [
        "contigency= pd.crosstab(dv['IREDUHIGHST2'], dv['ALLDGSCAT'])\n",
        "contigency"
      ],
      "metadata": {
        "colab": {
          "base_uri": "https://localhost:8080/",
          "height": 421
        },
        "id": "dW_RStz4K2cC",
        "outputId": "f58644db-91bc-49d8-e62d-d660071b5d8a"
      },
      "execution_count": null,
      "outputs": [
        {
          "output_type": "execute_result",
          "data": {
            "text/plain": [
              "ALLDGSCAT                                            0      1\n",
              "IREDUHIGHST2                                                 \n",
              "Associate's degree (AA, AS)                      17787   4413\n",
              "College graduate or higher                       56089  12410\n",
              "Eighth grade completed                           13100   1990\n",
              "Eleventh or Twelfth grade completed, no diploma  16572   6422\n",
              "Fifth grade or less grade completed               5735    320\n",
              "High school diploma/GED                          48312  15077\n",
              "Ninth grade completed                            13458   3238\n",
              "Seventh grade completed                          12138    948\n",
              "Sixth grade completed                            11976    560\n",
              "Some college credit, but no degree               41934  16316\n",
              "Tenth grade completed                            12640   4226"
            ],
            "text/html": [
              "\n",
              "  <div id=\"df-b711ee41-a68d-4384-bddc-fb39f1a228fa\">\n",
              "    <div class=\"colab-df-container\">\n",
              "      <div>\n",
              "<style scoped>\n",
              "    .dataframe tbody tr th:only-of-type {\n",
              "        vertical-align: middle;\n",
              "    }\n",
              "\n",
              "    .dataframe tbody tr th {\n",
              "        vertical-align: top;\n",
              "    }\n",
              "\n",
              "    .dataframe thead th {\n",
              "        text-align: right;\n",
              "    }\n",
              "</style>\n",
              "<table border=\"1\" class=\"dataframe\">\n",
              "  <thead>\n",
              "    <tr style=\"text-align: right;\">\n",
              "      <th>ALLDGSCAT</th>\n",
              "      <th>0</th>\n",
              "      <th>1</th>\n",
              "    </tr>\n",
              "    <tr>\n",
              "      <th>IREDUHIGHST2</th>\n",
              "      <th></th>\n",
              "      <th></th>\n",
              "    </tr>\n",
              "  </thead>\n",
              "  <tbody>\n",
              "    <tr>\n",
              "      <th>Associate's degree (AA, AS)</th>\n",
              "      <td>17787</td>\n",
              "      <td>4413</td>\n",
              "    </tr>\n",
              "    <tr>\n",
              "      <th>College graduate or higher</th>\n",
              "      <td>56089</td>\n",
              "      <td>12410</td>\n",
              "    </tr>\n",
              "    <tr>\n",
              "      <th>Eighth grade completed</th>\n",
              "      <td>13100</td>\n",
              "      <td>1990</td>\n",
              "    </tr>\n",
              "    <tr>\n",
              "      <th>Eleventh or Twelfth grade completed, no diploma</th>\n",
              "      <td>16572</td>\n",
              "      <td>6422</td>\n",
              "    </tr>\n",
              "    <tr>\n",
              "      <th>Fifth grade or less grade completed</th>\n",
              "      <td>5735</td>\n",
              "      <td>320</td>\n",
              "    </tr>\n",
              "    <tr>\n",
              "      <th>High school diploma/GED</th>\n",
              "      <td>48312</td>\n",
              "      <td>15077</td>\n",
              "    </tr>\n",
              "    <tr>\n",
              "      <th>Ninth grade completed</th>\n",
              "      <td>13458</td>\n",
              "      <td>3238</td>\n",
              "    </tr>\n",
              "    <tr>\n",
              "      <th>Seventh grade completed</th>\n",
              "      <td>12138</td>\n",
              "      <td>948</td>\n",
              "    </tr>\n",
              "    <tr>\n",
              "      <th>Sixth grade completed</th>\n",
              "      <td>11976</td>\n",
              "      <td>560</td>\n",
              "    </tr>\n",
              "    <tr>\n",
              "      <th>Some college credit, but no degree</th>\n",
              "      <td>41934</td>\n",
              "      <td>16316</td>\n",
              "    </tr>\n",
              "    <tr>\n",
              "      <th>Tenth grade completed</th>\n",
              "      <td>12640</td>\n",
              "      <td>4226</td>\n",
              "    </tr>\n",
              "  </tbody>\n",
              "</table>\n",
              "</div>\n",
              "      <button class=\"colab-df-convert\" onclick=\"convertToInteractive('df-b711ee41-a68d-4384-bddc-fb39f1a228fa')\"\n",
              "              title=\"Convert this dataframe to an interactive table.\"\n",
              "              style=\"display:none;\">\n",
              "        \n",
              "  <svg xmlns=\"http://www.w3.org/2000/svg\" height=\"24px\"viewBox=\"0 0 24 24\"\n",
              "       width=\"24px\">\n",
              "    <path d=\"M0 0h24v24H0V0z\" fill=\"none\"/>\n",
              "    <path d=\"M18.56 5.44l.94 2.06.94-2.06 2.06-.94-2.06-.94-.94-2.06-.94 2.06-2.06.94zm-11 1L8.5 8.5l.94-2.06 2.06-.94-2.06-.94L8.5 2.5l-.94 2.06-2.06.94zm10 10l.94 2.06.94-2.06 2.06-.94-2.06-.94-.94-2.06-.94 2.06-2.06.94z\"/><path d=\"M17.41 7.96l-1.37-1.37c-.4-.4-.92-.59-1.43-.59-.52 0-1.04.2-1.43.59L10.3 9.45l-7.72 7.72c-.78.78-.78 2.05 0 2.83L4 21.41c.39.39.9.59 1.41.59.51 0 1.02-.2 1.41-.59l7.78-7.78 2.81-2.81c.8-.78.8-2.07 0-2.86zM5.41 20L4 18.59l7.72-7.72 1.47 1.35L5.41 20z\"/>\n",
              "  </svg>\n",
              "      </button>\n",
              "      \n",
              "  <style>\n",
              "    .colab-df-container {\n",
              "      display:flex;\n",
              "      flex-wrap:wrap;\n",
              "      gap: 12px;\n",
              "    }\n",
              "\n",
              "    .colab-df-convert {\n",
              "      background-color: #E8F0FE;\n",
              "      border: none;\n",
              "      border-radius: 50%;\n",
              "      cursor: pointer;\n",
              "      display: none;\n",
              "      fill: #1967D2;\n",
              "      height: 32px;\n",
              "      padding: 0 0 0 0;\n",
              "      width: 32px;\n",
              "    }\n",
              "\n",
              "    .colab-df-convert:hover {\n",
              "      background-color: #E2EBFA;\n",
              "      box-shadow: 0px 1px 2px rgba(60, 64, 67, 0.3), 0px 1px 3px 1px rgba(60, 64, 67, 0.15);\n",
              "      fill: #174EA6;\n",
              "    }\n",
              "\n",
              "    [theme=dark] .colab-df-convert {\n",
              "      background-color: #3B4455;\n",
              "      fill: #D2E3FC;\n",
              "    }\n",
              "\n",
              "    [theme=dark] .colab-df-convert:hover {\n",
              "      background-color: #434B5C;\n",
              "      box-shadow: 0px 1px 3px 1px rgba(0, 0, 0, 0.15);\n",
              "      filter: drop-shadow(0px 1px 2px rgba(0, 0, 0, 0.3));\n",
              "      fill: #FFFFFF;\n",
              "    }\n",
              "  </style>\n",
              "\n",
              "      <script>\n",
              "        const buttonEl =\n",
              "          document.querySelector('#df-b711ee41-a68d-4384-bddc-fb39f1a228fa button.colab-df-convert');\n",
              "        buttonEl.style.display =\n",
              "          google.colab.kernel.accessAllowed ? 'block' : 'none';\n",
              "\n",
              "        async function convertToInteractive(key) {\n",
              "          const element = document.querySelector('#df-b711ee41-a68d-4384-bddc-fb39f1a228fa');\n",
              "          const dataTable =\n",
              "            await google.colab.kernel.invokeFunction('convertToInteractive',\n",
              "                                                     [key], {});\n",
              "          if (!dataTable) return;\n",
              "\n",
              "          const docLinkHtml = 'Like what you see? Visit the ' +\n",
              "            '<a target=\"_blank\" href=https://colab.research.google.com/notebooks/data_table.ipynb>data table notebook</a>'\n",
              "            + ' to learn more about interactive tables.';\n",
              "          element.innerHTML = '';\n",
              "          dataTable['output_type'] = 'display_data';\n",
              "          await google.colab.output.renderOutput(dataTable, element);\n",
              "          const docLink = document.createElement('div');\n",
              "          docLink.innerHTML = docLinkHtml;\n",
              "          element.appendChild(docLink);\n",
              "        }\n",
              "      </script>\n",
              "    </div>\n",
              "  </div>\n",
              "  "
            ]
          },
          "metadata": {},
          "execution_count": 92
        }
      ]
    },
    {
      "cell_type": "code",
      "source": [
        "plt.figure(figsize=(12,8))\n",
        "sns.heatmap(contigency, annot=True, cmap=\"YlGnBu\")"
      ],
      "metadata": {
        "colab": {
          "base_uri": "https://localhost:8080/",
          "height": 514
        },
        "id": "_Kqy1U_kLApM",
        "outputId": "6aef53e8-e138-4ddd-aa08-615cecc9fb7f"
      },
      "execution_count": null,
      "outputs": [
        {
          "output_type": "execute_result",
          "data": {
            "text/plain": [
              "<matplotlib.axes._subplots.AxesSubplot at 0x7efccd7b0dc0>"
            ]
          },
          "metadata": {},
          "execution_count": 93
        },
        {
          "output_type": "display_data",
          "data": {
            "text/plain": [
              "<Figure size 864x576 with 2 Axes>"
            ],
            "image/png": "[encoded data removed]"
          },
          "metadata": {
            "needs_background": "light"
          }
        }
      ]
    },
    {
      "cell_type": "code",
      "source": [
        "# Chi-square test of independence.\n",
        "c, p, dof, expected = chi2_contingency(contigency)\n",
        "p"
      ],
      "metadata": {
        "colab": {
          "base_uri": "https://localhost:8080/"
        },
        "id": "Rx_aNjH8LFZW",
        "outputId": "2c336a1a-cfdd-401e-cea4-a0da81b64965"
      },
      "execution_count": null,
      "outputs": [
        {
          "output_type": "execute_result",
          "data": {
            "text/plain": [
              "0.0"
            ]
          },
          "metadata": {},
          "execution_count": 94
        }
      ]
    },
    {
      "cell_type": "markdown",
      "source": [
        "The p-value is 0% which means that we reject the null hypothesis. The null hypothesis was that other drug consumption and Education are independent."
      ],
      "metadata": {
        "id": "UbBwC1tHLIoM"
      }
    },
    {
      "cell_type": "markdown",
      "source": [
        "#ML models"
      ],
      "metadata": {
        "id": "VjWww14iXS51"
      }
    },
    {
      "cell_type": "markdown",
      "metadata": {
        "id": "rDSOPHXRnur5"
      },
      "source": [
        "# **CLASSIFICATION**"
      ]
    },
    {
      "cell_type": "markdown",
      "metadata": {
        "id": "huUAJzYdngaD"
      },
      "source": [
        "# **X data**"
      ]
    },
    {
      "cell_type": "code",
      "execution_count": null,
      "metadata": {
        "id": "KkH4_qKAoIoR"
      },
      "outputs": [],
      "source": [
        "#  One-hot encoding (Dummy encoding)\n",
        "\n",
        "import matplotlib.pyplot as plt\n",
        "\n",
        "# Dummy encoding on the categorical columns:\n",
        "# 'ASDSHOM2','ASDSWRK2','ASDSREL2','ASDSSOC2','ASDSOVL2','IRSEX','IREDUHIGHST2','CATAGE','NEWRACE2','IRWRKSTAT','IRPINC3','INCOME','PDEN10' & 'COUTYP4'\n",
        "dummy1=pd.get_dummies(df['ASDSHOM2'])\n",
        "dummy2=pd.get_dummies(df['ASDSWRK2'])\n",
        "dummy3=pd.get_dummies(df['ASDSREL2'])\n",
        "dummy4=pd.get_dummies(df['ASDSSOC2'])\n",
        "dummy5=pd.get_dummies(df['ASDSOVL2'])\n",
        "dummy6=pd.get_dummies(df['IRSEX'])\n",
        "dummy7=pd.get_dummies(df['IREDUHIGHST2'])\n",
        "dummy8=pd.get_dummies(df['CATAGE'])\n",
        "dummy9=pd.get_dummies(df['NEWRACE2'])\n",
        "dummy10=pd.get_dummies(df['IRWRKSTAT'])\n",
        "dummy11=pd.get_dummies(df['IRPINC3'])\n",
        "dummy12=pd.get_dummies(df['INCOME'])\n",
        "dummy13=pd.get_dummies(df['PDEN10'])\n",
        "dummy14=pd.get_dummies(df['COUTYP4'])\n",
        "\n",
        "# Combining df, dummy1 to dummy14. We are adding cols, so axis=1\n",
        "master = pd.concat([df, dummy1, dummy2, dummy3, dummy4, dummy5, dummy6, dummy7, dummy8, dummy9, dummy10, dummy11, dummy12, dummy13, dummy14],axis=1) "
      ]
    },
    {
      "cell_type": "code",
      "execution_count": null,
      "metadata": {
        "id": "djkdHT0sogEd"
      },
      "outputs": [],
      "source": [
        "# Removing QUESTID2, IRALCFY:IRMETHAMYFQ, ALCFLAG:METHAMFLAG, ASDSHOM2:ASDSOVL2 (dummy encoded), IRSEX (dummy enc'd)  \n",
        "# NEWRACE2 (dummy enc'd),'IREDUHIGHST2','CATAGE','NEWRACE2','IRWRKSTAT','IRPINC3','INCOME','PDEN10', 'COUTYP4' (all dummy enc'd), ALCCAT, IRALCFY, ALLDGSFLAG, ALLDGS from Master data\n",
        "# Also removing dummy encoded variables and variables that were decided to remove after correlation matrix\n",
        "x = master.drop(master.columns[[0,1,2,3,4,5,6,7,8,9,10,11,12,13,14,15,16,19,20,21,22,23,24,25,26,27,28,31,32,33,34,35,36,37,38,39]],axis=1) \n",
        "\n"
      ]
    },
    {
      "cell_type": "code",
      "execution_count": null,
      "metadata": {
        "id": "ewV1O7BhveQU"
      },
      "outputs": [],
      "source": [
        "# Renaming depression categories to avoid column duplication\n",
        "i=5\n",
        "x.columns.values[9-i] = 'Aged 12-17/Unkn/Skip_ASDSHOM2'\n",
        "x.columns.values[10-i] = 'Mild_ASDSHOM2'\n",
        "x.columns.values[11-i] = 'Moderate_ASDSHOM2'\n",
        "x.columns.values[12-i] = 'None_ASDSHOM2'\n",
        "x.columns.values[13-i] = 'Severe_ASDSHOM2'\n",
        "x.columns.values[14-i] = 'Very Severe_ASDSHOM2'\n",
        "\n",
        "x.columns.values[15-i] = 'Aged 12-17/Unkn/Skip_ASDSWRK2'\n",
        "x.columns.values[16-i] = 'Mild_ASDSWRK2'\n",
        "x.columns.values[17-i] = 'Moderate_ASDSWRK2'\n",
        "x.columns.values[18-i] = 'None_ASDSWRK2'\n",
        "x.columns.values[19-i] = 'Severe_ASDSWRK2'\n",
        "x.columns.values[20-i] = 'Very Severe_ASDSWRK2'\n",
        "\n",
        "x.columns.values[21-i] = 'Aged 12-17/Unkn/Skip_ASDSREL2'\n",
        "x.columns.values[22-i] = 'Mild_ASDSREL2'\n",
        "x.columns.values[23-i] = 'Moderate_ASDSREL2'\n",
        "x.columns.values[24-i] = 'None_ASDSREL2'\n",
        "x.columns.values[25-i] = 'Severe_ASDSREL2'\n",
        "x.columns.values[26-i] = 'Very Severe_ASDSREL2'\n",
        "\n",
        "x.columns.values[27-i] = 'Aged 12-17/Unkn/Skip_ASDSSOC2'\n",
        "x.columns.values[28-i] = 'Mild_ASDSSOC2'\n",
        "x.columns.values[29-i] = 'Moderate_ASDSSOC2'\n",
        "x.columns.values[30-i] = 'None_ASDSSOC2'\n",
        "x.columns.values[31-i] = 'Severe_ASDSSOC2'\n",
        "x.columns.values[32-i] = 'Very Severe_ASDSSOC2'\n",
        "\n",
        "x.columns.values[33-i] = 'Aged 12-17/Unkn/Skip_ASDSOVL2'\n",
        "x.columns.values[34-i] = 'Mild_ASDSOVL2'\n",
        "x.columns.values[35-i] = 'Moderate_ASDSOVL2'\n",
        "x.columns.values[36-i] = 'None_ASDSOVL2'\n",
        "x.columns.values[37-i] = 'Severe_ASDSOVL2'\n",
        "x.columns.values[38-i] = 'Very Severe_ASDSOVL2'"
      ]
    },
    {
      "cell_type": "code",
      "execution_count": null,
      "metadata": {
        "id": "t1GeVNt5wYNq"
      },
      "outputs": [],
      "source": [
        "x.columns.values[70] = '$20,000-$49,999_INCOME'\n",
        "x.columns.values[71] = '$50,000-$74,999_INCOME'\n",
        "x.columns.values[72] = '$75,000 or more_INCOME'\n",
        "x.columns.values[73] = 'Less than $20,000_INCOME'"
      ]
    },
    {
      "cell_type": "code",
      "execution_count": null,
      "metadata": {
        "id": "CyuTNk_ybSA3"
      },
      "outputs": [],
      "source": [
        "x.columns.values[58] = '12-14 year olds_IRWRKSTAT'"
      ]
    },
    {
      "cell_type": "markdown",
      "metadata": {
        "id": "_C0tAQSfu0m5"
      },
      "source": [
        "# For ALCCAT (Consumed/Not consumed Alcohol)"
      ]
    },
    {
      "cell_type": "markdown",
      "metadata": {
        "id": "Rp15BCz1vIdX"
      },
      "source": [
        "##**Y Data**"
      ]
    },
    {
      "cell_type": "code",
      "execution_count": null,
      "metadata": {
        "id": "-vtI10aY809r"
      },
      "outputs": [],
      "source": [
        "# create target variable\n",
        "y = df['ALCCAT']"
      ]
    },
    {
      "cell_type": "markdown",
      "source": [
        "##**SMOTE**"
      ],
      "metadata": {
        "id": "xnuFubjiceXq"
      }
    },
    {
      "cell_type": "code",
      "source": [
        "# Install imblearn for SMOTE\n",
        "!pip install imblearn"
      ],
      "metadata": {
        "id": "G8u3D26TI7t9"
      },
      "execution_count": null,
      "outputs": []
    },
    {
      "cell_type": "code",
      "source": [
        "# Takes around 6 minutes to run this code chunk\n",
        "from imblearn.over_sampling import SMOTE\n",
        "smote =SMOTE(random_state=42)\n",
        "x_sm,y_sm=smote.fit_resample(x,y)\n",
        "\n",
        "print(\"X shape before SMOTE\",x.shape)\n",
        "print(\"X shape after SMOTE\",x_sm.shape)\n",
        "\n",
        "print(\"y shape before SMOTE\",y.shape)\n",
        "print(\"X shape after SMOTE\",y_sm.shape)"
      ],
      "metadata": {
        "id": "d2huLxawcfbx"
      },
      "execution_count": null,
      "outputs": []
    },
    {
      "cell_type": "code",
      "source": [
        "y_sm.value_counts()"
      ],
      "metadata": {
        "id": "_LuVVYlLeCUD"
      },
      "execution_count": null,
      "outputs": []
    },
    {
      "cell_type": "markdown",
      "metadata": {
        "id": "2A97AozpxqZb"
      },
      "source": [
        "## **Train-Test split**"
      ]
    },
    {
      "cell_type": "code",
      "execution_count": null,
      "metadata": {
        "id": "Rp3Mr0egxxTd"
      },
      "outputs": [],
      "source": [
        "# split data into train n test\n",
        "from sklearn.model_selection import train_test_split\n",
        "\n",
        "# Outputs 4 variables. First two variables will be 80% (train) & 20% (test) of x and Last two variables are 80% (train) & 20% (test) of y\n",
        "x_train,x_test,y_train,y_test = train_test_split(x_sm,y_sm,test_size=0.2) \n",
        "\n",
        "print(x_train.shape,y_train.shape)\n",
        "print(x_test.shape,y_test.shape)"
      ]
    },
    {
      "cell_type": "code",
      "source": [
        "# Copies of x_test and y_test for ALCCAT\n",
        "x_test_ca = x_test.copy()\n",
        "y_test_ca = y_test.copy()"
      ],
      "metadata": {
        "id": "LuxvwugFja46"
      },
      "execution_count": null,
      "outputs": []
    },
    {
      "cell_type": "markdown",
      "source": [
        "## **CLASSIFICATION BY LOGISTIC REGRESSION**"
      ],
      "metadata": {
        "id": "SSEVncp0ewHX"
      }
    },
    {
      "cell_type": "code",
      "source": [
        "## fit the model\n",
        "from sklearn.linear_model import LogisticRegression\n",
        "logca=LogisticRegression()\n",
        "logca.fit(x_train,y_train) "
      ],
      "metadata": {
        "id": "TSskOMK7exCp"
      },
      "execution_count": null,
      "outputs": []
    },
    {
      "cell_type": "code",
      "source": [
        "logca.score(x_train,y_train)"
      ],
      "metadata": {
        "id": "mhBWRo3Ueyqz"
      },
      "execution_count": null,
      "outputs": []
    },
    {
      "cell_type": "code",
      "source": [
        "logca.score(x_test,y_test)"
      ],
      "metadata": {
        "id": "1wiENAJne2GP"
      },
      "execution_count": null,
      "outputs": []
    },
    {
      "cell_type": "code",
      "source": [
        "## The final predicted value. 0 -> Never drank; 1 -> Drank\n",
        "y_pred = logca.predict(x_test) "
      ],
      "metadata": {
        "id": "rQ_wTAG1fWTT"
      },
      "execution_count": null,
      "outputs": []
    },
    {
      "cell_type": "code",
      "source": [
        "## Confusion Matrix\n",
        "from sklearn.metrics import confusion_matrix\n",
        "# y_test is actual and y_pred is predicted\n",
        "tn,fp,fn,tp=confusion_matrix(y_test,y_pred).ravel()\n",
        "sensitivity = tp/(tp+fn) \n",
        "print(\"sensitivity is \", sensitivity) # Also 'Recall'\n",
        "specificity = tn/(tn+fp)\n",
        "print(\"specificity is \", specificity) # Also 'Precision'"
      ],
      "metadata": {
        "id": "4s2eDEV0GVa5"
      },
      "execution_count": null,
      "outputs": []
    },
    {
      "cell_type": "code",
      "source": [
        "# Classification report\n",
        "import sklearn\n",
        "print(sklearn.metrics.classification_report(y_test,y_pred))"
      ],
      "metadata": {
        "id": "o5kOVi2_fbeb"
      },
      "execution_count": null,
      "outputs": []
    },
    {
      "cell_type": "code",
      "source": [
        "# !pip install scikit-plot\n",
        "import scikitplot as skplt\n",
        "\n",
        "skplt.metrics.plot_confusion_matrix(\n",
        "    y_test, \n",
        "    y_pred,\n",
        "    figsize=(8,8))"
      ],
      "metadata": {
        "id": "dj_twrjlQ-FP"
      },
      "execution_count": null,
      "outputs": []
    },
    {
      "cell_type": "code",
      "source": [
        "import sklearn.metrics as metrics\n",
        "# calculate the fpr and tpr for all thresholds of the classification\n",
        "probs = logca.predict_proba(x_test)\n",
        "preds = probs[:,1] # Extracting data under '1'th column of probs\n",
        "fpr, tpr, threshold = metrics.roc_curve(y_test, preds)\n",
        "roc_auc = metrics.auc(fpr, tpr) \n",
        "print('Area under ROC curve:',roc_auc)\n",
        "print('\\n')\n",
        "\n",
        "import matplotlib.pyplot as plt\n",
        "plt.plot(fpr,tpr,label=\"Log Reg: AUC = \"+str(round(roc_auc,4)))\n",
        "plt.rcParams[\"figure.figsize\"] = (10,10)\n",
        "plt.title('ROC curve for Logistic Regression on ALCCAT (Drank/Never drank)')\n",
        "plt.xlabel('FALSE POSITIVE RATE')\n",
        "plt.ylabel('TRUE POSITIVE RATE')\n",
        "plt.legend(loc='upper left')\n",
        "plt.show()"
      ],
      "metadata": {
        "id": "IFUn-9tzLTdt"
      },
      "execution_count": null,
      "outputs": []
    },
    {
      "cell_type": "markdown",
      "source": [
        "## **RANDOM FOREST CLASSIFICATION**"
      ],
      "metadata": {
        "id": "YWxz_rBHx4GK"
      }
    },
    {
      "cell_type": "markdown",
      "metadata": {
        "id": "AuypConmzYho"
      },
      "source": [
        "**Hyperparameter Tuning**"
      ]
    },
    {
      "cell_type": "markdown",
      "metadata": {
        "id": "C9-KCyjuz75m"
      },
      "source": [
        "Step 1: Constructing the Random Grid for Search"
      ]
    },
    {
      "cell_type": "code",
      "execution_count": null,
      "metadata": {
        "id": "w8GTgmpGzb2a"
      },
      "outputs": [],
      "source": [
        "import numpy as np\n",
        "from sklearn.model_selection import RandomizedSearchCV\n",
        "# Number of trees in random forest\n",
        "n_estimators = [int(x) for x in np.arange(2,101)]\n",
        "# Number of features to consider at every split\n",
        "max_features = ['auto', 'sqrt']\n",
        "# Maximum number of levels in tree\n",
        "max_depth = [int(x) for x in np.arange(2,31,2)]\n",
        "max_depth.append(None)\n",
        "# Minimum number of samples required to split a node\n",
        "min_samples_split = [int(x) for x in np.arange(2,51,2)]\n",
        "# Minimum number of samples required at each leaf node\n",
        "min_samples_leaf = [int(x) for x in np.arange(2,51,2)]\n",
        "# Method of selecting samples for training each tree\n",
        "bootstrap = [True, False]\n",
        "# Create the random grid\n",
        "random_grid = {'n_estimators': n_estimators,\n",
        "               'max_features': max_features,\n",
        "               'max_depth': max_depth,\n",
        "               'min_samples_split': min_samples_split,\n",
        "               'min_samples_leaf': min_samples_leaf,\n",
        "               'bootstrap': bootstrap}\n",
        "print(random_grid)"
      ]
    },
    {
      "cell_type": "markdown",
      "metadata": {
        "id": "boCrHmQ9z9a7"
      },
      "source": [
        "Step 2 - Randomized Search & Model Building. Running this takes 2 hrs (approx)\n",
        "\n",
        "> Indented block\n",
        "\n"
      ]
    },
    {
      "cell_type": "code",
      "execution_count": null,
      "metadata": {
        "id": "lVFaWAwzz-vC"
      },
      "outputs": [],
      "source": [
        "# SKIP if you already have the hyperparameters\n",
        "# Use the random grid to search for best hyperparameters\n",
        "# First create the base model to tune\n",
        "from sklearn.ensemble import RandomForestClassifier\n",
        "rfc = RandomForestClassifier() \n",
        "# Random search of parameters, using 3 fold cross validation, \n",
        "# search across 100 different combinations, and use all available cores\n",
        "rfc_bestfit = RandomizedSearchCV(estimator = rfc, param_distributions = random_grid, n_iter = 100, cv = 3, verbose=2, random_state=42, n_jobs = -1)\n",
        "# Fit the random search model\n",
        "rfc_bestfit.fit(x_train, y_train)\n",
        "\n",
        "print(rfc_bestfit.best_params_) # These are the parameters that we are setting to our model to get the best possible accuracy"
      ]
    },
    {
      "cell_type": "code",
      "source": [
        "# BEST PARAMETERS (for SMOTE): \n",
        "# {'n_estimators': 71,\n",
        "#  'min_samples_split': 22,\n",
        "#  'min_samples_leaf': 4,\n",
        "#  'max_features': 'sqrt',\n",
        "#  'max_depth': 26,\n",
        "#  'bootstrap': False}"
      ],
      "metadata": {
        "id": "v4We4B39QU1c"
      },
      "execution_count": null,
      "outputs": []
    },
    {
      "cell_type": "code",
      "source": [
        "# RUN THIS CHUNK IF YOU ALREADY KNOW THE PARAMETERS\n",
        "# Model set with the optimal hyperparameters\n",
        "from sklearn.ensemble import RandomForestClassifier\n",
        "\n",
        "rf_tm_ca = RandomForestClassifier(n_estimators= 71,\n",
        " min_samples_split= 22,\n",
        " min_samples_leaf= 4,\n",
        " max_features= 'sqrt',\n",
        " max_depth= 26,\n",
        " bootstrap= False,random_state=42) \n",
        "\n",
        "# Fit the random search model\n",
        "rf_tm_ca = rf_tm_ca.fit(x_train, y_train)"
      ],
      "metadata": {
        "id": "tWEiCEJsgAGI"
      },
      "execution_count": null,
      "outputs": []
    },
    {
      "cell_type": "markdown",
      "metadata": {
        "id": "jPujKMuQyOkR"
      },
      "source": [
        "**Model Evaluation**"
      ]
    },
    {
      "cell_type": "code",
      "execution_count": null,
      "metadata": {
        "id": "EEUtKUUXyH8t"
      },
      "outputs": [],
      "source": [
        "# score for training data\n",
        "rf_tm_ca.score(x_train,y_train) "
      ]
    },
    {
      "cell_type": "code",
      "execution_count": null,
      "metadata": {
        "id": "5-CTvLmI1Tde"
      },
      "outputs": [],
      "source": [
        "# score for test data\n",
        "rf_tm_ca.score(x_test,y_test) "
      ]
    },
    {
      "cell_type": "code",
      "execution_count": null,
      "metadata": {
        "id": "Ap64kfa8-WFR"
      },
      "outputs": [],
      "source": [
        "## The final predicted value. 0 -> Never drank; 1 -> Drank\n",
        "y_pred = rf_tm_ca.predict(x_test) "
      ]
    },
    {
      "cell_type": "code",
      "execution_count": null,
      "metadata": {
        "id": "HW41YNWX_adZ"
      },
      "outputs": [],
      "source": [
        "## Confusion Matrix\n",
        "from sklearn.metrics import confusion_matrix\n",
        "# y_test is actual and y_pred is predicted\n",
        "tn,fp,fn,tp=confusion_matrix(y_test,y_pred).ravel()\n",
        "sensitivity = tp/(tp+fn) \n",
        "print(\"sensitivity is \", sensitivity) # Also 'Recall'\n",
        "specificity = tn/(tn+fp)\n",
        "print(\"specificity is \", specificity) # Also 'Precision'"
      ]
    },
    {
      "cell_type": "code",
      "execution_count": null,
      "metadata": {
        "id": "mnzzyMDAH3Y5"
      },
      "outputs": [],
      "source": [
        "# Accuracy\n",
        "from sklearn import metrics\n",
        "print('Accuracy of the model is:', metrics.accuracy_score(y_test,y_pred))"
      ]
    },
    {
      "cell_type": "code",
      "execution_count": null,
      "metadata": {
        "id": "Fpa09J1sICyz"
      },
      "outputs": [],
      "source": [
        "# Classification report\n",
        "import sklearn\n",
        "print(sklearn.metrics.classification_report(y_test,y_pred))"
      ]
    },
    {
      "cell_type": "code",
      "source": [
        "import scikitplot as skplt\n",
        "\n",
        "skplt.metrics.plot_confusion_matrix(\n",
        "    y_test, \n",
        "    y_pred,\n",
        "    figsize=(8,8))"
      ],
      "metadata": {
        "id": "abvGB0g2F_Fv"
      },
      "execution_count": null,
      "outputs": []
    },
    {
      "cell_type": "code",
      "execution_count": null,
      "metadata": {
        "id": "b8NxVK6h_q6i"
      },
      "outputs": [],
      "source": [
        "import sklearn.metrics as metrics\n",
        "# calculate the fpr and tpr for all thresholds of the classification\n",
        "probs = rf_tm_ca.predict_proba(x_test)\n",
        "preds = probs[:,1] # Extracting data under '1'th column of probs\n",
        "fpr, tpr, threshold = metrics.roc_curve(y_test, preds)\n",
        "roc_auc = metrics.auc(fpr, tpr) \n",
        "print('Area under ROC curve:',roc_auc)\n",
        "print('\\n')\n",
        "\n",
        "import matplotlib.pyplot as plt\n",
        "plt.plot(fpr,tpr,label=\"Random Forest: AUC = \"+str(round(roc_auc,4))) \n",
        "plt.rcParams[\"figure.figsize\"] = (10,10)\n",
        "plt.title('ROC curve for Random Forest on ALCCAT (Drank/Never drank)')\n",
        "plt.xlabel('FALSE POSITIVE RATE')\n",
        "plt.ylabel('TRUE POSITIVE RATE')\n",
        "plt.legend(loc='upper left')\n",
        "plt.show()"
      ]
    },
    {
      "cell_type": "markdown",
      "source": [
        "##**CATBOOST CLASSIFIER**"
      ],
      "metadata": {
        "id": "C2pfopV0RaWo"
      }
    },
    {
      "cell_type": "code",
      "source": [
        "# To install scikit-optimize for skopt and catboost\n",
        "!pip install scikit_optimize\n",
        "!pip install catboost"
      ],
      "metadata": {
        "id": "VhS6Cs5S1iuK"
      },
      "execution_count": null,
      "outputs": []
    },
    {
      "cell_type": "code",
      "source": [
        "# Libraries\n",
        "import os\n",
        "import pandas as pd\n",
        "from sklearn.model_selection import StratifiedKFold\n",
        "from sklearn.model_selection import GridSearchCV\n",
        "from sklearn.model_selection import train_test_split\n",
        "from sklearn import metrics\n",
        "import numpy as np\n",
        "import pandas as pd\n",
        "from time import time\n",
        "import pprint\n",
        "import joblib\n",
        "import warnings\n",
        "warnings.filterwarnings(\"ignore\")\n",
        "\n",
        "# Classifiers\n",
        "from catboost import CatBoostClassifier\n",
        "\n",
        "# Model selection\n",
        "from sklearn.model_selection import StratifiedKFold\n",
        "\n",
        "# Metrics\n",
        "from sklearn.metrics import roc_auc_score\n",
        "from sklearn.metrics import make_scorer\n",
        "\n",
        "# Scikit optimize functions\n",
        "from skopt import BayesSearchCV\n",
        "from skopt.callbacks import DeadlineStopper, VerboseCallback, DeltaXStopper\n",
        "from skopt.space import Real, Categorical, Integer\n",
        "from time import time"
      ],
      "metadata": {
        "id": "f0ilk6oB1iuK"
      },
      "execution_count": null,
      "outputs": []
    },
    {
      "cell_type": "code",
      "source": [
        "# Performance reporting for model\n",
        "# Reporting util for different optimizers\n",
        "def report_perf(optimizer, X, y, title, callbacks=None):\n",
        "    \"\"\"\n",
        "    A wrapper for measuring time and performances of different optmizers\n",
        "    \n",
        "    \"\"\"\n",
        "    start = time()\n",
        "    if callbacks:\n",
        "        optimizer.fit(X, y, callback=callbacks)\n",
        "    else:\n",
        "        optimizer.fit(X, y)\n",
        "    d=pd.DataFrame(optimizer.cv_results_)\n",
        "    best_score = optimizer.best_score_\n",
        "    best_score_std = d.iloc[optimizer.best_index_].std_test_score\n",
        "    best_params = optimizer.best_params_\n",
        "    print((title + \" took %.2f seconds,  candidates checked: %d, best CV score: %.3f \"\n",
        "           +u\"\\u00B1\"+\" %.3f\") % (time() - start, \n",
        "                                  len(optimizer.cv_results_['params']),\n",
        "                                  best_score,\n",
        "                                  best_score_std))    \n",
        "    print('Best parameters:')\n",
        "    pprint.pprint(best_params)\n",
        "    print()\n",
        "    return best_params"
      ],
      "metadata": {
        "id": "1LPU7jys1iuL"
      },
      "execution_count": null,
      "outputs": []
    },
    {
      "cell_type": "code",
      "source": [
        "# Using Stratified K-Fold\n",
        "roc_auc = make_scorer(roc_auc_score, greater_is_better=True, needs_threshold=True)\n",
        "skf = StratifiedKFold(n_splits=5, shuffle=True, random_state=0)"
      ],
      "metadata": {
        "id": "7-AfXJYR1iuL"
      },
      "execution_count": null,
      "outputs": []
    },
    {
      "cell_type": "code",
      "source": [
        "# Catboost classifier\n",
        "clf = CatBoostClassifier(thread_count=2,\n",
        "                         loss_function='Logloss',\n",
        "                        \n",
        "                         od_type = 'Iter',\n",
        "                         verbose= False\n",
        "                        )"
      ],
      "metadata": {
        "id": "2njc0HGk1iuL"
      },
      "execution_count": null,
      "outputs": []
    },
    {
      "cell_type": "code",
      "source": [
        "# Defining your search space\n",
        "search_spaces = {'iterations': Integer(10, 1000),\n",
        "                 'depth': Integer(1, 8),\n",
        "                 'learning_rate': Real(0.01, 1.0, 'log-uniform'),\n",
        "                 'random_strength': Real(1e-9, 10, 'log-uniform'),\n",
        "                 'bagging_temperature': Real(0.0, 1.0),\n",
        "                 'border_count': Integer(1, 255),\n",
        "                 'l2_leaf_reg': Integer(2, 30),\n",
        "                 'scale_pos_weight':Real(0.01, 1.0, 'uniform')}"
      ],
      "metadata": {
        "id": "t5dwqcnk1iuL"
      },
      "execution_count": null,
      "outputs": []
    },
    {
      "cell_type": "code",
      "source": [
        "# Setting up BayesSearchCV\n",
        "opt = BayesSearchCV(clf,\n",
        "                    search_spaces,\n",
        "                    scoring=roc_auc,\n",
        "                    cv=skf,\n",
        "                    n_iter=100,\n",
        "                    n_jobs=1,  # use just 1 job with CatBoost in order to avoid segmentation fault\n",
        "                    return_train_score=False,\n",
        "                    refit=True,\n",
        "                    optimizer_kwargs={'base_estimator': 'GP'},\n",
        "                    random_state=42)"
      ],
      "metadata": {
        "id": "oBglu5eG1iuL"
      },
      "execution_count": null,
      "outputs": []
    },
    {
      "cell_type": "code",
      "source": [
        "# SKIP if you already have the hyperparameters\n",
        "# Tuning for CatBoost using Baye's Search. This takes around 45 mins to run\n",
        "best_params_a = report_perf(opt,x_train, y_train,'CatBoost', \n",
        "                          callbacks=[VerboseCallback(100), \n",
        "                                     DeadlineStopper(60*10)])"
      ],
      "metadata": {
        "id": "6IDwmIoy1iuL"
      },
      "execution_count": null,
      "outputs": []
    },
    {
      "cell_type": "code",
      "source": [
        "best_params_a # These are the best parameters"
      ],
      "metadata": {
        "id": "mH53yjb71iuM"
      },
      "execution_count": null,
      "outputs": []
    },
    {
      "cell_type": "code",
      "source": [
        "# BEST PARAMETERS\n",
        "# OrderedDict([('bagging_temperature', 0.41010395885331385),\n",
        "#              ('border_count', 186),\n",
        "#              ('depth', 8),\n",
        "#              ('iterations', 323),\n",
        "#              ('l2_leaf_reg', 21),\n",
        "#              ('learning_rate', 0.0673344419215237),\n",
        "#              ('random_strength', 3.230824361824754e-06),\n",
        "#              ('scale_pos_weight', 0.7421091918485163)])"
      ],
      "metadata": {
        "id": "bm1_AoLTFB6f"
      },
      "execution_count": null,
      "outputs": []
    },
    {
      "cell_type": "code",
      "source": [
        "# DO THIS, IF YOU HAVE ALREADY RUN THE TUNING CODE\n",
        "import collections\n",
        "from collections import OrderedDict\n",
        "best_params_a = [('bagging_temperature', 0.41010395885331385),\n",
        "             ('border_count', 186),\n",
        "             ('depth', 8),\n",
        "             ('iterations', 323),\n",
        "             ('l2_leaf_reg', 21),\n",
        "             ('learning_rate', 0.0673344419215237),\n",
        "             ('random_strength', 3.230824361824754e-06),\n",
        "             ('scale_pos_weight', 0.7421091918485163)]\n",
        "\n",
        "best_params_a = OrderedDict(best_params_a)"
      ],
      "metadata": {
        "id": "4bOLHDgpcTTH"
      },
      "execution_count": null,
      "outputs": []
    },
    {
      "cell_type": "code",
      "source": [
        "best_params_a['iterations']=1000"
      ],
      "metadata": {
        "id": "IESlFbfW1iuM"
      },
      "execution_count": null,
      "outputs": []
    },
    {
      "cell_type": "code",
      "source": [
        "# Building model with optimal parameters\n",
        "cat_tm_ca = CatBoostClassifier(**best_params_a,verbose=False)\n",
        "cat_tm_ca = cat_tm_ca.fit(x_train,y_train)"
      ],
      "metadata": {
        "id": "0TpVkmLL1iuM"
      },
      "execution_count": null,
      "outputs": []
    },
    {
      "cell_type": "code",
      "source": [
        "# Prediction\n",
        "y_pred = cat_tm_ca.predict(x_test)\n",
        "y_pred_cat_tm_ca = y_pred.copy()"
      ],
      "metadata": {
        "id": "r1Z7xZ7dA8Hs"
      },
      "execution_count": null,
      "outputs": []
    },
    {
      "cell_type": "code",
      "source": [
        "# model score for training data\n",
        "cat_tm_ca.score(x_train,y_train) "
      ],
      "metadata": {
        "id": "VsFWAHeqBylm"
      },
      "execution_count": null,
      "outputs": []
    },
    {
      "cell_type": "code",
      "source": [
        "# model score for test data\n",
        "cat_tm_ca.score(x_test,y_test) "
      ],
      "metadata": {
        "id": "Q8ZmbM4bCS0c"
      },
      "execution_count": null,
      "outputs": []
    },
    {
      "cell_type": "code",
      "source": [
        "# Accuracy\n",
        "from sklearn import metrics\n",
        "print('Accuracy of the model is:', metrics.accuracy_score(y_test,y_pred))"
      ],
      "metadata": {
        "id": "bYKYGXIUDMIi"
      },
      "execution_count": null,
      "outputs": []
    },
    {
      "cell_type": "code",
      "source": [
        "## Confusion Matrix\n",
        "from sklearn.metrics import confusion_matrix\n",
        "# y_test is actual and y_pred is predicted\n",
        "tn,fp,fn,tp=confusion_matrix(y_test,y_pred).ravel()\n",
        "sensitivity = tp/(tp+fn) \n",
        "print(\"sensitivity is \", sensitivity) # Also 'Recall'\n",
        "specificity = tn/(tn+fp)\n",
        "print(\"specificity is \", specificity) # Also 'Precision'"
      ],
      "metadata": {
        "id": "QroLH9B2I321"
      },
      "execution_count": null,
      "outputs": []
    },
    {
      "cell_type": "code",
      "source": [
        "# Classification report\n",
        "import sklearn\n",
        "print(sklearn.metrics.classification_report(y_test,y_pred))"
      ],
      "metadata": {
        "id": "6oAaSKR1DKD9"
      },
      "execution_count": null,
      "outputs": []
    },
    {
      "cell_type": "code",
      "source": [
        "# CONFUSION MATRIX\n",
        "!pip install scikit-plot\n",
        "import scikitplot as skplt\n",
        "\n",
        "skplt.metrics.plot_confusion_matrix(\n",
        "    y_test, \n",
        "    y_pred,\n",
        "    figsize=(8,8))"
      ],
      "metadata": {
        "id": "kbTmGB1YDkDk"
      },
      "execution_count": null,
      "outputs": []
    },
    {
      "cell_type": "code",
      "source": [
        "import sklearn.metrics as metrics\n",
        "# calculate the fpr and tpr for all thresholds of the classification\n",
        "probs = cat_tm_ca.predict_proba(x_test)\n",
        "preds = probs[:,1] # Extracting data under '1'th column of probs\n",
        "fpr, tpr, threshold = metrics.roc_curve(y_test, preds)\n",
        "roc_auc = metrics.auc(fpr, tpr) \n",
        "print('Area under ROC curve:',roc_auc)\n",
        "print('\\n')\n",
        "\n",
        "import matplotlib.pyplot as plt\n",
        "plt.plot(fpr,tpr,label=\"CatBoost: AUC = \"+str(round(roc_auc,4))) \n",
        "plt.rcParams[\"figure.figsize\"] = (9,8)\n",
        "plt.title('ROC curve for Tuned CatBoost on ALCCAT (Drank/Never drank)')\n",
        "plt.xlabel('FALSE POSITIVE RATE')\n",
        "plt.ylabel('TRUE POSITIVE RATE')\n",
        "plt.legend(loc='upper left')\n",
        "plt.show()"
      ],
      "metadata": {
        "id": "svRNTJNj1iuM"
      },
      "execution_count": null,
      "outputs": []
    },
    {
      "cell_type": "code",
      "source": [
        "# Feature importance in prediction\n",
        "import sklearn.metrics as metrics\n",
        "bcfit = cat_tm_ca\n",
        "imp_feature = bcfit.feature_importances_\n",
        "columns = x.columns\n",
        "clf_co = pd.Series(imp_feature,columns)"
      ],
      "metadata": {
        "id": "liZhb0IXCxaw"
      },
      "execution_count": null,
      "outputs": []
    },
    {
      "cell_type": "code",
      "source": [
        "## top features\n",
        "# Feature importance graph\n",
        "# Top 15 most imp features\n",
        "dfimp = pd.DataFrame(clf_co.sort_values(ascending=False)).reset_index()\n",
        "dfimp.columns.values[0] = 'Feature'\n",
        "dfimp.columns.values[1] = 'Importance'\n",
        "dfimp['Importance'] = round(dfimp['Importance']*100,2)\n",
        "dplt1 = dfimp.head(15)\n",
        "dplt2 = dplt1.copy()\n",
        "dplt2.sort_values(by='Importance',ascending=True,inplace=True)\n",
        "\n",
        "plt.barh(dplt2['Feature'],dplt2['Importance'],color='green')\n",
        "plt.title('Feature Importance (Top 15)')\n",
        "plt.ylabel('Feature')\n",
        "plt.xlabel('Importance')\n",
        "print(dplt1)"
      ],
      "metadata": {
        "id": "-GzdZk3aDExT"
      },
      "execution_count": null,
      "outputs": []
    },
    {
      "cell_type": "code",
      "source": [
        "## bottom features\n",
        "# Feature importance graph\n",
        "# Bottom 15 (15 least imp features)\n",
        "dfimp = pd.DataFrame(clf_co.sort_values(ascending=False)).reset_index()\n",
        "dfimp.columns.values[0] = 'Feature'\n",
        "dfimp.columns.values[1] = 'Importance'\n",
        "dfimp['Importance'] = round(dfimp['Importance']*100,2)\n",
        "dplt1 = dfimp.tail(15)\n",
        "dplt2 = dplt1.copy()\n",
        "dplt2.sort_values(by='Importance',ascending=False,inplace=True)\n",
        "\n",
        "plt.barh(dplt2['Feature'],dplt2['Importance'],color='gray')\n",
        "plt.title('Feature Importance (Bottom 15)')\n",
        "plt.ylabel('Feature')\n",
        "plt.xlabel('Importance')\n",
        "print(dplt2.sort_values(by='Importance',ascending=True))"
      ],
      "metadata": {
        "id": "l-dmsPSdDSER"
      },
      "execution_count": null,
      "outputs": []
    },
    {
      "cell_type": "markdown",
      "metadata": {
        "id": "fqtZHGP8Mh9T"
      },
      "source": [
        "# For ALLDGSCAT (Consumed/Not consumed Alldrugs)"
      ]
    },
    {
      "cell_type": "markdown",
      "metadata": {
        "id": "-B8JN58GMrdR"
      },
      "source": [
        "## **Y data**"
      ]
    },
    {
      "cell_type": "code",
      "execution_count": null,
      "metadata": {
        "id": "0eFp_IuvHR7n"
      },
      "outputs": [],
      "source": [
        "# create target variable\n",
        "y = df['ALLDGSCAT']"
      ]
    },
    {
      "cell_type": "markdown",
      "source": [
        "## SMOTE"
      ],
      "metadata": {
        "id": "pjM9HwnYVRDe"
      }
    },
    {
      "cell_type": "code",
      "source": [
        "from imblearn.over_sampling import SMOTE\n",
        "smote =SMOTE(random_state=42)\n",
        "x_sm,y_sm=smote.fit_resample(x,y)\n",
        "\n",
        "print(\"X shape before SMOTE\",x.shape)\n",
        "print(\"X shape after SMOTE\",x_sm.shape)\n",
        "\n",
        "print(\"y shape before SMOTE\",y.shape)\n",
        "print(\"X shape after SMOTE\",y_sm.shape)"
      ],
      "metadata": {
        "id": "lVwCSzPpVRNr"
      },
      "execution_count": null,
      "outputs": []
    },
    {
      "cell_type": "markdown",
      "metadata": {
        "id": "UR-KFXJDc8hK"
      },
      "source": [
        "## **Train-test split**"
      ]
    },
    {
      "cell_type": "code",
      "execution_count": null,
      "metadata": {
        "id": "Tkk37MORc09o"
      },
      "outputs": [],
      "source": [
        "# split data into train n test\n",
        "from sklearn.model_selection import train_test_split\n",
        "\n",
        "# Outputs 4 variables. First two variables will be 80% (train) & 20% (test) of x and Last two variables are 80% (train) & 20% (test) of y\n",
        "x_train,x_test,y_train,y_test = train_test_split(x_sm,y_sm,test_size=0.2) \n",
        "\n",
        "print(x_train.shape,y_train.shape)\n",
        "print(x_test.shape,y_test.shape)"
      ]
    },
    {
      "cell_type": "code",
      "source": [
        "# creating copies of x_test & y_test for ALLDGSCAT\n",
        "x_test_cd = x_test.copy()\n",
        "y_test_cd = y_test.copy()"
      ],
      "metadata": {
        "id": "XEbNTSxpmiig"
      },
      "execution_count": null,
      "outputs": []
    },
    {
      "cell_type": "markdown",
      "source": [
        "## **RANDOM FOREST CLASSIFICATION**"
      ],
      "metadata": {
        "id": "LE6B6SPHOsVj"
      }
    },
    {
      "cell_type": "markdown",
      "metadata": {
        "id": "gZ8408PUdUIH"
      },
      "source": [
        "**Hyperparameter Tuning**"
      ]
    },
    {
      "cell_type": "markdown",
      "metadata": {
        "id": "NNasR_yLdSEp"
      },
      "source": [
        "Step 1: Random Grid for Search space "
      ]
    },
    {
      "cell_type": "code",
      "execution_count": null,
      "metadata": {
        "id": "XkaYY0EYdW_F"
      },
      "outputs": [],
      "source": [
        "import numpy as np\n",
        "from sklearn.model_selection import RandomizedSearchCV\n",
        "# Number of trees in random forest\n",
        "n_estimators = [int(x) for x in np.arange(2,101)]\n",
        "# Number of features to consider at every split\n",
        "max_features = ['auto', 'sqrt']\n",
        "# Maximum number of levels in tree\n",
        "max_depth = [int(x) for x in np.arange(2,31,2)]\n",
        "max_depth.append(None)\n",
        "# Minimum number of samples required to split a node\n",
        "min_samples_split = [int(x) for x in np.arange(2,51,2)]\n",
        "# Minimum number of samples required at each leaf node\n",
        "min_samples_leaf = [int(x) for x in np.arange(2,51,2)]\n",
        "# Method of selecting samples for training each tree\n",
        "bootstrap = [True, False]\n",
        "# Create the random grid\n",
        "random_grid = {'n_estimators': n_estimators,\n",
        "               'max_features': max_features,\n",
        "               'max_depth': max_depth,\n",
        "               'min_samples_split': min_samples_split,\n",
        "               'min_samples_leaf': min_samples_leaf,\n",
        "               'bootstrap': bootstrap}\n",
        "print(random_grid)"
      ]
    },
    {
      "cell_type": "markdown",
      "metadata": {
        "id": "GQutGQOBdeaV"
      },
      "source": [
        "Step 2 - Randomized Search & Model Building"
      ]
    },
    {
      "cell_type": "code",
      "execution_count": null,
      "metadata": {
        "id": "wnm39t3PddtK"
      },
      "outputs": [],
      "source": [
        "# SKIP if you already have the hyperparameters\n",
        "# Use the random grid to search for best hyperparameters\n",
        "# First create the base model to tune\n",
        "from sklearn.ensemble import RandomForestClassifier\n",
        "rfca = RandomForestClassifier() \n",
        "# Random search of parameters, using 3 fold cross validation, \n",
        "# search across 100 different combinations, and use all available cores\n",
        "rfca_bestfit = RandomizedSearchCV(estimator = rfca, param_distributions = random_grid, n_iter = 100, cv = 3, verbose=2, random_state=42, n_jobs = -1)\n",
        "# Fit the random search model\n",
        "rfca_bestfit.fit(x_train, y_train)\n",
        "\n",
        "rfca_bestfit.best_params_ # These are the parameters that we are setting to our model to get the best possible accuracy"
      ]
    },
    {
      "cell_type": "code",
      "execution_count": null,
      "metadata": {
        "id": "YdyG4RBq7E1c"
      },
      "outputs": [],
      "source": [
        "# BEST PARAMETERS (for SMOTE): \n",
        "# {'n_estimators': 71,\n",
        "#  'min_samples_split': 22,\n",
        "#  'min_samples_leaf': 4,\n",
        "#  'max_features': 'sqrt',\n",
        "#  'max_depth': 26,\n",
        "#  'bootstrap': False}"
      ]
    },
    {
      "cell_type": "code",
      "source": [
        "# Run this if you already have the best parameters\n",
        "# Model Building based on best params (Don't have to run this if u have run the above code)\n",
        "from sklearn.ensemble import RandomForestClassifier\n",
        "rf_tm_cd = RandomForestClassifier(n_estimators= 71,\n",
        " min_samples_split= 22,\n",
        " min_samples_leaf= 4,\n",
        " max_features= 'sqrt',\n",
        " max_depth= 26,\n",
        " bootstrap= False, random_state=42)\n",
        "\n",
        "\n",
        "# Fit the random search model\n",
        "rf_tm_cd.fit(x_train, y_train)"
      ],
      "metadata": {
        "id": "zid4Bn6gBTwW"
      },
      "execution_count": null,
      "outputs": []
    },
    {
      "cell_type": "markdown",
      "metadata": {
        "id": "bDYXNywbeO8C"
      },
      "source": [
        "**Model Evaluation**"
      ]
    },
    {
      "cell_type": "code",
      "execution_count": null,
      "metadata": {
        "id": "H2JARxjPeRsf"
      },
      "outputs": [],
      "source": [
        "# score for training data\n",
        "rf_tm_cd.score(x_train,y_train) "
      ]
    },
    {
      "cell_type": "code",
      "execution_count": null,
      "metadata": {
        "id": "S5azrhz9e9f-"
      },
      "outputs": [],
      "source": [
        "# score for test data\n",
        "rf_tm_cd.score(x_test,y_test) "
      ]
    },
    {
      "cell_type": "code",
      "execution_count": null,
      "metadata": {
        "id": "uiVWxnuIg9Ha"
      },
      "outputs": [],
      "source": [
        "## The final predicted value. 0 -> Never used Alcohol; 1 -> Ever used Alcohol\n",
        "y_pred = rf_tm_cd.predict(x_test) "
      ]
    },
    {
      "cell_type": "code",
      "execution_count": null,
      "metadata": {
        "id": "rhrsvB63hqFt"
      },
      "outputs": [],
      "source": [
        "## Confusion Matrix\n",
        "from sklearn.metrics import confusion_matrix\n",
        "# y_test is actual and y_pred is predicted\n",
        "tn,fp,fn,tp=confusion_matrix(y_test,y_pred).ravel()\n",
        "sensitivity = tp/(tp+fn) \n",
        "print(\"sensitivity is \", sensitivity)\n",
        "specificity = tn/(tn+fp)\n",
        "print(\"specificity is \", specificity)"
      ]
    },
    {
      "cell_type": "code",
      "source": [
        "# Accuracy\n",
        "from sklearn import metrics\n",
        "print('Accuracy of the model is:', metrics.accuracy_score(y_test,y_pred))"
      ],
      "metadata": {
        "id": "YCTk29tLDhnB"
      },
      "execution_count": null,
      "outputs": []
    },
    {
      "cell_type": "code",
      "source": [
        "# Classification report\n",
        "import sklearn\n",
        "print(sklearn.metrics.classification_report(y_test,y_pred))"
      ],
      "metadata": {
        "id": "T-R7DLTBIHF3"
      },
      "execution_count": null,
      "outputs": []
    },
    {
      "cell_type": "code",
      "execution_count": null,
      "metadata": {
        "id": "GRP3D1sKh4a8"
      },
      "outputs": [],
      "source": [
        "import sklearn.metrics as metrics\n",
        "# calculate the fpr and tpr for all thresholds of the classification\n",
        "probs = rf_tm_cd.predict_proba(x_test)\n",
        "preds = probs[:,1] # Extracting data under '1'th column of probs\n",
        "fpr, tpr, threshold = metrics.roc_curve(y_test, preds)\n",
        "roc_auc = metrics.auc(fpr, tpr) \n",
        "print('Area under ROC curve:',roc_auc)\n",
        "print('\\n')\n",
        "\n",
        "import matplotlib.pyplot as plt\n",
        "plt.plot(fpr,tpr,label=\"Random Forest: AUC = \"+str(round(roc_auc,4))) \n",
        "plt.rcParams[\"figure.figsize\"] = (9,8)\n",
        "plt.title('ROC curve for Random Forest on ALLDGSCAT (Consumed/Never consumed)')\n",
        "plt.xlabel('FALSE POSITIVE RATE')\n",
        "plt.ylabel('TRUE POSITIVE RATE')\n",
        "plt.legend(loc='upper left')\n",
        "plt.show()"
      ]
    },
    {
      "cell_type": "code",
      "source": [
        "# CONFUSION MATRIX\n",
        "import scikitplot as skplt\n",
        "\n",
        "skplt.metrics.plot_confusion_matrix(\n",
        "    y_test, \n",
        "    y_pred,\n",
        "    figsize=(8,8))"
      ],
      "metadata": {
        "id": "xmHDiLoAI0-y"
      },
      "execution_count": null,
      "outputs": []
    },
    {
      "cell_type": "markdown",
      "source": [
        "## **CLASSIFICATION BY LOGISTIC REGRESSION**"
      ],
      "metadata": {
        "id": "825tWcDjUaOa"
      }
    },
    {
      "cell_type": "code",
      "source": [
        "## fit the model\n",
        "from sklearn.linear_model import LogisticRegression\n",
        "logcd=LogisticRegression()\n",
        "logcd.fit(x_train,y_train) "
      ],
      "metadata": {
        "id": "lp3a8JPkUchR"
      },
      "execution_count": null,
      "outputs": []
    },
    {
      "cell_type": "code",
      "execution_count": null,
      "metadata": {
        "id": "3t7ph41FqKGt"
      },
      "outputs": [],
      "source": [
        "# model score for training data\n",
        "logcd.score(x_train,y_train) "
      ]
    },
    {
      "cell_type": "code",
      "source": [
        "# model score for test data\n",
        "logcd.score(x_test,y_test)"
      ],
      "metadata": {
        "id": "Dz83QL0aVbaD"
      },
      "execution_count": null,
      "outputs": []
    },
    {
      "cell_type": "code",
      "execution_count": null,
      "metadata": {
        "id": "q-P6kt9MqKQj"
      },
      "outputs": [],
      "source": [
        "## The final predicted value. 0 -> Not consumed Drugs; 1 -> Consumed Drugs\n",
        "y_pred = logcd.predict(x_test) "
      ]
    },
    {
      "cell_type": "code",
      "source": [
        "## Confusion Matrix\n",
        "from sklearn.metrics import confusion_matrix\n",
        "# y_test is actual and y_pred is predicted\n",
        "tn,fp,fn,tp=confusion_matrix(y_test,y_pred).ravel()\n",
        "sensitivity = tp/(tp+fn) \n",
        "print(\"sensitivity is \", sensitivity) # Also 'Recall'\n",
        "specificity = tn/(tn+fp)\n",
        "print(\"specificity is \", specificity) # Also 'Precision'"
      ],
      "metadata": {
        "id": "SHwa8P06T7H_"
      },
      "execution_count": null,
      "outputs": []
    },
    {
      "cell_type": "code",
      "source": [
        "# Classification report\n",
        "import sklearn\n",
        "print(sklearn.metrics.classification_report(y_test,y_pred))"
      ],
      "metadata": {
        "id": "pXpoNW9eVgRJ"
      },
      "execution_count": null,
      "outputs": []
    },
    {
      "cell_type": "code",
      "source": [
        "!pip install scikit-plot"
      ],
      "metadata": {
        "id": "MG8ctyHWhLC-"
      },
      "execution_count": null,
      "outputs": []
    },
    {
      "cell_type": "code",
      "source": [
        "# CONFUSION MATRIX\n",
        "import scikitplot as skplt\n",
        "\n",
        "skplt.metrics.plot_confusion_matrix(\n",
        "    y_test, \n",
        "    y_pred,\n",
        "    figsize=(8,8))"
      ],
      "metadata": {
        "id": "0Crel0ZIhBaq"
      },
      "execution_count": null,
      "outputs": []
    },
    {
      "cell_type": "code",
      "source": [
        "import sklearn.metrics as metrics\n",
        "# calculate the fpr and tpr for all thresholds of the classification\n",
        "probs = logcd.predict_proba(x_test)\n",
        "preds = probs[:,1] # Extracting data under '1'th column of probs\n",
        "fpr, tpr, threshold = metrics.roc_curve(y_test, preds)\n",
        "roc_auc = metrics.auc(fpr, tpr) \n",
        "print('Area under ROC curve:',roc_auc)\n",
        "print('\\n')\n",
        "\n",
        "import matplotlib.pyplot as plt\n",
        "plt.plot(fpr,tpr,label=\"Log Reg: AUC = \"+str(round(roc_auc,4)))\n",
        "plt.rcParams[\"figure.figsize\"] = (9,8)\n",
        "plt.title('ROC curve for Logistic Regression on ALLDGSCAT (Consumed/Never consumed)')\n",
        "plt.xlabel('FALSE POSITIVE RATE')\n",
        "plt.ylabel('TRUE POSITIVE RATE')\n",
        "plt.legend(loc='upper left')\n",
        "plt.show()"
      ],
      "metadata": {
        "id": "RxCsZHXHppeh"
      },
      "execution_count": null,
      "outputs": []
    },
    {
      "cell_type": "markdown",
      "source": [
        "##**CATBOOST CLASSIFIER**"
      ],
      "metadata": {
        "id": "WtSMfnQUyAr6"
      }
    },
    {
      "cell_type": "code",
      "source": [
        "# Run this to install skopt and catboost\n",
        "!pip install scikit_optimize\n",
        "!pip install catboost"
      ],
      "metadata": {
        "id": "mltjXXWCsUl7"
      },
      "execution_count": null,
      "outputs": []
    },
    {
      "cell_type": "code",
      "source": [
        "# Libraries\n",
        "import os\n",
        "import pandas as pd\n",
        "from sklearn.model_selection import StratifiedKFold\n",
        "from sklearn.model_selection import GridSearchCV\n",
        "from sklearn.model_selection import train_test_split\n",
        "from sklearn import metrics\n",
        "import numpy as np\n",
        "import pandas as pd\n",
        "from time import time\n",
        "import pprint\n",
        "import joblib\n",
        "import warnings\n",
        "warnings.filterwarnings(\"ignore\")\n",
        "\n",
        "# Classifiers\n",
        "from catboost import CatBoostClassifier\n",
        "\n",
        "# Model selection\n",
        "from sklearn.model_selection import StratifiedKFold\n",
        "\n",
        "# Metrics\n",
        "from sklearn.metrics import roc_auc_score\n",
        "from sklearn.metrics import make_scorer\n",
        "\n",
        "# Scikit optimize functions\n",
        "from skopt import BayesSearchCV\n",
        "from skopt.callbacks import DeadlineStopper, VerboseCallback, DeltaXStopper\n",
        "from skopt.space import Real, Categorical, Integer\n",
        "from time import time"
      ],
      "metadata": {
        "id": "4OuNP9LFsN73"
      },
      "execution_count": null,
      "outputs": []
    },
    {
      "cell_type": "code",
      "source": [
        "# Performance reporting for model\n",
        "# Reporting util for different optimizers\n",
        "def report_perf(optimizer, X, y, title, callbacks=None):\n",
        "    \"\"\"\n",
        "    A wrapper for measuring time and performances of different optmizers\n",
        "    \n",
        "    optimizer = a sklearn or a skopt optimizer\n",
        "    X = the training set \n",
        "    y = our target\n",
        "    title = a string label for the experiment\n",
        "    \"\"\"\n",
        "    start = time()\n",
        "    if callbacks:\n",
        "        optimizer.fit(X, y, callback=callbacks)\n",
        "    else:\n",
        "        optimizer.fit(X, y)\n",
        "    d=pd.DataFrame(optimizer.cv_results_)\n",
        "    best_score = optimizer.best_score_\n",
        "    best_score_std = d.iloc[optimizer.best_index_].std_test_score\n",
        "    best_params = optimizer.best_params_\n",
        "    print((title + \" took %.2f seconds,  candidates checked: %d, best CV score: %.3f \"\n",
        "           +u\"\\u00B1\"+\" %.3f\") % (time() - start, \n",
        "                                  len(optimizer.cv_results_['params']),\n",
        "                                  best_score,\n",
        "                                  best_score_std))    \n",
        "    print('Best parameters:')\n",
        "    pprint.pprint(best_params)\n",
        "    print()\n",
        "    return best_params"
      ],
      "metadata": {
        "id": "-e-AS3V80sqc"
      },
      "execution_count": null,
      "outputs": []
    },
    {
      "cell_type": "code",
      "source": [
        "# Using Stratified K Fold\n",
        "roc_auc = make_scorer(roc_auc_score, greater_is_better=True, needs_threshold=True)\n",
        "skf = StratifiedKFold(n_splits=5, shuffle=True, random_state=0)"
      ],
      "metadata": {
        "id": "dUYrqJbQnPat"
      },
      "execution_count": null,
      "outputs": []
    },
    {
      "cell_type": "code",
      "source": [
        "# CatBoost classifier model\n",
        "clf = CatBoostClassifier(thread_count=2,\n",
        "                         loss_function='Logloss',\n",
        "                        \n",
        "                         od_type = 'Iter',\n",
        "                         verbose= False\n",
        "                        )"
      ],
      "metadata": {
        "id": "82_v58NItEY0"
      },
      "execution_count": null,
      "outputs": []
    },
    {
      "cell_type": "code",
      "source": [
        "# Defining your search space\n",
        "search_spaces = {'iterations': Integer(10, 1000),\n",
        "                 'depth': Integer(1, 8),\n",
        "                 'learning_rate': Real(0.01, 1.0, 'log-uniform'),\n",
        "                 'random_strength': Real(1e-9, 10, 'log-uniform'),\n",
        "                 'bagging_temperature': Real(0.0, 1.0),\n",
        "                 'border_count': Integer(1, 255),\n",
        "                 'l2_leaf_reg': Integer(2, 30),\n",
        "                 'scale_pos_weight':Real(0.01, 1.0, 'uniform')}"
      ],
      "metadata": {
        "id": "9iVFU3HgtJbB"
      },
      "execution_count": null,
      "outputs": []
    },
    {
      "cell_type": "code",
      "source": [
        "# Setting up BayesSearchCV\n",
        "# use just 1 job with CatBoost in order to avoid segmentation fault\n",
        "opt = BayesSearchCV(clf,\n",
        "                    search_spaces,\n",
        "                    scoring=roc_auc,\n",
        "                    cv=skf,\n",
        "                    n_iter=100,\n",
        "                    n_jobs=1,  \n",
        "                    return_train_score=False,\n",
        "                    refit=True,\n",
        "                    optimizer_kwargs={'base_estimator': 'GP'},\n",
        "                    random_state=42)"
      ],
      "metadata": {
        "id": "KJhgveNmtKM4"
      },
      "execution_count": null,
      "outputs": []
    },
    {
      "cell_type": "code",
      "source": [
        "# Running this takes around 45 mins\n",
        "# Tuning for CatBoost using Baye's Search\n",
        "best_params = report_perf(opt, x_train, y_train,'CatBoost', \n",
        "                          callbacks=[VerboseCallback(100), \n",
        "                                     DeadlineStopper(60*10)])"
      ],
      "metadata": {
        "id": "XonRgp1rtPR9"
      },
      "execution_count": null,
      "outputs": []
    },
    {
      "cell_type": "code",
      "source": [
        "best_params # These are the best parameters"
      ],
      "metadata": {
        "id": "i11h5mEuor9B"
      },
      "execution_count": null,
      "outputs": []
    },
    {
      "cell_type": "code",
      "source": [
        "# BEST PARAMETERS\n",
        "# OrderedDict([('bagging_temperature', 0.41010395885331385),\n",
        "#              ('border_count', 186),\n",
        "#              ('depth', 8),\n",
        "#              ('iterations', 1000),\n",
        "#              ('l2_leaf_reg', 21),\n",
        "#              ('learning_rate', 0.0673344419215237),\n",
        "#              ('random_strength', 3.230824361824754e-06),\n",
        "#              ('scale_pos_weight', 0.7421091918485163)])"
      ],
      "metadata": {
        "id": "Sc7ih_pjo-uW"
      },
      "execution_count": null,
      "outputs": []
    },
    {
      "cell_type": "code",
      "source": [
        "# Do this, if you have already run the tuning code\n",
        "import collections\n",
        "from collections import OrderedDict\n",
        "best_params = [('bagging_temperature', 0.41010395885331385),\n",
        "             ('border_count', 186),\n",
        "             ('depth', 8),\n",
        "             ('iterations', 1000),\n",
        "             ('l2_leaf_reg', 21),\n",
        "             ('learning_rate', 0.0673344419215237),\n",
        "             ('random_strength', 3.230824361824754e-06),\n",
        "             ('scale_pos_weight', 0.7421091918485163)]\n",
        "\n",
        "best_params = OrderedDict(best_params)"
      ],
      "metadata": {
        "id": "HTGzq7L9XaDz"
      },
      "execution_count": null,
      "outputs": []
    },
    {
      "cell_type": "code",
      "source": [
        "best_params['iterations']=1000"
      ],
      "metadata": {
        "id": "hZh5JZJIt59A"
      },
      "execution_count": null,
      "outputs": []
    },
    {
      "cell_type": "code",
      "source": [
        "# Building the model with opt parameters\n",
        "cat_tm_cd = CatBoostClassifier(**best_params,verbose=False)\n",
        "cat_tm_cd.fit(x_train,y_train)"
      ],
      "metadata": {
        "id": "-poNV3Y-t-ae"
      },
      "execution_count": null,
      "outputs": []
    },
    {
      "cell_type": "code",
      "execution_count": null,
      "metadata": {
        "id": "nKOr2hJnZBxi"
      },
      "outputs": [],
      "source": [
        "# model score for training data\n",
        "cat_tm_cd.score(x_train,y_train) "
      ]
    },
    {
      "cell_type": "code",
      "source": [
        "# model score for test data\n",
        "cat_tm_cd.score(x_test,y_test) "
      ],
      "metadata": {
        "id": "BvOH8ViQZBxj"
      },
      "execution_count": null,
      "outputs": []
    },
    {
      "cell_type": "code",
      "execution_count": null,
      "metadata": {
        "id": "_4j49gF8ZBxj"
      },
      "outputs": [],
      "source": [
        "## The final predicted value. 0 -> Not consumed Drugs; 1 -> Consumed Drugs\n",
        "y_pred = cat_tm_cd.predict(x_test) "
      ]
    },
    {
      "cell_type": "code",
      "source": [
        "## Confusion Matrix\n",
        "from sklearn.metrics import confusion_matrix\n",
        "# y_test is actual and y_pred is predicted\n",
        "tn,fp,fn,tp=confusion_matrix(y_test,y_pred).ravel()\n",
        "sensitivity = tp/(tp+fn) \n",
        "print(\"sensitivity is \", sensitivity) # Also 'Recall'\n",
        "specificity = tn/(tn+fp)\n",
        "print(\"specificity is \", specificity) # Also 'Precision'"
      ],
      "metadata": {
        "id": "-AsIpt8HRQcw"
      },
      "execution_count": null,
      "outputs": []
    },
    {
      "cell_type": "code",
      "source": [
        "# Classification report\n",
        "import sklearn\n",
        "print(sklearn.metrics.classification_report(y_test,y_pred))"
      ],
      "metadata": {
        "id": "bWzsRDIxZBxj"
      },
      "execution_count": null,
      "outputs": []
    },
    {
      "cell_type": "code",
      "source": [
        "# CONFUSION MATRIX\n",
        "!pip install scikit-plot\n",
        "import scikitplot as skplt\n",
        "\n",
        "skplt.metrics.plot_confusion_matrix(\n",
        "    y_test, \n",
        "    y_pred,\n",
        "    figsize=(8,8))"
      ],
      "metadata": {
        "id": "ZhXAdxPFZBxj"
      },
      "execution_count": null,
      "outputs": []
    },
    {
      "cell_type": "code",
      "source": [
        "# ROC Curve\n",
        "import sklearn.metrics as metrics\n",
        "# calculate the fpr and tpr for all thresholds of the classification\n",
        "probs = cat_tm_cd.predict_proba(x_test)\n",
        "preds = probs[:,1] # Extracting data under '1'th column of probs\n",
        "fpr, tpr, threshold = metrics.roc_curve(y_test, preds)\n",
        "roc_auc = metrics.auc(fpr, tpr) \n",
        "print('Area under ROC curve:',roc_auc)\n",
        "print('\\n')\n",
        "\n",
        "import matplotlib.pyplot as plt\n",
        "plt.plot(fpr,tpr,label=\"CatBoost: AUC = \"+str(round(roc_auc,4)))\n",
        "plt.rcParams[\"figure.figsize\"] = (9,8)\n",
        "plt.title('ROC curve for Tuned CatBoost on ALLDGSCAT (Consumed/Never consumed)')\n",
        "plt.xlabel('FALSE POSITIVE RATE')\n",
        "plt.ylabel('TRUE POSITIVE RATE')\n",
        "plt.legend(loc='upper left')\n",
        "plt.show()"
      ],
      "metadata": {
        "id": "haw8DWV1naXx"
      },
      "execution_count": null,
      "outputs": []
    },
    {
      "cell_type": "code",
      "source": [
        "# Feature importance in prediction\n",
        "import sklearn.metrics as metrics\n",
        "bcfit = cat_tm_cd\n",
        "imp_feature = bcfit.feature_importances_\n",
        "columns = x.columns\n",
        "clf_co = pd.Series(imp_feature,columns)"
      ],
      "metadata": {
        "id": "oe8wbYOMFH0i"
      },
      "execution_count": null,
      "outputs": []
    },
    {
      "cell_type": "code",
      "source": [
        "## top features\n",
        "# Feature importance graph\n",
        "# Top 15 most imp features\n",
        "dfimp = pd.DataFrame(clf_co.sort_values(ascending=False)).reset_index()\n",
        "dfimp.columns.values[0] = 'Feature'\n",
        "dfimp.columns.values[1] = 'Importance'\n",
        "dfimp['Importance'] = round(dfimp['Importance']*100,2)\n",
        "dplt1 = dfimp.head(15)\n",
        "dplt2 = dplt1.copy()\n",
        "dplt2.sort_values(by='Importance',ascending=True,inplace=True)\n",
        "\n",
        "plt.barh(dplt2['Feature'],dplt2['Importance'],color='green')\n",
        "plt.title('Feature Importance (Top 15)')\n",
        "plt.ylabel('Feature')\n",
        "plt.xlabel('Importance')\n",
        "print(dplt1)"
      ],
      "metadata": {
        "id": "cY52oKDZFTFT"
      },
      "execution_count": null,
      "outputs": []
    },
    {
      "cell_type": "code",
      "source": [
        "## bottom features\n",
        "# Feature importance graph\n",
        "# Bottom 15 (15 least imp features)\n",
        "dfimp = pd.DataFrame(clf_co.sort_values(ascending=False)).reset_index()\n",
        "dfimp.columns.values[0] = 'Feature'\n",
        "dfimp.columns.values[1] = 'Importance'\n",
        "dfimp['Importance'] = round(dfimp['Importance']*100,2)\n",
        "dplt1 = dfimp.tail(15)\n",
        "dplt2 = dplt1.copy()\n",
        "dplt2.sort_values(by='Importance',ascending=False,inplace=True)\n",
        "\n",
        "plt.barh(dplt2['Feature'],dplt2['Importance'],color='gray')\n",
        "plt.title('Feature Importance (Bottom 15)')\n",
        "plt.ylabel('Feature')\n",
        "plt.xlabel('Importance')\n",
        "print(dplt2.sort_values(by='Importance',ascending=True))"
      ],
      "metadata": {
        "id": "74dp6ATkFsXe"
      },
      "execution_count": null,
      "outputs": []
    },
    {
      "cell_type": "markdown",
      "source": [
        "# MODEL SELECTION"
      ],
      "metadata": {
        "id": "6ihIVsQOn6iq"
      }
    },
    {
      "cell_type": "markdown",
      "source": [
        "In case of ALCCAT (Consumed/Not consumed Alcohol)"
      ],
      "metadata": {
        "id": "R0LNpExFoD8i"
      }
    },
    {
      "cell_type": "code",
      "source": [
        "### roc-curve for 3models ca\n",
        "\n",
        "import sklearn.metrics as metrics\n",
        "\n",
        "# For Log Reg\n",
        "probs = logca.predict_proba(x_test_ca)\n",
        "preds = probs[:,1] # Extracting data under '1'th column of probs\n",
        "fpr, tpr, threshold = metrics.roc_curve(y_test_ca, preds)\n",
        "roc_auc = metrics.auc(fpr, tpr) \n",
        "\n",
        "import matplotlib.pyplot as plt\n",
        "plt.plot(fpr,tpr,label=\"Log Reg: AUC = \"+str(round(roc_auc,4)))\n",
        "\n",
        "# RF\n",
        "probs = rf_tm_ca.predict_proba(x_test_ca)\n",
        "preds = probs[:,1] # Extracting data under '1'th column of probs\n",
        "fpr, tpr, threshold = metrics.roc_curve(y_test_ca, preds)\n",
        "roc_auc = metrics.auc(fpr, tpr) \n",
        "\n",
        "import matplotlib.pyplot as plt\n",
        "plt.plot(fpr,tpr,label=\"Random Forest: AUC = \"+str(round(roc_auc,4))) \n",
        "\n",
        "# CB\n",
        "probs = cat_tm_ca.predict_proba(x_test_ca)\n",
        "preds = probs[:,1] # Extracting data under '1'th column of probs\n",
        "fpr, tpr, threshold = metrics.roc_curve(y_test_ca, preds)\n",
        "roc_auc = metrics.auc(fpr, tpr) \n",
        "\n",
        "\n",
        "import matplotlib.pyplot as plt\n",
        "plt.plot(fpr,tpr,label=\"CatBoost: AUC = \"+str(round(roc_auc,4))) \n",
        "\n",
        "\n",
        "plt.rcParams[\"figure.figsize\"] = (9,8)\n",
        "plt.title('ROC curve for 3 models on ALCCAT (Drank/Never drank)')\n",
        "plt.xlabel('FALSE POSITIVE RATE')\n",
        "plt.ylabel('TRUE POSITIVE RATE')\n",
        "plt.legend(loc='upper left')\n",
        "plt.show()\n",
        "\n"
      ],
      "metadata": {
        "id": "jcs5yCXvoAYv"
      },
      "execution_count": null,
      "outputs": []
    },
    {
      "cell_type": "code",
      "source": [
        "### roc-curve for 3models cd\n",
        "\n",
        "import sklearn.metrics as metrics\n",
        "\n",
        "# For Log Reg\n",
        "probs = logcd.predict_proba(x_test_cd)\n",
        "preds = probs[:,1] # Extracting data under '1'th column of probs\n",
        "fpr, tpr, threshold = metrics.roc_curve(y_test_cd, preds)\n",
        "roc_auc = metrics.auc(fpr, tpr) \n",
        "\n",
        "import matplotlib.pyplot as plt\n",
        "plt.plot(fpr,tpr,label=\"Log Reg: AUC = \"+str(round(roc_auc,4)))\n",
        "\n",
        "# RF\n",
        "probs = rf_tm_cd.predict_proba(x_test_cd)\n",
        "preds = probs[:,1] # Extracting data under '1'th column of probs\n",
        "fpr, tpr, threshold = metrics.roc_curve(y_test_cd, preds)\n",
        "roc_auc = metrics.auc(fpr, tpr) \n",
        "\n",
        "import matplotlib.pyplot as plt\n",
        "plt.plot(fpr,tpr,label=\"Random Forest: AUC = \"+str(round(roc_auc,4))) \n",
        "\n",
        "# CB\n",
        "probs = cat_tm_cd.predict_proba(x_test_cd)\n",
        "preds = probs[:,1] # Extracting data under '1'th column of probs\n",
        "fpr, tpr, threshold = metrics.roc_curve(y_test_cd, preds)\n",
        "roc_auc = metrics.auc(fpr, tpr) \n",
        "\n",
        "\n",
        "import matplotlib.pyplot as plt\n",
        "plt.plot(fpr,tpr,label=\"CatBoost: AUC = \"+str(round(roc_auc,4))) \n",
        "\n",
        "\n",
        "plt.rcParams[\"figure.figsize\"] = (9,8)\n",
        "plt.title('ROC curve for 3 models on ALLDGSCAT (Consumed/Never consumed)')\n",
        "plt.xlabel('FALSE POSITIVE RATE')\n",
        "plt.ylabel('TRUE POSITIVE RATE')\n",
        "plt.legend(loc='upper left')\n",
        "plt.show()"
      ],
      "metadata": {
        "id": "VmVRLE_w_uBD"
      },
      "execution_count": null,
      "outputs": []
    },
    {
      "cell_type": "markdown",
      "source": [
        "Therefore, from the ROC curves above, we can conclude that the CatBoost Classifiers are the most suitable for both ALCCAT and ALLDGSCAT"
      ],
      "metadata": {
        "id": "wbdZCBG5I1Cs"
      }
    },
    {
      "cell_type": "code",
      "source": [],
      "metadata": {
        "id": "WTfwrxsyoILh"
      },
      "execution_count": null,
      "outputs": []
    },
    {
      "cell_type": "markdown",
      "metadata": {
        "id": "xKjC9rZ1qN5E"
      },
      "source": [
        "#**REGRESSION**"
      ]
    },
    {
      "cell_type": "markdown",
      "metadata": {
        "id": "zzcog_cG8qgS"
      },
      "source": [
        "# For **IRALCFY (Alcohol consumption frequency per year)**"
      ]
    },
    {
      "cell_type": "markdown",
      "metadata": {
        "id": "m6XUovSWqssj"
      },
      "source": [
        "##**X data** for IRALCFY (Alcohol consumption frequency per year)"
      ]
    },
    {
      "cell_type": "code",
      "execution_count": null,
      "metadata": {
        "id": "u1UvhSc9qQ-v"
      },
      "outputs": [],
      "source": [
        "dk = df.copy()"
      ]
    },
    {
      "cell_type": "markdown",
      "metadata": {
        "id": "OoL3GRgisf1_"
      },
      "source": [
        "Since we are dealing with a Regression problem, we are removing rows having ALCCAT (actually IRALCFY) as 0"
      ]
    },
    {
      "cell_type": "code",
      "execution_count": null,
      "metadata": {
        "id": "vvOaT3jyx7XP"
      },
      "outputs": [],
      "source": [
        "dk = dk[dk['ALCCAT'] == 1]"
      ]
    },
    {
      "cell_type": "markdown",
      "metadata": {
        "id": "60JtStWHvWkI"
      },
      "source": [
        "Now data has been edited to remove rows having ALCCAT = 0"
      ]
    },
    {
      "cell_type": "code",
      "execution_count": null,
      "metadata": {
        "id": "R7Jxh5RE5aiy"
      },
      "outputs": [],
      "source": [
        "#  One-hot encoding (Dummy encoding)\n",
        "\n",
        "import matplotlib.pyplot as plt\n",
        "\n",
        "# Dummy encoding on the categorical columns:\n",
        "# 'ASDSHOM2','ASDSWRK2','ASDSREL2','ASDSSOC2','ASDSOVL2','IRSEX','IREDUHIGHST2','CATAGE','NEWRACE2','IRWRKSTAT','IRPINC3','INCOME','PDEN10' & 'COUTYP4'\n",
        "dummy1=pd.get_dummies(dk['ASDSHOM2'])\n",
        "dummy2=pd.get_dummies(dk['ASDSWRK2'])\n",
        "dummy3=pd.get_dummies(dk['ASDSREL2'])\n",
        "dummy4=pd.get_dummies(dk['ASDSSOC2'])\n",
        "dummy5=pd.get_dummies(dk['ASDSOVL2'])\n",
        "dummy6=pd.get_dummies(dk['IRSEX'])\n",
        "dummy7=pd.get_dummies(dk['IREDUHIGHST2'])\n",
        "dummy8=pd.get_dummies(dk['CATAGE'])\n",
        "dummy9=pd.get_dummies(dk['NEWRACE2'])\n",
        "dummy10=pd.get_dummies(dk['IRWRKSTAT'])\n",
        "dummy11=pd.get_dummies(dk['IRPINC3'])\n",
        "dummy12=pd.get_dummies(dk['INCOME'])\n",
        "dummy13=pd.get_dummies(dk['PDEN10'])\n",
        "dummy14=pd.get_dummies(dk['COUTYP4'])\n",
        "\n",
        "# Combining dk, dummy1 to dummy14. We are adding cols, so axis=1\n",
        "master = pd.concat([dk, dummy1, dummy2, dummy3, dummy4, dummy5, dummy6, dummy7, dummy8, dummy9, dummy10, dummy11, dummy12, dummy13, dummy14],axis=1) "
      ]
    },
    {
      "cell_type": "code",
      "execution_count": null,
      "metadata": {
        "id": "nUfvvURd5yce"
      },
      "outputs": [],
      "source": [
        "# Removing QUESTID2, IRALCFY:IRMETHAMYFQ, ALCFLAG:METHAMFLAG, ASDSHOM2:ASDSOVL2 (dummy encoded), IRSEX (dummy enc'd)  \n",
        "# NEWRACE2 (dummy enc'd), IRWRKSTAT (dummy enc'd), PDEN10, ALLDGSFLAG, ALLDGS from Master data\n",
        "# Also removing dummy encoded variables and variables that were decided to remove after correlation matrix\n",
        "x = master.drop(master.columns[[0,1,2,3,4,5,6,7,8,9,10,11,12,13,14,15,16,19,20,21,22,23,24,25,26,27,28,31,32,33,34,35,36,37,38,39]],axis=1) "
      ]
    },
    {
      "cell_type": "code",
      "execution_count": null,
      "metadata": {
        "id": "bhPij8HZ5zmE"
      },
      "outputs": [],
      "source": [
        "# Renaming depression categories to avoid column duplication\n",
        "i=5\n",
        "x.columns.values[9-i] = 'Aged 12-17/Unkn/Skip_ASDSHOM2'\n",
        "x.columns.values[10-i] = 'Mild_ASDSHOM2'\n",
        "x.columns.values[11-i] = 'Moderate_ASDSHOM2'\n",
        "x.columns.values[12-i] = 'None_ASDSHOM2'\n",
        "x.columns.values[13-i] = 'Severe_ASDSHOM2'\n",
        "x.columns.values[14-i] = 'Very Severe_ASDSHOM2'\n",
        "\n",
        "x.columns.values[15-i] = 'Aged 12-17/Unkn/Skip_ASDSWRK2'\n",
        "x.columns.values[16-i] = 'Mild_ASDSWRK2'\n",
        "x.columns.values[17-i] = 'Moderate_ASDSWRK2'\n",
        "x.columns.values[18-i] = 'None_ASDSWRK2'\n",
        "x.columns.values[19-i] = 'Severe_ASDSWRK2'\n",
        "x.columns.values[20-i] = 'Very Severe_ASDSWRK2'\n",
        "\n",
        "x.columns.values[21-i] = 'Aged 12-17/Unkn/Skip_ASDSREL2'\n",
        "x.columns.values[22-i] = 'Mild_ASDSREL2'\n",
        "x.columns.values[23-i] = 'Moderate_ASDSREL2'\n",
        "x.columns.values[24-i] = 'None_ASDSREL2'\n",
        "x.columns.values[25-i] = 'Severe_ASDSREL2'\n",
        "x.columns.values[26-i] = 'Very Severe_ASDSREL2'\n",
        "\n",
        "x.columns.values[27-i] = 'Aged 12-17/Unkn/Skip_ASDSSOC2'\n",
        "x.columns.values[28-i] = 'Mild_ASDSSOC2'\n",
        "x.columns.values[29-i] = 'Moderate_ASDSSOC2'\n",
        "x.columns.values[30-i] = 'None_ASDSSOC2'\n",
        "x.columns.values[31-i] = 'Severe_ASDSSOC2'\n",
        "x.columns.values[32-i] = 'Very Severe_ASDSSOC2'\n",
        "\n",
        "x.columns.values[33-i] = 'Aged 12-17/Unkn/Skip_ASDSOVL2'\n",
        "x.columns.values[34-i] = 'Mild_ASDSOVL2'\n",
        "x.columns.values[35-i] = 'Moderate_ASDSOVL2'\n",
        "x.columns.values[36-i] = 'None_ASDSOVL2'\n",
        "x.columns.values[37-i] = 'Severe_ASDSOVL2'\n",
        "x.columns.values[38-i] = 'Very Severe_ASDSOVL2'"
      ]
    },
    {
      "cell_type": "code",
      "execution_count": null,
      "metadata": {
        "id": "jtdEe0mJ536E"
      },
      "outputs": [],
      "source": [
        "x.columns.values[70] = '$20,000-$49,999_INCOME'\n",
        "x.columns.values[71] = '$50,000-$74,999_INCOME'\n",
        "x.columns.values[72] = '$75,000 or more_INCOME'\n",
        "x.columns.values[73] = 'Less than $20,000_INCOME'\n",
        "\n",
        "x.columns.values[58] = '12-14 year olds_IRWRKSTAT'"
      ]
    },
    {
      "cell_type": "markdown",
      "metadata": {
        "id": "ihvCxxl19bu_"
      },
      "source": [
        "## **Y data** for IRALCFY"
      ]
    },
    {
      "cell_type": "code",
      "execution_count": null,
      "metadata": {
        "id": "rky7urJj9nRB"
      },
      "outputs": [],
      "source": [
        "# create target variable\n",
        "y = dk['IRALCFY']"
      ]
    },
    {
      "cell_type": "markdown",
      "metadata": {
        "id": "zPmAe_A8-_1f"
      },
      "source": [
        "**Train-Test split**"
      ]
    },
    {
      "cell_type": "code",
      "execution_count": null,
      "metadata": {
        "id": "9P5nBLmg-V5r"
      },
      "outputs": [],
      "source": [
        "# split data into train n test\n",
        "from sklearn.model_selection import train_test_split\n",
        "\n",
        "# Outputs 4 variables. First two variables will be 80% (train) & 20% (test) of x and Last two variables are 80% (train) & 20% (test) of y\n",
        "x_train,x_test,y_train,y_test = train_test_split(x,y,test_size=0.2) \n",
        "\n",
        "print(x_train.shape,y_train.shape)\n",
        "print(x_test.shape,y_test.shape)"
      ]
    },
    {
      "cell_type": "code",
      "source": [
        "###################################"
      ],
      "metadata": {
        "id": "R1zthWBSs7fE"
      },
      "execution_count": null,
      "outputs": []
    },
    {
      "cell_type": "code",
      "source": [
        "# WE ARE JUST EXPLORING THE OPTION OF USING BOX-COX TRANSFORM. WE ARE NOT IMPLEMENTING IT IN OUR MODEL\n",
        "# Box-Cox Transformation (To reduce skewness in the Y variable and make it more similar to Normal distribution)\n",
        "# Packages\n",
        "# DO NOT RUN BOX-COX FOR RANDOM FOREST REGRESSION/CLASSIFICATION (or any other tree-based algorithm)\n",
        "!pip install feature-engine\n",
        "import pandas as pd \n",
        "from feature_engine import transformation as vt # pip install feature-engine\n",
        "from sklearn.model_selection import train_test_split\n",
        "import matplotlib.pyplot as plt\n",
        "from scipy import stats"
      ],
      "metadata": {
        "id": "gcJBQEwzbmTV"
      },
      "execution_count": null,
      "outputs": []
    },
    {
      "cell_type": "code",
      "source": [
        "# Checking skewness of Y\n",
        "da = pd.DataFrame(y_train)\n",
        "da.IRALCFY.skew()"
      ],
      "metadata": {
        "id": "XmhBw2Fqbtt4"
      },
      "execution_count": null,
      "outputs": []
    },
    {
      "cell_type": "code",
      "source": [
        "# Checking skewness of Y\n",
        "da = pd.DataFrame(y)\n",
        "da.IRALCFY.skew()"
      ],
      "metadata": {
        "id": "Kfg7hFnsES4k"
      },
      "execution_count": null,
      "outputs": []
    },
    {
      "cell_type": "code",
      "source": [
        "# creating axes to draw plots\n",
        "import seaborn as sns\n",
        "fig, ax = plt.subplots(1, 1, figsize=(10, 10))\n",
        " \n",
        "# plotting the original data(non-normal) and\n",
        "# fitted data (normal)\n",
        "sns.distplot(y, hist = True, kde = True,\n",
        "            kde_kws = {'shade': True, 'linewidth': 2},\n",
        "            label = \"Non-Normal\", color =\"green\", ax = ax,bins=30)\n",
        "ax.title.set_text('Distribution of IRALCFY')\n",
        "ax.set_xlabel(\"y['IRALCFY']\")"
      ],
      "metadata": {
        "id": "2YMojWbDD1uU"
      },
      "execution_count": null,
      "outputs": []
    },
    {
      "cell_type": "code",
      "source": [
        "# Applying Boxcox transform on y_train\n",
        "tf = vt.BoxCoxTransformer(variables = ['IRALCFY'])\n",
        "y_train_tf = tf.fit_transform(pd.DataFrame(y_train))\n",
        "y_train_tf.IRALCFY.skew() # As you can see, skewness is close to zero (Normal dist)"
      ],
      "metadata": {
        "id": "PguNK1WjcAAm"
      },
      "execution_count": null,
      "outputs": []
    },
    {
      "cell_type": "code",
      "source": [
        "stats.boxcox((pd.DataFrame(y_train)).IRALCFY)[1] # LAMBDA value for y_train"
      ],
      "metadata": {
        "id": "xztPthKvcD1n"
      },
      "execution_count": null,
      "outputs": []
    },
    {
      "cell_type": "code",
      "source": [
        "# creating axes to draw plots\n",
        "import seaborn as sns\n",
        "fig, ax = plt.subplots(1, 2, figsize=(10, 5))\n",
        " \n",
        "# plotting the original data(non-normal) and\n",
        "# fitted data (normal)\n",
        "sns.distplot(y_train, hist = True, kde = True,\n",
        "            kde_kws = {'shade': True, 'linewidth': 2},\n",
        "            label = \"Non-Normal\", color =\"green\", ax = ax[0],bins=10)\n",
        "ax[0].title.set_text('Dist before transform')\n",
        "ax[0].set_xlabel('y_train')\n",
        "\n",
        "sns.distplot(y_train_tf, hist = True, kde = True,\n",
        "            kde_kws = {'shade': True, 'linewidth': 2},\n",
        "            label = \"Normal\", color =\"blue\", ax = ax[1],bins=10)\n",
        "plt.xlabel('y_train_tf')\n",
        "plt.title('Dist after tranformation')\n",
        "\n",
        "fig.tight_layout()"
      ],
      "metadata": {
        "id": "pYqoWe1dcNEu"
      },
      "execution_count": null,
      "outputs": []
    },
    {
      "cell_type": "markdown",
      "source": [
        "But we are not applying Box-Cox transform on the target variable due to dissmilar scale. This is just checking for feasibility"
      ],
      "metadata": {
        "id": "lj-kAzuEstJn"
      }
    },
    {
      "cell_type": "markdown",
      "source": [
        "## **LINEAR REGRESSION**"
      ],
      "metadata": {
        "id": "mkJPIoKl0npY"
      }
    },
    {
      "cell_type": "code",
      "source": [
        "# Linear Regression Modeling\n",
        "# Fitting to the model\n",
        "from sklearn import linear_model\n",
        "lm = linear_model.LinearRegression()\n",
        "model = lm.fit(x_train,y_train) # Passing the training data for Predictor & Target variables\n",
        "prediction = lm.predict(x_test) # The predicted y_test from test data of predicted variable"
      ],
      "metadata": {
        "id": "J0izLRe80rUK"
      },
      "execution_count": null,
      "outputs": []
    },
    {
      "cell_type": "code",
      "source": [
        "# model scores for train and test\n",
        "import sklearn as sklearn\n",
        "print(model.score(x_train,y_train)) \n",
        "print(model.score(x_test,y_test)) "
      ],
      "metadata": {
        "id": "pk0pSVVi08FU"
      },
      "execution_count": null,
      "outputs": []
    },
    {
      "cell_type": "code",
      "source": [
        "# print the coefficient\n",
        "# Linear Reg eqn y = B0 + B1.x1 + B2.x2 +...+ BN.xN\n",
        "print(model.intercept_) # intercept_ is used to find B0 (intercept or c)\n",
        "print(model.coef_) # other coeffcients (B1, B2...BN)"
      ],
      "metadata": {
        "id": "nZMoJvtL1wjz"
      },
      "execution_count": null,
      "outputs": []
    },
    {
      "cell_type": "code",
      "source": [
        "# Checking the distribution of prediction\n",
        "import seaborn as sns\n",
        "fig, ax = plt.subplots(1,1,figsize=(10, 10))\n",
        " \n",
        "# plotting the original data(non-normal) and\n",
        "# fitted data (normal)\n",
        "sns.distplot(prediction, hist = True, kde = True,\n",
        "            kde_kws = {'shade': True, 'linewidth': 2},\n",
        "            label = \"Non-Normal\", color =\"red\", ax = ax,bins=10)\n",
        "ax.title.set_text('Dist of prediction')\n",
        "ax.set_xlabel('prediction')"
      ],
      "metadata": {
        "id": "wqHG_GnP8i_V"
      },
      "execution_count": null,
      "outputs": []
    },
    {
      "cell_type": "code",
      "source": [
        "print(max(prediction))\n",
        "print(min(prediction))"
      ],
      "metadata": {
        "id": "kaCjdCPWD3IL"
      },
      "execution_count": null,
      "outputs": []
    },
    {
      "cell_type": "code",
      "source": [
        "# Evaluation metrics\n",
        "\n",
        "import sklearn.metrics as metrics\n",
        "mae = metrics.mean_absolute_error(y_test, prediction)\n",
        "mse = metrics.mean_squared_error(y_test, prediction)\n",
        "rmse = np.sqrt(mse) #mse**(0.5)  \n",
        "r2 = metrics.r2_score(y_test,prediction) \n",
        "mape = metrics.mean_absolute_percentage_error(y_test, prediction)\n",
        "\n",
        "print(\"Results of sklearn.metrics:\")\n",
        "print(\"MAE:\",mae)\n",
        "print(\"MSE:\", mse)\n",
        "print(\"RMSE:\", rmse)\n",
        "print(\"R-Squared:\", r2)\n",
        "print(\"MAPE:\",mape)"
      ],
      "metadata": {
        "id": "EhF1bJn21Mmk"
      },
      "execution_count": null,
      "outputs": []
    },
    {
      "cell_type": "markdown",
      "source": [
        "## **RANDOM FOREST REGRESSION**"
      ],
      "metadata": {
        "id": "IKYkGBexsdU2"
      }
    },
    {
      "cell_type": "markdown",
      "metadata": {
        "id": "ka_ITmfLAZaA"
      },
      "source": [
        "**Hyperparameter Tuning**"
      ]
    },
    {
      "cell_type": "markdown",
      "metadata": {
        "id": "HZiv5DgwAaF4"
      },
      "source": [
        "Step 1"
      ]
    },
    {
      "cell_type": "code",
      "execution_count": null,
      "metadata": {
        "id": "HX3DYqaNAUMy"
      },
      "outputs": [],
      "source": [
        "import numpy as np\n",
        "from sklearn.model_selection import RandomizedSearchCV\n",
        "# Number of trees in random forest\n",
        "n_estimators = [int(x) for x in np.arange(2,101)]\n",
        "# Number of features to consider at every split\n",
        "max_features = ['auto', 'sqrt']\n",
        "# Maximum number of levels in tree\n",
        "max_depth = [int(x) for x in np.arange(2,31,2)]\n",
        "max_depth.append(None)\n",
        "# Minimum number of samples required to split a node\n",
        "min_samples_split = [int(x) for x in np.arange(2,51,2)]\n",
        "# Minimum number of samples required at each leaf node\n",
        "min_samples_leaf = [int(x) for x in np.arange(2,51,2)]\n",
        "# Method of selecting samples for training each tree\n",
        "bootstrap = [True, False]\n",
        "# Create the random grid\n",
        "random_grid = {'n_estimators': n_estimators,\n",
        "               'max_features': max_features,\n",
        "               'max_depth': max_depth,\n",
        "               'min_samples_split': min_samples_split,\n",
        "               'min_samples_leaf': min_samples_leaf,\n",
        "               'bootstrap': bootstrap}\n",
        "print(random_grid)"
      ]
    },
    {
      "cell_type": "markdown",
      "metadata": {
        "id": "OLxJnnwEAq26"
      },
      "source": [
        "Step 2 - Randomized Search & Model Building"
      ]
    },
    {
      "cell_type": "code",
      "execution_count": null,
      "metadata": {
        "id": "dvMdErtHAxiD"
      },
      "outputs": [],
      "source": [
        "# SKIP if you already have the hyperparameters\n",
        "# Use the random grid to search for best hyperparameters\n",
        "# First create the base model to tune\n",
        "from sklearn.ensemble import RandomForestRegressor\n",
        "rf = RandomForestRegressor()\n",
        "# Random search of parameters, using 3 fold cross validation, \n",
        "# search across 100 different combinations, and use all available cores\n",
        "rf_bestfit = RandomizedSearchCV(estimator = rf, param_distributions = random_grid, n_iter = 100, cv = 3, verbose=2, random_state=42, n_jobs = -1)\n",
        "# Fit the random search model\n",
        "rf_bestfit.fit(x_train, y_train)\n",
        "\n",
        "rf_bestfit.best_params_ # These are the parameters that we are setting to our model to get the best possible accuracy"
      ]
    },
    {
      "cell_type": "code",
      "execution_count": null,
      "metadata": {
        "id": "WA0NwZ8-BBV5"
      },
      "outputs": [],
      "source": [
        "# PARAMETERS\n",
        "# {'n_estimators': 43,\n",
        "#  'min_samples_split': 48,\n",
        "#  'min_samples_leaf': 18,\n",
        "#  'max_features': 'sqrt',\n",
        "#  'max_depth': 28,\n",
        "#  'bootstrap': True}"
      ]
    },
    {
      "cell_type": "code",
      "source": [
        "# Run this, to avoid RandomizedSearch since we already have the parameters\n",
        "from sklearn.ensemble import RandomForestRegressor\n",
        "rf_bestfit = RandomForestRegressor(n_estimators= 43,\n",
        " min_samples_split= 48,\n",
        " min_samples_leaf= 18,\n",
        " max_features= 'sqrt',\n",
        " max_depth= 28,\n",
        " bootstrap= True,random_state=42)\n",
        "rf_bestfit = rf_bestfit.fit(x_train,y_train)\n",
        "prediction = rf_bestfit.predict(x_test)"
      ],
      "metadata": {
        "id": "1qGUW60zBjUg"
      },
      "execution_count": null,
      "outputs": []
    },
    {
      "cell_type": "code",
      "source": [
        "# Checking the distribution of prediction\n",
        "import seaborn as sns\n",
        "fig, ax = plt.subplots(1,1,figsize=(10, 10))\n",
        " \n",
        "# plotting the original data(non-normal) and\n",
        "# fitted data (normal)\n",
        "sns.distplot(prediction, hist = True, kde = True,\n",
        "            kde_kws = {'shade': True, 'linewidth': 2},\n",
        "            label = \"Non-Normal\", color =\"red\", ax = ax,bins=10)\n",
        "ax.title.set_text('Dist of prediction')\n",
        "ax.set_xlabel('prediction')"
      ],
      "metadata": {
        "id": "mr9sXkXGCFcZ"
      },
      "execution_count": null,
      "outputs": []
    },
    {
      "cell_type": "code",
      "source": [
        "print(min(np.array(prediction)))\n",
        "print(max(np.array(prediction)))"
      ],
      "metadata": {
        "id": "BvmCRzbaC5pZ"
      },
      "execution_count": null,
      "outputs": []
    },
    {
      "cell_type": "markdown",
      "metadata": {
        "id": "tYgzP0aFA-pt"
      },
      "source": [
        "Model Evaluation"
      ]
    },
    {
      "cell_type": "code",
      "execution_count": null,
      "metadata": {
        "id": "A9PXzANgBKkn"
      },
      "outputs": [],
      "source": [
        "# score on Training data \n",
        "print(rf_bestfit.score(x_train,y_train)) "
      ]
    },
    {
      "cell_type": "code",
      "execution_count": null,
      "metadata": {
        "id": "CUhL4YN6BLbF"
      },
      "outputs": [],
      "source": [
        "# score on Test data\n",
        "print(rf_bestfit.score(x_test,y_test)) "
      ]
    },
    {
      "cell_type": "code",
      "execution_count": null,
      "metadata": {
        "id": "UuXNhM4ACdQd"
      },
      "outputs": [],
      "source": [
        "# Prediction\n",
        "prediction = rf_bestfit.predict(x_test) "
      ]
    },
    {
      "cell_type": "code",
      "execution_count": null,
      "metadata": {
        "id": "QnAaAiZACdmL"
      },
      "outputs": [],
      "source": [
        "# Evaluation metrics\n",
        "\n",
        "import sklearn.metrics as metrics\n",
        "mae = metrics.mean_absolute_error(y_test, prediction)\n",
        "mse = metrics.mean_squared_error(y_test, prediction)\n",
        "rmse = np.sqrt(mse) #mse**(0.5)  \n",
        "r2 = metrics.r2_score(y_test,prediction) \n",
        "mape = metrics.mean_absolute_percentage_error(y_test, prediction)\n",
        "\n",
        "print(\"Results of sklearn.metrics:\")\n",
        "print(\"MAE:\",mae)\n",
        "print(\"MSE:\", mse)\n",
        "print(\"RMSE:\", rmse)\n",
        "print(\"R-Squared:\", r2)\n",
        "print(\"MAPE:\",mape)"
      ]
    },
    {
      "cell_type": "code",
      "source": [
        "# Feature importance in prediction\n",
        "import sklearn.metrics as metrics\n",
        "bcfit = rf_bestfit\n",
        "imp_feature = bcfit.feature_importances_\n",
        "columns = x.columns\n",
        "clf_co = pd.Series(imp_feature,columns)"
      ],
      "metadata": {
        "id": "4z7crFvmue7T"
      },
      "execution_count": null,
      "outputs": []
    },
    {
      "cell_type": "code",
      "source": [
        "## top features\n",
        "# Feature importance graph\n",
        "# Top 15 most imp features\n",
        "dfimp = pd.DataFrame(clf_co.sort_values(ascending=False)).reset_index()\n",
        "dfimp.columns.values[0] = 'Feature'\n",
        "dfimp.columns.values[1] = 'Importance'\n",
        "dfimp['Importance'] = round(dfimp['Importance']*100,2)\n",
        "dplt1 = dfimp.head(15)\n",
        "dplt2 = dplt1.copy()\n",
        "dplt2.sort_values(by='Importance',ascending=True,inplace=True)\n",
        "\n",
        "plt.barh(dplt2['Feature'],dplt2['Importance'],color='green')\n",
        "plt.title('Feature Importance (Top 15)')\n",
        "plt.ylabel('Feature')\n",
        "plt.xlabel('Importance')\n",
        "print(dplt1)"
      ],
      "metadata": {
        "id": "vdLWaFiCuosB"
      },
      "execution_count": null,
      "outputs": []
    },
    {
      "cell_type": "code",
      "source": [
        "## bottom features\n",
        "# Feature importance graph\n",
        "# Bottom 15 (15 least imp features)\n",
        "dfimp = pd.DataFrame(clf_co.sort_values(ascending=False)).reset_index()\n",
        "dfimp.columns.values[0] = 'Feature'\n",
        "dfimp.columns.values[1] = 'Importance'\n",
        "dfimp['Importance'] = round(dfimp['Importance']*100,2)\n",
        "dplt1 = dfimp.tail(15)\n",
        "dplt2 = dplt1.copy()\n",
        "dplt2.sort_values(by='Importance',ascending=False,inplace=True)\n",
        "\n",
        "plt.barh(dplt2['Feature'],dplt2['Importance'],color='gray')\n",
        "plt.title('Feature Importance (Bottom 15)')\n",
        "plt.ylabel('Feature')\n",
        "plt.xlabel('Importance')\n",
        "print(dplt2.sort_values(by='Importance',ascending=True))"
      ],
      "metadata": {
        "id": "qzgZHewOurfc"
      },
      "execution_count": null,
      "outputs": []
    },
    {
      "cell_type": "code",
      "execution_count": null,
      "metadata": {
        "id": "LWDWdXODTuK4"
      },
      "outputs": [],
      "source": [
        "# Plotting the chart\n",
        "import seaborn as sns\n",
        "sns.regplot(y_test,prediction).set(xlabel = 'y_test', ylabel = 'prediction', title = 'Test data vs Prediction for IRALCFY')\n",
        "plt.figure(figsize=(20,20))"
      ]
    },
    {
      "cell_type": "markdown",
      "source": [
        "## **CATBOOST REGRESSOR**"
      ],
      "metadata": {
        "id": "bPL5J8nheqFJ"
      }
    },
    {
      "cell_type": "code",
      "source": [
        "# Selecting only ALCCAT = 'Ever used' (removing rows with 0-value for IRALCFY)\n",
        "dvn = dv[dv['ALCCAT'] == 'Ever used']"
      ],
      "metadata": {
        "id": "tt6Z8mkggb63"
      },
      "execution_count": null,
      "outputs": []
    },
    {
      "cell_type": "code",
      "source": [
        "X = dvn.drop(dvn.columns[[0,1,2,3,4,5,6,7,8,9,10,11,12,13,14,15,16,35,36,37,38,39]],axis=1)\n",
        "y = dvn['IRALCFY']"
      ],
      "metadata": {
        "id": "ed0yMCdjgc4-"
      },
      "execution_count": null,
      "outputs": []
    },
    {
      "cell_type": "code",
      "source": [
        "# Declaring Categorical features\n",
        "cat_features = list(range(0, X.shape[1]))\n",
        "print(cat_features)"
      ],
      "metadata": {
        "id": "aDKjwdbTgc4_"
      },
      "execution_count": null,
      "outputs": []
    },
    {
      "cell_type": "code",
      "source": [
        "# Train test split\n",
        "from sklearn.model_selection import train_test_split\n",
        "\n",
        "X_train, X_val, y_train, y_val = train_test_split(X, y, test_size=0.2, random_state=0)"
      ],
      "metadata": {
        "id": "H2VEpM6Egc4_"
      },
      "execution_count": null,
      "outputs": []
    },
    {
      "cell_type": "code",
      "source": [
        "!pip install catboost"
      ],
      "metadata": {
        "id": "rN9IjPIvgc4_"
      },
      "execution_count": null,
      "outputs": []
    },
    {
      "cell_type": "code",
      "source": [
        "# catboost implementation\n",
        "from catboost import CatBoostRegressor\n",
        "\n",
        "clf = CatBoostRegressor(\n",
        "    iterations=5, \n",
        "    learning_rate=0.1, \n",
        "    #loss_function='CrossEntropy'\n",
        ")\n",
        "\n",
        "\n",
        "clf.fit(X_train, y_train, \n",
        "        cat_features=cat_features, \n",
        "        eval_set=(X_val, y_val), \n",
        "        verbose=False\n",
        ")\n",
        "\n",
        "print('CatBoost model is fitted: ' + str(clf.is_fitted()))\n",
        "print('CatBoost model parameters:')\n",
        "print(clf.get_params())"
      ],
      "metadata": {
        "id": "vrs327zhgc4_"
      },
      "execution_count": null,
      "outputs": []
    },
    {
      "cell_type": "code",
      "source": [
        "# Stdout of the training\n",
        "from catboost import CatBoostRegressor\n",
        "clf = CatBoostRegressor(\n",
        "    iterations=10,\n",
        "#     verbose=5,\n",
        ")\n",
        "\n",
        "clf.fit(\n",
        "    X_train, y_train,\n",
        "    cat_features=cat_features,\n",
        "    eval_set=(X_val, y_val),\n",
        ")"
      ],
      "metadata": {
        "id": "dpvt8DyCgc5A"
      },
      "execution_count": null,
      "outputs": []
    },
    {
      "cell_type": "code",
      "source": [
        "print(clf.predict(X_val)) # Predictions"
      ],
      "metadata": {
        "id": "KZ2N8GTkgc5A"
      },
      "execution_count": null,
      "outputs": []
    },
    {
      "cell_type": "code",
      "source": [
        "y_pred = clf.predict(X_val)"
      ],
      "metadata": {
        "id": "BK8RBxCygc5A"
      },
      "execution_count": null,
      "outputs": []
    },
    {
      "cell_type": "code",
      "source": [
        "print(min(np.array(y_pred)))\n",
        "print(max(np.array(y_pred)))"
      ],
      "metadata": {
        "id": "LUy2tfErrj3N"
      },
      "execution_count": null,
      "outputs": []
    },
    {
      "cell_type": "code",
      "source": [
        "# Checking the distribution of y_pred\n",
        "import seaborn as sns\n",
        "fig, ax = plt.subplots(1,1,figsize=(10, 10))\n",
        " \n",
        "# plotting the original data(non-normal) and\n",
        "# fitted data (normal)\n",
        "sns.distplot(y_pred, hist = True, kde = True,\n",
        "            kde_kws = {'shade': True, 'linewidth': 2},\n",
        "            label = \"Non-Normal\", color =\"orange\", ax = ax,bins=10)\n",
        "ax.title.set_text('Dist of y_pred')\n",
        "ax.set_xlabel('y_pred')"
      ],
      "metadata": {
        "id": "gu6q0cDKpufQ"
      },
      "execution_count": null,
      "outputs": []
    },
    {
      "cell_type": "code",
      "execution_count": null,
      "metadata": {
        "id": "SBOIsfPvo_yO"
      },
      "outputs": [],
      "source": [
        "# score on Training data \n",
        "print(clf.score(X_train,y_train)) "
      ]
    },
    {
      "cell_type": "code",
      "execution_count": null,
      "metadata": {
        "id": "2npSmLjvo_yP"
      },
      "outputs": [],
      "source": [
        "# score on Test data\n",
        "print(clf.score(X_val,y_val)) "
      ]
    },
    {
      "cell_type": "code",
      "execution_count": null,
      "metadata": {
        "id": "XwnGYAA9o_yP"
      },
      "outputs": [],
      "source": [
        "# Calculating error \n",
        "\n",
        "import sklearn.metrics as metrics\n",
        "mae = metrics.mean_absolute_error(y_val, y_pred)\n",
        "mse = metrics.mean_squared_error(y_val, y_pred)\n",
        "rmse = np.sqrt(mse) #mse**(0.5)  \n",
        "r2 = metrics.r2_score(y_val,y_pred) \n",
        "mape = metrics.mean_absolute_percentage_error(y_val, y_pred)\n",
        "\n",
        "print(\"Results of sklearn.metrics:\")\n",
        "print(\"MAE:\",mae)\n",
        "print(\"MSE:\", mse)\n",
        "print(\"RMSE:\", rmse)\n",
        "print(\"R-Squared:\", r2)\n",
        "print(\"MAPE:\",mape)"
      ]
    },
    {
      "cell_type": "markdown",
      "source": [
        "# For **ALLDGS (Alldrugs consumption frequency per year)**"
      ],
      "metadata": {
        "id": "gA0RDPEc9BF8"
      }
    },
    {
      "cell_type": "markdown",
      "source": [
        "##**X data** for ALLDGS (Alldrugs consumption frequency per year)"
      ],
      "metadata": {
        "id": "ulYr_K9WYpQR"
      }
    },
    {
      "cell_type": "code",
      "execution_count": null,
      "metadata": {
        "id": "MddenZLKY_q6"
      },
      "outputs": [],
      "source": [
        "dl = df.copy()"
      ]
    },
    {
      "cell_type": "code",
      "execution_count": null,
      "metadata": {
        "id": "jYAV1Hwxc8pG"
      },
      "outputs": [],
      "source": [
        "dl = dl[dl['ALLDGSCAT'] == 1] # Deleting rows with 0s in ALLDGSCAT"
      ]
    },
    {
      "cell_type": "code",
      "execution_count": null,
      "metadata": {
        "id": "rTX8FRcqdj7n"
      },
      "outputs": [],
      "source": [
        "#  One-hot encoding (Dummy encoding)\n",
        "\n",
        "import matplotlib.pyplot as plt\n",
        "\n",
        "# Dummy encoding on the categorical columns:\n",
        "# 'ASDSHOM2','ASDSWRK2','ASDSREL2','ASDSSOC2','ASDSOVL2','IRSEX','IREDUHIGHST2','CATAGE','NEWRACE2','IRWRKSTAT','IRPINC3','INCOME','PDEN10' & 'COUTYP4'\n",
        "dummy1=pd.get_dummies(dl['ASDSHOM2'])\n",
        "dummy2=pd.get_dummies(dl['ASDSWRK2'])\n",
        "dummy3=pd.get_dummies(dl['ASDSREL2'])\n",
        "dummy4=pd.get_dummies(dl['ASDSSOC2'])\n",
        "dummy5=pd.get_dummies(dl['ASDSOVL2'])\n",
        "dummy6=pd.get_dummies(dl['IRSEX'])\n",
        "dummy7=pd.get_dummies(dl['IREDUHIGHST2'])\n",
        "dummy8=pd.get_dummies(dl['CATAGE'])\n",
        "dummy9=pd.get_dummies(dl['NEWRACE2'])\n",
        "dummy10=pd.get_dummies(dl['IRWRKSTAT'])\n",
        "dummy11=pd.get_dummies(dl['IRPINC3'])\n",
        "dummy12=pd.get_dummies(dl['INCOME'])\n",
        "dummy13=pd.get_dummies(dl['PDEN10'])\n",
        "dummy14=pd.get_dummies(dl['COUTYP4'])\n",
        "\n",
        "# Combining dk, dummy1, dummy2, dummy3, dummy4, dummy5, dummy6, dummy7 & dummy8. We are adding cols, so axis=1\n",
        "master = pd.concat([dl, dummy1, dummy2, dummy3, dummy4, dummy5, dummy6, dummy7, dummy8, dummy9, dummy10, dummy11, dummy12, dummy13, dummy14],axis=1) "
      ]
    },
    {
      "cell_type": "code",
      "execution_count": null,
      "metadata": {
        "id": "pbKAovnueIhT"
      },
      "outputs": [],
      "source": [
        "# Removing QUESTID2, IRALCFY:IRMETHAMYFQ, ALCFLAG:METHAMFLAG, ASDSHOM2:ASDSOVL2 (dummy encoded), IRSEX (dummy enc'd)  \n",
        "# NEWRACE2 (dummy enc'd), IRWRKSTAT (dummy enc'd), PDEN10, ALLDGSFLAG, ALLDGS from Master data\n",
        "# Also removing dummy encoded variables and variables that were decided to remove after correlation matrix\n",
        "x = master.drop(master.columns[[0,1,2,3,4,5,6,7,8,9,10,11,12,13,14,15,16,19,20,21,22,23,24,25,26,27,28,31,32,33,34,35,36,37,38,39]],axis=1) "
      ]
    },
    {
      "cell_type": "code",
      "execution_count": null,
      "metadata": {
        "id": "d_9cKXCmeL2t"
      },
      "outputs": [],
      "source": [
        "# Renaming depression categories to avoid column duplication\n",
        "i=5\n",
        "x.columns.values[9-i] = 'Aged 12-17/Unkn/Skip_ASDSHOM2'\n",
        "x.columns.values[10-i] = 'Mild_ASDSHOM2'\n",
        "x.columns.values[11-i] = 'Moderate_ASDSHOM2'\n",
        "x.columns.values[12-i] = 'None_ASDSHOM2'\n",
        "x.columns.values[13-i] = 'Severe_ASDSHOM2'\n",
        "x.columns.values[14-i] = 'Very Severe_ASDSHOM2'\n",
        "\n",
        "x.columns.values[15-i] = 'Aged 12-17/Unkn/Skip_ASDSWRK2'\n",
        "x.columns.values[16-i] = 'Mild_ASDSWRK2'\n",
        "x.columns.values[17-i] = 'Moderate_ASDSWRK2'\n",
        "x.columns.values[18-i] = 'None_ASDSWRK2'\n",
        "x.columns.values[19-i] = 'Severe_ASDSWRK2'\n",
        "x.columns.values[20-i] = 'Very Severe_ASDSWRK2'\n",
        "\n",
        "x.columns.values[21-i] = 'Aged 12-17/Unkn/Skip_ASDSREL2'\n",
        "x.columns.values[22-i] = 'Mild_ASDSREL2'\n",
        "x.columns.values[23-i] = 'Moderate_ASDSREL2'\n",
        "x.columns.values[24-i] = 'None_ASDSREL2'\n",
        "x.columns.values[25-i] = 'Severe_ASDSREL2'\n",
        "x.columns.values[26-i] = 'Very Severe_ASDSREL2'\n",
        "\n",
        "x.columns.values[27-i] = 'Aged 12-17/Unkn/Skip_ASDSSOC2'\n",
        "x.columns.values[28-i] = 'Mild_ASDSSOC2'\n",
        "x.columns.values[29-i] = 'Moderate_ASDSSOC2'\n",
        "x.columns.values[30-i] = 'None_ASDSSOC2'\n",
        "x.columns.values[31-i] = 'Severe_ASDSSOC2'\n",
        "x.columns.values[32-i] = 'Very Severe_ASDSSOC2'\n",
        "\n",
        "x.columns.values[33-i] = 'Aged 12-17/Unkn/Skip_ASDSOVL2'\n",
        "x.columns.values[34-i] = 'Mild_ASDSOVL2'\n",
        "x.columns.values[35-i] = 'Moderate_ASDSOVL2'\n",
        "x.columns.values[36-i] = 'None_ASDSOVL2'\n",
        "x.columns.values[37-i] = 'Severe_ASDSOVL2'\n",
        "x.columns.values[38-i] = 'Very Severe_ASDSOVL2'"
      ]
    },
    {
      "cell_type": "code",
      "execution_count": null,
      "metadata": {
        "id": "_loLcMxMeM2E"
      },
      "outputs": [],
      "source": [
        "x.columns.values[70] = '$20,000-$49,999_INCOME'\n",
        "x.columns.values[71] = '$50,000-$74,999_INCOME'\n",
        "x.columns.values[72] = '$75,000 or more_INCOME'\n",
        "x.columns.values[73] = 'Less than $20,000_INCOME'\n",
        "\n",
        "x.columns.values[58] = '12-14 year olds_IRWRKSTAT'"
      ]
    },
    {
      "cell_type": "markdown",
      "source": [
        "## **Y data** for ALLDGS"
      ],
      "metadata": {
        "id": "ZJplvX_0g2Nt"
      }
    },
    {
      "cell_type": "code",
      "execution_count": null,
      "metadata": {
        "id": "eWpx0laIe8lr"
      },
      "outputs": [],
      "source": [
        "# create target variable\n",
        "y = dl['ALLDGS']"
      ]
    },
    {
      "cell_type": "code",
      "source": [
        "# split data into train n test\n",
        "from sklearn.model_selection import train_test_split\n",
        "\n",
        "# Outputs 4 variables. First two variables will be 80% (train) & 20% (test) of x and Last two variables are 80% (train) & 20% (test) of y\n",
        "x_train,x_test,y_train,y_test = train_test_split(x,y,test_size=0.2) \n",
        "\n",
        "print(x_train.shape,y_train.shape)\n",
        "print(x_test.shape,y_test.shape)"
      ],
      "metadata": {
        "id": "HqopeWdxq_Am"
      },
      "execution_count": null,
      "outputs": []
    },
    {
      "cell_type": "code",
      "source": [
        "# Checking skewness of Y\n",
        "da = pd.DataFrame(y)\n",
        "da.ALLDGS.skew()"
      ],
      "metadata": {
        "id": "Ms-J1FUtDppK"
      },
      "execution_count": null,
      "outputs": []
    },
    {
      "cell_type": "code",
      "execution_count": null,
      "metadata": {
        "id": "BJf0CMDLfkQx"
      },
      "outputs": [],
      "source": [
        "# Checking skewness of Y\n",
        "da = pd.DataFrame(y_train)\n",
        "da.ALLDGS.skew()"
      ]
    },
    {
      "cell_type": "code",
      "source": [
        "###########################################"
      ],
      "metadata": {
        "id": "n1cbMyZjuMT9"
      },
      "execution_count": null,
      "outputs": []
    },
    {
      "cell_type": "code",
      "source": [
        "# Applying Boxcox transform on y_train\n",
        "tf = vt.BoxCoxTransformer(variables = ['ALLDGS'])\n",
        "y_train_tf = tf.fit_transform(pd.DataFrame(y_train))\n",
        "y_train_tf.ALLDGS.skew() # As you can see, skewness is close to zero (Normal dist)"
      ],
      "metadata": {
        "id": "sPRdUnpvhgln"
      },
      "execution_count": null,
      "outputs": []
    },
    {
      "cell_type": "code",
      "source": [
        "stats.boxcox((pd.DataFrame(y_train)).ALLDGS)[1] # LAMBDA value for y_train"
      ],
      "metadata": {
        "id": "0AkK_0ofhl78"
      },
      "execution_count": null,
      "outputs": []
    },
    {
      "cell_type": "code",
      "source": [
        "# creating axes to draw plots\n",
        "import seaborn as sns\n",
        "fig, ax = plt.subplots(1, 2, figsize=(10, 5))\n",
        " \n",
        "# plotting the original data(non-normal) and\n",
        "# fitted data (normal)\n",
        "sns.distplot(y_train, hist = True, kde = True,\n",
        "            kde_kws = {'shade': True, 'linewidth': 2},\n",
        "            label = \"Non-Normal\", color =\"green\", ax = ax[0],bins=10)\n",
        "ax[0].title.set_text('Dist before transform')\n",
        "ax[0].set_xlabel('y_train')\n",
        "\n",
        "sns.distplot(y_train_tf, hist = True, kde = True,\n",
        "            kde_kws = {'shade': True, 'linewidth': 2},\n",
        "            label = \"Normal\", color =\"blue\", ax = ax[1],bins=10)\n",
        "plt.xlabel('y_train_tf')\n",
        "plt.title('Dist after tranformation')\n",
        "\n",
        "fig.tight_layout()"
      ],
      "metadata": {
        "id": "K9S4fgzVhpLX"
      },
      "execution_count": null,
      "outputs": []
    },
    {
      "cell_type": "code",
      "source": [
        "# creating axes to draw plots\n",
        "import seaborn as sns\n",
        "fig, ax = plt.subplots(1, 1, figsize=(10, 10))\n",
        " \n",
        "# plotting the original data(non-normal) and\n",
        "# fitted data (normal)\n",
        "sns.distplot(y_train, hist = True, kde = True,\n",
        "            kde_kws = {'shade': True, 'linewidth': 2},\n",
        "            label = \"Non-Normal\", color =\"green\", ax = ax,bins=30)\n",
        "ax.title.set_text('Dist before transform')\n",
        "ax.set_xlabel('y_train')"
      ],
      "metadata": {
        "id": "4_AKINweij7c"
      },
      "execution_count": null,
      "outputs": []
    },
    {
      "cell_type": "markdown",
      "source": [
        "Not using Box-Cox"
      ],
      "metadata": {
        "id": "W4PK8fXquSFR"
      }
    },
    {
      "cell_type": "markdown",
      "source": [
        "## **LINEAR REGRESSION**"
      ],
      "metadata": {
        "id": "fbv1i_NGhCZ2"
      }
    },
    {
      "cell_type": "code",
      "source": [
        "# Linear Regression Modeling\n",
        "# Fitting to the model\n",
        "from sklearn import linear_model\n",
        "lm = linear_model.LinearRegression()\n",
        "model = lm.fit(x_train,y_train) # Passing the training data for Predictor & Target variables\n",
        "prediction = lm.predict(x_test) # The predicted y_test from test data of predicted variable"
      ],
      "metadata": {
        "id": "h5lMxkt9hKzH"
      },
      "execution_count": null,
      "outputs": []
    },
    {
      "cell_type": "code",
      "source": [
        "# model scores for train and test\n",
        "import sklearn as sklearn\n",
        "print(model.score(x_train,y_train)) \n",
        "print(model.score(x_test,y_test)) "
      ],
      "metadata": {
        "id": "Cy5PRPMnrWk6"
      },
      "execution_count": null,
      "outputs": []
    },
    {
      "cell_type": "code",
      "source": [
        "# print the coefficient\n",
        "# Linear Reg eqn y = B0 + B1.x1 + B2.x2 +...+ BN.xN\n",
        "print(model.intercept_) # intercept_ is used to find B0 (intercept or c)\n",
        "print(model.coef_) # other coeffcients (B1, B2...BN)"
      ],
      "metadata": {
        "id": "fGla3Y9nraaJ"
      },
      "execution_count": null,
      "outputs": []
    },
    {
      "cell_type": "code",
      "source": [
        "# Checking the distribution of prediction\n",
        "import seaborn as sns\n",
        "fig, ax = plt.subplots(1,1,figsize=(10, 10))\n",
        " \n",
        "# plotting the original data(non-normal) and\n",
        "# fitted data (normal)\n",
        "sns.distplot(prediction, hist = True, kde = True,\n",
        "            kde_kws = {'shade': True, 'linewidth': 2},\n",
        "            label = \"Non-Normal\", color =\"red\", ax = ax,bins=10)\n",
        "ax.title.set_text('Dist of prediction')\n",
        "ax.set_xlabel('prediction')"
      ],
      "metadata": {
        "id": "M6ZUvRhArdgq"
      },
      "execution_count": null,
      "outputs": []
    },
    {
      "cell_type": "code",
      "source": [
        "print(max(prediction))\n",
        "print(min(prediction))"
      ],
      "metadata": {
        "id": "GlnVKyL7rzUK"
      },
      "execution_count": null,
      "outputs": []
    },
    {
      "cell_type": "code",
      "source": [
        "# Evaluation metrics\n",
        "\n",
        "import sklearn.metrics as metrics\n",
        "mae = metrics.mean_absolute_error(y_test, prediction)\n",
        "mse = metrics.mean_squared_error(y_test, prediction)\n",
        "rmse = np.sqrt(mse) #mse**(0.5)  \n",
        "r2 = metrics.r2_score(y_test,prediction) \n",
        "mape = metrics.mean_absolute_percentage_error(y_test, prediction)\n",
        "\n",
        "print(\"Results of sklearn.metrics:\")\n",
        "print(\"MAE:\",mae)\n",
        "print(\"MSE:\", mse)\n",
        "print(\"RMSE:\", rmse)\n",
        "print(\"R-Squared:\", r2)\n",
        "print(\"MAPE:\",mape)"
      ],
      "metadata": {
        "id": "eLwiak_Qr111"
      },
      "execution_count": null,
      "outputs": []
    },
    {
      "cell_type": "markdown",
      "source": [
        "## **RANDOM FOREST REGRESSOR**"
      ],
      "metadata": {
        "id": "T4rOiOKar5ln"
      }
    },
    {
      "cell_type": "code",
      "execution_count": null,
      "metadata": {
        "id": "ZChqdRNqfsmt"
      },
      "outputs": [],
      "source": [
        "# Hyperparameter Tuning"
      ]
    },
    {
      "cell_type": "code",
      "execution_count": null,
      "metadata": {
        "id": "l1XTp63sfvZN"
      },
      "outputs": [],
      "source": [
        "# Step 1"
      ]
    },
    {
      "cell_type": "code",
      "execution_count": null,
      "metadata": {
        "id": "YBUuzgHxfw4M"
      },
      "outputs": [],
      "source": [
        "# Search space\n",
        "import numpy as np\n",
        "from sklearn.model_selection import RandomizedSearchCV\n",
        "# Number of trees in random forest\n",
        "n_estimators = [int(x) for x in np.arange(2,101)]\n",
        "# Number of features to consider at every split\n",
        "max_features = ['auto', 'sqrt']\n",
        "# Maximum number of levels in tree\n",
        "max_depth = [int(x) for x in np.arange(2,31,2)]\n",
        "max_depth.append(None)\n",
        "# Minimum number of samples required to split a node\n",
        "min_samples_split = [int(x) for x in np.arange(2,51,2)]\n",
        "# Minimum number of samples required at each leaf node\n",
        "min_samples_leaf = [int(x) for x in np.arange(2,51,2)]\n",
        "# Method of selecting samples for training each tree\n",
        "bootstrap = [True, False]\n",
        "# Create the random grid\n",
        "random_grid = {'n_estimators': n_estimators,\n",
        "               'max_features': max_features,\n",
        "               'max_depth': max_depth,\n",
        "               'min_samples_split': min_samples_split,\n",
        "               'min_samples_leaf': min_samples_leaf,\n",
        "               'bootstrap': bootstrap}\n",
        "pprint(random_grid)"
      ]
    },
    {
      "cell_type": "code",
      "execution_count": null,
      "metadata": {
        "id": "_LAW43ktfzYG"
      },
      "outputs": [],
      "source": [
        "# Step 2 - Randomized Search & Model Building"
      ]
    },
    {
      "cell_type": "code",
      "execution_count": null,
      "metadata": {
        "id": "lA35srgSf0k8"
      },
      "outputs": [],
      "source": [
        "# # SKIP if you already have the hyperparameters\n",
        "# Use the random grid to search for best hyperparameters\n",
        "# First create the base model to tune\n",
        "from sklearn.ensemble import RandomForestRegressor\n",
        "rfa = RandomForestRegressor()\n",
        "# Random search of parameters, using 3 fold cross validation, \n",
        "# search across 100 different combinations, and use all available cores\n",
        "rfa_bestfit = RandomizedSearchCV(estimator = rfa, param_distributions = random_grid, n_iter = 100, cv = 3, verbose=2, random_state=42, n_jobs = -1)\n",
        "# Fit the random search model\n",
        "rfa_bestfit.fit(x_train, y_train)\n",
        "\n",
        "rfa_bestfit.best_params_ # These are the parameters that we are setting to our model to get the best possible accuracy"
      ]
    },
    {
      "cell_type": "code",
      "execution_count": null,
      "metadata": {
        "id": "IrbT6rvWf_Vw"
      },
      "outputs": [],
      "source": [
        "# PARAMETERS\n",
        "# {'n_estimators': 52,\n",
        "#  'min_samples_split': 26,\n",
        "#  'min_samples_leaf': 10,\n",
        "#  'max_features': 'sqrt',\n",
        "#  'max_depth': 14,\n",
        "#  'bootstrap': False}"
      ]
    },
    {
      "cell_type": "code",
      "source": [
        "# Do this to avoid Random Search\n",
        "# model built with the optimal parameters\n",
        "from sklearn.ensemble import RandomForestRegressor\n",
        "rfa_bestfit = RandomForestRegressor(n_estimators= 52,\n",
        " min_samples_split= 26,\n",
        " min_samples_leaf= 10,\n",
        " max_features= 'sqrt',\n",
        " max_depth= 14,\n",
        " bootstrap= False, random_state=42)\n",
        "rfa_bestfit = rfa_bestfit.fit(x_train,y_train)\n",
        "prediction = rfa_bestfit.predict(x_test) # Prediction"
      ],
      "metadata": {
        "id": "UqjRgPSusGfw"
      },
      "execution_count": null,
      "outputs": []
    },
    {
      "cell_type": "code",
      "source": [
        "# Checking the distribution of prediction\n",
        "import seaborn as sns\n",
        "fig, ax = plt.subplots(1,1,figsize=(10, 10))\n",
        " \n",
        "# plotting the original data(non-normal) and\n",
        "# fitted data (normal)\n",
        "sns.distplot(prediction, hist = True, kde = True,\n",
        "            kde_kws = {'shade': True, 'linewidth': 2},\n",
        "            label = \"Non-Normal\", color =\"red\", ax = ax,bins=30)\n",
        "ax.title.set_text('Dist of prediction')\n",
        "ax.set_xlabel('prediction')"
      ],
      "metadata": {
        "id": "nAd_vIyislAm"
      },
      "execution_count": null,
      "outputs": []
    },
    {
      "cell_type": "code",
      "source": [
        "print(min(np.array(prediction)))\n",
        "print(max(np.array(prediction)))"
      ],
      "metadata": {
        "id": "fB7z5GVSssJR"
      },
      "execution_count": null,
      "outputs": []
    },
    {
      "cell_type": "code",
      "execution_count": null,
      "metadata": {
        "id": "r7Ufi5MigBDe"
      },
      "outputs": [],
      "source": [
        "# Model Evaluation"
      ]
    },
    {
      "cell_type": "code",
      "execution_count": null,
      "metadata": {
        "id": "kxxPY-GKgCu6"
      },
      "outputs": [],
      "source": [
        "# score on Training data \n",
        "print(rfa_bestfit.score(x_train,y_train)) "
      ]
    },
    {
      "cell_type": "code",
      "execution_count": null,
      "metadata": {
        "id": "fVbjF6UggPe7"
      },
      "outputs": [],
      "source": [
        "# score on Test data\n",
        "print(rfa_bestfit.score(x_test,y_test)) "
      ]
    },
    {
      "cell_type": "code",
      "execution_count": null,
      "metadata": {
        "id": "iADAadFhgaHg"
      },
      "outputs": [],
      "source": [
        "# Prediction\n",
        "prediction = rf_bestfit.predict(x_test) # The predicted y_test from test data of predicted variable"
      ]
    },
    {
      "cell_type": "code",
      "execution_count": null,
      "metadata": {
        "id": "kBxE0hC1k0wE"
      },
      "outputs": [],
      "source": [
        "# Evaluation metrics\n",
        "\n",
        "import sklearn.metrics as metrics\n",
        "mae = metrics.mean_absolute_error(y_test, prediction)\n",
        "mse = metrics.mean_squared_error(y_test, prediction)\n",
        "rmse = np.sqrt(mse) #mse**(0.5)  \n",
        "r2 = metrics.r2_score(y_test,prediction) \n",
        "mape = metrics.mean_absolute_percentage_error(y_test, prediction)\n",
        "\n",
        "print(\"Results of sklearn.metrics:\")\n",
        "print(\"MAE:\",mae)\n",
        "print(\"MSE:\", mse)\n",
        "print(\"RMSE:\", rmse)\n",
        "print(\"R-Squared:\", r2)\n",
        "print(\"MAPE:\",mape)"
      ]
    },
    {
      "cell_type": "code",
      "source": [
        "# Feature importance in prediction\n",
        "import sklearn.metrics as metrics\n",
        "bcfit = rfa_bestfit\n",
        "imp_feature = bcfit.feature_importances_\n",
        "columns = x.columns\n",
        "clf_co = pd.Series(imp_feature,columns)"
      ],
      "metadata": {
        "id": "b7BOjjh3v93U"
      },
      "execution_count": null,
      "outputs": []
    },
    {
      "cell_type": "code",
      "source": [
        "## top features\n",
        "# Feature importance graph\n",
        "# Top 15 most imp features\n",
        "dfimp = pd.DataFrame(clf_co.sort_values(ascending=False)).reset_index()\n",
        "dfimp.columns.values[0] = 'Feature'\n",
        "dfimp.columns.values[1] = 'Importance'\n",
        "dfimp['Importance'] = round(dfimp['Importance']*100,2)\n",
        "dplt1 = dfimp.head(15)\n",
        "dplt2 = dplt1.copy()\n",
        "dplt2.sort_values(by='Importance',ascending=True,inplace=True)\n",
        "\n",
        "plt.barh(dplt2['Feature'],dplt2['Importance'],color='green')\n",
        "plt.title('Feature Importance (Top 15)')\n",
        "plt.ylabel('Feature')\n",
        "plt.xlabel('Importance')\n",
        "print(dplt1)"
      ],
      "metadata": {
        "id": "sYgxmYLXwOze"
      },
      "execution_count": null,
      "outputs": []
    },
    {
      "cell_type": "code",
      "source": [
        "## bottom features\n",
        "# Feature importance graph\n",
        "# Bottom 15 (15 least imp features)\n",
        "dfimp = pd.DataFrame(clf_co.sort_values(ascending=False)).reset_index()\n",
        "dfimp.columns.values[0] = 'Feature'\n",
        "dfimp.columns.values[1] = 'Importance'\n",
        "dfimp['Importance'] = round(dfimp['Importance']*100,2)\n",
        "dplt1 = dfimp.tail(15)\n",
        "dplt2 = dplt1.copy()\n",
        "dplt2.sort_values(by='Importance',ascending=False,inplace=True)\n",
        "\n",
        "plt.barh(dplt2['Feature'],dplt2['Importance'],color='gray')\n",
        "plt.title('Feature Importance (Bottom 15)')\n",
        "plt.ylabel('Feature')\n",
        "plt.xlabel('Importance')\n",
        "print(dplt2.sort_values(by='Importance',ascending=True))"
      ],
      "metadata": {
        "id": "Xo-221IcwUdj"
      },
      "execution_count": null,
      "outputs": []
    },
    {
      "cell_type": "code",
      "source": [
        "# Plotting the chart\n",
        "import seaborn as sns\n",
        "plt.scatter(y_test,prediction)\n",
        "# .set(xlabel = 'y_test', ylabel = 'prediction', title = 'Test data vs Prediction for IRALCFY')\n",
        "plt.xlabel('y_test')\n",
        "plt.ylabel('prediction')\n",
        "plt.title('Test data vs Prediction for IRALCFY')"
      ],
      "metadata": {
        "id": "5M5EkBuRu3gA"
      },
      "execution_count": null,
      "outputs": []
    },
    {
      "cell_type": "markdown",
      "source": [
        "##**CATBOOST REGRESSOR**"
      ],
      "metadata": {
        "id": "7W__WXYgv99l"
      }
    },
    {
      "cell_type": "code",
      "source": [
        "# Removing rows with ALLDGSCAT = 'Never used'\n",
        "dvn = dv[dv['ALLDGSCAT'] == 'Ever used']"
      ],
      "metadata": {
        "id": "bAkfxsJQwWG6"
      },
      "execution_count": null,
      "outputs": []
    },
    {
      "cell_type": "code",
      "source": [
        "X = dvn.drop(dvn.columns[[0,1,2,3,4,5,6,7,8,9,10,11,12,13,14,15,16,35,36,37,38,39]],axis=1)\n",
        "y = dvn['ALLDGS']"
      ],
      "metadata": {
        "id": "Jq92CsPxwbRW"
      },
      "execution_count": null,
      "outputs": []
    },
    {
      "cell_type": "code",
      "source": [
        "# Declaring Categorical features\n",
        "cat_features = list(range(0, X.shape[1]))\n",
        "print(cat_features)"
      ],
      "metadata": {
        "id": "J-3pwYM6ybWG"
      },
      "execution_count": null,
      "outputs": []
    },
    {
      "cell_type": "code",
      "source": [
        "# Train test split\n",
        "from sklearn.model_selection import train_test_split\n",
        "X_train, X_val, y_train, y_val = train_test_split(X, y, test_size=0.2, random_state=0)"
      ],
      "metadata": {
        "id": "Mgc0XB4fyfjX"
      },
      "execution_count": null,
      "outputs": []
    },
    {
      "cell_type": "code",
      "source": [
        "!pip install catboost"
      ],
      "metadata": {
        "id": "UnerypOSymoy"
      },
      "execution_count": null,
      "outputs": []
    },
    {
      "cell_type": "code",
      "source": [
        "# catboost implementation\n",
        "from catboost import CatBoostRegressor\n",
        "\n",
        "clf = CatBoostRegressor(\n",
        "    iterations=5, \n",
        "    learning_rate=0.1, \n",
        "    #loss_function='CrossEntropy'\n",
        ")\n",
        "\n",
        "\n",
        "clf.fit(X_train, y_train, \n",
        "        cat_features=cat_features, \n",
        "        eval_set=(X_val, y_val), \n",
        "        verbose=False\n",
        ")\n",
        "\n",
        "print('CatBoost model is fitted: ' + str(clf.is_fitted()))\n",
        "print('CatBoost model parameters:')\n",
        "print(clf.get_params())"
      ],
      "metadata": {
        "id": "mw90gFj3ypvs"
      },
      "execution_count": null,
      "outputs": []
    },
    {
      "cell_type": "code",
      "source": [
        "# Stdout of the training\n",
        "from catboost import CatBoostRegressor\n",
        "clf = CatBoostRegressor(\n",
        "    iterations=10,\n",
        "#     verbose=5,\n",
        ")\n",
        "\n",
        "clf.fit(\n",
        "    X_train, y_train,\n",
        "    cat_features=cat_features,\n",
        "    eval_set=(X_val, y_val),\n",
        ")"
      ],
      "metadata": {
        "id": "2PdkwiT7yswO"
      },
      "execution_count": null,
      "outputs": []
    },
    {
      "cell_type": "code",
      "source": [
        "print(clf.predict(X_val)) # Predictions"
      ],
      "metadata": {
        "id": "FdBm94eTyzDy"
      },
      "execution_count": null,
      "outputs": []
    },
    {
      "cell_type": "code",
      "source": [
        "y_pred = clf.predict(X_val)"
      ],
      "metadata": {
        "id": "ES9kcF-Qy2HO"
      },
      "execution_count": null,
      "outputs": []
    },
    {
      "cell_type": "code",
      "source": [
        "# Checking the distribution of prediction\n",
        "import seaborn as sns\n",
        "fig, ax = plt.subplots(1,1,figsize=(10, 10))\n",
        " \n",
        "# plotting the original data(non-normal) and\n",
        "# fitted data (normal)\n",
        "sns.distplot(y_pred, hist = True, kde = True,\n",
        "            kde_kws = {'shade': True, 'linewidth': 2},\n",
        "            label = \"Non-Normal\", color =\"red\", ax = ax,bins=10)\n",
        "ax.title.set_text('Dist of y_pred')\n",
        "ax.set_xlabel('y_pred')"
      ],
      "metadata": {
        "id": "-xjeDv33y9jP"
      },
      "execution_count": null,
      "outputs": []
    },
    {
      "cell_type": "code",
      "source": [
        "print(min(np.array(y_pred)))\n",
        "print(max(np.array(y_pred)))"
      ],
      "metadata": {
        "id": "xFVkbE7l2ruH"
      },
      "execution_count": null,
      "outputs": []
    },
    {
      "cell_type": "code",
      "source": [
        "# score on Training data \n",
        "print(clf.score(X_train,y_train)) "
      ],
      "metadata": {
        "id": "udih_rQB0-6o"
      },
      "execution_count": null,
      "outputs": []
    },
    {
      "cell_type": "code",
      "source": [
        "# score on Test data\n",
        "print(clf.score(X_val,y_val)) "
      ],
      "metadata": {
        "id": "GY9eSDNn1JGX"
      },
      "execution_count": null,
      "outputs": []
    },
    {
      "cell_type": "code",
      "source": [
        "# Evaluation Metrics\n",
        "\n",
        "import sklearn.metrics as metrics\n",
        "mae = metrics.mean_absolute_error(y_val, y_pred)\n",
        "mse = metrics.mean_squared_error(y_val, y_pred)\n",
        "rmse = np.sqrt(mse) #mse**(0.5)  \n",
        "r2 = metrics.r2_score(y_val,y_pred) \n",
        "mape = metrics.mean_absolute_percentage_error(y_val, y_pred)\n",
        "\n",
        "print(\"Results of sklearn.metrics:\")\n",
        "print(\"MAE:\",mae)\n",
        "print(\"MSE:\", mse)\n",
        "print(\"RMSE:\", rmse)\n",
        "print(\"R-Squared:\", r2)\n",
        "print(\"MAPE:\",mape)"
      ],
      "metadata": {
        "id": "gxZijiyE1MaP"
      },
      "execution_count": null,
      "outputs": []
    },
    {
      "cell_type": "markdown",
      "source": [
        "#**MODEL SELECTION**"
      ],
      "metadata": {
        "id": "8HBnWpEEPoPr"
      }
    },
    {
      "cell_type": "markdown",
      "source": [
        "**For IRALCFY:**\n",
        "\n",
        "Linear Regression:\n",
        "\n",
        "Results of sklearn.metrics:\n",
        "* MAE: 67.3325347936132\n",
        "* MSE: 7585.800442891922\n",
        "* RMSE: 87.09650074998376\n",
        "* R-Squared: 0.0773372152438615\n",
        "* MAPE: 6.050438707733569\n",
        "\n",
        "Random Forest:\n",
        "\n",
        "Results of sklearn.metrics:\n",
        "* MAE: 66.65218863624317\n",
        "* MSE: 7501.849392723051\n",
        "* RMSE: 86.61321719416183\n",
        "* R-Squared: 0.09366934372894598\n",
        "* MAPE: 5.851723056694891\n",
        "\n",
        "CatBoost:\n",
        "\n",
        "Results of sklearn.metrics:\n",
        "* MAE: 67.0744796879123\n",
        "* MSE: 7524.596701757585\n",
        "* RMSE: 86.74443326091644\n",
        "* R-Squared: 0.08847903238038313\n",
        "* MAPE: 5.963419228648019\n",
        "\n",
        "We choose Random Forest Regressor for Alcohol frequency as the best model, since it has the lowest RMSE and MAPE values"
      ],
      "metadata": {
        "id": "LFpxtZ-KPx5C"
      }
    },
    {
      "cell_type": "markdown",
      "source": [
        "**For ALLDGS:**\n",
        "\n",
        "Linear Regression:\n",
        "\n",
        "Results of sklearn.metrics:\n",
        "\n",
        "* MAE: 116.80163455703884\n",
        "* MSE: 20683.889513330552\n",
        "* RMSE: 143.818946990063\n",
        "* R-Squared: 0.08648754625047828\n",
        "* MAPE: 15.828576233565963\n",
        "\n",
        "Random Forest:\n",
        "\n",
        "Results of sklearn.metrics:\n",
        "* MAE: 117.2241321299863\n",
        "* MSE: 20632.543682224215\n",
        "* RMSE: 143.64032749274912\n",
        "* R-Squared: 0.0887552559157\n",
        "* MAPE: 16.076025282912205\n",
        "\n",
        "CatBoost:\n",
        "\n",
        "Results of sklearn.metrics:\n",
        "* MAE: 118.36996281804136\n",
        "* MSE: 20989.036830604855\n",
        "* RMSE: 144.87593599561265\n",
        "* R-Squared: 0.09357765755734104\n",
        "* MAPE: 16.57605053667785\n",
        "\n",
        "We choose Random Forest Regressor for Alldrugs frequency as the best model, since it has the lowest RMSE value"
      ],
      "metadata": {
        "id": "WdEuBPZBRGae"
      }
    },
    {
      "cell_type": "markdown",
      "source": [
        "# PREDICTION"
      ],
      "metadata": {
        "id": "RyqvW1xRxc9V"
      }
    },
    {
      "cell_type": "code",
      "source": [
        "# NOTE: \n",
        "# RUN THIS CODE ONLY AFTER RUNNING THE FOUR MODELS: \n",
        "# cat_tm_ca (CatBoost Classifier for ALCCAT), cat_tm_cd (CatBoost Classifier for ALLDGSCAT),\n",
        "# rf_bestfit (Random Forest Regressor for IRALCFY) & rfa_bestfit (Random Forest Regressor for ALLDGS)"
      ],
      "metadata": {
        "id": "qUmxrM4ho2EP"
      },
      "execution_count": null,
      "outputs": []
    },
    {
      "cell_type": "code",
      "source": [
        "# sample input data1\n",
        "data1 = [0, 0,\t1,\t0,\t1,\t0,\t0,\t0,\t0,\t0,\t\n",
        "         1,\t0,\t0,\t0,\t0,\t0,\t1,\t0,\t0,\t0,\n",
        "         0,\t0,\t1,\t0,\t0,\t0,\t0,\t0,\t1,\t0,\t\n",
        "         0,\t0,\t0,\t0,\t0,\t1,\t0,\t0,\t0,\t0,\n",
        "         0,\t0,\t0,\t0,\t0,\t1,\t0,\t0,\t0,\t0,\t\n",
        "         1,\t0,\t0,\t0,\t0,\t0,\t0,\t1,\t0,\t1,\t\n",
        "         0,\t0,\t0,\t0,\t0,\t0,\t1,\t0,\t0,\t0,\t\n",
        "         0,\t1,\t0,\t0,\t1,\t0,\t0,\t0,\t0,\t1]\n",
        "\n",
        "list1 = data1\n",
        "\n",
        "# Code to predict\n",
        "y_pred_alc = cat_tm_ca.predict([list1])\n",
        "y_pred_drug = cat_tm_cd.predict([list1])\n",
        "if y_pred_alc == 0:\n",
        "  print('Does not consume Alcohol')\n",
        "else:\n",
        "  print('Consumed Alcohol')\n",
        "\n",
        "if y_pred_drug == 0:\n",
        "  print('Does not consume Drugs')\n",
        "else:\n",
        "  print('Consumed Drugs')\n",
        "\n",
        "if y_pred_alc == 1:\n",
        "  print('Avg Alcohol consumption per year:', round(rf_bestfit.predict([list1])[0]))\n",
        "\n",
        "if y_pred_drug == 1:\n",
        "  print('Avg Alldrugs consumption per year:', round(rfa_bestfit.predict([list1])[0]))"
      ],
      "metadata": {
        "id": "qwRrIJgfUksx"
      },
      "execution_count": null,
      "outputs": []
    },
    {
      "cell_type": "code",
      "source": [
        "# sample input data2\n",
        "data2 = [0,\t0,\t1,\t0,\t1,\t0,\t0,\t0,\t0,\t0,\t1,\t0,\t0,\t0,\t0,\t0,\t1,\t0,\t0,\n",
        "         0,\t0,\t0,\t1,\t0,\t0,\t0,\t0,\t0,\t1,\t0,\t0,\t0,\t0,\t0,\t0,\t1,\t0,\t0,\t\n",
        "         1,\t0,\t0,\t0,\t0,\t0,\t0,\t0,\t0,\t1,\t0,\t0,\t0,\t0,\t0,\t0,\t1,\t0,\t0,\t\n",
        "         0,\t0,\t0,\t0,\t1,\t0,\t0,\t0,\t0,\t0,\t0,\t0,\t1,\t1,\t0,\t0,\t0,\t1,\t0,\t\n",
        "         0,\t0,\t0,\t1] \n",
        "\n",
        "list2 = data2\n",
        "\n",
        "# Code to predict\n",
        "y_pred_alc = cat_tm_ca.predict([list2])\n",
        "y_pred_drug = cat_tm_cd.predict([list2])\n",
        "if y_pred_alc == 0:\n",
        "  print('Does not consume Alcohol')\n",
        "else:\n",
        "  print('Consumed Alcohol')\n",
        "\n",
        "if y_pred_drug == 0:\n",
        "  print('Does not consume Drugs')\n",
        "else:\n",
        "  print('Consumed Drugs')\n",
        "\n",
        "if y_pred_alc == 1:\n",
        "  print('\\n')\n",
        "  print('Avg Alcohol consumption per year:', round(rf_bestfit.predict([list1])[0]))\n",
        "\n",
        "if y_pred_drug == 1:\n",
        "  print('\\n')\n",
        "  print('Avg Alldrugs consumption per year:', round(rfa_bestfit.predict([list1])[0]))"
      ],
      "metadata": {
        "id": "SgPva43qWXXl"
      },
      "execution_count": null,
      "outputs": []
    },
    {
      "cell_type": "code",
      "source": [
        "# sample input data3\n",
        "data3 = [0, 0, 1, 0, 1, 0, 0, 0, 0, 0,\n",
        "         1, 0, 0, 0, 0, 0, 1, 0, 0, 0,\n",
        "         0, 0, 1, 0, 0, 0, 0, 0, 1, 0,\n",
        "         0, 0, 0, 0, 0, 1, 0, 0, 0, 0,\n",
        "         0, 1, 0, 0, 0, 0, 0, 0, 1, 0,\n",
        "         0, 0, 0, 0, 0, 0, 0, 1, 0, 1,\n",
        "         0, 0, 0, 0, 0, 0, 0, 0, 0, 1,\n",
        "         0, 0, 1, 0, 0, 1, 0, 1, 0, 0] \n",
        "\n",
        "list1 = data3\n",
        "\n",
        "# Code to predict\n",
        "y_pred_alc = cat_tm_ca.predict([list1])\n",
        "y_pred_drug = cat_tm_cd.predict([list1])\n",
        "if y_pred_alc == 0:\n",
        "  print('Does not consume Alcohol')\n",
        "else:\n",
        "  print('Consumed Alcohol')\n",
        "\n",
        "if y_pred_drug == 0:\n",
        "  print('Does not consume Drugs')\n",
        "else:\n",
        "  print('Consumed Drugs')\n",
        "\n",
        "if y_pred_alc == 1:\n",
        "  print('Avg Alcohol consumption per year:', round(rf_bestfit.predict([list1])[0]))\n",
        "\n",
        "if y_pred_drug == 1:\n",
        "  print('Avg Alldrugs consumption per year:', round(rfa_bestfit.predict([list1])[0]))"
      ],
      "metadata": {
        "id": "086QXJH4cg9L"
      },
      "execution_count": null,
      "outputs": []
    },
    {
      "cell_type": "markdown",
      "source": [
        "**PREDICTIONS BASED ON THE ANSWERS GIVEN TO THE QUESTIONS**"
      ],
      "metadata": {
        "id": "g2Uf3nfer-rK"
      }
    },
    {
      "cell_type": "code",
      "source": [
        "# Creating the Answers list (Q) based on the answers to the questions asked\n",
        "# It is from the answers to these questions that we will be collecting data for the independent variables\n",
        "Q = np.zeros(80)\n",
        "q1 = input('Did you receive Mental Health treatment in past year (Yes/No)? (AMHTXND2)\\n')\n",
        "if(q1 == 'Yes'):\n",
        "  Q[0] = 1\n",
        "else:\n",
        "  Q[0] = 0\n",
        "\n",
        "q2 = input('Any major depressive episode in past year (Yes/No)? (AMDEYR)\\n')\n",
        "if(q2 == 'Yes'):\n",
        "  Q[1] = 1\n",
        "else:\n",
        "  Q[1] = 0\n",
        "\n",
        "q3 = input('Do you have private health insurance (Yes/No)? (IRPRVHLT)\\n')\n",
        "if(q3 == 'Yes'):\n",
        "  Q[2] = 1\n",
        "else:\n",
        "  Q[2] = 0\n",
        "\n",
        "q4 = input('Do you receive any Govt Assistance Payments (Yes/No)? (IRFAMSOC)\\n')\n",
        "if(q4 == 'Yes'):\n",
        "  Q[3] = 1\n",
        "else:\n",
        "  Q[3] = 0\n",
        "\n",
        "q5 = input('Mention the level of your depression impacting Home Management (None/Mild/Moderate/Severe/Very Severe/Skip)? (ASDSHOM2)\\n')\n",
        "if(q5 == 'None'):\n",
        "  Q[7] = 1\n",
        "elif(q5 == 'Mild'):\n",
        "  Q[5] = 1\n",
        "elif(q5 == 'Moderate'):\n",
        "  Q[6] = 1\n",
        "elif(q5 == 'Severe'):\n",
        "  Q[8] = 1\n",
        "elif(q5 == 'Very Severe'):\n",
        "  Q[9] = 1\n",
        "else:\n",
        "  Q[4] = 1\n",
        "\n",
        "q6 = input('Mention the level of your depression impacting Ability to Work (None/Mild/Moderate/Severe/Very Severe/Skip)? (ASDSWRK2)\\n')\n",
        "if(q6 == 'None'):\n",
        "  Q[13] = 1\n",
        "elif(q6 == 'Mild'):\n",
        "  Q[11] = 1\n",
        "elif(q6 == 'Moderate'):\n",
        "  Q[12] = 1\n",
        "elif(q6 == 'Severe'):\n",
        "  Q[14] = 1\n",
        "elif(q6 == 'Very Severe'):\n",
        "  Q[15] = 1\n",
        "else:\n",
        "  Q[10] = 1\n",
        "\n",
        "q7 = input('Mention the level of your depression impacting Close Relationships (None/Mild/Moderate/Severe/Very Severe/Skip)? (ASDSREL2)\\n')\n",
        "if(q7 == 'None'):\n",
        "  Q[19] = 1\n",
        "elif(q7 == 'Mild'):\n",
        "  Q[17] = 1\n",
        "elif(q7 == 'Moderate'):\n",
        "  Q[18] = 1\n",
        "elif(q7 == 'Severe'):\n",
        "  Q[20] = 1\n",
        "elif(q7 == 'Very Severe'):\n",
        "  Q[21] = 1\n",
        "else:\n",
        "  Q[16] = 1\n",
        "\n",
        "q8 = input('Mention the level of your depression impacting Social Life (None/Mild/Moderate/Severe/Very Severe/Skip)? (ASDSSOC2)\\n')\n",
        "if(q8 == 'None'):\n",
        "  Q[25] = 1\n",
        "elif(q8 == 'Mild'):\n",
        "  Q[23] = 1\n",
        "elif(q8 == 'Moderate'):\n",
        "  Q[24] = 1\n",
        "elif(q8 == 'Severe'):\n",
        "  Q[26] = 1\n",
        "elif(q8 == 'Very Severe'):\n",
        "  Q[27] = 1\n",
        "else:\n",
        "  Q[22] = 1\n",
        "\n",
        "q9 = input('Mention the level of your depression that you feel impairs your role as an active member of society (None/Mild/Moderate/Severe/Very Severe/Skip)? (ASDSOVL2)\\n')\n",
        "if(q9 == 'None'):\n",
        "  Q[31] = 1\n",
        "elif(q9 == 'Mild'):\n",
        "  Q[29] = 1\n",
        "elif(q9 == 'Moderate'):\n",
        "  Q[30] = 1\n",
        "elif(q9 == 'Severe'):\n",
        "  Q[32] = 1\n",
        "elif(q9 == 'Very Severe'):\n",
        "  Q[33] = 1\n",
        "else:\n",
        "  Q[28] = 1\n",
        "\n",
        "q10 = input('What is your Gender (IRSEX)? (Male/Female)\\n')\n",
        "if q10 == 'Female':\n",
        "  Q[34] = 1\n",
        "else:\n",
        "  Q[35] = 1\n",
        "\n",
        "q11 = input('What is your educational background (IREDUHIGHST2)? \\n(1: Associate degree/2: College grad or higher/3: 8th grade/4: 11th or 12th grade, no diploma/5: 5th grade or less/6: High School completed or GED/7: 9th grade/8: 7th grade/9: 6th grade/10: College dropout/11: 10th grade)\\n')\n",
        "if q11 == '1':\n",
        "  Q[36] = 1\n",
        "if q11 == '2':\n",
        "  Q[37] = 1\n",
        "if q11 == '3':\n",
        "  Q[38] = 1\n",
        "if q11 == '4':\n",
        "  Q[39] = 1\n",
        "if q11 == '5':\n",
        "  Q[40] = 1\n",
        "if q11 == '6':\n",
        "  Q[41] = 1\n",
        "if q11 == '7':\n",
        "  Q[42] = 1\n",
        "if q11 == '8':\n",
        "  Q[43] = 1\n",
        "if q11 == '9':\n",
        "  Q[44] = 1\n",
        "if q11 == '10':\n",
        "  Q[45] = 1\n",
        "if q11 == '11':\n",
        "  Q[46] = 1\n",
        "\n",
        "q12 = input('What is your age (CATAGE)? \\n(1: 12 to 17 yrs/2: 18 to 25 yrs/3: 26 to 34 yrs/4: 35 or older)\\n')\n",
        "if q12 == '1':\n",
        "  Q[47] = 1\n",
        "if q12 == '2':\n",
        "  Q[48] = 1\n",
        "if q12 == '3':\n",
        "  Q[49] = 1\n",
        "if q12 == '4':\n",
        "  Q[50] = 1\n",
        "\n",
        "q13 = input('What is your ethnic background (NEWRACE2)? \\n(1: Asian/2: Black/3: Hispanic/4: Mixed/5: Native American or Alaskan/6: Pacific Islander/7: White)\\n')\n",
        "if q13 == '1':\n",
        "  Q[51] = 1\n",
        "if q13 == '2':\n",
        "  Q[52] = 1\n",
        "if q13 == '3':\n",
        "  Q[53] = 1\n",
        "if q13 == '4':\n",
        "  Q[54] = 1\n",
        "if q13 == '5':\n",
        "  Q[55] = 1\n",
        "if q13 == '6':\n",
        "  Q[56] = 1\n",
        "if q13 == '7':\n",
        "  Q[57] = 1\n",
        "\n",
        "q14 = input('What is your employment status (IRWRKSTAT)? \\n(1: Still juvenile/2: Employed fulltime/3: Employed part-time/4: Other (incl. not in labor force)/5: Unemployed)\\n')\n",
        "if q14 == '1':\n",
        "  Q[58] = 1\n",
        "if q14 == '2':\n",
        "  Q[59] = 1\n",
        "if q14 == '3':\n",
        "  Q[60] = 1\n",
        "if q14 == '4':\n",
        "  Q[61] = 1\n",
        "if q14 == '5':\n",
        "  Q[62] = 1\n",
        "\n",
        "\n",
        "q15 = input('What is your total income (IRPINC3)? \\n(1: $10,000 to $19,999/2: $20,000 to $29,999/3: $30,000 to $39,999/4: $40,000 to $49,999/5: $50,000 to $75,000/6: $75,000 or more/7: Less than $10,000)\\n')\n",
        "if q15 == '1':\n",
        "  Q[63] = 1\n",
        "if q15 == '2':\n",
        "  Q[64] = 1\n",
        "if q15 == '3':\n",
        "  Q[65] = 1\n",
        "if q15 == '4':\n",
        "  Q[66] = 1\n",
        "if q15 == '5':\n",
        "  Q[67] = 1\n",
        "if q15 == '6':\n",
        "  Q[68] = 1\n",
        "if q15 == '7':\n",
        "  Q[69] = 1\n",
        "\n",
        "q16 = input('What is your total family income (INCOME)? \\n(1: $20,000 to $49,999/2: $50,000 to $74,999/3: $75,000 or more/4: Less than $20,000)\\n')\n",
        "if q16 == '1':\n",
        "  Q[70] = 1\n",
        "if q16 == '2':\n",
        "  Q[71] = 1\n",
        "if q16 == '3':\n",
        "  Q[72] = 1\n",
        "if q16 == '4':\n",
        "  Q[73] = 1\n",
        "\n",
        "q17 = input('What is the population density in your area (PDEN10)? \\n(1: CBSA segment with fewer than a million people/2: CBSA segment with greater than or equal to a million people/3: Non-CBSA segment)\\n')\n",
        "if q17 == '1':\n",
        "  Q[74] = 1\n",
        "if q17 == '2':\n",
        "  Q[75] = 1\n",
        "if q17 == '3':\n",
        "  Q[76] = 1\n",
        "\n",
        "q18 = input('What is the metro status of your area (COUTYP4)? \\n(1: Large Metro/2: Non-Metro/3: Small Metro)\\n')\n",
        "if q18 == '1':\n",
        "  Q[77] = 1\n",
        "if q18 == '2':\n",
        "  Q[78] = 1\n",
        "if q18 == '3':\n",
        "  Q[79] = 1\n",
        "\n",
        "\n",
        "\n",
        "\n",
        "print(Q)\n",
        "print(type(list(Q)))"
      ],
      "metadata": {
        "id": "HUdvo8Edx4fK"
      },
      "execution_count": null,
      "outputs": []
    },
    {
      "cell_type": "code",
      "source": [
        "# Feeding the Answers list (Q) as input data (test) to perform predictions\n",
        "\n",
        "list1 = Q\n",
        "\n",
        "# Code to predict\n",
        "print('PREDICTIONS BASED ON THE GIVEN ANSWERS: \\n')\n",
        "y_pred_alc = cat_tm_ca.predict([list1])\n",
        "y_pred_drug = cat_tm_cd.predict([list1])\n",
        "if y_pred_alc == 0:\n",
        "  print('Does not consume Alcohol')\n",
        "else:\n",
        "  print('Consumed Alcohol')\n",
        "\n",
        "if y_pred_drug == 0:\n",
        "  print('Does not consume Drugs')\n",
        "else:\n",
        "  print('Consumed Drugs')\n",
        "\n",
        "if y_pred_alc == 1:\n",
        "  print('Avg Alcohol consumption per year:', round(rf_bestfit.predict([list1])[0]))\n",
        "  print('Which is around', round(round(rf_bestfit.predict([list1])[0])/12), 'times per month on an avg')\n",
        "\n",
        "if y_pred_drug == 1:\n",
        "  print('Avg Alldrugs consumption per year:', round(rfa_bestfit.predict([list1])[0]))"
      ],
      "metadata": {
        "id": "XdHR1dPc-fZn"
      },
      "execution_count": null,
      "outputs": []
    }
  ]
}